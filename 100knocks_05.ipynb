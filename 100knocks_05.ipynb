{
 "cells": [
  {
   "cell_type": "markdown",
   "id": "42ea66c8-6d48-4002-9544-cfbd449beebb",
   "metadata": {},
   "source": [
    "# 第5章：係り受け解析\n",
    "data/ai.jaに含まれる日本語wikipediaの人工知能に関する記事のテキスト部分を抽出したものを利用してai.ja.txt.parsedに保存する"
   ]
  },
  {
   "cell_type": "markdown",
   "id": "9ef05792-8975-4ba2-83eb-057956764dcc",
   "metadata": {},
   "source": [
    "## 40.係り受け解析結果の読み込み(形態素)"
   ]
  },
  {
   "cell_type": "code",
   "execution_count": null,
   "id": "2d73b378-8d84-429d-9ae1-2c0f1366b0b6",
   "metadata": {},
   "outputs": [],
   "source": [
    "class Morph:\n",
    "  "
   ]
  }
 ],
 "metadata": {
  "kernelspec": {
   "display_name": "Python 3",
   "language": "python",
   "name": "python3"
  },
  "language_info": {
   "codemirror_mode": {
    "name": "ipython",
    "version": 3
   },
   "file_extension": ".py",
   "mimetype": "text/x-python",
   "name": "python",
   "nbconvert_exporter": "python",
   "pygments_lexer": "ipython3",
   "version": "3.6.9"
  }
 },
 "nbformat": 4,
 "nbformat_minor": 5
}
