{
 "cells": [
  {
   "cell_type": "code",
   "execution_count": 1,
   "metadata": {
    "colab": {
     "base_uri": "https://localhost:8080/"
    },
    "executionInfo": {
     "elapsed": 1131,
     "status": "ok",
     "timestamp": 1667975266731,
     "user": {
      "displayName": "森岡拓",
      "userId": "13542313779030960833"
     },
     "user_tz": -540
    },
    "id": "ZUuMsuv2C05W",
    "outputId": "d7eae652-eb72-4621-9e7c-aa99dca53a70"
   },
   "outputs": [
    {
     "name": "stdout",
     "output_type": "stream",
     "text": [
      "Mary\tF\t7065\t1880\n",
      "Anna\tF\t2604\t1880\n",
      "Emma\tF\t2003\t1880\n"
     ]
    }
   ],
   "source": [
    "with open(\"./data/popular-names.txt\", \"r\") as f:\n",
    "    data = f.read()\n",
    "\n",
    "print(data[0:50])"
   ]
  },
  {
   "cell_type": "markdown",
   "metadata": {},
   "source": [
    "# 10. 行数のカウントPermalink"
   ]
  },
  {
   "cell_type": "code",
   "execution_count": 2,
   "metadata": {
    "colab": {
     "base_uri": "https://localhost:8080/"
    },
    "executionInfo": {
     "elapsed": 432,
     "status": "ok",
     "timestamp": 1667975530986,
     "user": {
      "displayName": "森岡拓",
      "userId": "13542313779030960833"
     },
     "user_tz": -540
    },
    "id": "jkoZsYE8E6kk",
    "outputId": "c30133be-b64f-4c4d-8d57-b9161e77a9e1"
   },
   "outputs": [
    {
     "name": "stdout",
     "output_type": "stream",
     "text": [
      "2780\n"
     ]
    }
   ],
   "source": [
    "# 10.行数カウント\n",
    "\n",
    "print(data.count('\\n'))"
   ]
  },
  {
   "cell_type": "code",
   "execution_count": 3,
   "metadata": {
    "colab": {
     "base_uri": "https://localhost:8080/"
    },
    "executionInfo": {
     "elapsed": 361,
     "status": "ok",
     "timestamp": 1667975504454,
     "user": {
      "displayName": "森岡拓",
      "userId": "13542313779030960833"
     },
     "user_tz": -540
    },
    "id": "uOLgUmJXFGRk",
    "outputId": "2cf79291-56d7-40ff-ca55-f15df76fda6b"
   },
   "outputs": [
    {
     "name": "stdout",
     "output_type": "stream",
     "text": [
      "2780 ./data/popular-names.txt\n"
     ]
    }
   ],
   "source": [
    "!wc -l ./data/popular-names.txt"
   ]
  },
  {
   "cell_type": "markdown",
   "metadata": {},
   "source": [
    "# 11. タブをスペースに置換"
   ]
  },
  {
   "cell_type": "code",
   "execution_count": 4,
   "metadata": {
    "colab": {
     "base_uri": "https://localhost:8080/"
    },
    "executionInfo": {
     "elapsed": 437,
     "status": "ok",
     "timestamp": 1667975685580,
     "user": {
      "displayName": "森岡拓",
      "userId": "13542313779030960833"
     },
     "user_tz": -540
    },
    "id": "BECKuNOGF0jc",
    "outputId": "1adcd402-53e6-4add-8186-697ff6f78b38"
   },
   "outputs": [
    {
     "name": "stdout",
     "output_type": "stream",
     "text": [
      "Mary F 7065 1880\n",
      "Anna F 2604 1880\n",
      "Emma F 2003 1880\n"
     ]
    }
   ],
   "source": [
    "# 11.タブをスペースに変換\n",
    "\n",
    "print(data.replace('\\t', ' ')[0:50])"
   ]
  },
  {
   "cell_type": "code",
   "execution_count": 5,
   "metadata": {
    "executionInfo": {
     "elapsed": 337,
     "status": "ok",
     "timestamp": 1667976433407,
     "user": {
      "displayName": "森岡拓",
      "userId": "13542313779030960833"
     },
     "user_tz": -540
    },
    "id": "swCeVD6lHYbM"
   },
   "outputs": [
    {
     "name": "stdout",
     "output_type": "stream",
     "text": [
      "Mary F 7065 1880\n",
      "Anna F 2604 1880\n",
      "Emma F 2003 1880\n",
      "Elizabeth F 1939 1880\n",
      "Minnie F 1746 1880\n",
      "sed: couldn't write 17 items to stdout: Broken pipe\n"
     ]
    }
   ],
   "source": [
    "!sed s/'\\t'/' '/g ./data/popular-names.txt | head -n 5"
   ]
  },
  {
   "cell_type": "markdown",
   "metadata": {},
   "source": [
    "# 12. 1列目をcol1.txtに，2列目をcol2.txtに保存"
   ]
  },
  {
   "cell_type": "code",
   "execution_count": 6,
   "metadata": {},
   "outputs": [],
   "source": [
    "# 12.1列目をcol1.txtに，2列目をcol2.txtに保存 \n",
    "\n",
    "import pickle\n",
    "\n",
    "def pickup_col(rows, col_n):\n",
    "    return [r.split()[col_n] for r in rows]\n",
    "\n",
    "def save_singlecol_list(target, path):\n",
    "    with open(path, mode='w') as f:\n",
    "        f.write('\\n'.join(target))\n",
    "\n",
    "rows = data.splitlines()\n",
    "col1 = pickup_col(rows, 0)\n",
    "col2 = pickup_col(rows, 1)\n",
    "\n",
    "save_singlecol_list(col1, \"./data/col1.txt\")\n",
    "save_singlecol_list(col2, \"./data/col2.txt\")"
   ]
  },
  {
   "cell_type": "code",
   "execution_count": 7,
   "metadata": {},
   "outputs": [
    {
     "name": "stdout",
     "output_type": "stream",
     "text": [
      "Mary\n",
      "Anna\n",
      "Emma\n",
      "Elizabeth\n",
      "Minnie\n"
     ]
    }
   ],
   "source": [
    "! head -n 5 ./data/col1.txt"
   ]
  },
  {
   "cell_type": "code",
   "execution_count": 8,
   "metadata": {},
   "outputs": [],
   "source": [
    "! cut -f 1 ./data/popular-names.txt > ./data/col1.txt\n",
    "! cut -f 2 ./data/popular-names.txt > ./data/col2.txt"
   ]
  },
  {
   "cell_type": "code",
   "execution_count": 9,
   "metadata": {},
   "outputs": [
    {
     "name": "stdout",
     "output_type": "stream",
     "text": [
      "Mary\n",
      "Anna\n",
      "Emma\n",
      "Elizabeth\n",
      "Minnie\n"
     ]
    }
   ],
   "source": [
    "! head -n 5 ./data/col1.txt"
   ]
  },
  {
   "cell_type": "markdown",
   "metadata": {},
   "source": [
    "# 13. col1.txtとcol2.txtをマージ"
   ]
  },
  {
   "cell_type": "code",
   "execution_count": 10,
   "metadata": {},
   "outputs": [],
   "source": [
    "# 13.col1.txtとcol2.txtをマージ\n",
    "\n",
    "def load_singlecol_list(path):\n",
    "    with open(path, mode=\"r\") as f:\n",
    "        result = f.read().splitlines()\n",
    "    return result\n",
    "\n",
    "col1_marge = load_singlecol_list(\"./data/col1.txt\")\n",
    "col2_marge = load_singlecol_list(\"./data/col2.txt\")\n",
    "\n",
    "col_marged = [\"\\t\".join(r) for r in list(zip(col1_marge,col2_marge))]\n",
    "\n",
    "save_singlecol_list(col_marged, \"./data/col_marged.txt\")"
   ]
  },
  {
   "cell_type": "code",
   "execution_count": 11,
   "metadata": {},
   "outputs": [
    {
     "name": "stdout",
     "output_type": "stream",
     "text": [
      "Mary\tF\n",
      "Anna\tF\n",
      "Emma\tF\n",
      "Elizabeth\tF\n",
      "Minnie\tF\n"
     ]
    }
   ],
   "source": [
    "!head -n 5 ./data/col_marged.txt"
   ]
  },
  {
   "cell_type": "code",
   "execution_count": 12,
   "metadata": {},
   "outputs": [],
   "source": [
    "!paste ./data/col1.txt ./data/col2.txt > ./data/col_marged.txt"
   ]
  },
  {
   "cell_type": "code",
   "execution_count": 13,
   "metadata": {},
   "outputs": [
    {
     "name": "stdout",
     "output_type": "stream",
     "text": [
      "Mary\tF\n",
      "Anna\tF\n",
      "Emma\tF\n",
      "Elizabeth\tF\n",
      "Minnie\tF\n"
     ]
    }
   ],
   "source": [
    "!head -n 5 ./data/col_marged.txt"
   ]
  },
  {
   "cell_type": "markdown",
   "metadata": {},
   "source": [
    "# 14. 先頭からN行を出力"
   ]
  },
  {
   "cell_type": "code",
   "execution_count": 14,
   "metadata": {},
   "outputs": [
    {
     "name": "stdout",
     "output_type": "stream",
     "text": [
      "Mary\tF\n",
      "Anna\tF\n",
      "Emma\tF\n",
      "Elizabeth\tF\n",
      "Minnie\tF\n",
      "Margaret\tF\n",
      "Ida\tF\n",
      "Alice\tF\n",
      "Bertha\tF\n",
      "Sarah\tF\n"
     ]
    }
   ],
   "source": [
    "# 14. 先頭からN行を出力\n",
    "!head ./data/col_marged.txt"
   ]
  },
  {
   "cell_type": "markdown",
   "metadata": {},
   "source": [
    "# 15. 末尾のN行を出力"
   ]
  },
  {
   "cell_type": "code",
   "execution_count": 15,
   "metadata": {},
   "outputs": [
    {
     "name": "stdin",
     "output_type": "stream",
     "text": [
      "行数 >>  5\n"
     ]
    },
    {
     "name": "stdout",
     "output_type": "stream",
     "text": [
      "          name sex  number  year\n",
      "2775  Benjamin   M   13381  2018\n",
      "2776    Elijah   M   12886  2018\n",
      "2777     Lucas   M   12585  2018\n",
      "2778     Mason   M   12435  2018\n",
      "2779     Logan   M   12352  2018\n"
     ]
    }
   ],
   "source": [
    "import sys\n",
    "import pandas as pd\n",
    "\n",
    "df = pd.read_table('./data/popular-names.txt', header=None, sep='\\t', names=['name', 'sex', 'number', 'year'])\n",
    "\n",
    "n = int(input(\"行数 >> \"))\n",
    "\n",
    "print(df.tail(n))"
   ]
  },
  {
   "cell_type": "code",
   "execution_count": 16,
   "metadata": {},
   "outputs": [
    {
     "name": "stdout",
     "output_type": "stream",
     "text": [
      "Benjamin\tM\t13381\t2018\n",
      "Elijah\tM\t12886\t2018\n",
      "Lucas\tM\t12585\t2018\n",
      "Mason\tM\t12435\t2018\n",
      "Logan\tM\t12352\t2018\n"
     ]
    }
   ],
   "source": [
    "# 14. 先頭からN行を出力\n",
    "!tail -n 5 ./data/popular-names.txt"
   ]
  },
  {
   "cell_type": "markdown",
   "metadata": {},
   "source": [
    "# 16. ファイルをN分割する"
   ]
  },
  {
   "cell_type": "code",
   "execution_count": 20,
   "metadata": {},
   "outputs": [
    {
     "name": "stdin",
     "output_type": "stream",
     "text": [
      "分割数を入力してください 3\n"
     ]
    },
    {
     "name": "stdout",
     "output_type": "stream",
     "text": [
      "927\n",
      "Empty DataFrame\n",
      "Columns: [name, sex, number, year]\n",
      "Index: []\n",
      "          name sex  number  year\n",
      "0         Mary   F    7065  1880\n",
      "1         Anna   F    2604  1880\n",
      "2         Emma   F    2003  1880\n",
      "3    Elizabeth   F    1939  1880\n",
      "4       Minnie   F    1746  1880\n",
      "..         ...  ..     ...   ...\n",
      "922      Betty   F   32964  1926\n",
      "923      Helen   F   26884  1926\n",
      "924   Margaret   F   23070  1926\n",
      "925       Ruth   F   20223  1926\n",
      "926      Doris   F   16298  1926\n",
      "\n",
      "[927 rows x 4 columns]\n",
      "             name sex  number  year\n",
      "927      Virginia   F   16162  1926\n",
      "928       Mildred   F   13551  1926\n",
      "929       Frances   F   13355  1926\n",
      "930        Robert   M   61130  1926\n",
      "931          John   M   56110  1926\n",
      "...           ...  ..     ...   ...\n",
      "1849       Nicole   F   15752  1972\n",
      "1850      Michael   M   71405  1972\n",
      "1851  Christopher   M   52189  1972\n",
      "1852        James   M   47083  1972\n",
      "1853        David   M   46366  1972\n",
      "\n",
      "[927 rows x 4 columns]\n"
     ]
    }
   ],
   "source": [
    "import math\n",
    "\n",
    "n = int(input(\"分割数を入力してください\"))\n",
    "\n",
    "span = int(math.ceil(len(df)/n))\n",
    "print(span)\n",
    "\n",
    "prev = 0\n",
    "for i in range(n):\n",
    "    if i*span >= len(df):\n",
    "        print(df[prev:len(df)])\n",
    "    else:\n",
    "        print(df[prev:i*span])\n",
    "        prev=i*span"
   ]
  },
  {
   "cell_type": "code",
   "execution_count": 21,
   "metadata": {},
   "outputs": [
    {
     "name": "stdout",
     "output_type": "stream",
     "text": [
      "split: invalid number of lines: ‘2780/5’\n"
     ]
    }
   ],
   "source": [
    "# 動かない\n",
    "!cat data/popular-names.txt | wc -l | xargs -I{} expr {}/5 | xargs -I{} split -l {} -d data/popular-names.txt data/split_files/split"
   ]
  },
  {
   "cell_type": "code",
   "execution_count": 22,
   "metadata": {},
   "outputs": [],
   "source": [
    "!split -l 556 -d data/popular-names.txt data/split_files/split"
   ]
  },
  {
   "cell_type": "markdown",
   "metadata": {},
   "source": [
    "# 17. １列目の文字列の異なり"
   ]
  },
  {
   "cell_type": "code",
   "execution_count": 29,
   "metadata": {},
   "outputs": [
    {
     "name": "stdout",
     "output_type": "stream",
     "text": [
      "136\n"
     ]
    }
   ],
   "source": [
    "print((~df.duplicated(subset='name')).sum())"
   ]
  },
  {
   "cell_type": "code",
   "execution_count": 24,
   "metadata": {},
   "outputs": [
    {
     "name": "stdout",
     "output_type": "stream",
     "text": [
      "136\n"
     ]
    }
   ],
   "source": [
    "# uniqは隣り合う行しか参照しないので先にsortする　sortにもuniqに相当するオプションがある\n",
    "! cut -f 1 data/popular-names.txt | sort | uniq | wc -l"
   ]
  },
  {
   "cell_type": "markdown",
   "metadata": {},
   "source": [
    "# 18. 各行を3コラム目の数値の降順にソート"
   ]
  },
  {
   "cell_type": "code",
   "execution_count": 27,
   "metadata": {},
   "outputs": [
    {
     "name": "stdout",
     "output_type": "stream",
     "text": [
      "         name sex  number  year\n",
      "1340    Linda   F   99689  1947\n",
      "1360    Linda   F   96211  1948\n",
      "1350    James   M   94757  1947\n",
      "1550  Michael   M   92704  1957\n",
      "1351   Robert   M   91640  1947\n",
      "...       ...  ..     ...   ...\n",
      "27      Annie   F    1326  1881\n",
      "28     Bertha   F    1324  1881\n",
      "8      Bertha   F    1320  1880\n",
      "29      Alice   F    1308  1881\n",
      "9       Sarah   F    1288  1880\n",
      "\n",
      "[2780 rows x 4 columns]\n"
     ]
    }
   ],
   "source": [
    "print(df.sort_values('number', ascending=False))"
   ]
  },
  {
   "cell_type": "code",
   "execution_count": 28,
   "metadata": {},
   "outputs": [
    {
     "name": "stdout",
     "output_type": "stream",
     "text": [
      "Linda\tF\t99689\t1947\n",
      "Linda\tF\t96211\t1948\n",
      "James\tM\t94757\t1947\n",
      "Michael\tM\t92704\t1957\n",
      "Robert\tM\t91640\t1947\n",
      "sort: write failed: 'standard output': Broken pipe\n",
      "sort: write error\n"
     ]
    }
   ],
   "source": [
    "! cat data/popular-names.txt | sort -r -n -k 3 | head -n 5"
   ]
  },
  {
   "cell_type": "markdown",
   "metadata": {},
   "source": [
    "# 19. 各行の1コラム目の文字列の出現頻度を求め，出現頻度の高い順に並べる"
   ]
  },
  {
   "cell_type": "code",
   "execution_count": 65,
   "metadata": {},
   "outputs": [
    {
     "name": "stdout",
     "output_type": "stream",
     "text": [
      "name\n",
      "James      118\n",
      "William    111\n",
      "Robert     108\n",
      "John       108\n",
      "Mary        92\n",
      "          ... \n",
      "Laura        1\n",
      "Tracy        1\n",
      "Carolyn      1\n",
      "Kelly        1\n",
      "Walter       1\n",
      "Length: 136, dtype: int64\n"
     ]
    }
   ],
   "source": [
    "print(df.value_counts(\"name\"))"
   ]
  },
  {
   "cell_type": "code",
   "execution_count": 73,
   "metadata": {},
   "outputs": [
    {
     "name": "stdout",
     "output_type": "stream",
     "text": [
      "    118 James\n",
      "    111 William\n",
      "    108 Robert\n",
      "    108 John\n",
      "     92 Mary\n"
     ]
    }
   ],
   "source": [
    "!cut -f 1 data/popular-names.txt | sort | uniq -c | sort -r -k 1 | head -n 5"
   ]
  }
 ],
 "metadata": {
  "colab": {
   "authorship_tag": "ABX9TyPT1aGCK0RMP0Tqdt5zRM6V",
   "mount_file_id": "1A0k2Ih5janPU0jombfcdYx4R8kYp_xi6",
   "provenance": []
  },
  "kernelspec": {
   "display_name": "Python 3 (ipykernel)",
   "language": "python",
   "name": "python3"
  },
  "language_info": {
   "codemirror_mode": {
    "name": "ipython",
    "version": 3
   },
   "file_extension": ".py",
   "mimetype": "text/x-python",
   "name": "python",
   "nbconvert_exporter": "python",
   "pygments_lexer": "ipython3",
   "version": "3.10.6"
  },
  "vscode": {
   "interpreter": {
    "hash": "916dbcbb3f70747c44a77c7bcd40155683ae19c65e1c03b4aa3499c5328201f1"
   }
  }
 },
 "nbformat": 4,
 "nbformat_minor": 4
}
