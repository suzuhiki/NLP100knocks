{
 "cells": [
  {
   "cell_type": "code",
   "execution_count": 4,
   "metadata": {
    "colab": {
     "base_uri": "https://localhost:8080/"
    },
    "executionInfo": {
     "elapsed": 1131,
     "status": "ok",
     "timestamp": 1667975266731,
     "user": {
      "displayName": "森岡拓",
      "userId": "13542313779030960833"
     },
     "user_tz": -540
    },
    "id": "ZUuMsuv2C05W",
    "outputId": "d7eae652-eb72-4621-9e7c-aa99dca53a70"
   },
   "outputs": [
    {
     "name": "stdout",
     "output_type": "stream",
     "text": [
      "Mary\tF\t7065\t1880\n",
      "Anna\tF\t2604\t1880\n",
      "Emma\tF\t2003\t1880\n"
     ]
    }
   ],
   "source": [
    "with open(\"/workdir/ML100knocks/data/popular-names.txt\", \"r\") as f:\n",
    "    data = f.read()\n",
    "\n",
    "print(data[0:50])"
   ]
  },
  {
   "cell_type": "code",
   "execution_count": 5,
   "metadata": {
    "colab": {
     "base_uri": "https://localhost:8080/"
    },
    "executionInfo": {
     "elapsed": 432,
     "status": "ok",
     "timestamp": 1667975530986,
     "user": {
      "displayName": "森岡拓",
      "userId": "13542313779030960833"
     },
     "user_tz": -540
    },
    "id": "jkoZsYE8E6kk",
    "outputId": "c30133be-b64f-4c4d-8d57-b9161e77a9e1"
   },
   "outputs": [
    {
     "name": "stdout",
     "output_type": "stream",
     "text": [
      "2780\n"
     ]
    }
   ],
   "source": [
    "# 10.行数カウント\n",
    "\n",
    "print(data.count('\\n'))"
   ]
  },
  {
   "cell_type": "code",
   "execution_count": 7,
   "metadata": {
    "colab": {
     "base_uri": "https://localhost:8080/"
    },
    "executionInfo": {
     "elapsed": 361,
     "status": "ok",
     "timestamp": 1667975504454,
     "user": {
      "displayName": "森岡拓",
      "userId": "13542313779030960833"
     },
     "user_tz": -540
    },
    "id": "uOLgUmJXFGRk",
    "outputId": "2cf79291-56d7-40ff-ca55-f15df76fda6b"
   },
   "outputs": [
    {
     "name": "stdout",
     "output_type": "stream",
     "text": [
      "2780 /workdir/ML100knocks/data/popular-names.txt\n"
     ]
    }
   ],
   "source": [
    "!wc -l /workdir/ML100knocks/data/popular-names.txt"
   ]
  },
  {
   "cell_type": "code",
   "execution_count": 8,
   "metadata": {
    "colab": {
     "base_uri": "https://localhost:8080/"
    },
    "executionInfo": {
     "elapsed": 437,
     "status": "ok",
     "timestamp": 1667975685580,
     "user": {
      "displayName": "森岡拓",
      "userId": "13542313779030960833"
     },
     "user_tz": -540
    },
    "id": "BECKuNOGF0jc",
    "outputId": "1adcd402-53e6-4add-8186-697ff6f78b38"
   },
   "outputs": [
    {
     "name": "stdout",
     "output_type": "stream",
     "text": [
      "Mary F 7065 1880\n",
      "Anna F 2604 1880\n",
      "Emma F 2003 1880\n"
     ]
    }
   ],
   "source": [
    "# 11.タブをスペースに変換\n",
    "\n",
    "print(data.replace('\\t', ' ')[0:50])"
   ]
  },
  {
   "cell_type": "code",
   "execution_count": 40,
   "metadata": {
    "executionInfo": {
     "elapsed": 337,
     "status": "ok",
     "timestamp": 1667976433407,
     "user": {
      "displayName": "森岡拓",
      "userId": "13542313779030960833"
     },
     "user_tz": -540
    },
    "id": "swCeVD6lHYbM"
   },
   "outputs": [
    {
     "name": "stdout",
     "output_type": "stream",
     "text": [
      "Mary F 7065 1880\n",
      "Anna F 2604 1880\n",
      "Emma F 2003 1880\n",
      "Elizabeth F 1939 1880\n",
      "Minnie F 1746 1880\n",
      "sed: couldn't write 17 items to stdout: Broken pipe\n"
     ]
    }
   ],
   "source": [
    "!sed s/'\\t'/' '/g /workdir/ML100knocks/data/popular-names.txt | head -n 5"
   ]
  },
  {
   "cell_type": "code",
   "execution_count": 62,
   "metadata": {},
   "outputs": [],
   "source": [
    "# 12.1列目をcol1.txtに，2列目をcol2.txtに保存 \n",
    "\n",
    "import pickle\n",
    "\n",
    "def pickup_col(rows, col_n):\n",
    "    return [r.split()[col_n] for r in rows]\n",
    "\n",
    "def save_singlecol_list(target, path):\n",
    "    with open(path, mode='w') as f:\n",
    "        f.write('\\n'.join(target))\n",
    "\n",
    "rows = data.splitlines()\n",
    "col1 = pickup_col(rows, 0)\n",
    "col2 = pickup_col(rows, 1)\n",
    "\n",
    "save_singlecol_list(col1, \"/workdir/ML100knocks/data/col1.txt\")\n",
    "save_singlecol_list(col2, \"/workdir/ML100knocks/data/col2.txt\")"
   ]
  },
  {
   "cell_type": "code",
   "execution_count": 63,
   "metadata": {},
   "outputs": [
    {
     "name": "stdout",
     "output_type": "stream",
     "text": [
      "Mary\n",
      "Anna\n",
      "Emma\n",
      "Elizabeth\n",
      "Minnie\n"
     ]
    }
   ],
   "source": [
    "! head -n 5 /workdir/ML100knocks/data/col1.txt"
   ]
  },
  {
   "cell_type": "code",
   "execution_count": 68,
   "metadata": {},
   "outputs": [],
   "source": [
    "! cut -f 1 /workdir/ML100knocks/data/popular-names.txt > /workdir/ML100knocks/data/col1.txt\n",
    "! cut -f 2 /workdir/ML100knocks/data/popular-names.txt > /workdir/ML100knocks/data/col2.txt"
   ]
  },
  {
   "cell_type": "code",
   "execution_count": 69,
   "metadata": {},
   "outputs": [
    {
     "name": "stdout",
     "output_type": "stream",
     "text": [
      "Mary\n",
      "Anna\n",
      "Emma\n",
      "Elizabeth\n",
      "Minnie\n"
     ]
    }
   ],
   "source": [
    "! head -n 5 /workdir/ML100knocks/data/col1.txt"
   ]
  },
  {
   "cell_type": "code",
   "execution_count": null,
   "metadata": {},
   "outputs": [],
   "source": [
    "# 13.col1.txtとcol2.txtをマージ\n",
    "\n",
    "def load_list("
   ]
  }
 ],
 "metadata": {
  "colab": {
   "authorship_tag": "ABX9TyPT1aGCK0RMP0Tqdt5zRM6V",
   "mount_file_id": "1A0k2Ih5janPU0jombfcdYx4R8kYp_xi6",
   "provenance": []
  },
  "kernelspec": {
   "display_name": "Python 3 (ipykernel)",
   "language": "python",
   "name": "python3"
  },
  "language_info": {
   "codemirror_mode": {
    "name": "ipython",
    "version": 3
   },
   "file_extension": ".py",
   "mimetype": "text/x-python",
   "name": "python",
   "nbconvert_exporter": "python",
   "pygments_lexer": "ipython3",
   "version": "3.10.6"
  }
 },
 "nbformat": 4,
 "nbformat_minor": 4
}
