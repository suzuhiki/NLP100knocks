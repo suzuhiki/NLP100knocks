{
 "cells": [
  {
   "cell_type": "markdown",
   "id": "4e83c337-987b-46e8-a80f-87bdb6cd4d8d",
   "metadata": {},
   "source": [
    "# 4章 形態素解析\n",
    "MeCabで形態素解析する\n",
    "./data/neko.txt → ./data/neko.text.mecab"
   ]
  },
  {
   "cell_type": "markdown",
   "id": "e25ca549-0c80-474c-ab6b-e432d889a275",
   "metadata": {},
   "source": [
    "## 30. 形態素解析結果の読み込み\n",
    "neko.txt.mecabを読み込みプログラムを作成する。\n",
    "各形態素は表層形(surface)、基本形(base)、品詞(pos)、品詞細分類1(pos1)をキーとするハッシュ型とする。1文はこのリストとする。"
   ]
  },
  {
   "cell_type": "code",
   "execution_count": 1,
   "id": "5a877925-420e-433a-aacb-be5ff6d61a5b",
   "metadata": {},
   "outputs": [],
   "source": [
    "DATA_PATH = \"./data/neko.txt.mecab\""
   ]
  },
  {
   "cell_type": "code",
   "execution_count": 8,
   "id": "141e382c-a602-4182-a935-0ccbce6244fe",
   "metadata": {},
   "outputs": [],
   "source": [
    "def create_datalist():\n",
    "    result_list = []\n",
    "    word_info_list = []\n",
    "    with open(DATA_PATH) as f:\n",
    "        for line in f:\n",
    "            if line != \"EOS\\n\":\n",
    "                groups = line.split('\\t')\n",
    "                if len(groups) == 2 and groups[0] != '':\n",
    "                    details = groups[1].split(',')\n",
    "                    word_info = {\"surface\": groups[0], \"base\": details[6], \"pos\": details[0], \"pos1\": details[1]}\n",
    "                    word_info_list.append(word_info)\n",
    "            else:\n",
    "                result_list.append(word_info_list)\n",
    "                word_info_list = []\n",
    "    return result_list"
   ]
  },
  {
   "cell_type": "code",
   "execution_count": 12,
   "id": "41a02d55-6b33-46aa-af10-c1bf37cadd48",
   "metadata": {},
   "outputs": [
    {
     "name": "stdout",
     "output_type": "stream",
     "text": [
      "{'surface': '\\u3000', 'base': '\\u3000', 'pos': '記号', 'pos1': '空白'}\n",
      "{'surface': 'どこ', 'base': 'どこ', 'pos': '名詞', 'pos1': '代名詞'}\n",
      "{'surface': 'で', 'base': 'で', 'pos': '助詞', 'pos1': '格助詞'}\n",
      "{'surface': '生れ', 'base': '生れる', 'pos': '動詞', 'pos1': '自立'}\n",
      "{'surface': 'た', 'base': 'た', 'pos': '助動詞', 'pos1': '*'}\n",
      "{'surface': 'か', 'base': 'か', 'pos': '助詞', 'pos1': '副助詞／並立助詞／終助詞'}\n",
      "{'surface': 'とんと', 'base': 'とんと', 'pos': '副詞', 'pos1': '一般'}\n",
      "{'surface': '見当', 'base': '見当', 'pos': '名詞', 'pos1': 'サ変接続'}\n",
      "{'surface': 'が', 'base': 'が', 'pos': '助詞', 'pos1': '格助詞'}\n",
      "{'surface': 'つか', 'base': 'つく', 'pos': '動詞', 'pos1': '自立'}\n",
      "{'surface': 'ぬ', 'base': 'ぬ', 'pos': '助動詞', 'pos1': '*'}\n",
      "{'surface': '。', 'base': '。', 'pos': '記号', 'pos1': '句点'}\n"
     ]
    }
   ],
   "source": [
    "data_list = create_datalist()\n",
    "\n",
    "for w in data_list[5]:\n",
    "    print(w)"
   ]
  },
  {
   "cell_type": "markdown",
   "id": "95062820-647b-453a-a7f8-f24a1a72d444",
   "metadata": {},
   "source": [
    "## 31. 動詞 "
   ]
  },
  {
   "cell_type": "code",
   "execution_count": 18,
   "id": "44b54f90-ef7f-4bbc-9ae1-c0491ddeb44e",
   "metadata": {},
   "outputs": [
    {
     "name": "stdout",
     "output_type": "stream",
     "text": [
      "追っかけ\n",
      "怒\n",
      "抜こ\n",
      "ひやかさ\n",
      "叩き込み\n",
      "捲く\n",
      "行き過ぎ\n",
      "絶っ\n",
      "食え\n",
      "参らせる\n",
      "寝転ぶ\n",
      "磨り潰し\n",
      "断わる\n",
      "聞き糺し\n",
      "うなされる\n",
      "つかっ\n",
      "しろ\n",
      "睡ら\n",
      "っ\n",
      "過ぎ去っ\n",
      "隠し\n",
      "制する\n",
      "打ち返し\n",
      "拭う\n",
      "動く\n",
      "突い\n",
      "棄てる\n",
      "投げ込ん\n",
      "名づける\n",
      "似合わ\n"
     ]
    }
   ],
   "source": [
    "data_list = create_datalist()\n",
    "varb_set = set()\n",
    "\n",
    "for sentence in data_list:\n",
    "    for word in sentence:\n",
    "        if word[\"pos\"] == \"動詞\":\n",
    "            varb_set.add(word[\"surface\"])\n",
    "\n",
    "for v in list(varb_set)[:30]:\n",
    "    print(v)"
   ]
  },
  {
   "cell_type": "markdown",
   "id": "2526e1e0-2245-4fd9-a290-061e574029e0",
   "metadata": {},
   "source": [
    "## 32. 動詞の原型"
   ]
  },
  {
   "cell_type": "code",
   "execution_count": 19,
   "id": "5a3d14e6-5ba3-4c78-820b-2de5a24f1624",
   "metadata": {},
   "outputs": [
    {
     "name": "stdout",
     "output_type": "stream",
     "text": [
      "みる\n",
      "並べ立てる\n",
      "装う\n",
      "捲く\n",
      "済す\n",
      "寝転ぶ\n",
      "参らせる\n",
      "断わる\n",
      "うなされる\n",
      "肥る\n",
      "飛ばす\n",
      "おくれる\n",
      "制する\n",
      "拭う\n",
      "動く\n",
      "棄てる\n",
      "名づける\n",
      "擦り付ける\n",
      "寄り添う\n",
      "開け放つ\n",
      "併せる\n",
      "そぐ\n",
      "行ける\n",
      "わかす\n",
      "はぐる\n",
      "洗う\n",
      "病む\n",
      "ふざける\n",
      "活ける\n",
      "もつ\n"
     ]
    }
   ],
   "source": [
    "data_list = create_datalist()\n",
    "varb_set = set()\n",
    "\n",
    "for sentence in data_list:\n",
    "    for word in sentence:\n",
    "        if word[\"pos\"] == \"動詞\":\n",
    "            varb_set.add(word[\"base\"])\n",
    "\n",
    "for v in list(varb_set)[:30]:\n",
    "    print(v)"
   ]
  },
  {
   "cell_type": "markdown",
   "id": "c6713740-6171-4bbc-829a-1046459e8eb2",
   "metadata": {},
   "source": [
    "## 33. 二つの名詞が「の」で連接されている名詞句"
   ]
  },
  {
   "cell_type": "code",
   "execution_count": 20,
   "id": "72123d87-4a29-46fc-a647-b0446db32832",
   "metadata": {},
   "outputs": [
    {
     "name": "stdout",
     "output_type": "stream",
     "text": [
      "彼の掌\n",
      "掌の上\n",
      "書生の顔\n",
      "はずの顔\n",
      "顔の真中\n",
      "穴の中\n",
      "書生の掌\n",
      "掌の裏\n",
      "何の事\n",
      "肝心の母親\n",
      "藁の上\n",
      "笹原の中\n",
      "池の前\n",
      "池の上\n",
      "一樹の蔭\n",
      "垣根の穴\n",
      "隣家の三\n",
      "時の通路\n",
      "一刻の猶予\n",
      "家の内\n",
      "彼の書生\n",
      "以外の人間\n",
      "前の書生\n",
      "おさんの隙\n",
      "おさんの三\n",
      "胸の痞\n",
      "家の主人\n",
      "主人の方\n",
      "鼻の下\n",
      "吾輩の顔\n"
     ]
    }
   ],
   "source": [
    "data_list = create_datalist()\n",
    "nounblock_list = []\n",
    "\n",
    "for sentence in data_list:\n",
    "    temp_noun = \"\"\n",
    "    for i in range(2, len(sentence)):\n",
    "        if sentence[i-2][\"pos\"]==\"名詞\" and sentence[i-1][\"surface\"]==\"の\" and sentence[i][\"pos\"]==\"名詞\":\n",
    "            nounblock_list.append(sentence[i-2][\"surface\"] + sentence[i-1][\"surface\"] + sentence[i][\"surface\"])\n",
    "\n",
    "for nb in nounblock_list[:30]:\n",
    "    print(nb)"
   ]
  },
  {
   "cell_type": "markdown",
   "id": "191cd7d6-66a0-4e0b-85a1-40351543fae5",
   "metadata": {},
   "source": [
    "## 34. 名詞の連接\n",
    "連続して出現する名詞を最長一致で出力する"
   ]
  },
  {
   "cell_type": "code",
   "execution_count": 39,
   "id": "eccb03f6-a7b5-4689-b610-4585a7e78d72",
   "metadata": {},
   "outputs": [
    {
     "name": "stdout",
     "output_type": "stream",
     "text": [
      "人間中\n",
      "一番獰悪\n",
      "時妙\n",
      "一毛\n",
      "その後猫\n",
      "一度\n",
      "ぷうぷうと煙\n",
      "邸内\n",
      "三毛\n",
      "書生以外\n",
      "四五遍\n",
      "この間おさん\n",
      "三馬\n",
      "御台所\n",
      "まま奥\n",
      "住家\n",
      "終日書斎\n",
      "勉強家\n",
      "勉強家\n",
      "勤勉家\n",
      "二三ページ\n",
      "主人以外\n",
      "限り吾輩\n",
      "朝主人\n",
      "一番心持\n",
      "二人\n",
      "一つ床\n",
      "一人\n",
      "最後大変\n",
      "——猫\n"
     ]
    }
   ],
   "source": [
    "data_list = create_datalist()\n",
    "noungroup_list = []\n",
    "\n",
    "for sentence in data_list:\n",
    "    temp_nounlist = []\n",
    "    for word in sentence:\n",
    "        if word[\"pos\"]==\"名詞\":\n",
    "            temp_nounlist.append(word[\"surface\"])\n",
    "        else:\n",
    "            if len(temp_nounlist) >= 2:\n",
    "                noungroup_list.append(\"\".join(temp_nounlist))\n",
    "            temp_nounlist = []\n",
    "    if len(temp_nounlist) >= 2:\n",
    "        noungroup_list.append(\"\".join(temp_nounlist))\n",
    "    temp_nounlist = []\n",
    "\n",
    "for nb in noungroup_list[:30]:\n",
    "    print(nb)"
   ]
  }
 ],
 "metadata": {
  "kernelspec": {
   "display_name": "Python 3 (ipykernel)",
   "language": "python",
   "name": "python3"
  },
  "language_info": {
   "codemirror_mode": {
    "name": "ipython",
    "version": 3
   },
   "file_extension": ".py",
   "mimetype": "text/x-python",
   "name": "python",
   "nbconvert_exporter": "python",
   "pygments_lexer": "ipython3",
   "version": "3.10.6"
  }
 },
 "nbformat": 4,
 "nbformat_minor": 5
}
