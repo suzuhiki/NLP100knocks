{
 "cells": [
  {
   "attachments": {},
   "cell_type": "markdown",
   "metadata": {},
   "source": [
    "## 70. 単語ベクトルの和による特徴量\n",
    "学習、検証、評価データについて特徴量行列とラベル行列を作成し保存せよ\n",
    "問題50で作成したデータを使用する"
   ]
  },
  {
   "cell_type": "code",
   "execution_count": 3,
   "metadata": {},
   "outputs": [
    {
     "name": "stdout",
     "output_type": "stream",
     "text": [
      "  CATEGORY                                              TITLE\n",
      "0        b  Airline Mergers Pushed JetBlue's Pilots to Joi...\n",
      "1        e      Andrew Garfield wants Black-HispanicSpiderman\n",
      "2        b  Korean Bonds Fall as Choi Refrains From Signal...\n",
      "3        m  REFILE-AstraZeneca fights to regain cancer mar...\n",
      "4        e  Beyonce and Solange both take the plunge at fi...\n"
     ]
    }
   ],
   "source": [
    "import pandas as pd\n",
    "\n",
    "DATA_PATH = \"./data/news_aggregator_dataset/\"\n",
    "\n",
    "train_df = pd.read_csv(DATA_PATH + \"train.txt\", delimiter=\"\\t\")\n",
    "valid_df = pd.read_csv(DATA_PATH + \"valid.txt\", delimiter=\"\\t\")\n",
    "test_df = pd.read_csv(DATA_PATH + \"test.txt\", delimiter=\"\\t\")\n",
    "\n",
    "print(train_df.head())"
   ]
  },
  {
   "cell_type": "code",
   "execution_count": 4,
   "metadata": {},
   "outputs": [
    {
     "name": "stdout",
     "output_type": "stream",
     "text": [
      "[-1.42578125e-01 -3.68652344e-02  1.35742188e-01 -6.20117188e-02\n",
      "  7.95898438e-02  1.90429688e-02 -8.15429688e-02 -1.27929688e-01\n",
      " -2.95410156e-02  2.36328125e-01 -1.21582031e-01 -2.14843750e-01\n",
      "  1.29882812e-01 -2.70996094e-02 -5.20019531e-02  2.15820312e-01\n",
      " -1.81640625e-01  5.10253906e-02 -1.60156250e-01 -1.76757812e-01\n",
      "  1.83105469e-02 -4.12597656e-02 -2.32421875e-01 -1.03149414e-02\n",
      "  1.45507812e-01  5.24902344e-02 -3.96484375e-01 -1.92871094e-02\n",
      "  2.51770020e-03 -1.26953125e-02 -4.39453125e-02  3.07617188e-02\n",
      "  9.57031250e-02 -1.75781250e-01  1.04370117e-02  1.89453125e-01\n",
      " -2.36328125e-01  4.37011719e-02  2.81250000e-01 -2.07519531e-02\n",
      " -1.81640625e-01 -2.17773438e-01  2.33398438e-01  5.29785156e-02\n",
      " -1.13769531e-01  9.39941406e-03 -1.49414062e-01  1.99218750e-01\n",
      " -1.75781250e-01  3.16406250e-01  8.10546875e-02 -6.12792969e-02\n",
      " -1.52343750e-01 -1.81884766e-02  8.25195312e-02  8.74023438e-02\n",
      " -1.18652344e-01 -2.59765625e-01 -1.68457031e-02  1.87988281e-02\n",
      "  1.36108398e-02 -2.39257812e-01 -6.78710938e-02 -8.15429688e-02\n",
      "  2.18750000e-01  6.64062500e-02  1.27929688e-01  1.64062500e-01\n",
      "  2.28271484e-02 -1.38671875e-01 -9.42382812e-02  3.51562500e-02\n",
      "  7.37304688e-02 -1.06445312e-01  1.47705078e-02 -6.15234375e-02\n",
      "  2.48046875e-01  9.22851562e-02  1.45263672e-02  2.92968750e-01\n",
      "  2.47070312e-01 -3.46679688e-02 -1.92382812e-01  2.28881836e-03\n",
      "  1.33789062e-01  5.05371094e-02 -1.56250000e-01  2.02148438e-01\n",
      " -3.39355469e-02 -1.10351562e-01  1.31835938e-02 -1.84570312e-01\n",
      "  6.73828125e-02  9.22851562e-02  2.70996094e-02  1.44653320e-02\n",
      "  7.37304688e-02 -1.96289062e-01  6.39648438e-02  1.46484375e-01\n",
      "  3.67187500e-01 -3.67187500e-01  1.13281250e-01 -5.66406250e-02\n",
      "  5.27343750e-02 -1.66015625e-01  1.59179688e-01 -1.28906250e-01\n",
      "  2.21679688e-01  1.07910156e-01  1.56250000e-01  2.65625000e-01\n",
      " -1.50390625e-01  6.83593750e-02  2.08984375e-01 -1.70898438e-02\n",
      " -1.38671875e-01  3.26171875e-01  2.37304688e-01 -9.03320312e-02\n",
      "  9.27734375e-03 -8.59375000e-02 -1.22558594e-01  1.12792969e-01\n",
      "  1.17187500e-01 -3.32031250e-02  1.62109375e-01 -1.33789062e-01\n",
      "  1.45507812e-01 -8.64257812e-02 -9.13085938e-02 -5.37109375e-02\n",
      " -7.91015625e-02 -8.48388672e-03 -1.78710938e-01 -8.66699219e-03\n",
      "  4.12109375e-01  8.34960938e-02 -2.67578125e-01  4.02832031e-02\n",
      " -6.64062500e-02  8.74023438e-02 -1.87500000e-01 -9.37500000e-02\n",
      " -8.98437500e-02  6.49414062e-02  1.74804688e-01 -1.85546875e-01\n",
      " -1.49414062e-01 -2.10937500e-01  1.25976562e-01 -7.47070312e-02\n",
      " -1.94335938e-01 -1.91650391e-02 -1.89453125e-01 -1.84570312e-01\n",
      " -1.90429688e-01 -1.37695312e-01 -9.03320312e-02 -2.01416016e-02\n",
      "  3.88183594e-02  9.13085938e-02  2.55859375e-01 -1.35742188e-01\n",
      "  5.78613281e-02 -1.85546875e-01  4.58984375e-01  1.18164062e-01\n",
      "  4.40597534e-04 -4.90722656e-02  6.25000000e-02  1.10839844e-01\n",
      " -1.93359375e-01 -2.59765625e-01  1.83593750e-01  1.99218750e-01\n",
      " -1.17187500e-01 -1.66992188e-01 -1.43554688e-01  7.44628906e-03\n",
      " -1.25976562e-01  5.00488281e-02 -7.22656250e-02 -1.06201172e-02\n",
      "  2.11914062e-01  9.91210938e-02 -1.88476562e-01 -4.95605469e-02\n",
      "  8.83789062e-02 -1.50203705e-05 -1.26953125e-01  3.04687500e-01\n",
      "  2.49023438e-02  4.24194336e-03  6.64062500e-02 -3.26171875e-01\n",
      "  4.60937500e-01 -1.50390625e-01 -1.48437500e-01 -2.95410156e-02\n",
      "  3.10546875e-01  1.72851562e-01 -1.46484375e-01  6.93359375e-02\n",
      " -1.37695312e-01 -5.20019531e-02 -1.91406250e-01 -3.49121094e-02\n",
      "  1.97265625e-01 -2.34375000e-01  9.08203125e-02  3.24218750e-01\n",
      " -4.70703125e-01  1.70898438e-02 -2.35351562e-01 -8.05664062e-02\n",
      "  3.14453125e-01  2.20947266e-02 -1.42578125e-01 -2.79541016e-02\n",
      " -2.24609375e-01  2.69775391e-02  2.65625000e-01 -3.80859375e-02\n",
      "  2.61230469e-02  1.71875000e-01 -8.59375000e-02  7.76367188e-02\n",
      " -2.51464844e-02  8.78906250e-02  1.00708008e-02  1.62353516e-02\n",
      "  3.18359375e-01 -1.09375000e-01  2.85156250e-01  1.00097656e-01\n",
      " -3.06396484e-02  3.68652344e-02  1.30859375e-01  1.59179688e-01\n",
      " -1.11328125e-01  4.45556641e-03 -3.44238281e-02 -7.71484375e-02\n",
      " -2.11181641e-02 -2.12890625e-01 -1.24023438e-01 -1.15356445e-02\n",
      "  6.49414062e-02 -1.85546875e-02 -2.00195312e-01 -2.48046875e-01\n",
      "  9.22851562e-02 -1.48437500e-01 -6.93359375e-02  5.79833984e-03\n",
      " -3.41796875e-02  1.44531250e-01 -9.37500000e-02  1.26953125e-01\n",
      " -4.15039062e-02  3.16406250e-01 -7.03125000e-02  4.95605469e-02\n",
      "  1.95312500e-01  1.89208984e-02  1.09863281e-02 -7.47070312e-02\n",
      " -1.28906250e-01 -1.29882812e-01  1.03027344e-01  8.00781250e-02\n",
      "  6.25610352e-03  1.40991211e-02 -1.43554688e-01  1.36108398e-02\n",
      " -4.63867188e-02 -3.22265625e-01 -8.59375000e-02 -1.56250000e-01\n",
      "  1.46484375e-01  2.16796875e-01  1.81640625e-01 -1.22070312e-01\n",
      " -2.30468750e-01 -1.92871094e-02 -1.26953125e-02  1.09863281e-01\n",
      " -1.59179688e-01  1.17675781e-01  5.29785156e-02  2.08984375e-01\n",
      " -1.37695312e-01  1.62109375e-01 -1.72851562e-01  3.63769531e-02\n",
      " -1.25976562e-01 -1.44653320e-02 -1.26953125e-01 -2.59765625e-01]\n"
     ]
    }
   ],
   "source": [
    "from gensim.models import KeyedVectors\n",
    "\n",
    "model = KeyedVectors.load_word2vec_format(\"./data/GoogleNews-vectors-negative300.bin.gz\", binary=True)\n",
    "print(model[\"test\"])"
   ]
  },
  {
   "cell_type": "code",
   "execution_count": 6,
   "metadata": {},
   "outputs": [],
   "source": [
    "import string\n",
    "import torch\n",
    "\n",
    "def t_word2vec(text:str):\n",
    "    table = str.maketrans(string.punctuation, \" \"*len(string.punctuation))\n",
    "    words = text.translate(table).split()\n",
    "    vec = [model[word] for word in words if word in model]\n",
    "\n",
    "    return torch.tensor(sum(vec) / len(vec))"
   ]
  },
  {
   "cell_type": "code",
   "execution_count": 10,
   "metadata": {},
   "outputs": [
    {
     "name": "stdout",
     "output_type": "stream",
     "text": [
      "torch.Size([10684, 300])\n",
      "torch.Size([1336, 300])\n",
      "torch.Size([1336, 300])\n",
      "tensor([[-0.0320,  0.0469, -0.1285,  ...,  0.0598,  0.0706,  0.0334],\n",
      "        [ 0.1342,  0.0461, -0.0732,  ...,  0.0004,  0.0495, -0.0385],\n",
      "        [ 0.0102,  0.1922, -0.0510,  ...,  0.0321,  0.0804,  0.0190],\n",
      "        ...,\n",
      "        [ 0.0596, -0.0215, -0.0660,  ..., -0.0506,  0.0126, -0.0528],\n",
      "        [ 0.0660,  0.1197,  0.0617,  ..., -0.0637,  0.0367,  0.0248],\n",
      "        [ 0.0409, -0.0189,  0.0151,  ..., -0.0743,  0.0713, -0.1081]])\n"
     ]
    }
   ],
   "source": [
    "x_train = torch.stack([t_word2vec(text) for text in train_df[\"TITLE\"]])\n",
    "x_valid = torch.stack([t_word2vec(text) for text in valid_df[\"TITLE\"]])\n",
    "x_test = torch.stack([t_word2vec(text) for text in test_df[\"TITLE\"]])\n",
    "\n",
    "print(x_train.size())\n",
    "print(x_valid.size())\n",
    "print(x_test.size())\n",
    "print(x_train)"
   ]
  },
  {
   "cell_type": "code",
   "execution_count": 11,
   "metadata": {},
   "outputs": [
    {
     "name": "stdout",
     "output_type": "stream",
     "text": [
      "torch.Size([10684])\n",
      "torch.Size([1336])\n",
      "torch.Size([1336])\n",
      "tensor([0, 2, 0,  ..., 2, 2, 2])\n"
     ]
    }
   ],
   "source": [
    "category_dict = {\"b\":0, \"t\":1, \"e\":2, \"m\":3}\n",
    "y_train = torch.tensor(train_df[\"CATEGORY\"].map(lambda x: category_dict[x]).values)\n",
    "y_valid = torch.tensor(valid_df[\"CATEGORY\"].map(lambda x: category_dict[x]).values)\n",
    "y_test = torch.tensor(test_df[\"CATEGORY\"].map(lambda x: category_dict[x]).values)\n",
    "\n",
    "print(y_train.size())\n",
    "print(y_valid.size())\n",
    "print(y_test.size())\n",
    "print(y_train)"
   ]
  },
  {
   "cell_type": "code",
   "execution_count": 12,
   "metadata": {},
   "outputs": [],
   "source": [
    "torch.save(x_train, DATA_PATH + \"x_train.pt\")\n",
    "torch.save(x_valid, DATA_PATH + \"x_valid.pt\")\n",
    "torch.save(x_test, DATA_PATH + \"x_test.pt\")\n",
    "torch.save(y_train, DATA_PATH + \"y_train.pt\")\n",
    "torch.save(y_valid, DATA_PATH + \"y_valid.pt\")\n",
    "torch.save(y_test, DATA_PATH + \"y_test.pt\")"
   ]
  },
  {
   "attachments": {},
   "cell_type": "markdown",
   "metadata": {},
   "source": [
    "## 71. 単層ニューラルネットワークによる予測"
   ]
  },
  {
   "cell_type": "code",
   "execution_count": 13,
   "metadata": {},
   "outputs": [],
   "source": [
    "from torch import nn\n",
    "\n",
    "class SLPNet(nn.Module):\n",
    "    def __init__(self, input_size, output_size) -> None:\n",
    "        super().__init__()\n",
    "        self.fc = nn.Linear(input_size, output_size, bias=False)\n",
    "        nn.init.normal_(self.fc.weight, 0.0, 1.0) # 正規乱数で重みを初期化\n",
    "    \n",
    "    def forward(self, x):\n",
    "        x = self.fc(x)\n",
    "        return x"
   ]
  },
  {
   "cell_type": "code",
   "execution_count": 14,
   "metadata": {},
   "outputs": [
    {
     "name": "stdout",
     "output_type": "stream",
     "text": [
      "tensor([[0.0719, 0.3223, 0.4005, 0.2053]], grad_fn=<SoftmaxBackward0>)\n",
      "tensor([[0.0719, 0.3223, 0.4005, 0.2053],\n",
      "        [0.0270, 0.0191, 0.5920, 0.3620],\n",
      "        [0.2719, 0.2354, 0.0983, 0.3944],\n",
      "        [0.4938, 0.2212, 0.2225, 0.0624]], grad_fn=<SoftmaxBackward0>)\n"
     ]
    }
   ],
   "source": [
    "model = SLPNet(300, 4)\n",
    "y_hat_1 = torch.softmax(model(x_train[:1]), dim=1)\n",
    "Y_hat = torch.softmax(model(x_train[:4]), dim=1)\n",
    "\n",
    "print(y_hat_1)\n",
    "print(Y_hat)"
   ]
  },
  {
   "attachments": {},
   "cell_type": "markdown",
   "metadata": {},
   "source": [
    "## 72. 損失と勾配の計算\n",
    "クロスエントロピー損失と行列Wに対する勾配を求める"
   ]
  },
  {
   "cell_type": "code",
   "execution_count": 15,
   "metadata": {},
   "outputs": [
    {
     "name": "stdout",
     "output_type": "stream",
     "text": [
      "損失： 2.6325\n",
      "勾配：\n",
      "tensor([[ 0.0297, -0.0435,  0.1193,  ..., -0.0555, -0.0655, -0.0310],\n",
      "        [-0.0103,  0.0151, -0.0414,  ...,  0.0193,  0.0227,  0.0108],\n",
      "        [-0.0128,  0.0188, -0.0515,  ...,  0.0239,  0.0283,  0.0134],\n",
      "        [-0.0066,  0.0096, -0.0264,  ...,  0.0123,  0.0145,  0.0069]])\n"
     ]
    }
   ],
   "source": [
    "criterion = nn.CrossEntropyLoss()\n",
    "\n",
    "l_1 = criterion(model(x_train[:1]), y_train[:1])\n",
    "model.zero_grad()\n",
    "l_1.backward()\n",
    "\n",
    "print(f\"損失：{l_1: .4f}\")\n",
    "print(f\"勾配：\\n{model.fc.weight.grad}\")"
   ]
  },
  {
   "cell_type": "code",
   "execution_count": 16,
   "metadata": {},
   "outputs": [
    {
     "name": "stdout",
     "output_type": "stream",
     "text": [
      "損失： 1.8082\n",
      "勾配：\n",
      "tensor([[ 0.0044, -0.0278,  0.0288,  ..., -0.0029, -0.0278, -0.0159],\n",
      "        [-0.0022,  0.0233, -0.0181,  ...,  0.0142,  0.0119,  0.0016],\n",
      "        [-0.0175,  0.0127, -0.0111,  ...,  0.0143,  0.0053,  0.0057],\n",
      "        [ 0.0153, -0.0082,  0.0003,  ..., -0.0256,  0.0106,  0.0085]])\n"
     ]
    }
   ],
   "source": [
    "l_4 = criterion(model(x_train[:4]), y_train[:4])\n",
    "model.zero_grad()\n",
    "l_4.backward()\n",
    "\n",
    "print(f\"損失：{l_4: .4f}\")\n",
    "print(f\"勾配：\\n{model.fc.weight.grad}\")"
   ]
  },
  {
   "attachments": {},
   "cell_type": "markdown",
   "metadata": {},
   "source": [
    "## 73. 確率的勾配降下法による学習"
   ]
  },
  {
   "cell_type": "code",
   "execution_count": 17,
   "metadata": {},
   "outputs": [],
   "source": [
    "from torch.utils.data import Dataset\n",
    "\n",
    "class NewsDataset(Dataset):\n",
    "    def __init__(self, X, y) -> None:\n",
    "        super().__init__()\n",
    "        self.X = X\n",
    "        self.y = y\n",
    "    \n",
    "    def __len__(self):\n",
    "        return len(self.y)\n",
    "    \n",
    "    def __getitem__(self, idx):\n",
    "        return [self.X[idx], self.y[idx]]"
   ]
  },
  {
   "cell_type": "code",
   "execution_count": 26,
   "metadata": {},
   "outputs": [],
   "source": [
    "from torch.utils.data import DataLoader\n",
    "\n",
    "dataset_train = NewsDataset(x_train, y_train)\n",
    "dataset_valid = NewsDataset(x_valid, y_valid)\n",
    "dataset_test = NewsDataset(x_test, y_test)\n",
    "\n",
    "train_loader = DataLoader(dataset_train, batch_size=1, shuffle=True)\n",
    "valid_loader = DataLoader(dataset_valid, batch_size=len(dataset_valid), shuffle=False)\n",
    "test_loader = DataLoader(dataset_test, batch_size=len(dataset_test), shuffle=False)"
   ]
  },
  {
   "cell_type": "code",
   "execution_count": 27,
   "metadata": {},
   "outputs": [
    {
     "name": "stdout",
     "output_type": "stream",
     "text": [
      "epoch: 1, loss_train: 0.4862, loss_valid: 0.3715\n",
      "epoch: 2, loss_train: 0.3136, loss_valid: 0.3257\n",
      "epoch: 3, loss_train: 0.2814, loss_valid: 0.3219\n",
      "epoch: 4, loss_train: 0.2645, loss_valid: 0.3124\n",
      "epoch: 5, loss_train: 0.2536, loss_valid: 0.3065\n",
      "epoch: 6, loss_train: 0.2462, loss_valid: 0.3066\n",
      "epoch: 7, loss_train: 0.2401, loss_valid: 0.3041\n",
      "epoch: 8, loss_train: 0.2356, loss_valid: 0.3043\n",
      "epoch: 9, loss_train: 0.2329, loss_valid: 0.3050\n",
      "epoch: 10, loss_train: 0.2293, loss_valid: 0.3046\n",
      "epoch: 11, loss_train: 0.2266, loss_valid: 0.3061\n",
      "epoch: 12, loss_train: 0.2245, loss_valid: 0.3074\n",
      "epoch: 13, loss_train: 0.2227, loss_valid: 0.3072\n",
      "epoch: 14, loss_train: 0.2204, loss_valid: 0.3079\n",
      "epoch: 15, loss_train: 0.2193, loss_valid: 0.3127\n",
      "epoch: 16, loss_train: 0.2185, loss_valid: 0.3098\n",
      "epoch: 17, loss_train: 0.2167, loss_valid: 0.3099\n",
      "epoch: 18, loss_train: 0.2158, loss_valid: 0.3146\n",
      "epoch: 19, loss_train: 0.2153, loss_valid: 0.3162\n",
      "epoch: 20, loss_train: 0.2144, loss_valid: 0.3192\n",
      "epoch: 21, loss_train: 0.2128, loss_valid: 0.3165\n",
      "epoch: 22, loss_train: 0.2126, loss_valid: 0.3164\n",
      "epoch: 23, loss_train: 0.2122, loss_valid: 0.3165\n",
      "epoch: 24, loss_train: 0.2113, loss_valid: 0.3202\n",
      "epoch: 25, loss_train: 0.2110, loss_valid: 0.3186\n",
      "epoch: 26, loss_train: 0.2109, loss_valid: 0.3218\n",
      "epoch: 27, loss_train: 0.2101, loss_valid: 0.3209\n",
      "epoch: 28, loss_train: 0.2098, loss_valid: 0.3182\n",
      "epoch: 29, loss_train: 0.2094, loss_valid: 0.3210\n",
      "epoch: 30, loss_train: 0.2094, loss_valid: 0.3229\n"
     ]
    }
   ],
   "source": [
    "model = SLPNet(300, 4)\n",
    "\n",
    "criterion = nn.CrossEntropyLoss()\n",
    "optimizer = torch.optim.SGD(model.parameters(), lr=1e-1)\n",
    "\n",
    "num_epochs = 30\n",
    "for epoch in range(num_epochs):\n",
    "    model.train()\n",
    "    loss_train = 0\n",
    "\n",
    "    for i, (inputs, labels) in enumerate(train_loader):\n",
    "        optimizer.zero_grad()\n",
    "\n",
    "        outputs = model(inputs)\n",
    "        loss = criterion(outputs, labels)\n",
    "        loss.backward()\n",
    "        optimizer.step()\n",
    "\n",
    "        loss_train += loss.item()\n",
    "    \n",
    "    loss_train /= len(train_loader)\n",
    "\n",
    "    model.eval()\n",
    "    with torch.no_grad():\n",
    "        inputs, labels = next(iter(valid_loader))\n",
    "        outputs = model(inputs)\n",
    "        loss_valid = criterion(outputs, labels)\n",
    "    \n",
    "    print(f'epoch: {epoch + 1}, loss_train: {loss_train:.4f}, loss_valid: {loss_valid:.4f}')  "
   ]
  },
  {
   "attachments": {},
   "cell_type": "markdown",
   "metadata": {},
   "source": [
    "## 74. 正解率の計測"
   ]
  },
  {
   "cell_type": "code",
   "execution_count": 29,
   "metadata": {},
   "outputs": [
    {
     "name": "stdout",
     "output_type": "stream",
     "text": [
      "正解率（学習データ）：0.930\n",
      "正解率（評価データ）：0.897\n"
     ]
    }
   ],
   "source": [
    "def calculate_accuracy(model, loader):\n",
    "    model.eval()\n",
    "    total = 0\n",
    "    correct = 0\n",
    "    with torch.no_grad():\n",
    "        for inputs, labels in loader:\n",
    "            outputs = model(inputs)\n",
    "            pred = torch.argmax(outputs, dim=-1)\n",
    "            total += len(inputs)\n",
    "            correct += (pred == labels).sum().item()\n",
    "    return correct / total\n",
    "\n",
    "accuracy_train = calculate_accuracy(model, train_loader)\n",
    "accuracy_test = calculate_accuracy(model, test_loader)\n",
    "print(f'正解率（学習データ）：{accuracy_train:.3f}')\n",
    "print(f'正解率（評価データ）：{accuracy_test:.3f}')\n"
   ]
  },
  {
   "attachments": {},
   "cell_type": "markdown",
   "metadata": {},
   "source": [
    "## 75. 損失と正解率のプロット"
   ]
  },
  {
   "cell_type": "code",
   "execution_count": 30,
   "metadata": {},
   "outputs": [],
   "source": [
    "def calculate_loss_and_accuracy(model, criterion, loader):\n",
    "    model.eval()\n",
    "    loss = 0.0\n",
    "    total = 0\n",
    "    correct = 0\n",
    "    with torch.no_grad():\n",
    "        for inputs, labels in loader:\n",
    "            outputs = model(inputs)\n",
    "            loss += criterion(outputs, labels).item()\n",
    "            pred = torch.argmax(outputs, dim=-1)\n",
    "            total += len(inputs)\n",
    "            correct += (pred == labels).sum().item()\n",
    "    return loss / len(loader), correct / total"
   ]
  },
  {
   "cell_type": "code",
   "execution_count": 31,
   "metadata": {},
   "outputs": [
    {
     "name": "stdout",
     "output_type": "stream",
     "text": [
      "epoch: 1, loss_train: 0.3263, accuracy_train: 0.8867, loss_valid: 0.3696, accuracy_valid: 0.8772\n",
      "epoch: 2, loss_train: 0.2847, accuracy_train: 0.9026, loss_valid: 0.3377, accuracy_valid: 0.8915\n",
      "epoch: 3, loss_train: 0.2643, accuracy_train: 0.9096, loss_valid: 0.3278, accuracy_valid: 0.8922\n",
      "epoch: 4, loss_train: 0.2535, accuracy_train: 0.9130, loss_valid: 0.3208, accuracy_valid: 0.8945\n",
      "epoch: 5, loss_train: 0.2423, accuracy_train: 0.9186, loss_valid: 0.3150, accuracy_valid: 0.8945\n",
      "epoch: 6, loss_train: 0.2385, accuracy_train: 0.9191, loss_valid: 0.3155, accuracy_valid: 0.8990\n",
      "epoch: 7, loss_train: 0.2311, accuracy_train: 0.9211, loss_valid: 0.3129, accuracy_valid: 0.8967\n",
      "epoch: 8, loss_train: 0.2297, accuracy_train: 0.9229, loss_valid: 0.3165, accuracy_valid: 0.8975\n",
      "epoch: 9, loss_train: 0.2248, accuracy_train: 0.9231, loss_valid: 0.3150, accuracy_valid: 0.8960\n",
      "epoch: 10, loss_train: 0.2202, accuracy_train: 0.9251, loss_valid: 0.3114, accuracy_valid: 0.8982\n",
      "epoch: 11, loss_train: 0.2216, accuracy_train: 0.9227, loss_valid: 0.3141, accuracy_valid: 0.8922\n",
      "epoch: 12, loss_train: 0.2163, accuracy_train: 0.9271, loss_valid: 0.3131, accuracy_valid: 0.8982\n",
      "epoch: 13, loss_train: 0.2149, accuracy_train: 0.9257, loss_valid: 0.3136, accuracy_valid: 0.9027\n",
      "epoch: 14, loss_train: 0.2145, accuracy_train: 0.9275, loss_valid: 0.3141, accuracy_valid: 0.8990\n",
      "epoch: 15, loss_train: 0.2155, accuracy_train: 0.9276, loss_valid: 0.3190, accuracy_valid: 0.9012\n",
      "epoch: 16, loss_train: 0.2103, accuracy_train: 0.9265, loss_valid: 0.3132, accuracy_valid: 0.8997\n",
      "epoch: 17, loss_train: 0.2122, accuracy_train: 0.9276, loss_valid: 0.3205, accuracy_valid: 0.8945\n",
      "epoch: 18, loss_train: 0.2080, accuracy_train: 0.9286, loss_valid: 0.3150, accuracy_valid: 0.8967\n",
      "epoch: 19, loss_train: 0.2080, accuracy_train: 0.9275, loss_valid: 0.3177, accuracy_valid: 0.8967\n",
      "epoch: 20, loss_train: 0.2068, accuracy_train: 0.9278, loss_valid: 0.3169, accuracy_valid: 0.8960\n",
      "epoch: 21, loss_train: 0.2124, accuracy_train: 0.9269, loss_valid: 0.3224, accuracy_valid: 0.8952\n",
      "epoch: 22, loss_train: 0.2063, accuracy_train: 0.9301, loss_valid: 0.3191, accuracy_valid: 0.9004\n",
      "epoch: 23, loss_train: 0.2042, accuracy_train: 0.9294, loss_valid: 0.3173, accuracy_valid: 0.9004\n",
      "epoch: 24, loss_train: 0.2071, accuracy_train: 0.9274, loss_valid: 0.3223, accuracy_valid: 0.9004\n",
      "epoch: 25, loss_train: 0.2046, accuracy_train: 0.9290, loss_valid: 0.3233, accuracy_valid: 0.9004\n",
      "epoch: 26, loss_train: 0.2034, accuracy_train: 0.9291, loss_valid: 0.3229, accuracy_valid: 0.8982\n",
      "epoch: 27, loss_train: 0.2033, accuracy_train: 0.9289, loss_valid: 0.3243, accuracy_valid: 0.9004\n",
      "epoch: 28, loss_train: 0.2023, accuracy_train: 0.9296, loss_valid: 0.3243, accuracy_valid: 0.8997\n",
      "epoch: 29, loss_train: 0.2016, accuracy_train: 0.9296, loss_valid: 0.3226, accuracy_valid: 0.9012\n",
      "epoch: 30, loss_train: 0.2033, accuracy_train: 0.9276, loss_valid: 0.3255, accuracy_valid: 0.8990\n"
     ]
    }
   ],
   "source": [
    "model = SLPNet(300, 4)\n",
    "\n",
    "criterion = nn.CrossEntropyLoss()\n",
    "optimizer = torch.optim.SGD(model.parameters(), lr=1e-1)\n",
    "\n",
    "log_train = []\n",
    "log_valid = []\n",
    "\n",
    "num_epochs = 30\n",
    "for epoch in range(num_epochs):\n",
    "    model.train()\n",
    "    loss_train = 0\n",
    "\n",
    "    for i, (inputs, labels) in enumerate(train_loader):\n",
    "        optimizer.zero_grad()\n",
    "\n",
    "        outputs = model(inputs)\n",
    "        loss = criterion(outputs, labels)\n",
    "        loss.backward()\n",
    "        optimizer.step()\n",
    "\n",
    "    loss_train, accuracy_train = calculate_loss_and_accuracy(model, criterion, train_loader)\n",
    "    loss_valid, accuracy_valid = calculate_loss_and_accuracy(model, criterion, valid_loader)\n",
    "\n",
    "    log_train.append([loss_train, accuracy_train])\n",
    "    log_valid.append([loss_valid, accuracy_valid])\n",
    "    \n",
    "    print(f'epoch: {epoch + 1}, loss_train: {loss_train:.4f}, accuracy_train: {accuracy_train:.4f}, loss_valid: {loss_valid:.4f}, accuracy_valid: {accuracy_valid:.4f}')  "
   ]
  },
  {
   "cell_type": "code",
   "execution_count": 33,
   "metadata": {},
   "outputs": [
    {
     "data": {
      "image/png": "[encoded data removed]",
      "text/plain": [
       "<Figure size 1080x360 with 2 Axes>"
      ]
     },
     "metadata": {
      "needs_background": "light"
     },
     "output_type": "display_data"
    }
   ],
   "source": [
    "from matplotlib import pyplot as plt\n",
    "import numpy as np\n",
    "\n",
    "fig, ax = plt.subplots(1, 2, figsize=(15, 5))\n",
    "ax[0].plot(np.array(log_train).T[0], label='train')\n",
    "ax[0].plot(np.array(log_valid).T[0], label='valid')\n",
    "ax[0].set_xlabel('epoch')\n",
    "ax[0].set_ylabel('loss')\n",
    "ax[0].legend()\n",
    "ax[1].plot(np.array(log_train).T[1], label='train')\n",
    "ax[1].plot(np.array(log_valid).T[1], label='valid')\n",
    "ax[1].set_xlabel('epoch')\n",
    "ax[1].set_ylabel('accuracy')\n",
    "ax[1].legend()\n",
    "plt.show()"
   ]
  }
 ],
 "metadata": {
  "kernelspec": {
   "display_name": "Python 3",
   "language": "python",
   "name": "python3"
  },
  "language_info": {
   "codemirror_mode": {
    "name": "ipython",
    "version": 3
   },
   "file_extension": ".py",
   "mimetype": "text/x-python",
   "name": "python",
   "nbconvert_exporter": "python",
   "pygments_lexer": "ipython3",
   "version": "3.6.9"
  },
  "orig_nbformat": 4
 },
 "nbformat": 4,
 "nbformat_minor": 2
}
