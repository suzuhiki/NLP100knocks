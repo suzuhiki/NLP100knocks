{
 "cells": [
  {
   "attachments": {},
   "cell_type": "markdown",
   "metadata": {},
   "source": [
    "## 70. 単語ベクトルの和による特徴量\n",
    "学習、検証、評価データについて特徴量行列とラベル行列を作成し保存せよ\n",
    "問題50で作成したデータを使用する"
   ]
  },
  {
   "cell_type": "code",
   "execution_count": 1,
   "metadata": {},
   "outputs": [
    {
     "name": "stdout",
     "output_type": "stream",
     "text": [
      "  CATEGORY                                              TITLE\n",
      "0        b  Airline Mergers Pushed JetBlue's Pilots to Joi...\n",
      "1        e      Andrew Garfield wants Black-HispanicSpiderman\n",
      "2        b  Korean Bonds Fall as Choi Refrains From Signal...\n",
      "3        m  REFILE-AstraZeneca fights to regain cancer mar...\n",
      "4        e  Beyonce and Solange both take the plunge at fi...\n"
     ]
    }
   ],
   "source": [
    "import pandas as pd\n",
    "\n",
    "DATA_PATH = \"./data/news_aggregator_dataset/\"\n",
    "\n",
    "train_df = pd.read_csv(DATA_PATH + \"train.txt\", delimiter=\"\\t\")\n",
    "valid_df = pd.read_csv(DATA_PATH + \"valid.txt\", delimiter=\"\\t\")\n",
    "test_df = pd.read_csv(DATA_PATH + \"test.txt\", delimiter=\"\\t\")\n",
    "\n",
    "print(train_df.head())"
   ]
  },
  {
   "cell_type": "code",
   "execution_count": 2,
   "metadata": {},
   "outputs": [
    {
     "name": "stdout",
     "output_type": "stream",
     "text": [
      "[-1.42578125e-01 -3.68652344e-02  1.35742188e-01 -6.20117188e-02\n",
      "  7.95898438e-02  1.90429688e-02 -8.15429688e-02 -1.27929688e-01\n",
      " -2.95410156e-02  2.36328125e-01 -1.21582031e-01 -2.14843750e-01\n",
      "  1.29882812e-01 -2.70996094e-02 -5.20019531e-02  2.15820312e-01\n",
      " -1.81640625e-01  5.10253906e-02 -1.60156250e-01 -1.76757812e-01\n",
      "  1.83105469e-02 -4.12597656e-02 -2.32421875e-01 -1.03149414e-02\n",
      "  1.45507812e-01  5.24902344e-02 -3.96484375e-01 -1.92871094e-02\n",
      "  2.51770020e-03 -1.26953125e-02 -4.39453125e-02  3.07617188e-02\n",
      "  9.57031250e-02 -1.75781250e-01  1.04370117e-02  1.89453125e-01\n",
      " -2.36328125e-01  4.37011719e-02  2.81250000e-01 -2.07519531e-02\n",
      " -1.81640625e-01 -2.17773438e-01  2.33398438e-01  5.29785156e-02\n",
      " -1.13769531e-01  9.39941406e-03 -1.49414062e-01  1.99218750e-01\n",
      " -1.75781250e-01  3.16406250e-01  8.10546875e-02 -6.12792969e-02\n",
      " -1.52343750e-01 -1.81884766e-02  8.25195312e-02  8.74023438e-02\n",
      " -1.18652344e-01 -2.59765625e-01 -1.68457031e-02  1.87988281e-02\n",
      "  1.36108398e-02 -2.39257812e-01 -6.78710938e-02 -8.15429688e-02\n",
      "  2.18750000e-01  6.64062500e-02  1.27929688e-01  1.64062500e-01\n",
      "  2.28271484e-02 -1.38671875e-01 -9.42382812e-02  3.51562500e-02\n",
      "  7.37304688e-02 -1.06445312e-01  1.47705078e-02 -6.15234375e-02\n",
      "  2.48046875e-01  9.22851562e-02  1.45263672e-02  2.92968750e-01\n",
      "  2.47070312e-01 -3.46679688e-02 -1.92382812e-01  2.28881836e-03\n",
      "  1.33789062e-01  5.05371094e-02 -1.56250000e-01  2.02148438e-01\n",
      " -3.39355469e-02 -1.10351562e-01  1.31835938e-02 -1.84570312e-01\n",
      "  6.73828125e-02  9.22851562e-02  2.70996094e-02  1.44653320e-02\n",
      "  7.37304688e-02 -1.96289062e-01  6.39648438e-02  1.46484375e-01\n",
      "  3.67187500e-01 -3.67187500e-01  1.13281250e-01 -5.66406250e-02\n",
      "  5.27343750e-02 -1.66015625e-01  1.59179688e-01 -1.28906250e-01\n",
      "  2.21679688e-01  1.07910156e-01  1.56250000e-01  2.65625000e-01\n",
      " -1.50390625e-01  6.83593750e-02  2.08984375e-01 -1.70898438e-02\n",
      " -1.38671875e-01  3.26171875e-01  2.37304688e-01 -9.03320312e-02\n",
      "  9.27734375e-03 -8.59375000e-02 -1.22558594e-01  1.12792969e-01\n",
      "  1.17187500e-01 -3.32031250e-02  1.62109375e-01 -1.33789062e-01\n",
      "  1.45507812e-01 -8.64257812e-02 -9.13085938e-02 -5.37109375e-02\n",
      " -7.91015625e-02 -8.48388672e-03 -1.78710938e-01 -8.66699219e-03\n",
      "  4.12109375e-01  8.34960938e-02 -2.67578125e-01  4.02832031e-02\n",
      " -6.64062500e-02  8.74023438e-02 -1.87500000e-01 -9.37500000e-02\n",
      " -8.98437500e-02  6.49414062e-02  1.74804688e-01 -1.85546875e-01\n",
      " -1.49414062e-01 -2.10937500e-01  1.25976562e-01 -7.47070312e-02\n",
      " -1.94335938e-01 -1.91650391e-02 -1.89453125e-01 -1.84570312e-01\n",
      " -1.90429688e-01 -1.37695312e-01 -9.03320312e-02 -2.01416016e-02\n",
      "  3.88183594e-02  9.13085938e-02  2.55859375e-01 -1.35742188e-01\n",
      "  5.78613281e-02 -1.85546875e-01  4.58984375e-01  1.18164062e-01\n",
      "  4.40597534e-04 -4.90722656e-02  6.25000000e-02  1.10839844e-01\n",
      " -1.93359375e-01 -2.59765625e-01  1.83593750e-01  1.99218750e-01\n",
      " -1.17187500e-01 -1.66992188e-01 -1.43554688e-01  7.44628906e-03\n",
      " -1.25976562e-01  5.00488281e-02 -7.22656250e-02 -1.06201172e-02\n",
      "  2.11914062e-01  9.91210938e-02 -1.88476562e-01 -4.95605469e-02\n",
      "  8.83789062e-02 -1.50203705e-05 -1.26953125e-01  3.04687500e-01\n",
      "  2.49023438e-02  4.24194336e-03  6.64062500e-02 -3.26171875e-01\n",
      "  4.60937500e-01 -1.50390625e-01 -1.48437500e-01 -2.95410156e-02\n",
      "  3.10546875e-01  1.72851562e-01 -1.46484375e-01  6.93359375e-02\n",
      " -1.37695312e-01 -5.20019531e-02 -1.91406250e-01 -3.49121094e-02\n",
      "  1.97265625e-01 -2.34375000e-01  9.08203125e-02  3.24218750e-01\n",
      " -4.70703125e-01  1.70898438e-02 -2.35351562e-01 -8.05664062e-02\n",
      "  3.14453125e-01  2.20947266e-02 -1.42578125e-01 -2.79541016e-02\n",
      " -2.24609375e-01  2.69775391e-02  2.65625000e-01 -3.80859375e-02\n",
      "  2.61230469e-02  1.71875000e-01 -8.59375000e-02  7.76367188e-02\n",
      " -2.51464844e-02  8.78906250e-02  1.00708008e-02  1.62353516e-02\n",
      "  3.18359375e-01 -1.09375000e-01  2.85156250e-01  1.00097656e-01\n",
      " -3.06396484e-02  3.68652344e-02  1.30859375e-01  1.59179688e-01\n",
      " -1.11328125e-01  4.45556641e-03 -3.44238281e-02 -7.71484375e-02\n",
      " -2.11181641e-02 -2.12890625e-01 -1.24023438e-01 -1.15356445e-02\n",
      "  6.49414062e-02 -1.85546875e-02 -2.00195312e-01 -2.48046875e-01\n",
      "  9.22851562e-02 -1.48437500e-01 -6.93359375e-02  5.79833984e-03\n",
      " -3.41796875e-02  1.44531250e-01 -9.37500000e-02  1.26953125e-01\n",
      " -4.15039062e-02  3.16406250e-01 -7.03125000e-02  4.95605469e-02\n",
      "  1.95312500e-01  1.89208984e-02  1.09863281e-02 -7.47070312e-02\n",
      " -1.28906250e-01 -1.29882812e-01  1.03027344e-01  8.00781250e-02\n",
      "  6.25610352e-03  1.40991211e-02 -1.43554688e-01  1.36108398e-02\n",
      " -4.63867188e-02 -3.22265625e-01 -8.59375000e-02 -1.56250000e-01\n",
      "  1.46484375e-01  2.16796875e-01  1.81640625e-01 -1.22070312e-01\n",
      " -2.30468750e-01 -1.92871094e-02 -1.26953125e-02  1.09863281e-01\n",
      " -1.59179688e-01  1.17675781e-01  5.29785156e-02  2.08984375e-01\n",
      " -1.37695312e-01  1.62109375e-01 -1.72851562e-01  3.63769531e-02\n",
      " -1.25976562e-01 -1.44653320e-02 -1.26953125e-01 -2.59765625e-01]\n"
     ]
    }
   ],
   "source": [
    "from gensim.models import KeyedVectors\n",
    "\n",
    "model = KeyedVectors.load_word2vec_format(\"./data/GoogleNews-vectors-negative300.bin.gz\", binary=True)\n",
    "print(model[\"test\"])"
   ]
  },
  {
   "cell_type": "code",
   "execution_count": 3,
   "metadata": {},
   "outputs": [
    {
     "name": "stderr",
     "output_type": "stream",
     "text": [
      "/home/morioka/.local/lib/python3.6/site-packages/tqdm/auto.py:22: TqdmWarning: IProgress not found. Please update jupyter and ipywidgets. See https://ipywidgets.readthedocs.io/en/stable/user_install.html\n",
      "  from .autonotebook import tqdm as notebook_tqdm\n"
     ]
    }
   ],
   "source": [
    "import string\n",
    "import torch\n",
    "\n",
    "def t_word2vec(text:str):\n",
    "    table = str.maketrans(string.punctuation, \" \"*len(string.punctuation))\n",
    "    words = text.translate(table).split()\n",
    "    vec = [model[word] for word in words if word in model]\n",
    "\n",
    "    return torch.tensor(sum(vec) / len(vec))"
   ]
  },
  {
   "cell_type": "code",
   "execution_count": 4,
   "metadata": {},
   "outputs": [
    {
     "name": "stdout",
     "output_type": "stream",
     "text": [
      "torch.Size([10684, 300])\n",
      "torch.Size([1336, 300])\n",
      "torch.Size([1336, 300])\n",
      "tensor([[-0.0320,  0.0469, -0.1285,  ...,  0.0598,  0.0706,  0.0334],\n",
      "        [ 0.1342,  0.0461, -0.0732,  ...,  0.0004,  0.0495, -0.0385],\n",
      "        [ 0.0102,  0.1922, -0.0510,  ...,  0.0321,  0.0804,  0.0190],\n",
      "        ...,\n",
      "        [ 0.0596, -0.0215, -0.0660,  ..., -0.0506,  0.0126, -0.0528],\n",
      "        [ 0.0660,  0.1197,  0.0617,  ..., -0.0637,  0.0367,  0.0248],\n",
      "        [ 0.0409, -0.0189,  0.0151,  ..., -0.0743,  0.0713, -0.1081]])\n"
     ]
    }
   ],
   "source": [
    "x_train = torch.stack([t_word2vec(text) for text in train_df[\"TITLE\"]])\n",
    "x_valid = torch.stack([t_word2vec(text) for text in valid_df[\"TITLE\"]])\n",
    "x_test = torch.stack([t_word2vec(text) for text in test_df[\"TITLE\"]])\n",
    "\n",
    "print(x_train.size())\n",
    "print(x_valid.size())\n",
    "print(x_test.size())\n",
    "print(x_train)"
   ]
  },
  {
   "cell_type": "code",
   "execution_count": 5,
   "metadata": {},
   "outputs": [
    {
     "name": "stdout",
     "output_type": "stream",
     "text": [
      "torch.Size([10684])\n",
      "torch.Size([1336])\n",
      "torch.Size([1336])\n",
      "tensor([0, 2, 0,  ..., 2, 2, 2])\n"
     ]
    }
   ],
   "source": [
    "category_dict = {\"b\":0, \"t\":1, \"e\":2, \"m\":3}\n",
    "y_train = torch.tensor(train_df[\"CATEGORY\"].map(lambda x: category_dict[x]).values)\n",
    "y_valid = torch.tensor(valid_df[\"CATEGORY\"].map(lambda x: category_dict[x]).values)\n",
    "y_test = torch.tensor(test_df[\"CATEGORY\"].map(lambda x: category_dict[x]).values)\n",
    "\n",
    "print(y_train.size())\n",
    "print(y_valid.size())\n",
    "print(y_test.size())\n",
    "print(y_train)"
   ]
  },
  {
   "cell_type": "code",
   "execution_count": 6,
   "metadata": {},
   "outputs": [],
   "source": [
    "torch.save(x_train, DATA_PATH + \"x_train.pt\")\n",
    "torch.save(x_valid, DATA_PATH + \"x_valid.pt\")\n",
    "torch.save(x_test, DATA_PATH + \"x_test.pt\")\n",
    "torch.save(y_train, DATA_PATH + \"y_train.pt\")\n",
    "torch.save(y_valid, DATA_PATH + \"y_valid.pt\")\n",
    "torch.save(y_test, DATA_PATH + \"y_test.pt\")"
   ]
  },
  {
   "attachments": {},
   "cell_type": "markdown",
   "metadata": {},
   "source": [
    "## 71. 単層ニューラルネットワークによる予測"
   ]
  },
  {
   "cell_type": "code",
   "execution_count": 7,
   "metadata": {},
   "outputs": [],
   "source": [
    "from torch import nn\n",
    "\n",
    "class SLPNet(nn.Module):\n",
    "    def __init__(self, input_size, output_size) -> None:\n",
    "        super().__init__()\n",
    "        self.fc = nn.Linear(input_size, output_size, bias=False)\n",
    "        nn.init.normal_(self.fc.weight, 0.0, 1.0) # 正規乱数で重みを初期化\n",
    "    \n",
    "    def forward(self, x):\n",
    "        x = self.fc(x)\n",
    "        return x"
   ]
  },
  {
   "cell_type": "code",
   "execution_count": 8,
   "metadata": {},
   "outputs": [
    {
     "name": "stdout",
     "output_type": "stream",
     "text": [
      "tensor([[0.0825, 0.0121, 0.9034, 0.0020]], grad_fn=<SoftmaxBackward0>)\n",
      "tensor([[0.0825, 0.0121, 0.9034, 0.0020],\n",
      "        [0.1487, 0.0594, 0.4864, 0.3055],\n",
      "        [0.0253, 0.8962, 0.0058, 0.0727],\n",
      "        [0.5301, 0.2065, 0.1004, 0.1630]], grad_fn=<SoftmaxBackward0>)\n"
     ]
    }
   ],
   "source": [
    "model = SLPNet(300, 4)\n",
    "y_hat_1 = torch.softmax(model(x_train[:1]), dim=1)\n",
    "Y_hat = torch.softmax(model(x_train[:4]), dim=1)\n",
    "\n",
    "print(y_hat_1)\n",
    "print(Y_hat)"
   ]
  },
  {
   "attachments": {},
   "cell_type": "markdown",
   "metadata": {},
   "source": [
    "## 72. 損失と勾配の計算\n",
    "クロスエントロピー損失と行列Wに対する勾配を求める"
   ]
  },
  {
   "cell_type": "code",
   "execution_count": 9,
   "metadata": {},
   "outputs": [
    {
     "name": "stdout",
     "output_type": "stream",
     "text": [
      "損失： 2.4945\n",
      "勾配：\n",
      "tensor([[ 2.9315e-02, -4.3006e-02,  1.1789e-01,  ..., -5.4825e-02,\n",
      "         -6.4747e-02, -3.0617e-02],\n",
      "        [-3.8627e-04,  5.6667e-04, -1.5534e-03,  ...,  7.2240e-04,\n",
      "          8.5314e-04,  4.0342e-04],\n",
      "        [-2.8865e-02,  4.2347e-02, -1.1609e-01,  ...,  5.3985e-02,\n",
      "          6.3755e-02,  3.0147e-02],\n",
      "        [-6.2949e-05,  9.2350e-05, -2.5316e-04,  ...,  1.1773e-04,\n",
      "          1.3904e-04,  6.5745e-05]])\n"
     ]
    }
   ],
   "source": [
    "criterion = nn.CrossEntropyLoss()\n",
    "\n",
    "l_1 = criterion(model(x_train[:1]), y_train[:1])\n",
    "model.zero_grad()\n",
    "l_1.backward()\n",
    "\n",
    "print(f\"損失：{l_1: .4f}\")\n",
    "print(f\"勾配：\\n{model.fc.weight.grad}\")"
   ]
  },
  {
   "cell_type": "code",
   "execution_count": 10,
   "metadata": {},
   "outputs": [
    {
     "name": "stdout",
     "output_type": "stream",
     "text": [
      "損失： 2.1769\n",
      "勾配：\n",
      "tensor([[ 0.0077, -0.0368,  0.0287,  ..., -0.0035, -0.0309, -0.0185],\n",
      "        [ 0.0033,  0.0513, -0.0170,  ...,  0.0144,  0.0201,  0.0019],\n",
      "        [-0.0248,  0.0086, -0.0217,  ...,  0.0169,  0.0103,  0.0116],\n",
      "        [ 0.0138, -0.0231,  0.0100,  ..., -0.0278,  0.0005,  0.0049]])\n"
     ]
    }
   ],
   "source": [
    "l_4 = criterion(model(x_train[:4]), y_train[:4])\n",
    "model.zero_grad()\n",
    "l_4.backward()\n",
    "\n",
    "print(f\"損失：{l_4: .4f}\")\n",
    "print(f\"勾配：\\n{model.fc.weight.grad}\")"
   ]
  },
  {
   "attachments": {},
   "cell_type": "markdown",
   "metadata": {},
   "source": [
    "## 73. 確率的勾配降下法による学習"
   ]
  },
  {
   "cell_type": "code",
   "execution_count": 11,
   "metadata": {},
   "outputs": [],
   "source": [
    "from torch.utils.data import Dataset\n",
    "\n",
    "class NewsDataset(Dataset):\n",
    "    def __init__(self, X, y) -> None:\n",
    "        super().__init__()\n",
    "        self.X = X\n",
    "        self.y = y\n",
    "    \n",
    "    def __len__(self):\n",
    "        return len(self.y)\n",
    "    \n",
    "    def __getitem__(self, idx):\n",
    "        return [self.X[idx], self.y[idx]]"
   ]
  },
  {
   "cell_type": "code",
   "execution_count": 12,
   "metadata": {},
   "outputs": [],
   "source": [
    "from torch.utils.data import DataLoader\n",
    "\n",
    "dataset_train = NewsDataset(x_train, y_train)\n",
    "dataset_valid = NewsDataset(x_valid, y_valid)\n",
    "dataset_test = NewsDataset(x_test, y_test)\n",
    "\n",
    "train_loader = DataLoader(dataset_train, batch_size=1, shuffle=True)\n",
    "valid_loader = DataLoader(dataset_valid, batch_size=len(dataset_valid), shuffle=False)\n",
    "test_loader = DataLoader(dataset_test, batch_size=len(dataset_test), shuffle=False)"
   ]
  },
  {
   "cell_type": "code",
   "execution_count": 13,
   "metadata": {},
   "outputs": [
    {
     "name": "stdout",
     "output_type": "stream",
     "text": [
      "epoch: 1, loss_train: 0.4488, loss_valid: 0.3546\n",
      "epoch: 2, loss_train: 0.3012, loss_valid: 0.3295\n",
      "epoch: 3, loss_train: 0.2751, loss_valid: 0.3241\n",
      "epoch: 4, loss_train: 0.2606, loss_valid: 0.3156\n",
      "epoch: 5, loss_train: 0.2507, loss_valid: 0.3216\n",
      "epoch: 6, loss_train: 0.2443, loss_valid: 0.3103\n",
      "epoch: 7, loss_train: 0.2393, loss_valid: 0.3099\n",
      "epoch: 8, loss_train: 0.2347, loss_valid: 0.3112\n",
      "epoch: 9, loss_train: 0.2315, loss_valid: 0.3075\n",
      "epoch: 10, loss_train: 0.2286, loss_valid: 0.3081\n",
      "epoch: 11, loss_train: 0.2263, loss_valid: 0.3124\n",
      "epoch: 12, loss_train: 0.2247, loss_valid: 0.3091\n",
      "epoch: 13, loss_train: 0.2230, loss_valid: 0.3108\n",
      "epoch: 14, loss_train: 0.2208, loss_valid: 0.3095\n",
      "epoch: 15, loss_train: 0.2195, loss_valid: 0.3156\n",
      "epoch: 16, loss_train: 0.2178, loss_valid: 0.3116\n",
      "epoch: 17, loss_train: 0.2166, loss_valid: 0.3124\n",
      "epoch: 18, loss_train: 0.2163, loss_valid: 0.3120\n",
      "epoch: 19, loss_train: 0.2157, loss_valid: 0.3146\n",
      "epoch: 20, loss_train: 0.2141, loss_valid: 0.3149\n",
      "epoch: 21, loss_train: 0.2134, loss_valid: 0.3165\n",
      "epoch: 22, loss_train: 0.2132, loss_valid: 0.3193\n",
      "epoch: 23, loss_train: 0.2128, loss_valid: 0.3176\n",
      "epoch: 24, loss_train: 0.2117, loss_valid: 0.3206\n",
      "epoch: 25, loss_train: 0.2115, loss_valid: 0.3186\n",
      "epoch: 26, loss_train: 0.2106, loss_valid: 0.3185\n",
      "epoch: 27, loss_train: 0.2103, loss_valid: 0.3222\n",
      "epoch: 28, loss_train: 0.2101, loss_valid: 0.3221\n",
      "epoch: 29, loss_train: 0.2093, loss_valid: 0.3310\n",
      "epoch: 30, loss_train: 0.2094, loss_valid: 0.3261\n"
     ]
    }
   ],
   "source": [
    "model = SLPNet(300, 4)\n",
    "\n",
    "criterion = nn.CrossEntropyLoss()\n",
    "optimizer = torch.optim.SGD(model.parameters(), lr=1e-1)\n",
    "\n",
    "num_epochs = 30\n",
    "for epoch in range(num_epochs):\n",
    "    model.train()\n",
    "    loss_train = 0\n",
    "\n",
    "    for i, (inputs, labels) in enumerate(train_loader):\n",
    "        optimizer.zero_grad()\n",
    "\n",
    "        outputs = model(inputs)\n",
    "        loss = criterion(outputs, labels)\n",
    "        loss.backward()\n",
    "        optimizer.step()\n",
    "\n",
    "        loss_train += loss.item()\n",
    "    \n",
    "    loss_train /= len(train_loader)\n",
    "\n",
    "    model.eval()\n",
    "    with torch.no_grad():\n",
    "        inputs, labels = next(iter(valid_loader))\n",
    "        outputs = model(inputs)\n",
    "        loss_valid = criterion(outputs, labels)\n",
    "    \n",
    "    print(f'epoch: {epoch + 1}, loss_train: {loss_train:.4f}, loss_valid: {loss_valid:.4f}')  "
   ]
  },
  {
   "attachments": {},
   "cell_type": "markdown",
   "metadata": {},
   "source": [
    "## 74. 正解率の計測"
   ]
  },
  {
   "cell_type": "code",
   "execution_count": 14,
   "metadata": {},
   "outputs": [
    {
     "name": "stdout",
     "output_type": "stream",
     "text": [
      "正解率（学習データ）：0.927\n",
      "正解率（評価データ）：0.894\n"
     ]
    }
   ],
   "source": [
    "def calculate_accuracy(model, loader):\n",
    "    model.eval()\n",
    "    total = 0\n",
    "    correct = 0\n",
    "    with torch.no_grad():\n",
    "        for inputs, labels in loader:\n",
    "            outputs = model(inputs)\n",
    "            pred = torch.argmax(outputs, dim=-1)\n",
    "            total += len(inputs)\n",
    "            correct += (pred == labels).sum().item()\n",
    "    return correct / total\n",
    "\n",
    "accuracy_train = calculate_accuracy(model, train_loader)\n",
    "accuracy_test = calculate_accuracy(model, test_loader)\n",
    "print(f'正解率（学習データ）：{accuracy_train:.3f}')\n",
    "print(f'正解率（評価データ）：{accuracy_test:.3f}')\n"
   ]
  },
  {
   "attachments": {},
   "cell_type": "markdown",
   "metadata": {},
   "source": [
    "## 75. 損失と正解率のプロット"
   ]
  },
  {
   "cell_type": "code",
   "execution_count": 15,
   "metadata": {},
   "outputs": [],
   "source": [
    "def calculate_loss_and_accuracy(model, criterion, loader):\n",
    "    model.eval()\n",
    "    loss = 0.0\n",
    "    total = 0\n",
    "    correct = 0\n",
    "    with torch.no_grad():\n",
    "        for inputs, labels in loader:\n",
    "            outputs = model(inputs)\n",
    "            loss += criterion(outputs, labels).item()\n",
    "            pred = torch.argmax(outputs, dim=-1)\n",
    "            total += len(inputs)\n",
    "            correct += (pred == labels).sum().item()\n",
    "    return loss / len(loader), correct / total"
   ]
  },
  {
   "cell_type": "code",
   "execution_count": 16,
   "metadata": {},
   "outputs": [
    {
     "name": "stdout",
     "output_type": "stream",
     "text": [
      "epoch: 1, loss_train: 0.3320, accuracy_train: 0.8900, loss_valid: 0.3770, accuracy_valid: 0.8668\n",
      "epoch: 2, loss_train: 0.2785, accuracy_train: 0.9050, loss_valid: 0.3355, accuracy_valid: 0.8877\n",
      "epoch: 3, loss_train: 0.2612, accuracy_train: 0.9114, loss_valid: 0.3256, accuracy_valid: 0.8915\n",
      "epoch: 4, loss_train: 0.2515, accuracy_train: 0.9164, loss_valid: 0.3227, accuracy_valid: 0.8930\n",
      "epoch: 5, loss_train: 0.2403, accuracy_train: 0.9189, loss_valid: 0.3145, accuracy_valid: 0.8960\n",
      "epoch: 6, loss_train: 0.2336, accuracy_train: 0.9218, loss_valid: 0.3124, accuracy_valid: 0.8982\n",
      "epoch: 7, loss_train: 0.2309, accuracy_train: 0.9205, loss_valid: 0.3112, accuracy_valid: 0.9004\n",
      "epoch: 8, loss_train: 0.2280, accuracy_train: 0.9217, loss_valid: 0.3143, accuracy_valid: 0.8982\n",
      "epoch: 9, loss_train: 0.2225, accuracy_train: 0.9241, loss_valid: 0.3106, accuracy_valid: 0.8990\n",
      "epoch: 10, loss_train: 0.2211, accuracy_train: 0.9236, loss_valid: 0.3116, accuracy_valid: 0.8982\n",
      "epoch: 11, loss_train: 0.2176, accuracy_train: 0.9258, loss_valid: 0.3118, accuracy_valid: 0.9019\n",
      "epoch: 12, loss_train: 0.2147, accuracy_train: 0.9247, loss_valid: 0.3106, accuracy_valid: 0.8990\n",
      "epoch: 13, loss_train: 0.2148, accuracy_train: 0.9257, loss_valid: 0.3124, accuracy_valid: 0.9004\n",
      "epoch: 14, loss_train: 0.2116, accuracy_train: 0.9263, loss_valid: 0.3116, accuracy_valid: 0.8960\n",
      "epoch: 15, loss_train: 0.2115, accuracy_train: 0.9271, loss_valid: 0.3113, accuracy_valid: 0.9019\n",
      "epoch: 16, loss_train: 0.2093, accuracy_train: 0.9265, loss_valid: 0.3133, accuracy_valid: 0.8960\n",
      "epoch: 17, loss_train: 0.2097, accuracy_train: 0.9274, loss_valid: 0.3150, accuracy_valid: 0.8997\n",
      "epoch: 18, loss_train: 0.2076, accuracy_train: 0.9285, loss_valid: 0.3149, accuracy_valid: 0.8997\n",
      "epoch: 19, loss_train: 0.2085, accuracy_train: 0.9287, loss_valid: 0.3169, accuracy_valid: 0.9012\n",
      "epoch: 20, loss_train: 0.2063, accuracy_train: 0.9291, loss_valid: 0.3153, accuracy_valid: 0.8997\n",
      "epoch: 21, loss_train: 0.2068, accuracy_train: 0.9288, loss_valid: 0.3177, accuracy_valid: 0.8990\n",
      "epoch: 22, loss_train: 0.2068, accuracy_train: 0.9284, loss_valid: 0.3184, accuracy_valid: 0.8982\n",
      "epoch: 23, loss_train: 0.2065, accuracy_train: 0.9277, loss_valid: 0.3212, accuracy_valid: 0.8990\n",
      "epoch: 24, loss_train: 0.2037, accuracy_train: 0.9290, loss_valid: 0.3195, accuracy_valid: 0.9019\n",
      "epoch: 25, loss_train: 0.2055, accuracy_train: 0.9297, loss_valid: 0.3207, accuracy_valid: 0.8967\n",
      "epoch: 26, loss_train: 0.2034, accuracy_train: 0.9283, loss_valid: 0.3207, accuracy_valid: 0.8960\n",
      "epoch: 27, loss_train: 0.2051, accuracy_train: 0.9301, loss_valid: 0.3245, accuracy_valid: 0.8967\n",
      "epoch: 28, loss_train: 0.2024, accuracy_train: 0.9297, loss_valid: 0.3227, accuracy_valid: 0.8990\n",
      "epoch: 29, loss_train: 0.2067, accuracy_train: 0.9291, loss_valid: 0.3287, accuracy_valid: 0.8967\n",
      "epoch: 30, loss_train: 0.2044, accuracy_train: 0.9293, loss_valid: 0.3237, accuracy_valid: 0.8967\n"
     ]
    }
   ],
   "source": [
    "model = SLPNet(300, 4)\n",
    "\n",
    "criterion = nn.CrossEntropyLoss()\n",
    "optimizer = torch.optim.SGD(model.parameters(), lr=1e-1)\n",
    "\n",
    "log_train = []\n",
    "log_valid = []\n",
    "\n",
    "num_epochs = 30\n",
    "for epoch in range(num_epochs):\n",
    "    model.train()\n",
    "    loss_train = 0\n",
    "\n",
    "    for i, (inputs, labels) in enumerate(train_loader):\n",
    "        optimizer.zero_grad()\n",
    "\n",
    "        outputs = model(inputs)\n",
    "        loss = criterion(outputs, labels)\n",
    "        loss.backward()\n",
    "        optimizer.step()\n",
    "\n",
    "    loss_train, accuracy_train = calculate_loss_and_accuracy(model, criterion, train_loader)\n",
    "    loss_valid, accuracy_valid = calculate_loss_and_accuracy(model, criterion, valid_loader)\n",
    "\n",
    "    log_train.append([loss_train, accuracy_train])\n",
    "    log_valid.append([loss_valid, accuracy_valid])\n",
    "    \n",
    "    print(f'epoch: {epoch + 1}, loss_train: {loss_train:.4f}, accuracy_train: {accuracy_train:.4f}, loss_valid: {loss_valid:.4f}, accuracy_valid: {accuracy_valid:.4f}')  "
   ]
  },
  {
   "cell_type": "code",
   "execution_count": 17,
   "metadata": {},
   "outputs": [
    {
     "data": {
      "image/png": "[encoded data removed]",
      "text/plain": [
       "<Figure size 1080x360 with 2 Axes>"
      ]
     },
     "metadata": {
      "needs_background": "light"
     },
     "output_type": "display_data"
    }
   ],
   "source": [
    "from matplotlib import pyplot as plt\n",
    "import numpy as np\n",
    "\n",
    "fig, ax = plt.subplots(1, 2, figsize=(15, 5))\n",
    "ax[0].plot(np.array(log_train).T[0], label='train')\n",
    "ax[0].plot(np.array(log_valid).T[0], label='valid')\n",
    "ax[0].set_xlabel('epoch')\n",
    "ax[0].set_ylabel('loss')\n",
    "ax[0].legend()\n",
    "ax[1].plot(np.array(log_train).T[1], label='train')\n",
    "ax[1].plot(np.array(log_valid).T[1], label='valid')\n",
    "ax[1].set_xlabel('epoch')\n",
    "ax[1].set_ylabel('accuracy')\n",
    "ax[1].legend()\n",
    "plt.show()"
   ]
  },
  {
   "attachments": {},
   "cell_type": "markdown",
   "metadata": {},
   "source": [
    "## 76.チェックポイント\n",
    "各エポックでチェックポイントファイルを書き出す"
   ]
  },
  {
   "cell_type": "code",
   "execution_count": 19,
   "metadata": {},
   "outputs": [
    {
     "name": "stdout",
     "output_type": "stream",
     "text": [
      "epoch: 1, loss_train: 0.3285, accuracy_train: 0.8841, loss_valid: 0.3587, accuracy_valid: 0.8720\n",
      "epoch: 2, loss_train: 0.2841, accuracy_train: 0.9038, loss_valid: 0.3279, accuracy_valid: 0.8840\n",
      "epoch: 3, loss_train: 0.2661, accuracy_train: 0.9107, loss_valid: 0.3197, accuracy_valid: 0.8877\n",
      "epoch: 4, loss_train: 0.2487, accuracy_train: 0.9136, loss_valid: 0.3093, accuracy_valid: 0.8967\n",
      "epoch: 5, loss_train: 0.2431, accuracy_train: 0.9171, loss_valid: 0.3099, accuracy_valid: 0.8952\n",
      "epoch: 6, loss_train: 0.2353, accuracy_train: 0.9199, loss_valid: 0.3085, accuracy_valid: 0.8982\n",
      "epoch: 7, loss_train: 0.2330, accuracy_train: 0.9212, loss_valid: 0.3089, accuracy_valid: 0.8975\n",
      "epoch: 8, loss_train: 0.2262, accuracy_train: 0.9230, loss_valid: 0.3055, accuracy_valid: 0.9004\n",
      "epoch: 9, loss_train: 0.2234, accuracy_train: 0.9244, loss_valid: 0.3069, accuracy_valid: 0.9012\n",
      "epoch: 10, loss_train: 0.2195, accuracy_train: 0.9250, loss_valid: 0.3056, accuracy_valid: 0.9019\n"
     ]
    }
   ],
   "source": [
    "model = SLPNet(300, 4)\n",
    "\n",
    "criterion = nn.CrossEntropyLoss()\n",
    "optimizer = torch.optim.SGD(model.parameters(), lr=1e-1)\n",
    "\n",
    "log_train = []\n",
    "log_valid = []\n",
    "\n",
    "num_epochs = 10\n",
    "for epoch in range(num_epochs):\n",
    "    model.train()\n",
    "    loss_train = 0\n",
    "\n",
    "    for i, (inputs, labels) in enumerate(train_loader):\n",
    "        optimizer.zero_grad()\n",
    "\n",
    "        outputs = model(inputs)\n",
    "        loss = criterion(outputs, labels)\n",
    "        loss.backward()\n",
    "        optimizer.step()\n",
    "\n",
    "    loss_train, accuracy_train = calculate_loss_and_accuracy(model, criterion, train_loader)\n",
    "    loss_valid, accuracy_valid = calculate_loss_and_accuracy(model, criterion, valid_loader)\n",
    "\n",
    "    log_train.append([loss_train, accuracy_train])\n",
    "    log_valid.append([loss_valid, accuracy_valid])\n",
    "\n",
    "    torch.save({\"epoch\": epoch, \"model_state_dict\":model.state_dict(), \"optimizer_state_dict\":optimizer.state_dict()}, f\"./data/checkpoints/checkpoint{epoch + 1}.pt\")\n",
    "    \n",
    "    print(f'epoch: {epoch + 1}, loss_train: {loss_train:.4f}, accuracy_train: {accuracy_train:.4f}, loss_valid: {loss_valid:.4f}, accuracy_valid: {accuracy_valid:.4f}')  "
   ]
  },
  {
   "attachments": {},
   "cell_type": "markdown",
   "metadata": {},
   "source": [
    "## 77. ミニバッチ化"
   ]
  },
  {
   "cell_type": "code",
   "execution_count": 24,
   "metadata": {},
   "outputs": [],
   "source": [
    "import time\n",
    "\n",
    "def train_model(batch_size, model, num_epochs, criterion, optimizer):\n",
    "    log_train = []\n",
    "    log_valid = []\n",
    "\n",
    "    train_loader = DataLoader(dataset_train, batch_size=batch_size, shuffle=True)\n",
    "    valid_loader = DataLoader(dataset_valid, batch_size=len(dataset_valid), shuffle=False)\n",
    "\n",
    "    for epoch in range(num_epochs):\n",
    "        s_time = time.time()\n",
    "\n",
    "        model.train()\n",
    "        loss_train = 0\n",
    "\n",
    "        for i, (inputs, labels) in enumerate(train_loader):\n",
    "            optimizer.zero_grad()\n",
    "\n",
    "            outputs = model(inputs)\n",
    "            loss = criterion(outputs, labels)\n",
    "            loss.backward()\n",
    "            optimizer.step()\n",
    "\n",
    "        loss_train, accuracy_train = calculate_loss_and_accuracy(model, criterion, train_loader)\n",
    "        loss_valid, accuracy_valid = calculate_loss_and_accuracy(model, criterion, valid_loader)\n",
    "\n",
    "        log_train.append([loss_train, accuracy_train])\n",
    "        log_valid.append([loss_valid, accuracy_valid])\n",
    "\n",
    "        torch.save({\"epoch\": epoch, \"model_state_dict\":model.state_dict(), \"optimizer_state_dict\":optimizer.state_dict()}, f\"./data/checkpoints/checkpoint{epoch + 1}.pt\")\n",
    "\n",
    "        e_time = time.time()\n",
    "\n",
    "        print(f'epoch: {epoch + 1}, loss_train: {loss_train:.4f}, accuracy_train: {accuracy_train:.4f}, loss_valid: {loss_valid:.4f}, accuracy_valid: {accuracy_valid:.4f}, {(e_time - s_time): .4f}sec')  "
   ]
  },
  {
   "cell_type": "code",
   "execution_count": 26,
   "metadata": {},
   "outputs": [
    {
     "name": "stdout",
     "output_type": "stream",
     "text": [
      "batch_size : 1\n",
      "epoch: 1, loss_train: 0.3281, accuracy_train: 0.8884, loss_valid: 0.3604, accuracy_valid: 0.8817,  3.5071sec\n",
      "batch_size : 2\n",
      "epoch: 1, loss_train: 0.2985, accuracy_train: 0.8984, loss_valid: 0.3392, accuracy_valid: 0.8862,  1.9403sec\n",
      "batch_size : 4\n",
      "epoch: 1, loss_train: 0.2885, accuracy_train: 0.8993, loss_valid: 0.3336, accuracy_valid: 0.8832,  1.0302sec\n",
      "batch_size : 8\n",
      "epoch: 1, loss_train: 0.2835, accuracy_train: 0.9014, loss_valid: 0.3304, accuracy_valid: 0.8877,  0.5753sec\n",
      "batch_size : 16\n",
      "epoch: 1, loss_train: 0.2815, accuracy_train: 0.9025, loss_valid: 0.3288, accuracy_valid: 0.8855,  0.3526sec\n",
      "batch_size : 32\n",
      "epoch: 1, loss_train: 0.2805, accuracy_train: 0.9030, loss_valid: 0.3279, accuracy_valid: 0.8862,  0.2442sec\n",
      "batch_size : 64\n",
      "epoch: 1, loss_train: 0.2802, accuracy_train: 0.9035, loss_valid: 0.3276, accuracy_valid: 0.8862,  0.2381sec\n",
      "batch_size : 128\n",
      "epoch: 1, loss_train: 0.2803, accuracy_train: 0.9036, loss_valid: 0.3275, accuracy_valid: 0.8862,  0.6648sec\n",
      "batch_size : 256\n",
      "epoch: 1, loss_train: 0.2799, accuracy_train: 0.9037, loss_valid: 0.3274, accuracy_valid: 0.8862,  0.3694sec\n",
      "batch_size : 512\n",
      "epoch: 1, loss_train: 0.2796, accuracy_train: 0.9036, loss_valid: 0.3273, accuracy_valid: 0.8862,  0.3297sec\n"
     ]
    }
   ],
   "source": [
    "model = SLPNet(300, 4)\n",
    "\n",
    "criterion = nn.CrossEntropyLoss()\n",
    "optimizer = torch.optim.SGD(model.parameters(), lr=1e-1)\n",
    "\n",
    "for batch_size in [2 ** i for i in range(10)]:\n",
    "    print(f\"batch_size : {batch_size}\")\n",
    "    train_model(batch_size, model, 1, criterion, optimizer)"
   ]
  },
  {
   "attachments": {},
   "cell_type": "markdown",
   "metadata": {},
   "source": [
    "## 78. GPU上での学習"
   ]
  },
  {
   "cell_type": "code",
   "execution_count": 27,
   "metadata": {},
   "outputs": [],
   "source": [
    "def calculate_loss_and_accuracy_gpu(model, criterion, loader, device):\n",
    "    model.eval()\n",
    "    loss = 0.0\n",
    "    total = 0\n",
    "    correct = 0\n",
    "    with torch.no_grad():\n",
    "        for inputs, labels in loader:\n",
    "            inputs = inputs.to(device)\n",
    "            labels = labels.to(device)\n",
    "            outputs = model(inputs)\n",
    "            loss += criterion(outputs, labels).item()\n",
    "            pred = torch.argmax(outputs, dim=-1)\n",
    "            total += len(inputs)\n",
    "            correct += (pred == labels).sum().item()\n",
    "    return loss / len(loader), correct / total"
   ]
  },
  {
   "cell_type": "code",
   "execution_count": 28,
   "metadata": {},
   "outputs": [],
   "source": [
    "import time\n",
    "\n",
    "def train_model_gpu(batch_size, model, num_epochs, criterion, optimizer, device):\n",
    "    model.to(device)\n",
    "\n",
    "    log_train = []\n",
    "    log_valid = []\n",
    "\n",
    "    train_loader = DataLoader(dataset_train, batch_size=batch_size, shuffle=True)\n",
    "    valid_loader = DataLoader(dataset_valid, batch_size=len(dataset_valid), shuffle=False)\n",
    "\n",
    "    for epoch in range(num_epochs):\n",
    "        s_time = time.time()\n",
    "\n",
    "        model.train()\n",
    "        loss_train = 0\n",
    "\n",
    "        for i, (inputs, labels) in enumerate(train_loader):\n",
    "            optimizer.zero_grad()\n",
    "\n",
    "            inputs = inputs.to(device)\n",
    "            labels = labels.to(device)\n",
    "\n",
    "            outputs = model(inputs)\n",
    "            loss = criterion(outputs, labels)\n",
    "            loss.backward()\n",
    "            optimizer.step()\n",
    "\n",
    "        loss_train, accuracy_train = calculate_loss_and_accuracy_gpu(model, criterion, train_loader, device)\n",
    "        loss_valid, accuracy_valid = calculate_loss_and_accuracy_gpu(model, criterion, valid_loader, device)\n",
    "\n",
    "        log_train.append([loss_train, accuracy_train])\n",
    "        log_valid.append([loss_valid, accuracy_valid])\n",
    "\n",
    "        torch.save({\"epoch\": epoch, \"model_state_dict\":model.state_dict(), \"optimizer_state_dict\":optimizer.state_dict()}, f\"./data/checkpoints/checkpoint{epoch + 1}.pt\")\n",
    "\n",
    "        e_time = time.time()\n",
    "\n",
    "        print(f'epoch: {epoch + 1}, loss_train: {loss_train:.4f}, accuracy_train: {accuracy_train:.4f}, loss_valid: {loss_valid:.4f}, accuracy_valid: {accuracy_valid:.4f}, {(e_time - s_time): .4f}sec')  "
   ]
  },
  {
   "cell_type": "code",
   "execution_count": 30,
   "metadata": {},
   "outputs": [
    {
     "name": "stdout",
     "output_type": "stream",
     "text": [
      "batch_size : 1\n",
      "epoch: 1, loss_train: 0.3280, accuracy_train: 0.8885, loss_valid: 0.3678, accuracy_valid: 0.8750,  18.0530sec\n",
      "batch_size : 2\n",
      "epoch: 1, loss_train: 0.2981, accuracy_train: 0.8970, loss_valid: 0.3468, accuracy_valid: 0.8810,  8.9668sec\n",
      "batch_size : 4\n",
      "epoch: 1, loss_train: 0.2903, accuracy_train: 0.8990, loss_valid: 0.3418, accuracy_valid: 0.8802,  4.5577sec\n",
      "batch_size : 8\n",
      "epoch: 1, loss_train: 0.2853, accuracy_train: 0.9014, loss_valid: 0.3377, accuracy_valid: 0.8832,  2.4085sec\n",
      "batch_size : 16\n",
      "epoch: 1, loss_train: 0.2831, accuracy_train: 0.9015, loss_valid: 0.3355, accuracy_valid: 0.8840,  1.2015sec\n",
      "batch_size : 32\n",
      "epoch: 1, loss_train: 0.2822, accuracy_train: 0.9016, loss_valid: 0.3349, accuracy_valid: 0.8840,  0.6535sec\n",
      "batch_size : 64\n",
      "epoch: 1, loss_train: 0.2819, accuracy_train: 0.9016, loss_valid: 0.3346, accuracy_valid: 0.8840,  0.3534sec\n",
      "batch_size : 128\n",
      "epoch: 1, loss_train: 0.2826, accuracy_train: 0.9015, loss_valid: 0.3345, accuracy_valid: 0.8840,  0.2249sec\n",
      "batch_size : 256\n",
      "epoch: 1, loss_train: 0.2809, accuracy_train: 0.9016, loss_valid: 0.3344, accuracy_valid: 0.8840,  0.1709sec\n",
      "batch_size : 512\n",
      "epoch: 1, loss_train: 0.2820, accuracy_train: 0.9015, loss_valid: 0.3343, accuracy_valid: 0.8840,  0.1864sec\n"
     ]
    }
   ],
   "source": [
    "model = SLPNet(300, 4)\n",
    "\n",
    "criterion = nn.CrossEntropyLoss()\n",
    "optimizer = torch.optim.SGD(model.parameters(), lr=1e-1)\n",
    "\n",
    "device = \"cuda\" if torch.cuda.is_available() else \"cpu\"\n",
    "\n",
    "for batch_size in [2 ** i for i in range(10)]:\n",
    "    print(f\"batch_size : {batch_size}\")\n",
    "    train_model_gpu(batch_size, model, 1, criterion, optimizer, device)"
   ]
  },
  {
   "attachments": {},
   "cell_type": "markdown",
   "metadata": {},
   "source": [
    "## 79. 多層ニューラルネットワーク"
   ]
  },
  {
   "cell_type": "code",
   "execution_count": 76,
   "metadata": {},
   "outputs": [],
   "source": [
    "from torch.nn import functional as F\n",
    "\n",
    "class MLPNet(nn.Module):\n",
    "    def __init__(self, input_size, mid_size, output_size, mid_layers) -> None:\n",
    "        super().__init__()\n",
    "\n",
    "        self.mid_layers = mid_layers\n",
    "        self.fc_first = nn.Linear(input_size, mid_size)\n",
    "        self.fc_mid = nn.Linear(mid_size, mid_size)\n",
    "        self.fc_out = nn.Linear(mid_size, output_size)\n",
    "        self.bn = nn.BatchNorm1d(mid_size)\n",
    "    \n",
    "    def forward(self, x):\n",
    "        t_vec = F.relu(self.fc_first(x))\n",
    "        for _ in range(self.mid_layers):\n",
    "            t_vec = F.relu(self.bn(self.fc_mid(t_vec)))\n",
    "        t_vec = F.relu(self.fc_out(t_vec))\n",
    "\n",
    "        return t_vec\n"
   ]
  },
  {
   "cell_type": "code",
   "execution_count": 101,
   "metadata": {},
   "outputs": [],
   "source": [
    "import time\n",
    "\n",
    "def train_model_gpu_kai(batch_size, model, num_epochs, criterion, optimizer, device, start_save_model, tolerance):\n",
    "    model.to(device)\n",
    "\n",
    "    log_train = []\n",
    "    log_valid = []\n",
    "\n",
    "    train_loader = DataLoader(dataset_train, batch_size=batch_size, shuffle=True)\n",
    "    valid_loader = DataLoader(dataset_valid, batch_size=len(dataset_valid), shuffle=False)\n",
    "\n",
    "    #scheculer = torch.optim.lr_scheduler.CosineAnnealingLR(optimizer, num_epochs, eta_min=1e-5, last_epoch=-1)\n",
    "\n",
    "    best_valid_loss = 100\n",
    "    tolerance_count = 0\n",
    "\n",
    "    for epoch in range(num_epochs):\n",
    "        s_time = time.time()\n",
    "\n",
    "        model.train()\n",
    "        loss_train = 0\n",
    "\n",
    "        for i, (inputs, labels) in enumerate(train_loader):\n",
    "            optimizer.zero_grad()\n",
    "\n",
    "            inputs = inputs.to(device)\n",
    "            labels = labels.to(device)\n",
    "\n",
    "            outputs = model(inputs)\n",
    "            loss = criterion(outputs, labels)\n",
    "            loss.backward()\n",
    "            optimizer.step()\n",
    "\n",
    "        loss_train, accuracy_train = calculate_loss_and_accuracy_gpu(model, criterion, train_loader, device)\n",
    "        loss_valid, accuracy_valid = calculate_loss_and_accuracy_gpu(model, criterion, valid_loader, device)\n",
    "\n",
    "        log_train.append([loss_train, accuracy_train])\n",
    "        log_valid.append([loss_valid, accuracy_valid])\n",
    "\n",
    "        if loss_valid < best_valid_loss:\n",
    "            best_valid_loss = loss_valid\n",
    "            tolerance_count = 0\n",
    "            if epoch > start_save_model:\n",
    "                torch.save({\"epoch\": epoch, \"model_state_dict\":model.state_dict(), \"optimizer_state_dict\":optimizer.state_dict()}, f\"./data/checkpoints/79_best.pt\")\n",
    "        else:\n",
    "            tolerance_count += 1\n",
    "\n",
    "        e_time = time.time()\n",
    "\n",
    "        print(f'epoch: {epoch + 1}, loss_train: {loss_train:.4f}, accuracy_train: {accuracy_train:.4f}, loss_valid: {loss_valid:.4f}, accuracy_valid: {accuracy_valid:.4f}, 許容値：{tolerance_count}/{tolerance}, {(e_time - s_time): .4f}sec')\n",
    "\n",
    "        if tolerance_count > tolerance:\n",
    "            break\n",
    "\n",
    "        #scheculer.step()\n",
    "\n",
    "    return {'train': log_train, 'valid': log_valid}"
   ]
  },
  {
   "cell_type": "code",
   "execution_count": 104,
   "metadata": {},
   "outputs": [
    {
     "name": "stdout",
     "output_type": "stream",
     "text": [
      "epoch: 1, loss_train: 0.8605, accuracy_train: 0.7568, loss_valid: 0.8596, accuracy_valid: 0.7635, 許容値：0/20,  0.5524sec\n",
      "epoch: 2, loss_train: 0.7042, accuracy_train: 0.7735, loss_valid: 0.7085, accuracy_valid: 0.7769, 許容値：0/20,  0.5222sec\n",
      "epoch: 3, loss_train: 0.6441, accuracy_train: 0.7775, loss_valid: 0.6520, accuracy_valid: 0.7792, 許容値：0/20,  0.5258sec\n",
      "epoch: 4, loss_train: 0.6030, accuracy_train: 0.7817, loss_valid: 0.6145, accuracy_valid: 0.7837, 許容値：0/20,  0.5193sec\n",
      "epoch: 5, loss_train: 0.5672, accuracy_train: 0.7890, loss_valid: 0.5822, accuracy_valid: 0.7882, 許容値：0/20,  0.5128sec\n",
      "epoch: 6, loss_train: 0.5382, accuracy_train: 0.7978, loss_valid: 0.5563, accuracy_valid: 0.7972, 許容値：0/20,  0.5786sec\n",
      "epoch: 7, loss_train: 0.5166, accuracy_train: 0.8128, loss_valid: 0.5377, accuracy_valid: 0.8024, 許容値：0/20,  0.5247sec\n",
      "epoch: 8, loss_train: 0.4957, accuracy_train: 0.8207, loss_valid: 0.5175, accuracy_valid: 0.8151, 許容値：0/20,  0.5083sec\n",
      "epoch: 9, loss_train: 0.4787, accuracy_train: 0.8280, loss_valid: 0.5039, accuracy_valid: 0.8174, 許容値：0/20,  0.5207sec\n",
      "epoch: 10, loss_train: 0.4637, accuracy_train: 0.8339, loss_valid: 0.4912, accuracy_valid: 0.8271, 許容値：0/20,  0.5378sec\n",
      "epoch: 11, loss_train: 0.4506, accuracy_train: 0.8384, loss_valid: 0.4799, accuracy_valid: 0.8293, 許容値：0/20,  0.5284sec\n",
      "epoch: 12, loss_train: 0.4409, accuracy_train: 0.8431, loss_valid: 0.4728, accuracy_valid: 0.8278, 許容値：0/20,  0.5304sec\n",
      "epoch: 13, loss_train: 0.4286, accuracy_train: 0.8437, loss_valid: 0.4622, accuracy_valid: 0.8346, 許容値：0/20,  0.5149sec\n",
      "epoch: 14, loss_train: 0.4199, accuracy_train: 0.8463, loss_valid: 0.4549, accuracy_valid: 0.8391, 許容値：0/20,  0.5224sec\n",
      "epoch: 15, loss_train: 0.4116, accuracy_train: 0.8489, loss_valid: 0.4478, accuracy_valid: 0.8398, 許容値：0/20,  0.5152sec\n",
      "epoch: 16, loss_train: 0.4055, accuracy_train: 0.8537, loss_valid: 0.4443, accuracy_valid: 0.8391, 許容値：0/20,  0.5167sec\n",
      "epoch: 17, loss_train: 0.3967, accuracy_train: 0.8543, loss_valid: 0.4366, accuracy_valid: 0.8443, 許容値：0/20,  0.4898sec\n",
      "epoch: 18, loss_train: 0.3898, accuracy_train: 0.8561, loss_valid: 0.4321, accuracy_valid: 0.8466, 許容値：0/20,  0.5357sec\n",
      "epoch: 19, loss_train: 0.3831, accuracy_train: 0.8584, loss_valid: 0.4279, accuracy_valid: 0.8443, 許容値：0/20,  0.6591sec\n",
      "epoch: 20, loss_train: 0.3775, accuracy_train: 0.8610, loss_valid: 0.4233, accuracy_valid: 0.8443, 許容値：0/20,  0.5296sec\n",
      "epoch: 21, loss_train: 0.3735, accuracy_train: 0.8638, loss_valid: 0.4202, accuracy_valid: 0.8466, 許容値：0/20,  0.5155sec\n",
      "epoch: 22, loss_train: 0.3669, accuracy_train: 0.8677, loss_valid: 0.4171, accuracy_valid: 0.8458, 許容値：0/20,  0.5245sec\n",
      "epoch: 23, loss_train: 0.3587, accuracy_train: 0.8770, loss_valid: 0.4104, accuracy_valid: 0.8570, 許容値：0/20,  0.5291sec\n",
      "epoch: 24, loss_train: 0.3464, accuracy_train: 0.8863, loss_valid: 0.3989, accuracy_valid: 0.8660, 許容値：0/20,  0.5212sec\n",
      "epoch: 25, loss_train: 0.3329, accuracy_train: 0.8962, loss_valid: 0.3875, accuracy_valid: 0.8713, 許容値：0/20,  0.5194sec\n",
      "epoch: 26, loss_train: 0.3198, accuracy_train: 0.9013, loss_valid: 0.3758, accuracy_valid: 0.8780, 許容値：0/20,  0.5169sec\n",
      "epoch: 27, loss_train: 0.3103, accuracy_train: 0.9040, loss_valid: 0.3667, accuracy_valid: 0.8810, 許容値：0/20,  0.5208sec\n",
      "epoch: 28, loss_train: 0.3008, accuracy_train: 0.9058, loss_valid: 0.3594, accuracy_valid: 0.8817, 許容値：0/20,  0.5203sec\n",
      "epoch: 29, loss_train: 0.2947, accuracy_train: 0.9085, loss_valid: 0.3545, accuracy_valid: 0.8840, 許容値：0/20,  0.5220sec\n",
      "epoch: 30, loss_train: 0.2877, accuracy_train: 0.9092, loss_valid: 0.3502, accuracy_valid: 0.8840, 許容値：0/20,  0.5267sec\n",
      "epoch: 31, loss_train: 0.2855, accuracy_train: 0.9092, loss_valid: 0.3470, accuracy_valid: 0.8840, 許容値：0/20,  0.5239sec\n",
      "epoch: 32, loss_train: 0.2780, accuracy_train: 0.9117, loss_valid: 0.3424, accuracy_valid: 0.8862, 許容値：0/20,  0.5108sec\n",
      "epoch: 33, loss_train: 0.2742, accuracy_train: 0.9128, loss_valid: 0.3395, accuracy_valid: 0.8870, 許容値：0/20,  0.5283sec\n",
      "epoch: 34, loss_train: 0.2703, accuracy_train: 0.9134, loss_valid: 0.3367, accuracy_valid: 0.8885, 許容値：0/20,  0.5217sec\n",
      "epoch: 35, loss_train: 0.2664, accuracy_train: 0.9144, loss_valid: 0.3342, accuracy_valid: 0.8900, 許容値：0/20,  0.5303sec\n",
      "epoch: 36, loss_train: 0.2635, accuracy_train: 0.9151, loss_valid: 0.3332, accuracy_valid: 0.8922, 許容値：0/20,  0.5145sec\n",
      "epoch: 37, loss_train: 0.2597, accuracy_train: 0.9154, loss_valid: 0.3313, accuracy_valid: 0.8907, 許容値：0/20,  0.5859sec\n",
      "epoch: 38, loss_train: 0.2557, accuracy_train: 0.9168, loss_valid: 0.3284, accuracy_valid: 0.8930, 許容値：0/20,  0.6388sec\n",
      "epoch: 39, loss_train: 0.2537, accuracy_train: 0.9173, loss_valid: 0.3283, accuracy_valid: 0.8922, 許容値：0/20,  0.5276sec\n",
      "epoch: 40, loss_train: 0.2497, accuracy_train: 0.9177, loss_valid: 0.3250, accuracy_valid: 0.8877, 許容値：0/20,  0.5215sec\n",
      "epoch: 41, loss_train: 0.2483, accuracy_train: 0.9195, loss_valid: 0.3242, accuracy_valid: 0.8892, 許容値：0/20,  0.5205sec\n",
      "epoch: 42, loss_train: 0.2454, accuracy_train: 0.9203, loss_valid: 0.3224, accuracy_valid: 0.8907, 許容値：0/20,  0.5263sec\n",
      "epoch: 43, loss_train: 0.2423, accuracy_train: 0.9207, loss_valid: 0.3203, accuracy_valid: 0.8922, 許容値：0/20,  0.5225sec\n",
      "epoch: 44, loss_train: 0.2413, accuracy_train: 0.9217, loss_valid: 0.3211, accuracy_valid: 0.8915, 許容値：1/20,  0.5213sec\n",
      "epoch: 45, loss_train: 0.2387, accuracy_train: 0.9209, loss_valid: 0.3194, accuracy_valid: 0.8952, 許容値：0/20,  0.5195sec\n",
      "epoch: 46, loss_train: 0.2359, accuracy_train: 0.9233, loss_valid: 0.3175, accuracy_valid: 0.8915, 許容値：0/20,  0.5000sec\n",
      "epoch: 47, loss_train: 0.2344, accuracy_train: 0.9241, loss_valid: 0.3167, accuracy_valid: 0.8922, 許容値：0/20,  0.5326sec\n",
      "epoch: 48, loss_train: 0.2318, accuracy_train: 0.9244, loss_valid: 0.3158, accuracy_valid: 0.8930, 許容値：0/20,  0.5202sec\n",
      "epoch: 49, loss_train: 0.2319, accuracy_train: 0.9256, loss_valid: 0.3177, accuracy_valid: 0.8960, 許容値：1/20,  0.5107sec\n",
      "epoch: 50, loss_train: 0.2279, accuracy_train: 0.9262, loss_valid: 0.3141, accuracy_valid: 0.8930, 許容値：0/20,  0.5162sec\n",
      "epoch: 51, loss_train: 0.2258, accuracy_train: 0.9267, loss_valid: 0.3133, accuracy_valid: 0.8952, 許容値：0/20,  0.5405sec\n",
      "epoch: 52, loss_train: 0.2242, accuracy_train: 0.9276, loss_valid: 0.3124, accuracy_valid: 0.8945, 許容値：0/20,  0.5352sec\n",
      "epoch: 53, loss_train: 0.2224, accuracy_train: 0.9283, loss_valid: 0.3117, accuracy_valid: 0.8952, 許容値：0/20,  0.5310sec\n",
      "epoch: 54, loss_train: 0.2200, accuracy_train: 0.9286, loss_valid: 0.3118, accuracy_valid: 0.8990, 許容値：1/20,  0.6371sec\n",
      "epoch: 55, loss_train: 0.2184, accuracy_train: 0.9297, loss_valid: 0.3105, accuracy_valid: 0.8952, 許容値：0/20,  0.5464sec\n",
      "epoch: 56, loss_train: 0.2164, accuracy_train: 0.9303, loss_valid: 0.3094, accuracy_valid: 0.8967, 許容値：0/20,  0.5432sec\n",
      "epoch: 57, loss_train: 0.2154, accuracy_train: 0.9306, loss_valid: 0.3091, accuracy_valid: 0.8952, 許容値：0/20,  0.5668sec\n",
      "epoch: 58, loss_train: 0.2122, accuracy_train: 0.9314, loss_valid: 0.3083, accuracy_valid: 0.8975, 許容値：0/20,  0.5332sec\n",
      "epoch: 59, loss_train: 0.2117, accuracy_train: 0.9319, loss_valid: 0.3077, accuracy_valid: 0.8967, 許容値：0/20,  0.5267sec\n",
      "epoch: 60, loss_train: 0.2102, accuracy_train: 0.9326, loss_valid: 0.3070, accuracy_valid: 0.8975, 許容値：0/20,  0.5285sec\n",
      "epoch: 61, loss_train: 0.2087, accuracy_train: 0.9322, loss_valid: 0.3074, accuracy_valid: 0.8990, 許容値：1/20,  0.5154sec\n",
      "epoch: 62, loss_train: 0.2067, accuracy_train: 0.9332, loss_valid: 0.3059, accuracy_valid: 0.8967, 許容値：0/20,  0.5252sec\n",
      "epoch: 63, loss_train: 0.2048, accuracy_train: 0.9333, loss_valid: 0.3067, accuracy_valid: 0.8975, 許容値：1/20,  0.5064sec\n",
      "epoch: 64, loss_train: 0.2041, accuracy_train: 0.9325, loss_valid: 0.3060, accuracy_valid: 0.8997, 許容値：2/20,  0.5224sec\n",
      "epoch: 65, loss_train: 0.2035, accuracy_train: 0.9338, loss_valid: 0.3055, accuracy_valid: 0.8982, 許容値：0/20,  0.5151sec\n",
      "epoch: 66, loss_train: 0.2016, accuracy_train: 0.9352, loss_valid: 0.3058, accuracy_valid: 0.8982, 許容値：1/20,  0.5094sec\n",
      "epoch: 67, loss_train: 0.2026, accuracy_train: 0.9319, loss_valid: 0.3093, accuracy_valid: 0.8982, 許容値：2/20,  0.5104sec\n",
      "epoch: 68, loss_train: 0.1981, accuracy_train: 0.9357, loss_valid: 0.3041, accuracy_valid: 0.9004, 許容値：0/20,  0.5660sec\n",
      "epoch: 69, loss_train: 0.1974, accuracy_train: 0.9356, loss_valid: 0.3034, accuracy_valid: 0.8982, 許容値：0/20,  0.5281sec\n",
      "epoch: 70, loss_train: 0.1960, accuracy_train: 0.9360, loss_valid: 0.3039, accuracy_valid: 0.9004, 許容値：1/20,  0.5095sec\n",
      "epoch: 71, loss_train: 0.1931, accuracy_train: 0.9366, loss_valid: 0.3035, accuracy_valid: 0.9019, 許容値：2/20,  0.5123sec\n",
      "epoch: 72, loss_train: 0.1923, accuracy_train: 0.9375, loss_valid: 0.3026, accuracy_valid: 0.9019, 許容値：0/20,  0.5131sec\n",
      "epoch: 73, loss_train: 0.1923, accuracy_train: 0.9377, loss_valid: 0.3036, accuracy_valid: 0.8990, 許容値：1/20,  0.6872sec\n",
      "epoch: 74, loss_train: 0.1903, accuracy_train: 0.9381, loss_valid: 0.3022, accuracy_valid: 0.8990, 許容値：0/20,  0.5219sec\n",
      "epoch: 75, loss_train: 0.1879, accuracy_train: 0.9385, loss_valid: 0.3021, accuracy_valid: 0.9019, 許容値：0/20,  0.6803sec\n",
      "epoch: 76, loss_train: 0.1878, accuracy_train: 0.9399, loss_valid: 0.3013, accuracy_valid: 0.8997, 許容値：0/20,  0.5265sec\n",
      "epoch: 77, loss_train: 0.1855, accuracy_train: 0.9396, loss_valid: 0.3011, accuracy_valid: 0.9027, 許容値：0/20,  0.5272sec\n",
      "epoch: 78, loss_train: 0.1849, accuracy_train: 0.9395, loss_valid: 0.3017, accuracy_valid: 0.9019, 許容値：1/20,  0.5178sec\n",
      "epoch: 79, loss_train: 0.1844, accuracy_train: 0.9395, loss_valid: 0.3026, accuracy_valid: 0.9012, 許容値：2/20,  0.5175sec\n",
      "epoch: 80, loss_train: 0.1824, accuracy_train: 0.9409, loss_valid: 0.3008, accuracy_valid: 0.9034, 許容値：0/20,  0.5109sec\n",
      "epoch: 81, loss_train: 0.1815, accuracy_train: 0.9417, loss_valid: 0.3006, accuracy_valid: 0.9034, 許容値：0/20,  0.5336sec\n",
      "epoch: 82, loss_train: 0.1802, accuracy_train: 0.9424, loss_valid: 0.2997, accuracy_valid: 0.9034, 許容値：0/20,  0.5247sec\n",
      "epoch: 83, loss_train: 0.1794, accuracy_train: 0.9419, loss_valid: 0.3004, accuracy_valid: 0.9057, 許容値：1/20,  0.5085sec\n",
      "epoch: 84, loss_train: 0.1781, accuracy_train: 0.9433, loss_valid: 0.3001, accuracy_valid: 0.9042, 許容値：2/20,  0.5160sec\n",
      "epoch: 85, loss_train: 0.1766, accuracy_train: 0.9438, loss_valid: 0.3012, accuracy_valid: 0.9019, 許容値：3/20,  0.5233sec\n",
      "epoch: 86, loss_train: 0.1751, accuracy_train: 0.9441, loss_valid: 0.2996, accuracy_valid: 0.9004, 許容値：0/20,  0.5228sec\n",
      "epoch: 87, loss_train: 0.1741, accuracy_train: 0.9444, loss_valid: 0.3002, accuracy_valid: 0.9012, 許容値：1/20,  0.5201sec\n",
      "epoch: 88, loss_train: 0.1727, accuracy_train: 0.9452, loss_valid: 0.2990, accuracy_valid: 0.9049, 許容値：0/20,  0.5137sec\n",
      "epoch: 89, loss_train: 0.1719, accuracy_train: 0.9459, loss_valid: 0.2985, accuracy_valid: 0.9027, 許容値：0/20,  0.5460sec\n",
      "epoch: 90, loss_train: 0.1703, accuracy_train: 0.9457, loss_valid: 0.2994, accuracy_valid: 0.9012, 許容値：1/20,  0.5342sec\n",
      "epoch: 91, loss_train: 0.1695, accuracy_train: 0.9466, loss_valid: 0.3001, accuracy_valid: 0.9027, 許容値：2/20,  0.5276sec\n",
      "epoch: 92, loss_train: 0.1684, accuracy_train: 0.9467, loss_valid: 0.2978, accuracy_valid: 0.9049, 許容値：0/20,  0.6822sec\n",
      "epoch: 93, loss_train: 0.1675, accuracy_train: 0.9464, loss_valid: 0.2989, accuracy_valid: 0.9049, 許容値：1/20,  0.5240sec\n",
      "epoch: 94, loss_train: 0.1661, accuracy_train: 0.9475, loss_valid: 0.2989, accuracy_valid: 0.9049, 許容値：2/20,  0.5869sec\n",
      "epoch: 95, loss_train: 0.1646, accuracy_train: 0.9484, loss_valid: 0.2983, accuracy_valid: 0.9049, 許容値：3/20,  0.5130sec\n",
      "epoch: 96, loss_train: 0.1631, accuracy_train: 0.9480, loss_valid: 0.3001, accuracy_valid: 0.9034, 許容値：4/20,  0.5065sec\n",
      "epoch: 97, loss_train: 0.1638, accuracy_train: 0.9489, loss_valid: 0.2974, accuracy_valid: 0.9027, 許容値：0/20,  0.5131sec\n",
      "epoch: 98, loss_train: 0.1615, accuracy_train: 0.9486, loss_valid: 0.2980, accuracy_valid: 0.9027, 許容値：1/20,  0.5139sec\n",
      "epoch: 99, loss_train: 0.1604, accuracy_train: 0.9497, loss_valid: 0.2982, accuracy_valid: 0.9027, 許容値：2/20,  0.5686sec\n",
      "epoch: 100, loss_train: 0.1598, accuracy_train: 0.9496, loss_valid: 0.2989, accuracy_valid: 0.9027, 許容値：3/20,  0.5161sec\n"
     ]
    }
   ],
   "source": [
    "model = MLPNet(300, 200, 4, 1)\n",
    "\n",
    "criterion = nn.CrossEntropyLoss()\n",
    "optimizer = torch.optim.SGD(model.parameters(), lr=1e-3)\n",
    "\n",
    "log = train_model_gpu_kai(64, model, 100, criterion, optimizer, device, 1, 20)"
   ]
  },
  {
   "cell_type": "code",
   "execution_count": 92,
   "metadata": {},
   "outputs": [],
   "source": [
    "def calculate_accuracy_gpu(model, loader, device):\n",
    "    model.eval()\n",
    "    total = 0\n",
    "    correct = 0\n",
    "    with torch.no_grad():\n",
    "        for inputs, labels in loader:\n",
    "            inputs = inputs.to(device)\n",
    "            labels = labels.to(device)\n",
    "\n",
    "            outputs = model(inputs)\n",
    "            pred = torch.argmax(outputs, dim=-1)\n",
    "            total += len(inputs)\n",
    "            correct += (pred == labels).sum().item()\n",
    "    return correct / total"
   ]
  },
  {
   "cell_type": "code",
   "execution_count": 105,
   "metadata": {},
   "outputs": [
    {
     "name": "stdout",
     "output_type": "stream",
     "text": [
      "正解率（学習データ）：0.950\n",
      "正解率（評価データ）：0.901\n"
     ]
    }
   ],
   "source": [
    "acc_train = calculate_accuracy_gpu(model, train_loader, device)\n",
    "acc_test = calculate_accuracy_gpu(model, test_loader, device)\n",
    "print(f'正解率（学習データ）：{acc_train:.3f}')\n",
    "print(f'正解率（評価データ）：{acc_test:.3f}')"
   ]
  },
  {
   "cell_type": "code",
   "execution_count": 106,
   "metadata": {},
   "outputs": [
    {
     "name": "stdout",
     "output_type": "stream",
     "text": [
      "正解率（学習データ）：0.949\n",
      "正解率（評価データ）：0.903\n"
     ]
    }
   ],
   "source": [
    "model.load_state_dict(torch.load(\"./data/checkpoints/79_best.pt\")[\"model_state_dict\"])\n",
    "\n",
    "acc_train = calculate_accuracy_gpu(model, train_loader, device)\n",
    "acc_test = calculate_accuracy_gpu(model, test_loader, device)\n",
    "print(f'正解率（学習データ）：{acc_train:.3f}')\n",
    "print(f'正解率（評価データ）：{acc_test:.3f}')"
   ]
  }
 ],
 "metadata": {
  "kernelspec": {
   "display_name": "Python 3",
   "language": "python",
   "name": "python3"
  },
  "language_info": {
   "codemirror_mode": {
    "name": "ipython",
    "version": 3
   },
   "file_extension": ".py",
   "mimetype": "text/x-python",
   "name": "python",
   "nbconvert_exporter": "python",
   "pygments_lexer": "ipython3",
   "version": "3.6.9"
  },
  "orig_nbformat": 4
 },
 "nbformat": 4,
 "nbformat_minor": 2
}
