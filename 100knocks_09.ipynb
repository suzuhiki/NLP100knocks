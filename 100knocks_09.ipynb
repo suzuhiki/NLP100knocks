{
 "cells": [
  {
   "attachments": {},
   "cell_type": "markdown",
   "metadata": {},
   "source": [
    "## 80. id番号への変更"
   ]
  },
  {
   "cell_type": "code",
   "execution_count": 2,
   "metadata": {},
   "outputs": [
    {
     "name": "stdout",
     "output_type": "stream",
     "text": [
      "【学習データ】\n",
      "b    4501\n",
      "e    4235\n",
      "t    1220\n",
      "m     728\n",
      "Name: CATEGORY, dtype: int64\n",
      "【検証データ】\n",
      "b    563\n",
      "e    529\n",
      "t    153\n",
      "m     91\n",
      "Name: CATEGORY, dtype: int64\n",
      "【評価データ】\n",
      "b    563\n",
      "e    530\n",
      "t    152\n",
      "m     91\n",
      "Name: CATEGORY, dtype: int64\n"
     ]
    }
   ],
   "source": [
    "import pandas as pd\n",
    "\n",
    "DATA_PATH = \"./data/news_aggregator_dataset/\"\n",
    "\n",
    "train_df = pd.read_csv(DATA_PATH + \"train.txt\", delimiter=\"\\t\")\n",
    "valid_df = pd.read_csv(DATA_PATH + \"valid.txt\", delimiter=\"\\t\")\n",
    "test_df = pd.read_csv(DATA_PATH + \"test.txt\", delimiter=\"\\t\")\n",
    "\n",
    "print('【学習データ】')\n",
    "print(train_df['CATEGORY'].value_counts())\n",
    "print('【検証データ】')\n",
    "print(valid_df['CATEGORY'].value_counts())\n",
    "print('【評価データ】')\n",
    "print(test_df['CATEGORY'].value_counts())"
   ]
  },
  {
   "cell_type": "code",
   "execution_count": 4,
   "metadata": {},
   "outputs": [
    {
     "name": "stdout",
     "output_type": "stream",
     "text": [
      "ID数: 9393\n",
      "\n",
      "頻度上位20語\n",
      "to: 1\n",
      "s: 2\n",
      "in: 3\n",
      "UPDATE: 4\n",
      "on: 5\n",
      "as: 6\n",
      "US: 7\n",
      "for: 8\n",
      "of: 9\n",
      "The: 10\n",
      "1: 11\n",
      "To: 12\n",
      "2: 13\n",
      "the: 14\n",
      "and: 15\n",
      "In: 16\n",
      "Of: 17\n",
      "at: 18\n",
      "a: 19\n",
      "A: 20\n"
     ]
    }
   ],
   "source": [
    "from collections import defaultdict\n",
    "import string\n",
    "\n",
    "\n",
    "d = defaultdict(int)\n",
    "table = str.maketrans(string.punctuation, ' '*len(string.punctuation))\n",
    "for text in train_df['TITLE']:\n",
    "    for word in text.translate(table).split():\n",
    "        d[word] += 1\n",
    "d = sorted(d.items(), key=lambda x:x[1], reverse=True)\n",
    "\n",
    "word2id_dict = {word: i + 1 for i, (word, cnt) in enumerate(d) if cnt > 1}  # 出現頻度が2回以上の単語を登録\n",
    "\n",
    "print(f'ID数: {len(set(word2id_dict.values()))}\\n')\n",
    "print('頻度上位20語')\n",
    "for key in list(word2id_dict)[:20]:\n",
    "    print(f'{key}: {word2id_dict[key]}')"
   ]
  },
  {
   "cell_type": "code",
   "execution_count": 5,
   "metadata": {},
   "outputs": [],
   "source": [
    "def tokenizer(text, word2id=word2id_dict, unk=0):\n",
    "    table = str.maketrans(string.punctuation, ' '*len(string.punctuation))\n",
    "    return [word2id.get(word, unk) for word in text.translate(table).split()]"
   ]
  },
  {
   "cell_type": "code",
   "execution_count": 6,
   "metadata": {},
   "outputs": [
    {
     "name": "stdout",
     "output_type": "stream",
     "text": [
      "テキスト: Andrew Garfield wants Black-HispanicSpiderman\n",
      "ID列: [504, 520, 638, 541, 0]\n"
     ]
    }
   ],
   "source": [
    "text = train_df.iloc[1, train_df.columns.get_loc('TITLE')]\n",
    "print(f'テキスト: {text}')\n",
    "print(f'ID列: {tokenizer(text)}')"
   ]
  },
  {
   "attachments": {},
   "cell_type": "markdown",
   "metadata": {},
   "source": [
    "## 81. RNNによる予測"
   ]
  },
  {
   "cell_type": "code",
   "execution_count": 7,
   "metadata": {},
   "outputs": [
    {
     "name": "stderr",
     "output_type": "stream",
     "text": [
      "/home/morioka/.local/lib/python3.6/site-packages/tqdm/auto.py:22: TqdmWarning: IProgress not found. Please update jupyter and ipywidgets. See https://ipywidgets.readthedocs.io/en/stable/user_install.html\n",
      "  from .autonotebook import tqdm as notebook_tqdm\n"
     ]
    }
   ],
   "source": [
    "import torch\n",
    "from torch import nn\n",
    "\n",
    "class RNN(nn.Module):\n",
    "    def __init__(self, vocab_size, emb_size, padding_idx, output_size, hidden_size):\n",
    "        super().__init__()\n",
    "        self.hidden_size = hidden_size\n",
    "        self.emb = nn.Embedding(vocab_size, emb_size, padding_idx=padding_idx)\n",
    "        self.rnn = nn.RNN(emb_size, hidden_size, nonlinearity='tanh', batch_first=True)\n",
    "        self.fc = nn.Linear(hidden_size, output_size)\n",
    "    \n",
    "    def forward(self, x):\n",
    "        self.batch_size = x.size()[0]\n",
    "        hidden = self.init_hidden(x.device)\n",
    "        emb = self.emb(x)\n",
    "        out, hidden = self.rnn(emb, hidden)\n",
    "        out = self.fc(out[:, -1, :])\n",
    "        return out\n",
    "    \n",
    "    def init_hidden(self, device):\n",
    "        hidden = torch.zeros(1, self.batch_size, self.hidden_size, device=device)\n",
    "        return hidden"
   ]
  },
  {
   "cell_type": "code",
   "execution_count": 9,
   "metadata": {},
   "outputs": [],
   "source": [
    "from torch.utils.data import Dataset\n",
    "\n",
    "class MyDataset(Dataset):\n",
    "    def __init__(self, X, y, tokenizer):\n",
    "        self.X = X\n",
    "        self.y = y\n",
    "        self.tokenizer = tokenizer\n",
    "\n",
    "    def __len__(self): \n",
    "        return len(self.y)\n",
    "\n",
    "    def __getitem__(self, index):\n",
    "        text = self.X[index]\n",
    "        inputs = self.tokenizer(text)\n",
    "\n",
    "        return {\n",
    "            'inputs': torch.tensor(inputs, dtype=torch.int64),\n",
    "            'labels': torch.tensor(self.y[index], dtype=torch.int64)\n",
    "        }"
   ]
  },
  {
   "cell_type": "code",
   "execution_count": 10,
   "metadata": {},
   "outputs": [
    {
     "name": "stdout",
     "output_type": "stream",
     "text": [
      "datasetの長さ: 10684\n",
      "dataset[index]:\n",
      "  inputs: tensor([504, 520, 638, 541,   0])\n",
      "  labels: 2\n"
     ]
    }
   ],
   "source": [
    "# ラベルベクトルの作成\n",
    "category_dict = {'b': 0, 't': 1, 'e':2, 'm':3}\n",
    "y_train = train_df['CATEGORY'].map(lambda x: category_dict[x]).values\n",
    "y_valid = valid_df['CATEGORY'].map(lambda x: category_dict[x]).values\n",
    "y_test = test_df['CATEGORY'].map(lambda x: category_dict[x]).values\n",
    "\n",
    "# Datasetの作成\n",
    "dataset_train = MyDataset(train_df['TITLE'], y_train, tokenizer)\n",
    "dataset_valid = MyDataset(valid_df['TITLE'], y_valid, tokenizer)\n",
    "dataset_test = MyDataset(test_df['TITLE'], y_test, tokenizer)\n",
    "\n",
    "print(f'datasetの長さ: {len(dataset_train)}')\n",
    "print('dataset[index]:')\n",
    "for var in dataset_train[1]:\n",
    "    print(f'  {var}: {dataset_train[1][var]}')"
   ]
  },
  {
   "cell_type": "code",
   "execution_count": 11,
   "metadata": {},
   "outputs": [
    {
     "name": "stdout",
     "output_type": "stream",
     "text": [
      "tensor([[0.2251, 0.3419, 0.2021, 0.2310]], grad_fn=<SoftmaxBackward0>)\n",
      "tensor([[0.3636, 0.2595, 0.1374, 0.2395]], grad_fn=<SoftmaxBackward0>)\n",
      "tensor([[0.1809, 0.2870, 0.2201, 0.3121]], grad_fn=<SoftmaxBackward0>)\n",
      "tensor([[0.1139, 0.2840, 0.4616, 0.1406]], grad_fn=<SoftmaxBackward0>)\n",
      "tensor([[0.2464, 0.3292, 0.2241, 0.2002]], grad_fn=<SoftmaxBackward0>)\n",
      "tensor([[0.1956, 0.2264, 0.3517, 0.2263]], grad_fn=<SoftmaxBackward0>)\n",
      "tensor([[0.2521, 0.3820, 0.2529, 0.1130]], grad_fn=<SoftmaxBackward0>)\n",
      "tensor([[0.1194, 0.2645, 0.2821, 0.3340]], grad_fn=<SoftmaxBackward0>)\n",
      "tensor([[0.1467, 0.2160, 0.5219, 0.1154]], grad_fn=<SoftmaxBackward0>)\n",
      "tensor([[0.4170, 0.2229, 0.1222, 0.2379]], grad_fn=<SoftmaxBackward0>)\n"
     ]
    }
   ],
   "source": [
    "\n",
    "VOCAB_SIZE = len(set(word2id_dict.values())) + 1  # 辞書のID数 + パディングID\n",
    "EMB_SIZE = 300\n",
    "PADDING_IDX = len(set(word2id_dict.values()))\n",
    "OUTPUT_SIZE = 4\n",
    "HIDDEN_SIZE = 50\n",
    "\n",
    "model = RNN(VOCAB_SIZE, EMB_SIZE, PADDING_IDX, OUTPUT_SIZE, HIDDEN_SIZE)\n",
    "\n",
    "# 学習せずsoftmaxのみで出力\n",
    "for i in range(10):\n",
    "    X = dataset_train[i]['inputs']\n",
    "    print(torch.softmax(model(X.unsqueeze(0)), dim=-1))"
   ]
  },
  {
   "attachments": {},
   "cell_type": "markdown",
   "metadata": {},
   "source": [
    "## 82. 確率的勾配降下法による学習"
   ]
  },
  {
   "cell_type": "code",
   "execution_count": 12,
   "metadata": {},
   "outputs": [],
   "source": [
    "from torch.utils.data import DataLoader\n",
    "import time\n",
    "from torch import optim\n",
    "\n",
    "def calculate_loss_and_accuracy(model, dataset, device=None, criterion=None):\n",
    "    dataloader = DataLoader(dataset, batch_size=1, shuffle=False)\n",
    "    loss = 0.0\n",
    "    total = 0\n",
    "    correct = 0\n",
    "    with torch.no_grad():\n",
    "        for data in dataloader:\n",
    "            inputs = data['inputs'].to(device)\n",
    "            labels = data['labels'].to(device)\n",
    "\n",
    "            outputs = model(inputs)\n",
    "\n",
    "            if criterion != None:\n",
    "                loss += criterion(outputs, labels).item()\n",
    "\n",
    "            # 正解率計算\n",
    "            pred = torch.argmax(outputs, dim=-1)\n",
    "            total += len(inputs)\n",
    "            correct += (pred == labels).sum().item()\n",
    "    return loss / len(dataset), correct / total\n",
    "\n",
    "def train_model(dataset_train, dataset_valid, batch_size, model, criterion, optimizer, num_epochs, collate_fn=None, device=None):\n",
    "    model.to(device)\n",
    "\n",
    "    dataloader_train = DataLoader(dataset_train, batch_size=batch_size, shuffle=True, collate_fn=collate_fn)\n",
    "    dataloader_valid = DataLoader(dataset_valid, batch_size=1, shuffle=False)\n",
    "\n",
    "    scheduler = optim.lr_scheduler.CosineAnnealingLR(optimizer, num_epochs, eta_min=1e-5, last_epoch=-1)\n",
    "\n",
    "    log_train = []\n",
    "    log_valid = []\n",
    "    for epoch in range(num_epochs):\n",
    "        s_time = time.time()\n",
    "\n",
    "        model.train()\n",
    "        for data in dataloader_train:\n",
    "            optimizer.zero_grad()\n",
    "\n",
    "            inputs = data['inputs'].to(device)\n",
    "            labels = data['labels'].to(device)\n",
    "            outputs = model(inputs)\n",
    "            loss = criterion(outputs, labels)\n",
    "            loss.backward()\n",
    "            optimizer.step()\n",
    "\n",
    "        model.eval()\n",
    "\n",
    "        loss_train, acc_train = calculate_loss_and_accuracy(model, dataset_train, device, criterion=criterion)\n",
    "        loss_valid, acc_valid = calculate_loss_and_accuracy(model, dataset_valid, device, criterion=criterion)\n",
    "        log_train.append([loss_train, acc_train])\n",
    "        log_valid.append([loss_valid, acc_valid])\n",
    "\n",
    "        torch.save({'epoch': epoch, 'model_state_dict': model.state_dict(), 'optimizer_state_dict': optimizer.state_dict()}, f'./data/checkpoints/checkpoint{epoch + 1}.pt')\n",
    "\n",
    "        e_time = time.time()\n",
    "\n",
    "        print(f'epoch: {epoch + 1}, loss_train: {loss_train:.4f}, accuracy_train: {acc_train:.4f}, loss_valid: {loss_valid:.4f}, accuracy_valid: {acc_valid:.4f}, {(e_time - s_time):.4f}sec') \n",
    "\n",
    "        if epoch > 2 and log_valid[epoch - 3][0] <= log_valid[epoch - 2][0] <= log_valid[epoch - 1][0] <= log_valid[epoch][0]:\n",
    "            break\n",
    "\n",
    "        scheduler.step()\n",
    "\n",
    "    return {'train': log_train, 'valid': log_valid}"
   ]
  },
  {
   "cell_type": "code",
   "execution_count": 13,
   "metadata": {},
   "outputs": [],
   "source": [
    "import numpy as np\n",
    "from matplotlib import pyplot as plt\n",
    "\n",
    "def visualize_logs(log):\n",
    "    fig, ax = plt.subplots(1, 2, figsize=(15, 5))\n",
    "    ax[0].plot(np.array(log['train']).T[0], label='train')\n",
    "    ax[0].plot(np.array(log['valid']).T[0], label='valid')\n",
    "    ax[0].set_xlabel('epoch')\n",
    "    ax[0].set_ylabel('loss')\n",
    "    ax[0].legend()\n",
    "    ax[1].plot(np.array(log['train']).T[1], label='train')\n",
    "    ax[1].plot(np.array(log['valid']).T[1], label='valid')\n",
    "    ax[1].set_xlabel('epoch')\n",
    "    ax[1].set_ylabel('accuracy')\n",
    "    ax[1].legend()\n",
    "    plt.show()"
   ]
  },
  {
   "cell_type": "code",
   "execution_count": 14,
   "metadata": {},
   "outputs": [
    {
     "name": "stdout",
     "output_type": "stream",
     "text": [
      "epoch: 1, loss_train: 1.1065, accuracy_train: 0.5152, loss_valid: 1.1227, accuracy_valid: 0.5000, 53.1409sec\n",
      "epoch: 2, loss_train: 1.0137, accuracy_train: 0.5852, loss_valid: 1.0635, accuracy_valid: 0.5531, 45.7327sec\n",
      "epoch: 3, loss_train: 0.8490, accuracy_train: 0.6895, loss_valid: 0.9309, accuracy_valid: 0.6707, 46.2966sec\n",
      "epoch: 4, loss_train: 0.7023, accuracy_train: 0.7546, loss_valid: 0.8299, accuracy_valid: 0.7156, 44.4133sec\n",
      "epoch: 5, loss_train: 0.6081, accuracy_train: 0.7845, loss_valid: 0.7675, accuracy_valid: 0.7328, 46.0335sec\n",
      "epoch: 6, loss_train: 0.5352, accuracy_train: 0.8051, loss_valid: 0.7165, accuracy_valid: 0.7433, 44.5977sec\n",
      "epoch: 7, loss_train: 0.4894, accuracy_train: 0.8230, loss_valid: 0.6916, accuracy_valid: 0.7425, 46.4063sec\n",
      "epoch: 8, loss_train: 0.4561, accuracy_train: 0.8371, loss_valid: 0.6762, accuracy_valid: 0.7590, 45.7112sec\n",
      "epoch: 9, loss_train: 0.4371, accuracy_train: 0.8414, loss_valid: 0.6697, accuracy_valid: 0.7575, 44.9634sec\n",
      "epoch: 10, loss_train: 0.4311, accuracy_train: 0.8424, loss_valid: 0.6709, accuracy_valid: 0.7560, 49.5511sec\n"
     ]
    }
   ],
   "source": [
    "VOCAB_SIZE = len(set(word2id_dict.values())) + 1 \n",
    "EMB_SIZE = 300\n",
    "PADDING_IDX = len(set(word2id_dict.values()))\n",
    "OUTPUT_SIZE = 4\n",
    "HIDDEN_SIZE = 50\n",
    "LEARNING_RATE = 1e-3\n",
    "BATCH_SIZE = 1\n",
    "NUM_EPOCHS = 10\n",
    "\n",
    "model = RNN(VOCAB_SIZE, EMB_SIZE, PADDING_IDX, OUTPUT_SIZE, HIDDEN_SIZE)\n",
    "criterion = nn.CrossEntropyLoss()\n",
    "optimizer = torch.optim.SGD(model.parameters(), lr=LEARNING_RATE)\n",
    "\n",
    "log = train_model(dataset_train, dataset_valid, BATCH_SIZE, model, criterion, optimizer, NUM_EPOCHS)"
   ]
  },
  {
   "cell_type": "code",
   "execution_count": 15,
   "metadata": {},
   "outputs": [
    {
     "data": {
      "image/png": "[encoded data removed]",
      "text/plain": [
       "<Figure size 1080x360 with 2 Axes>"
      ]
     },
     "metadata": {
      "needs_background": "light"
     },
     "output_type": "display_data"
    },
    {
     "name": "stdout",
     "output_type": "stream",
     "text": [
      "accuracy (train): 0.842\n",
      "accuracy (valid): 0.763\n"
     ]
    }
   ],
   "source": [
    "visualize_logs(log)\n",
    "\n",
    "_, acc_train = calculate_loss_and_accuracy(model, dataset_train)\n",
    "_, acc_test = calculate_loss_and_accuracy(model, dataset_test)\n",
    "print(f'accuracy (train): {acc_train:.3f}')\n",
    "print(f'accuracy (valid): {acc_test:.3f}')"
   ]
  },
  {
   "attachments": {},
   "cell_type": "markdown",
   "metadata": {},
   "source": [
    "## 84. 単語ベクトルの導入"
   ]
  },
  {
   "cell_type": "code",
   "execution_count": 17,
   "metadata": {},
   "outputs": [
    {
     "name": "stdout",
     "output_type": "stream",
     "text": [
      "学習済みベクトル利用単語数: 9164 / 9394\n",
      "torch.Size([9394, 300])\n"
     ]
    }
   ],
   "source": [
    "from gensim.models import KeyedVectors\n",
    "\n",
    "keyed_vec = KeyedVectors.load_word2vec_format('./data/GoogleNews-vectors-negative300.bin.gz', binary=True)\n",
    "\n",
    "VOCAB_SIZE = len(set(word2id_dict.values())) + 1\n",
    "EMB_SIZE = 300\n",
    "weights = np.zeros((VOCAB_SIZE, EMB_SIZE))\n",
    "words_in_pretrained = 0\n",
    "for i, word in enumerate(word2id_dict.keys()):\n",
    "  if word in keyed_vec:\n",
    "    weights[i] = keyed_vec[word]\n",
    "    words_in_pretrained += 1\n",
    "weights = torch.from_numpy(weights.astype((np.float32)))\n",
    "\n",
    "print(f'学習済みベクトル利用単語数: {words_in_pretrained} / {VOCAB_SIZE}')\n",
    "print(weights.size())"
   ]
  },
  {
   "cell_type": "code",
   "execution_count": 23,
   "metadata": {},
   "outputs": [],
   "source": [
    "class RNN_mod1(nn.Module):\n",
    "    def __init__(self, vocab_size, emb_size, padding_idx, output_size, hidden_size, num_layers, emb_weights=None, bidirectional=False):\n",
    "        super().__init__()\n",
    "        self.hidden_size = hidden_size\n",
    "        self.num_layers = num_layers\n",
    "        self.num_directions = bidirectional + 1\n",
    "        if emb_weights != None:\n",
    "            self.emb = nn.Embedding.from_pretrained(emb_weights, padding_idx=padding_idx)\n",
    "        else:\n",
    "            self.emb = nn.Embedding(vocab_size, emb_size, padding_idx=padding_idx)\n",
    "        self.rnn = nn.RNN(emb_size, hidden_size, num_layers, nonlinearity='tanh', bidirectional=bidirectional, batch_first=True)\n",
    "        self.fc = nn.Linear(hidden_size * self.num_directions, output_size)\n",
    "\n",
    "    def forward(self, x):\n",
    "        self.batch_size = x.size()[0]\n",
    "        hidden = self.init_hidden(x.device)\n",
    "        emb = self.emb(x)\n",
    "        out, hidden = self.rnn(emb, hidden)\n",
    "        out = self.fc(out[:, -1, :])\n",
    "        return out\n",
    "\n",
    "    def init_hidden(self, device):\n",
    "        hidden = torch.zeros(self.num_layers * self.num_directions, self.batch_size, self.hidden_size, device=device)\n",
    "        return hidden"
   ]
  },
  {
   "cell_type": "code",
   "execution_count": 24,
   "metadata": {},
   "outputs": [],
   "source": [
    "class Padsequence():\n",
    "    def __init__(self, padding_idx):\n",
    "        self.padding_idx = padding_idx\n",
    "\n",
    "    def __call__(self, batch):\n",
    "        sorted_batch = sorted(batch, key=lambda x: x['inputs'].shape[0], reverse=True)\n",
    "        sequences = [x['inputs'] for x in sorted_batch]\n",
    "        sequences_padded = torch.nn.utils.rnn.pad_sequence(sequences, batch_first=True, padding_value=self.padding_idx)\n",
    "        labels = torch.LongTensor([x['labels'] for x in sorted_batch])\n",
    "\n",
    "        return {'inputs': sequences_padded, 'labels': labels}"
   ]
  },
  {
   "cell_type": "code",
   "execution_count": 25,
   "metadata": {},
   "outputs": [
    {
     "name": "stdout",
     "output_type": "stream",
     "text": [
      "epoch: 1, loss_train: 1.1689, accuracy_train: 0.4165, loss_valid: 1.1732, accuracy_valid: 0.3997, 8.5335sec\n",
      "epoch: 2, loss_train: 1.1746, accuracy_train: 0.4028, loss_valid: 1.1779, accuracy_valid: 0.3915, 8.3217sec\n",
      "epoch: 3, loss_train: 1.2259, accuracy_train: 0.3995, loss_valid: 1.2236, accuracy_valid: 0.3975, 8.2413sec\n",
      "epoch: 4, loss_train: 1.2160, accuracy_train: 0.4053, loss_valid: 1.2115, accuracy_valid: 0.4042, 8.3749sec\n",
      "epoch: 5, loss_train: 1.1094, accuracy_train: 0.5279, loss_valid: 1.1044, accuracy_valid: 0.5374, 8.6143sec\n",
      "epoch: 6, loss_train: 1.0741, accuracy_train: 0.5536, loss_valid: 1.0702, accuracy_valid: 0.5666, 8.4181sec\n",
      "epoch: 7, loss_train: 1.0419, accuracy_train: 0.5932, loss_valid: 1.0456, accuracy_valid: 0.5906, 8.3905sec\n",
      "epoch: 8, loss_train: 1.0370, accuracy_train: 0.5870, loss_valid: 1.0373, accuracy_valid: 0.5951, 8.3540sec\n",
      "epoch: 9, loss_train: 0.9395, accuracy_train: 0.6544, loss_valid: 0.9567, accuracy_valid: 0.6392, 8.3443sec\n",
      "epoch: 10, loss_train: 0.9464, accuracy_train: 0.6429, loss_valid: 0.9593, accuracy_valid: 0.6332, 8.4799sec\n"
     ]
    }
   ],
   "source": [
    "VOCAB_SIZE = len(set(word2id_dict.values())) + 1\n",
    "EMB_SIZE = 300\n",
    "PADDING_IDX = len(set(word2id_dict.values()))\n",
    "OUTPUT_SIZE = 4\n",
    "HIDDEN_SIZE = 50\n",
    "NUM_LAYERS = 1\n",
    "LEARNING_RATE = 5e-2\n",
    "BATCH_SIZE = 32\n",
    "NUM_EPOCHS = 10\n",
    "\n",
    "model = RNN_mod1(VOCAB_SIZE, EMB_SIZE, PADDING_IDX, OUTPUT_SIZE, HIDDEN_SIZE, NUM_LAYERS, emb_weights=weights)\n",
    "criterion = nn.CrossEntropyLoss()\n",
    "optimizer = torch.optim.SGD(model.parameters(), lr=LEARNING_RATE)\n",
    "device = torch.device('cuda:0') if torch.cuda.is_available() else torch.device('cpu')\n",
    "\n",
    "log = train_model(dataset_train, dataset_valid, BATCH_SIZE, model, criterion, optimizer, NUM_EPOCHS, collate_fn=Padsequence(PADDING_IDX), device=device)"
   ]
  },
  {
   "cell_type": "code",
   "execution_count": 28,
   "metadata": {},
   "outputs": [
    {
     "data": {
      "image/png": "[encoded data removed]",
      "text/plain": [
       "<Figure size 1080x360 with 2 Axes>"
      ]
     },
     "metadata": {
      "needs_background": "light"
     },
     "output_type": "display_data"
    },
    {
     "name": "stdout",
     "output_type": "stream",
     "text": [
      "accuracy (train): 0.643\n",
      "accuracy (valid): 0.638\n"
     ]
    }
   ],
   "source": [
    "visualize_logs(log)\n",
    "\n",
    "_, acc_train = calculate_loss_and_accuracy(model, dataset_train, device)\n",
    "_, acc_test = calculate_loss_and_accuracy(model, dataset_test, device)\n",
    "print(f'accuracy (train): {acc_train:.3f}')\n",
    "print(f'accuracy (valid): {acc_test:.3f}')"
   ]
  }
 ],
 "metadata": {
  "kernelspec": {
   "display_name": "Python 3",
   "language": "python",
   "name": "python3"
  },
  "language_info": {
   "codemirror_mode": {
    "name": "ipython",
    "version": 3
   },
   "file_extension": ".py",
   "mimetype": "text/x-python",
   "name": "python",
   "nbconvert_exporter": "python",
   "pygments_lexer": "ipython3",
   "version": "3.6.9"
  },
  "orig_nbformat": 4
 },
 "nbformat": 4,
 "nbformat_minor": 2
}
