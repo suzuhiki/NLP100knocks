{
 "cells": [
  {
   "attachments": {},
   "cell_type": "markdown",
   "metadata": {},
   "source": [
    "## 80. id番号への変更"
   ]
  },
  {
   "cell_type": "code",
   "execution_count": 1,
   "metadata": {},
   "outputs": [
    {
     "name": "stdout",
     "output_type": "stream",
     "text": [
      "【学習データ】\n",
      "b    4501\n",
      "e    4235\n",
      "t    1220\n",
      "m     728\n",
      "Name: CATEGORY, dtype: int64\n",
      "【検証データ】\n",
      "b    563\n",
      "e    529\n",
      "t    153\n",
      "m     91\n",
      "Name: CATEGORY, dtype: int64\n",
      "【評価データ】\n",
      "b    563\n",
      "e    530\n",
      "t    152\n",
      "m     91\n",
      "Name: CATEGORY, dtype: int64\n"
     ]
    }
   ],
   "source": [
    "import pandas as pd\n",
    "\n",
    "DATA_PATH = \"./data/news_aggregator_dataset/\"\n",
    "\n",
    "train_df = pd.read_csv(DATA_PATH + \"train.txt\", delimiter=\"\\t\")\n",
    "valid_df = pd.read_csv(DATA_PATH + \"valid.txt\", delimiter=\"\\t\")\n",
    "test_df = pd.read_csv(DATA_PATH + \"test.txt\", delimiter=\"\\t\")\n",
    "\n",
    "print('【学習データ】')\n",
    "print(train_df['CATEGORY'].value_counts())\n",
    "print('【検証データ】')\n",
    "print(valid_df['CATEGORY'].value_counts())\n",
    "print('【評価データ】')\n",
    "print(test_df['CATEGORY'].value_counts())"
   ]
  },
  {
   "cell_type": "code",
   "execution_count": 2,
   "metadata": {},
   "outputs": [
    {
     "name": "stdout",
     "output_type": "stream",
     "text": [
      "ID数: 9393\n",
      "\n",
      "頻度上位20語\n",
      "to: 1\n",
      "s: 2\n",
      "in: 3\n",
      "UPDATE: 4\n",
      "on: 5\n",
      "as: 6\n",
      "US: 7\n",
      "for: 8\n",
      "of: 9\n",
      "The: 10\n",
      "1: 11\n",
      "To: 12\n",
      "2: 13\n",
      "the: 14\n",
      "and: 15\n",
      "In: 16\n",
      "Of: 17\n",
      "at: 18\n",
      "a: 19\n",
      "A: 20\n"
     ]
    }
   ],
   "source": [
    "from collections import defaultdict\n",
    "import string\n",
    "\n",
    "\n",
    "d = defaultdict(int)\n",
    "table = str.maketrans(string.punctuation, ' '*len(string.punctuation))\n",
    "for text in train_df['TITLE']:\n",
    "    for word in text.translate(table).split():\n",
    "        d[word] += 1\n",
    "d = sorted(d.items(), key=lambda x:x[1], reverse=True)\n",
    "\n",
    "word2id_dict = {word: i + 1 for i, (word, cnt) in enumerate(d) if cnt > 1}  # 出現頻度が2回以上の単語を登録\n",
    "\n",
    "print(f'ID数: {len(set(word2id_dict.values()))}\\n')\n",
    "print('頻度上位20語')\n",
    "for key in list(word2id_dict)[:20]:\n",
    "    print(f'{key}: {word2id_dict[key]}')"
   ]
  },
  {
   "cell_type": "code",
   "execution_count": 3,
   "metadata": {},
   "outputs": [],
   "source": [
    "def tokenizer(text, word2id=word2id_dict, unk=0):\n",
    "    table = str.maketrans(string.punctuation, ' '*len(string.punctuation))\n",
    "    return [word2id.get(word, unk) for word in text.translate(table).split()]"
   ]
  },
  {
   "cell_type": "code",
   "execution_count": 4,
   "metadata": {},
   "outputs": [
    {
     "name": "stdout",
     "output_type": "stream",
     "text": [
      "テキスト: Andrew Garfield wants Black-HispanicSpiderman\n",
      "ID列: [504, 520, 638, 541, 0]\n"
     ]
    }
   ],
   "source": [
    "text = train_df.iloc[1, train_df.columns.get_loc('TITLE')]\n",
    "print(f'テキスト: {text}')\n",
    "print(f'ID列: {tokenizer(text)}')"
   ]
  },
  {
   "attachments": {},
   "cell_type": "markdown",
   "metadata": {},
   "source": [
    "## 81. RNNによる予測"
   ]
  },
  {
   "cell_type": "code",
   "execution_count": 5,
   "metadata": {},
   "outputs": [
    {
     "name": "stderr",
     "output_type": "stream",
     "text": [
      "/home/morioka/.local/lib/python3.6/site-packages/tqdm/auto.py:22: TqdmWarning: IProgress not found. Please update jupyter and ipywidgets. See https://ipywidgets.readthedocs.io/en/stable/user_install.html\n",
      "  from .autonotebook import tqdm as notebook_tqdm\n"
     ]
    }
   ],
   "source": [
    "import torch\n",
    "from torch import nn\n",
    "\n",
    "class RNN(nn.Module):\n",
    "    def __init__(self, vocab_size, emb_size, padding_idx, output_size, hidden_size):\n",
    "        super().__init__()\n",
    "        self.hidden_size = hidden_size\n",
    "        self.emb = nn.Embedding(vocab_size, emb_size, padding_idx=padding_idx)\n",
    "        self.rnn = nn.RNN(emb_size, hidden_size, nonlinearity='tanh', batch_first=True)\n",
    "        self.fc = nn.Linear(hidden_size, output_size)\n",
    "    \n",
    "    def forward(self, x):\n",
    "        self.batch_size = x.size()[0]\n",
    "        hidden = self.init_hidden(x.device)\n",
    "        emb = self.emb(x)\n",
    "        out, hidden = self.rnn(emb, hidden)\n",
    "        out = self.fc(out[:, -1, :])\n",
    "        return out\n",
    "    \n",
    "    def init_hidden(self, device):\n",
    "        hidden = torch.zeros(1, self.batch_size, self.hidden_size, device=device)\n",
    "        return hidden"
   ]
  },
  {
   "cell_type": "code",
   "execution_count": 6,
   "metadata": {},
   "outputs": [],
   "source": [
    "from torch.utils.data import Dataset\n",
    "\n",
    "class MyDataset(Dataset):\n",
    "    def __init__(self, X, y, tokenizer):\n",
    "        self.X = X\n",
    "        self.y = y\n",
    "        self.tokenizer = tokenizer\n",
    "\n",
    "    def __len__(self): \n",
    "        return len(self.y)\n",
    "\n",
    "    def __getitem__(self, index):\n",
    "        text = self.X[index]\n",
    "        inputs = self.tokenizer(text)\n",
    "\n",
    "        return {\n",
    "            'inputs': torch.tensor(inputs, dtype=torch.int64),\n",
    "            'labels': torch.tensor(self.y[index], dtype=torch.int64)\n",
    "        }"
   ]
  },
  {
   "cell_type": "code",
   "execution_count": 7,
   "metadata": {},
   "outputs": [
    {
     "name": "stdout",
     "output_type": "stream",
     "text": [
      "datasetの長さ: 10684\n",
      "dataset[index]:\n",
      "  inputs: tensor([504, 520, 638, 541,   0])\n",
      "  labels: 2\n"
     ]
    }
   ],
   "source": [
    "# ラベルベクトルの作成\n",
    "category_dict = {'b': 0, 't': 1, 'e':2, 'm':3}\n",
    "y_train = train_df['CATEGORY'].map(lambda x: category_dict[x]).values\n",
    "y_valid = valid_df['CATEGORY'].map(lambda x: category_dict[x]).values\n",
    "y_test = test_df['CATEGORY'].map(lambda x: category_dict[x]).values\n",
    "\n",
    "# Datasetの作成\n",
    "dataset_train = MyDataset(train_df['TITLE'], y_train, tokenizer)\n",
    "dataset_valid = MyDataset(valid_df['TITLE'], y_valid, tokenizer)\n",
    "dataset_test = MyDataset(test_df['TITLE'], y_test, tokenizer)\n",
    "\n",
    "print(f'datasetの長さ: {len(dataset_train)}')\n",
    "print('dataset[index]:')\n",
    "for var in dataset_train[1]:\n",
    "    print(f'  {var}: {dataset_train[1][var]}')"
   ]
  },
  {
   "cell_type": "code",
   "execution_count": 8,
   "metadata": {},
   "outputs": [
    {
     "name": "stdout",
     "output_type": "stream",
     "text": [
      "tensor([[0.2526, 0.1059, 0.2868, 0.3547]], grad_fn=<SoftmaxBackward0>)\n",
      "tensor([[0.1617, 0.1372, 0.2318, 0.4692]], grad_fn=<SoftmaxBackward0>)\n",
      "tensor([[0.2599, 0.2670, 0.3197, 0.1534]], grad_fn=<SoftmaxBackward0>)\n",
      "tensor([[0.1622, 0.5067, 0.1863, 0.1448]], grad_fn=<SoftmaxBackward0>)\n",
      "tensor([[0.3870, 0.1696, 0.2195, 0.2239]], grad_fn=<SoftmaxBackward0>)\n",
      "tensor([[0.2029, 0.3864, 0.2016, 0.2091]], grad_fn=<SoftmaxBackward0>)\n",
      "tensor([[0.1816, 0.4235, 0.2585, 0.1364]], grad_fn=<SoftmaxBackward0>)\n",
      "tensor([[0.2426, 0.2194, 0.1564, 0.3816]], grad_fn=<SoftmaxBackward0>)\n",
      "tensor([[0.2342, 0.1803, 0.2854, 0.3001]], grad_fn=<SoftmaxBackward0>)\n",
      "tensor([[0.2313, 0.1110, 0.2329, 0.4248]], grad_fn=<SoftmaxBackward0>)\n"
     ]
    }
   ],
   "source": [
    "\n",
    "VOCAB_SIZE = len(set(word2id_dict.values())) + 1  # 辞書のID数 + パディングID\n",
    "EMB_SIZE = 300\n",
    "PADDING_IDX = len(set(word2id_dict.values()))\n",
    "OUTPUT_SIZE = 4\n",
    "HIDDEN_SIZE = 50\n",
    "\n",
    "model = RNN(VOCAB_SIZE, EMB_SIZE, PADDING_IDX, OUTPUT_SIZE, HIDDEN_SIZE)\n",
    "\n",
    "# 学習せずsoftmaxのみで出力\n",
    "for i in range(10):\n",
    "    X = dataset_train[i]['inputs']\n",
    "    print(torch.softmax(model(X.unsqueeze(0)), dim=-1))"
   ]
  },
  {
   "attachments": {},
   "cell_type": "markdown",
   "metadata": {},
   "source": [
    "## 82. 確率的勾配降下法による学習"
   ]
  },
  {
   "cell_type": "code",
   "execution_count": 9,
   "metadata": {},
   "outputs": [],
   "source": [
    "from torch.utils.data import DataLoader\n",
    "import time\n",
    "from torch import optim\n",
    "\n",
    "def calculate_loss_and_accuracy(model, dataset, device=None, criterion=None):\n",
    "    dataloader = DataLoader(dataset, batch_size=1, shuffle=False)\n",
    "    loss = 0.0\n",
    "    total = 0\n",
    "    correct = 0\n",
    "    with torch.no_grad():\n",
    "        for data in dataloader:\n",
    "            inputs = data['inputs'].to(device)\n",
    "            labels = data['labels'].to(device)\n",
    "\n",
    "            outputs = model(inputs)\n",
    "\n",
    "            if criterion != None:\n",
    "                loss += criterion(outputs, labels).item()\n",
    "\n",
    "            # 正解率計算\n",
    "            pred = torch.argmax(outputs, dim=-1)\n",
    "            total += len(inputs)\n",
    "            correct += (pred == labels).sum().item()\n",
    "    return loss / len(dataset), correct / total\n",
    "\n",
    "def train_model(dataset_train, dataset_valid, batch_size, model, criterion, optimizer, num_epochs, collate_fn=None, device=None):\n",
    "    model.to(device)\n",
    "\n",
    "    dataloader_train = DataLoader(dataset_train, batch_size=batch_size, shuffle=True, collate_fn=collate_fn)\n",
    "    dataloader_valid = DataLoader(dataset_valid, batch_size=1, shuffle=False)\n",
    "\n",
    "    scheduler = optim.lr_scheduler.CosineAnnealingLR(optimizer, num_epochs, eta_min=1e-5, last_epoch=-1)\n",
    "\n",
    "    log_train = []\n",
    "    log_valid = []\n",
    "    for epoch in range(num_epochs):\n",
    "        s_time = time.time()\n",
    "\n",
    "        model.train()\n",
    "        for data in dataloader_train:\n",
    "            optimizer.zero_grad()\n",
    "\n",
    "            inputs = data['inputs'].to(device)\n",
    "            labels = data['labels'].to(device)\n",
    "            outputs = model(inputs)\n",
    "            loss = criterion(outputs, labels)\n",
    "            loss.backward()\n",
    "            optimizer.step()\n",
    "\n",
    "        model.eval()\n",
    "\n",
    "        loss_train, acc_train = calculate_loss_and_accuracy(model, dataset_train, device, criterion=criterion)\n",
    "        loss_valid, acc_valid = calculate_loss_and_accuracy(model, dataset_valid, device, criterion=criterion)\n",
    "        log_train.append([loss_train, acc_train])\n",
    "        log_valid.append([loss_valid, acc_valid])\n",
    "\n",
    "        torch.save({'epoch': epoch, 'model_state_dict': model.state_dict(), 'optimizer_state_dict': optimizer.state_dict()}, f'./data/checkpoints/checkpoint{epoch + 1}.pt')\n",
    "\n",
    "        e_time = time.time()\n",
    "\n",
    "        print(f'epoch: {epoch + 1}, loss_train: {loss_train:.4f}, accuracy_train: {acc_train:.4f}, loss_valid: {loss_valid:.4f}, accuracy_valid: {acc_valid:.4f}, {(e_time - s_time):.4f}sec') \n",
    "\n",
    "        if epoch > 2 and log_valid[epoch - 3][0] <= log_valid[epoch - 2][0] <= log_valid[epoch - 1][0] <= log_valid[epoch][0]:\n",
    "            break\n",
    "\n",
    "        scheduler.step()\n",
    "\n",
    "    return {'train': log_train, 'valid': log_valid}"
   ]
  },
  {
   "cell_type": "code",
   "execution_count": 10,
   "metadata": {},
   "outputs": [],
   "source": [
    "import numpy as np\n",
    "from matplotlib import pyplot as plt\n",
    "\n",
    "def visualize_logs(log):\n",
    "    fig, ax = plt.subplots(1, 2, figsize=(15, 5))\n",
    "    ax[0].plot(np.array(log['train']).T[0], label='train')\n",
    "    ax[0].plot(np.array(log['valid']).T[0], label='valid')\n",
    "    ax[0].set_xlabel('epoch')\n",
    "    ax[0].set_ylabel('loss')\n",
    "    ax[0].legend()\n",
    "    ax[1].plot(np.array(log['train']).T[1], label='train')\n",
    "    ax[1].plot(np.array(log['valid']).T[1], label='valid')\n",
    "    ax[1].set_xlabel('epoch')\n",
    "    ax[1].set_ylabel('accuracy')\n",
    "    ax[1].legend()\n",
    "    plt.show()"
   ]
  },
  {
   "cell_type": "code",
   "execution_count": 11,
   "metadata": {},
   "outputs": [
    {
     "name": "stdout",
     "output_type": "stream",
     "text": [
      "epoch: 1, loss_train: 1.0974, accuracy_train: 0.5395, loss_valid: 1.1179, accuracy_valid: 0.5090, 309.6095sec\n",
      "epoch: 2, loss_train: 1.0038, accuracy_train: 0.6009, loss_valid: 1.0591, accuracy_valid: 0.5606, 306.0615sec\n",
      "epoch: 3, loss_train: 0.8601, accuracy_train: 0.6806, loss_valid: 0.9298, accuracy_valid: 0.6602, 305.0134sec\n",
      "epoch: 4, loss_train: 0.7211, accuracy_train: 0.7446, loss_valid: 0.8091, accuracy_valid: 0.7178, 302.6516sec\n",
      "epoch: 5, loss_train: 0.6217, accuracy_train: 0.7762, loss_valid: 0.7380, accuracy_valid: 0.7433, 302.8692sec\n",
      "epoch: 6, loss_train: 0.5551, accuracy_train: 0.7988, loss_valid: 0.7043, accuracy_valid: 0.7597, 303.8045sec\n",
      "epoch: 7, loss_train: 0.4979, accuracy_train: 0.8166, loss_valid: 0.6799, accuracy_valid: 0.7650, 302.5950sec\n",
      "epoch: 8, loss_train: 0.4690, accuracy_train: 0.8283, loss_valid: 0.6786, accuracy_valid: 0.7552, 305.6070sec\n",
      "epoch: 9, loss_train: 0.4539, accuracy_train: 0.8336, loss_valid: 0.6811, accuracy_valid: 0.7530, 300.9334sec\n",
      "epoch: 10, loss_train: 0.4486, accuracy_train: 0.8339, loss_valid: 0.6786, accuracy_valid: 0.7567, 303.4440sec\n"
     ]
    }
   ],
   "source": [
    "VOCAB_SIZE = len(set(word2id_dict.values())) + 1 \n",
    "EMB_SIZE = 300\n",
    "PADDING_IDX = len(set(word2id_dict.values()))\n",
    "OUTPUT_SIZE = 4\n",
    "HIDDEN_SIZE = 50\n",
    "LEARNING_RATE = 1e-3\n",
    "BATCH_SIZE = 1\n",
    "NUM_EPOCHS = 10\n",
    "\n",
    "model = RNN(VOCAB_SIZE, EMB_SIZE, PADDING_IDX, OUTPUT_SIZE, HIDDEN_SIZE)\n",
    "criterion = nn.CrossEntropyLoss()\n",
    "optimizer = torch.optim.SGD(model.parameters(), lr=LEARNING_RATE)\n",
    "\n",
    "log = train_model(dataset_train, dataset_valid, BATCH_SIZE, model, criterion, optimizer, NUM_EPOCHS)"
   ]
  },
  {
   "cell_type": "code",
   "execution_count": 12,
   "metadata": {},
   "outputs": [
    {
     "data": {
      "image/png": "[encoded data removed]",
      "text/plain": [
       "<Figure size 1080x360 with 2 Axes>"
      ]
     },
     "metadata": {
      "needs_background": "light"
     },
     "output_type": "display_data"
    },
    {
     "name": "stdout",
     "output_type": "stream",
     "text": [
      "accuracy (train): 0.834\n",
      "accuracy (valid): 0.753\n"
     ]
    }
   ],
   "source": [
    "visualize_logs(log)\n",
    "\n",
    "_, acc_train = calculate_loss_and_accuracy(model, dataset_train)\n",
    "_, acc_test = calculate_loss_and_accuracy(model, dataset_test)\n",
    "print(f'accuracy (train): {acc_train:.3f}')\n",
    "print(f'accuracy (valid): {acc_test:.3f}')"
   ]
  },
  {
   "attachments": {},
   "cell_type": "markdown",
   "metadata": {},
   "source": [
    "## 84. 単語ベクトルの導入"
   ]
  },
  {
   "cell_type": "code",
   "execution_count": 13,
   "metadata": {},
   "outputs": [
    {
     "name": "stdout",
     "output_type": "stream",
     "text": [
      "学習済みベクトル利用単語数: 9164 / 9394\n",
      "torch.Size([9394, 300])\n"
     ]
    }
   ],
   "source": [
    "from gensim.models import KeyedVectors\n",
    "\n",
    "keyed_vec = KeyedVectors.load_word2vec_format('./data/GoogleNews-vectors-negative300.bin.gz', binary=True)\n",
    "\n",
    "VOCAB_SIZE = len(set(word2id_dict.values())) + 1\n",
    "EMB_SIZE = 300\n",
    "weights = np.zeros((VOCAB_SIZE, EMB_SIZE))\n",
    "words_in_pretrained = 0\n",
    "for i, word in enumerate(word2id_dict.keys()):\n",
    "  if word in keyed_vec:\n",
    "    weights[i] = keyed_vec[word]\n",
    "    words_in_pretrained += 1\n",
    "weights = torch.from_numpy(weights.astype((np.float32)))\n",
    "\n",
    "print(f'学習済みベクトル利用単語数: {words_in_pretrained} / {VOCAB_SIZE}')\n",
    "print(weights.size())"
   ]
  },
  {
   "cell_type": "code",
   "execution_count": 61,
   "metadata": {},
   "outputs": [],
   "source": [
    "class RNN_mod1(nn.Module):\n",
    "    def __init__(self, vocab_size, emb_size, padding_idx, output_size, hidden_size, num_layers, emb_weights=None, bidirectional=False):\n",
    "        super().__init__()\n",
    "        self.hidden_size = hidden_size\n",
    "        self.num_layers = num_layers\n",
    "        self.num_directions = bidirectional + 1\n",
    "        if emb_weights != None:\n",
    "            self.emb = nn.Embedding.from_pretrained(emb_weights, padding_idx=padding_idx)\n",
    "        else:\n",
    "            self.emb = nn.Embedding(vocab_size, emb_size, padding_idx=padding_idx)\n",
    "        self.rnn = nn.RNN(emb_size, hidden_size, num_layers, nonlinearity='tanh', bidirectional=bidirectional, batch_first=True)\n",
    "        self.fc = nn.Linear(hidden_size * self.num_directions, output_size)\n",
    "\n",
    "    def forward(self, x):\n",
    "        self.batch_size = x.size()[0]\n",
    "        hidden = self.init_hidden(x.device)\n",
    "        emb = self.emb(x)\n",
    "        out, hidden = self.rnn(emb, hidden)\n",
    "        out = self.fc(out[:, -1, :])\n",
    "        return out\n",
    "\n",
    "    def init_hidden(self, device):\n",
    "        hidden = torch.zeros(self.num_layers * self.num_directions, self.batch_size, self.hidden_size, device=device)\n",
    "        return hidden"
   ]
  },
  {
   "cell_type": "code",
   "execution_count": 15,
   "metadata": {},
   "outputs": [],
   "source": [
    "class Padsequence():\n",
    "    def __init__(self, padding_idx):\n",
    "        self.padding_idx = padding_idx\n",
    "\n",
    "    def __call__(self, batch):\n",
    "        sorted_batch = sorted(batch, key=lambda x: x['inputs'].shape[0], reverse=True)\n",
    "        sequences = [x['inputs'] for x in sorted_batch]\n",
    "        sequences_padded = torch.nn.utils.rnn.pad_sequence(sequences, batch_first=True, padding_value=self.padding_idx)\n",
    "        labels = torch.LongTensor([x['labels'] for x in sorted_batch])\n",
    "\n",
    "        return {'inputs': sequences_padded, 'labels': labels}"
   ]
  },
  {
   "cell_type": "code",
   "execution_count": 16,
   "metadata": {},
   "outputs": [
    {
     "name": "stdout",
     "output_type": "stream",
     "text": [
      "epoch: 1, loss_train: 1.1740, accuracy_train: 0.4056, loss_valid: 1.1744, accuracy_valid: 0.4094, 108.7253sec\n",
      "epoch: 2, loss_train: 1.1803, accuracy_train: 0.4236, loss_valid: 1.1783, accuracy_valid: 0.4431, 108.3137sec\n",
      "epoch: 3, loss_train: 1.1622, accuracy_train: 0.4995, loss_valid: 1.1487, accuracy_valid: 0.5180, 107.7700sec\n",
      "epoch: 4, loss_train: 1.0829, accuracy_train: 0.5990, loss_valid: 1.0721, accuracy_valid: 0.6018, 107.9873sec\n",
      "epoch: 5, loss_train: 1.0093, accuracy_train: 0.6274, loss_valid: 1.0031, accuracy_valid: 0.6295, 107.1010sec\n",
      "epoch: 6, loss_train: 0.9949, accuracy_train: 0.6384, loss_valid: 0.9992, accuracy_valid: 0.6362, 108.3231sec\n",
      "epoch: 7, loss_train: 0.9972, accuracy_train: 0.6334, loss_valid: 1.0003, accuracy_valid: 0.6287, 108.3649sec\n",
      "epoch: 8, loss_train: 0.9459, accuracy_train: 0.6583, loss_valid: 0.9615, accuracy_valid: 0.6475, 105.9707sec\n",
      "epoch: 9, loss_train: 0.9502, accuracy_train: 0.6565, loss_valid: 0.9676, accuracy_valid: 0.6512, 107.3998sec\n",
      "epoch: 10, loss_train: 0.9426, accuracy_train: 0.6610, loss_valid: 0.9605, accuracy_valid: 0.6504, 108.6266sec\n"
     ]
    }
   ],
   "source": [
    "VOCAB_SIZE = len(set(word2id_dict.values())) + 1\n",
    "EMB_SIZE = 300\n",
    "PADDING_IDX = len(set(word2id_dict.values()))\n",
    "OUTPUT_SIZE = 4\n",
    "HIDDEN_SIZE = 50\n",
    "NUM_LAYERS = 1\n",
    "LEARNING_RATE = 5e-2\n",
    "BATCH_SIZE = 32\n",
    "NUM_EPOCHS = 10\n",
    "\n",
    "model = RNN_mod1(VOCAB_SIZE, EMB_SIZE, PADDING_IDX, OUTPUT_SIZE, HIDDEN_SIZE, NUM_LAYERS, emb_weights=weights)\n",
    "criterion = nn.CrossEntropyLoss()\n",
    "optimizer = torch.optim.SGD(model.parameters(), lr=LEARNING_RATE)\n",
    "device = torch.device('cuda:0') if torch.cuda.is_available() else torch.device('cpu')\n",
    "\n",
    "log = train_model(dataset_train, dataset_valid, BATCH_SIZE, model, criterion, optimizer, NUM_EPOCHS, collate_fn=Padsequence(PADDING_IDX), device=device)"
   ]
  },
  {
   "cell_type": "code",
   "execution_count": 17,
   "metadata": {},
   "outputs": [
    {
     "data": {
      "image/png": "[encoded data removed]",
      "text/plain": [
       "<Figure size 1080x360 with 2 Axes>"
      ]
     },
     "metadata": {
      "needs_background": "light"
     },
     "output_type": "display_data"
    },
    {
     "name": "stdout",
     "output_type": "stream",
     "text": [
      "accuracy (train): 0.661\n",
      "accuracy (valid): 0.651\n"
     ]
    }
   ],
   "source": [
    "visualize_logs(log)\n",
    "\n",
    "_, acc_train = calculate_loss_and_accuracy(model, dataset_train, device)\n",
    "_, acc_test = calculate_loss_and_accuracy(model, dataset_test, device)\n",
    "print(f'accuracy (train): {acc_train:.3f}')\n",
    "print(f'accuracy (valid): {acc_test:.3f}')"
   ]
  },
  {
   "attachments": {},
   "cell_type": "markdown",
   "metadata": {},
   "source": [
    "## 85. 双方向RNN・多層化"
   ]
  },
  {
   "cell_type": "code",
   "execution_count": 18,
   "metadata": {},
   "outputs": [
    {
     "name": "stdout",
     "output_type": "stream",
     "text": [
      "epoch: 1, loss_train: 1.1766, accuracy_train: 0.4076, loss_valid: 1.1783, accuracy_valid: 0.4072, 112.3449sec\n",
      "epoch: 2, loss_train: 1.2154, accuracy_train: 0.4020, loss_valid: 1.2134, accuracy_valid: 0.4042, 112.9568sec\n",
      "epoch: 3, loss_train: 1.2444, accuracy_train: 0.3966, loss_valid: 1.2413, accuracy_valid: 0.3975, 112.6263sec\n",
      "epoch: 4, loss_train: 1.0429, accuracy_train: 0.6031, loss_valid: 1.0392, accuracy_valid: 0.6085, 113.6457sec\n",
      "epoch: 5, loss_train: 1.0505, accuracy_train: 0.5885, loss_valid: 1.0460, accuracy_valid: 0.5838, 112.8040sec\n",
      "epoch: 6, loss_train: 1.0776, accuracy_train: 0.5728, loss_valid: 1.0735, accuracy_valid: 0.5786, 113.2502sec\n",
      "epoch: 7, loss_train: 0.9903, accuracy_train: 0.6267, loss_valid: 0.9994, accuracy_valid: 0.6198, 113.0350sec\n",
      "epoch: 8, loss_train: 0.9643, accuracy_train: 0.6399, loss_valid: 0.9763, accuracy_valid: 0.6370, 113.4529sec\n",
      "epoch: 9, loss_train: 0.9896, accuracy_train: 0.6261, loss_valid: 1.0011, accuracy_valid: 0.6190, 112.6520sec\n",
      "epoch: 10, loss_train: 0.9718, accuracy_train: 0.6349, loss_valid: 0.9877, accuracy_valid: 0.6220, 112.6880sec\n"
     ]
    }
   ],
   "source": [
    "VOCAB_SIZE = len(set(word2id_dict.values())) + 1\n",
    "EMB_SIZE = 300\n",
    "PADDING_IDX = len(set(word2id_dict.values()))\n",
    "OUTPUT_SIZE = 4\n",
    "HIDDEN_SIZE = 50\n",
    "NUM_LAYERS = 2 #2層\n",
    "LEARNING_RATE = 5e-2\n",
    "BATCH_SIZE = 32\n",
    "NUM_EPOCHS = 10\n",
    "\n",
    "model = RNN_mod1(VOCAB_SIZE, EMB_SIZE, PADDING_IDX, OUTPUT_SIZE, HIDDEN_SIZE, NUM_LAYERS, emb_weights=weights, bidirectional=True) #bidirectional:双方向でモデル作成\n",
    "\n",
    "criterion = nn.CrossEntropyLoss()\n",
    "optimizer = torch.optim.SGD(model.parameters(), lr=LEARNING_RATE)\n",
    "device = torch.device('cuda:0') if torch.cuda.is_available() else torch.device('cpu')\n",
    "\n",
    "log = train_model(dataset_train, dataset_valid, BATCH_SIZE, model, criterion, optimizer, NUM_EPOCHS, collate_fn=Padsequence(PADDING_IDX), device=device)"
   ]
  },
  {
   "cell_type": "code",
   "execution_count": 19,
   "metadata": {},
   "outputs": [
    {
     "data": {
      "image/png": "[encoded data removed]",
      "text/plain": [
       "<Figure size 1080x360 with 2 Axes>"
      ]
     },
     "metadata": {
      "needs_background": "light"
     },
     "output_type": "display_data"
    },
    {
     "name": "stdout",
     "output_type": "stream",
     "text": [
      "accuracy (train): 0.635\n",
      "accuracy (valid): 0.629\n"
     ]
    }
   ],
   "source": [
    "visualize_logs(log)\n",
    "\n",
    "_, acc_train = calculate_loss_and_accuracy(model, dataset_train, device)\n",
    "_, acc_test = calculate_loss_and_accuracy(model, dataset_test, device)\n",
    "print(f'accuracy (train): {acc_train:.3f}')\n",
    "print(f'accuracy (valid): {acc_test:.3f}')"
   ]
  },
  {
   "attachments": {},
   "cell_type": "markdown",
   "metadata": {},
   "source": [
    "## 86. 畳み込みニューラルネットワーク(CNN)\n",
    "定義のみ"
   ]
  },
  {
   "cell_type": "code",
   "execution_count": 20,
   "metadata": {},
   "outputs": [],
   "source": [
    "from torch.nn import functional as F\n",
    "\n",
    "class CNN(nn.Module):\n",
    "    def __init__(self, vocab_size, emb_size, padding_idx, output_size, out_channels, kernel_heights, stride, padding, emb_weights=None):\n",
    "        super().__init__()\n",
    "        if emb_weights != None:\n",
    "            self.emb = nn.Embedding.from_pretrained(emb_weights, padding_idx=padding_idx)\n",
    "        else:\n",
    "            self.emb = nn.Embedding(vocab_size, emb_size, padding_idx=padding_idx)\n",
    "        self.conv = nn.Conv2d(1, out_channels, (kernel_heights, emb_size), stride, (padding, 0))\n",
    "        self.drop = nn.Dropout(0.3)\n",
    "        self.fc = nn.Linear(out_channels, output_size)\n",
    "    \n",
    "    def forward(self, x):\n",
    "        # x.size() = (batch_size, seq_len)\n",
    "        emb = self.emb(x).unsqueeze(1)\n",
    "        # emb.size() = (batch_size, 1, seq_len, emb_size)\n",
    "        conv = self.conv(emb)\n",
    "        # conv.size() = (batch_size, out_channels, seq_len, 1)\n",
    "        act = F.relu(conv.squeeze(3))\n",
    "        # act.size() = (batch_size, out_channels, seq_len)\n",
    "        max_pool = F.max_pool1d(act, act.size()[2])\n",
    "        # max_pool.size() = (batch_size, out_channels, 1)\n",
    "        out = self.fc(self.drop(max_pool.squeeze(2)))\n",
    "        # out.size() = (batch_size, output_size)\n",
    "        return out"
   ]
  },
  {
   "cell_type": "code",
   "execution_count": 21,
   "metadata": {},
   "outputs": [
    {
     "name": "stdout",
     "output_type": "stream",
     "text": [
      "tensor([[0.2699, 0.2784, 0.2314, 0.2203]], grad_fn=<SoftmaxBackward0>)\n",
      "tensor([[0.2638, 0.2535, 0.2381, 0.2446]], grad_fn=<SoftmaxBackward0>)\n",
      "tensor([[0.2792, 0.2717, 0.2533, 0.1959]], grad_fn=<SoftmaxBackward0>)\n",
      "tensor([[0.2577, 0.2769, 0.2299, 0.2355]], grad_fn=<SoftmaxBackward0>)\n",
      "tensor([[0.2722, 0.2512, 0.2412, 0.2354]], grad_fn=<SoftmaxBackward0>)\n",
      "tensor([[0.2725, 0.2515, 0.2308, 0.2451]], grad_fn=<SoftmaxBackward0>)\n",
      "tensor([[0.2639, 0.2776, 0.2317, 0.2268]], grad_fn=<SoftmaxBackward0>)\n",
      "tensor([[0.2788, 0.2554, 0.2399, 0.2259]], grad_fn=<SoftmaxBackward0>)\n",
      "tensor([[0.2840, 0.2700, 0.2109, 0.2351]], grad_fn=<SoftmaxBackward0>)\n",
      "tensor([[0.2678, 0.2673, 0.2333, 0.2316]], grad_fn=<SoftmaxBackward0>)\n"
     ]
    }
   ],
   "source": [
    "VOCAB_SIZE = len(set(word2id_dict.values())) + 1\n",
    "EMB_SIZE = 300\n",
    "PADDING_IDX = len(set(word2id_dict.values()))\n",
    "OUTPUT_SIZE = 4\n",
    "OUT_CHANNELS = 100\n",
    "KERNEL_HEIGHTS = 3\n",
    "STRIDE = 1\n",
    "PADDING = 1\n",
    "\n",
    "# モデルの定義\n",
    "model = CNN(VOCAB_SIZE, EMB_SIZE, PADDING_IDX, OUTPUT_SIZE, OUT_CHANNELS, KERNEL_HEIGHTS, STRIDE, PADDING, emb_weights=weights)\n",
    "\n",
    "# 先頭10件の予測値取得\n",
    "for i in range(10):\n",
    "    X = dataset_train[i]['inputs']\n",
    "    print(torch.softmax(model(X.unsqueeze(0)), dim=-1))"
   ]
  },
  {
   "attachments": {},
   "cell_type": "markdown",
   "metadata": {},
   "source": [
    "## 87. 確率的勾配降下法によるCNNの学習"
   ]
  },
  {
   "cell_type": "code",
   "execution_count": 22,
   "metadata": {},
   "outputs": [
    {
     "name": "stdout",
     "output_type": "stream",
     "text": [
      "epoch: 1, loss_train: 1.1307, accuracy_train: 0.4675, loss_valid: 1.1340, accuracy_valid: 0.4633, 104.0288sec\n",
      "epoch: 2, loss_train: 1.0680, accuracy_train: 0.6440, loss_valid: 1.0792, accuracy_valid: 0.6355, 104.2551sec\n",
      "epoch: 3, loss_train: 0.9830, accuracy_train: 0.6786, loss_valid: 1.0067, accuracy_valid: 0.6602, 104.2562sec\n",
      "epoch: 4, loss_train: 0.9076, accuracy_train: 0.7029, loss_valid: 0.9435, accuracy_valid: 0.6751, 104.8896sec\n",
      "epoch: 5, loss_train: 0.8537, accuracy_train: 0.7168, loss_valid: 0.8992, accuracy_valid: 0.6939, 103.9433sec\n",
      "epoch: 6, loss_train: 0.8158, accuracy_train: 0.7285, loss_valid: 0.8698, accuracy_valid: 0.7036, 104.6210sec\n",
      "epoch: 7, loss_train: 0.7915, accuracy_train: 0.7353, loss_valid: 0.8509, accuracy_valid: 0.7081, 104.0043sec\n",
      "epoch: 8, loss_train: 0.7776, accuracy_train: 0.7389, loss_valid: 0.8409, accuracy_valid: 0.7133, 105.2780sec\n",
      "epoch: 9, loss_train: 0.7712, accuracy_train: 0.7415, loss_valid: 0.8359, accuracy_valid: 0.7133, 104.0693sec\n",
      "epoch: 10, loss_train: 0.7696, accuracy_train: 0.7414, loss_valid: 0.8347, accuracy_valid: 0.7126, 103.2248sec\n"
     ]
    }
   ],
   "source": [
    "VOCAB_SIZE = len(set(word2id_dict.values())) + 1\n",
    "EMB_SIZE = 300\n",
    "PADDING_IDX = len(set(word2id_dict.values()))\n",
    "OUTPUT_SIZE = 4\n",
    "OUT_CHANNELS = 100\n",
    "KERNEL_HEIGHTS = 3\n",
    "STRIDE = 1\n",
    "PADDING = 1\n",
    "LEARNING_RATE = 5e-2\n",
    "BATCH_SIZE = 64\n",
    "NUM_EPOCHS = 10\n",
    "\n",
    "model = CNN(VOCAB_SIZE, EMB_SIZE, PADDING_IDX, OUTPUT_SIZE, OUT_CHANNELS, KERNEL_HEIGHTS, STRIDE, PADDING, emb_weights=weights)\n",
    "\n",
    "criterion = nn.CrossEntropyLoss()\n",
    "optimizer = torch.optim.SGD(model.parameters(), lr=LEARNING_RATE)\n",
    "device = torch.device('cuda:0') if torch.cuda.is_available() else torch.device('cpu')\n",
    "\n",
    "log = train_model(dataset_train, dataset_valid, BATCH_SIZE, model, criterion, optimizer, NUM_EPOCHS, collate_fn=Padsequence(PADDING_IDX), device=device)"
   ]
  },
  {
   "cell_type": "code",
   "execution_count": 23,
   "metadata": {},
   "outputs": [
    {
     "data": {
      "image/png": "[encoded data removed]",
      "text/plain": [
       "<Figure size 1080x360 with 2 Axes>"
      ]
     },
     "metadata": {
      "needs_background": "light"
     },
     "output_type": "display_data"
    },
    {
     "name": "stdout",
     "output_type": "stream",
     "text": [
      "accuracy (train): 0.741\n",
      "accuracy (valid): 0.698\n"
     ]
    }
   ],
   "source": [
    "visualize_logs(log)\n",
    "\n",
    "_, acc_train = calculate_loss_and_accuracy(model, dataset_train, device)\n",
    "_, acc_test = calculate_loss_and_accuracy(model, dataset_test, device)\n",
    "print(f'accuracy (train): {acc_train:.3f}')\n",
    "print(f'accuracy (valid): {acc_test:.3f}')"
   ]
  },
  {
   "attachments": {},
   "cell_type": "markdown",
   "metadata": {},
   "source": [
    "## 88. パラメータチューニング"
   ]
  },
  {
   "cell_type": "code",
   "execution_count": 69,
   "metadata": {},
   "outputs": [],
   "source": [
    "import optuna\n",
    "\n",
    "def objective(trial):\n",
    "    learning_rate = trial.suggest_loguniform('learning_rate', 5e-4, 5e-2)\n",
    "    momentum = trial.suggest_discrete_uniform('momentum', 0.5, 0.9, 0.1)\n",
    "    batch_size = int(trial.suggest_discrete_uniform('batch_size', 16, 128, 16))\n",
    "    hidden_size = int(trial.suggest_discrete_uniform('hidden_size', 50, 200, 50))\n",
    "    num_layers = int(trial.suggest_discrete_uniform('num_layers', 2, 4, 1))\n",
    "\n",
    "    VOCAB_SIZE = len(set(word2id_dict.values())) + 1\n",
    "    PADDING_IDX = len(set(word2id_dict.values()))\n",
    "    OUTPUT_SIZE = 4\n",
    "    NUM_EPOCHS = 20\n",
    "    EMB_SIZE = 300\n",
    "\n",
    "    model = RNN_mod1(VOCAB_SIZE, EMB_SIZE, PADDING_IDX, OUTPUT_SIZE, hidden_size, num_layers, emb_weights=weights, bidirectional=True)\n",
    "\n",
    "    criterion = nn.CrossEntropyLoss()\n",
    "    optimizer = torch.optim.SGD(model.parameters(), lr=learning_rate, momentum=momentum)\n",
    "    device = torch.device('cuda:0') if torch.cuda.is_available() else torch.device('cpu')\n",
    "\n",
    "    log = train_model(dataset_train, dataset_valid, batch_size, model, criterion, optimizer, NUM_EPOCHS, collate_fn=Padsequence(PADDING_IDX), device=device)\n",
    "\n",
    "    loss_valid, _ = calculate_loss_and_accuracy(model, dataset_valid, device, criterion=criterion) \n",
    "\n",
    "    return loss_valid"
   ]
  },
  {
   "cell_type": "code",
   "execution_count": 70,
   "metadata": {},
   "outputs": [
    {
     "name": "stderr",
     "output_type": "stream",
     "text": [
      "\u001b[32m[I 2023-06-28 01:43:19,254]\u001b[0m A new study created in memory with name: no-name-1a1a9540-f90f-4d5a-8074-39d249a802bc\u001b[0m\n",
      "/home/morioka/.local/lib/python3.6/site-packages/ipykernel_launcher.py:4: FutureWarning: suggest_loguniform has been deprecated in v3.0.0. This feature will be removed in v6.0.0. See https://github.com/optuna/optuna/releases/tag/v3.0.0. Use :func:`~optuna.trial.Trial.suggest_float` instead.\n",
      "  after removing the cwd from sys.path.\n",
      "/home/morioka/.local/lib/python3.6/site-packages/ipykernel_launcher.py:5: FutureWarning: suggest_discrete_uniform has been deprecated in v3.0.0. This feature will be removed in v6.0.0. See https://github.com/optuna/optuna/releases/tag/v3.0.0. Use :func:`~optuna.trial.Trial.suggest_float` instead.\n",
      "  \"\"\"\n",
      "/home/morioka/.local/lib/python3.6/site-packages/ipykernel_launcher.py:6: FutureWarning: suggest_discrete_uniform has been deprecated in v3.0.0. This feature will be removed in v6.0.0. See https://github.com/optuna/optuna/releases/tag/v3.0.0. Use :func:`~optuna.trial.Trial.suggest_float` instead.\n",
      "  \n",
      "/home/morioka/.local/lib/python3.6/site-packages/ipykernel_launcher.py:7: FutureWarning: suggest_discrete_uniform has been deprecated in v3.0.0. This feature will be removed in v6.0.0. See https://github.com/optuna/optuna/releases/tag/v3.0.0. Use :func:`~optuna.trial.Trial.suggest_float` instead.\n",
      "  import sys\n",
      "/home/morioka/.local/lib/python3.6/site-packages/ipykernel_launcher.py:8: FutureWarning: suggest_discrete_uniform has been deprecated in v3.0.0. This feature will be removed in v6.0.0. See https://github.com/optuna/optuna/releases/tag/v3.0.0. Use :func:`~optuna.trial.Trial.suggest_float` instead.\n",
      "  \n"
     ]
    },
    {
     "name": "stdout",
     "output_type": "stream",
     "text": [
      "epoch: 1, loss_train: 1.1677, accuracy_train: 0.3978, loss_valid: 1.1670, accuracy_valid: 0.4027, 123.2983sec\n",
      "epoch: 2, loss_train: 1.1217, accuracy_train: 0.5256, loss_valid: 1.1212, accuracy_valid: 0.5157, 120.7917sec\n",
      "epoch: 3, loss_train: 1.0181, accuracy_train: 0.5973, loss_valid: 1.0142, accuracy_valid: 0.5996, 120.0387sec\n",
      "epoch: 4, loss_train: 0.9573, accuracy_train: 0.6526, loss_valid: 0.9701, accuracy_valid: 0.6355, 122.1190sec\n",
      "epoch: 5, loss_train: 0.9946, accuracy_train: 0.6144, loss_valid: 1.0075, accuracy_valid: 0.6010, 120.3458sec\n",
      "epoch: 6, loss_train: 0.9333, accuracy_train: 0.6584, loss_valid: 0.9511, accuracy_valid: 0.6392, 121.1115sec\n",
      "epoch: 7, loss_train: 0.9368, accuracy_train: 0.6421, loss_valid: 0.9622, accuracy_valid: 0.6243, 121.0196sec\n",
      "epoch: 8, loss_train: 0.8829, accuracy_train: 0.6635, loss_valid: 0.9120, accuracy_valid: 0.6422, 120.0087sec\n",
      "epoch: 9, loss_train: 0.9461, accuracy_train: 0.6452, loss_valid: 0.9802, accuracy_valid: 0.6257, 120.9484sec\n",
      "epoch: 10, loss_train: 0.9025, accuracy_train: 0.6421, loss_valid: 0.9396, accuracy_valid: 0.6265, 120.8762sec\n",
      "epoch: 11, loss_train: 0.8615, accuracy_train: 0.6597, loss_valid: 0.9076, accuracy_valid: 0.6385, 120.4347sec\n",
      "epoch: 12, loss_train: 0.8588, accuracy_train: 0.6635, loss_valid: 0.9039, accuracy_valid: 0.6467, 120.1587sec\n",
      "epoch: 13, loss_train: 0.8780, accuracy_train: 0.6561, loss_valid: 0.9246, accuracy_valid: 0.6430, 120.6058sec\n",
      "epoch: 14, loss_train: 0.8643, accuracy_train: 0.6654, loss_valid: 0.9145, accuracy_valid: 0.6475, 120.5908sec\n",
      "epoch: 15, loss_train: 0.8454, accuracy_train: 0.6715, loss_valid: 0.9038, accuracy_valid: 0.6519, 120.4048sec\n",
      "epoch: 16, loss_train: 0.8706, accuracy_train: 0.6595, loss_valid: 0.9257, accuracy_valid: 0.6430, 119.7577sec\n",
      "epoch: 17, loss_train: 0.8715, accuracy_train: 0.6592, loss_valid: 0.9314, accuracy_valid: 0.6445, 119.5153sec\n",
      "epoch: 18, loss_train: 0.8497, accuracy_train: 0.6718, loss_valid: 0.9072, accuracy_valid: 0.6497, 120.3150sec\n",
      "epoch: 19, loss_train: 0.8540, accuracy_train: 0.6697, loss_valid: 0.9134, accuracy_valid: 0.6467, 120.6845sec\n",
      "epoch: 20, loss_train: 0.8522, accuracy_train: 0.6711, loss_valid: 0.9112, accuracy_valid: 0.6482, 120.6288sec\n"
     ]
    },
    {
     "name": "stderr",
     "output_type": "stream",
     "text": [
      "\u001b[32m[I 2023-06-28 02:23:45,787]\u001b[0m Trial 0 finished with value: 0.9112346109099028 and parameters: {'learning_rate': 0.0012487145614158773, 'momentum': 0.9, 'batch_size': 16.0, 'hidden_size': 200.0, 'num_layers': 3.0}. Best is trial 0 with value: 0.9112346109099028.\u001b[0m\n"
     ]
    },
    {
     "name": "stdout",
     "output_type": "stream",
     "text": [
      "epoch: 1, loss_train: 1.1619, accuracy_train: 0.4289, loss_valid: 1.1621, accuracy_valid: 0.4341, 116.5524sec\n",
      "epoch: 2, loss_train: 1.1631, accuracy_train: 0.4195, loss_valid: 1.1631, accuracy_valid: 0.4102, 116.5069sec\n",
      "epoch: 3, loss_train: 1.1633, accuracy_train: 0.4235, loss_valid: 1.1628, accuracy_valid: 0.4139, 115.9650sec\n",
      "epoch: 4, loss_train: 1.1749, accuracy_train: 0.4081, loss_valid: 1.1731, accuracy_valid: 0.4072, 115.1471sec\n",
      "epoch: 5, loss_train: 1.1835, accuracy_train: 0.4306, loss_valid: 1.1823, accuracy_valid: 0.4334, 115.9770sec\n",
      "epoch: 6, loss_train: 1.0685, accuracy_train: 0.5735, loss_valid: 1.0763, accuracy_valid: 0.5666, 115.0424sec\n",
      "epoch: 7, loss_train: 1.0029, accuracy_train: 0.6191, loss_valid: 1.0180, accuracy_valid: 0.6093, 115.5710sec\n",
      "epoch: 8, loss_train: 0.9909, accuracy_train: 0.6256, loss_valid: 0.9950, accuracy_valid: 0.6213, 115.3495sec\n",
      "epoch: 9, loss_train: 0.9750, accuracy_train: 0.6321, loss_valid: 0.9980, accuracy_valid: 0.6153, 115.4220sec\n",
      "epoch: 10, loss_train: 0.9833, accuracy_train: 0.6250, loss_valid: 0.9913, accuracy_valid: 0.6295, 116.2023sec\n",
      "epoch: 11, loss_train: 0.9491, accuracy_train: 0.6523, loss_valid: 0.9675, accuracy_valid: 0.6467, 116.9440sec\n",
      "epoch: 12, loss_train: 0.9310, accuracy_train: 0.6582, loss_valid: 0.9552, accuracy_valid: 0.6512, 115.5829sec\n",
      "epoch: 13, loss_train: 0.9308, accuracy_train: 0.6581, loss_valid: 0.9607, accuracy_valid: 0.6437, 115.8108sec\n",
      "epoch: 14, loss_train: 0.9217, accuracy_train: 0.6629, loss_valid: 0.9484, accuracy_valid: 0.6534, 115.3801sec\n",
      "epoch: 15, loss_train: 0.9325, accuracy_train: 0.6560, loss_valid: 0.9613, accuracy_valid: 0.6460, 115.7838sec\n",
      "epoch: 16, loss_train: 0.9203, accuracy_train: 0.6613, loss_valid: 0.9518, accuracy_valid: 0.6519, 116.0406sec\n",
      "epoch: 17, loss_train: 0.9189, accuracy_train: 0.6616, loss_valid: 0.9522, accuracy_valid: 0.6504, 116.2833sec\n",
      "epoch: 18, loss_train: 0.9264, accuracy_train: 0.6592, loss_valid: 0.9595, accuracy_valid: 0.6467, 115.7857sec\n",
      "epoch: 19, loss_train: 0.9255, accuracy_train: 0.6585, loss_valid: 0.9556, accuracy_valid: 0.6460, 115.9698sec\n",
      "epoch: 20, loss_train: 0.9212, accuracy_train: 0.6604, loss_valid: 0.9542, accuracy_valid: 0.6527, 116.5049sec\n"
     ]
    },
    {
     "name": "stderr",
     "output_type": "stream",
     "text": [
      "\u001b[32m[I 2023-06-28 03:02:36,401]\u001b[0m Trial 1 finished with value: 0.9542200914667752 and parameters: {'learning_rate': 0.006176954921487048, 'momentum': 0.8, 'batch_size': 64.0, 'hidden_size': 50.0, 'num_layers': 3.0}. Best is trial 0 with value: 0.9112346109099028.\u001b[0m\n"
     ]
    },
    {
     "name": "stdout",
     "output_type": "stream",
     "text": [
      "epoch: 1, loss_train: 1.1640, accuracy_train: 0.4206, loss_valid: 1.1642, accuracy_valid: 0.4124, 118.8587sec\n",
      "epoch: 2, loss_train: 1.1642, accuracy_train: 0.4101, loss_valid: 1.1644, accuracy_valid: 0.4027, 119.1330sec\n",
      "epoch: 3, loss_train: 1.1659, accuracy_train: 0.4052, loss_valid: 1.1659, accuracy_valid: 0.4004, 119.1854sec\n",
      "epoch: 4, loss_train: 1.1641, accuracy_train: 0.4200, loss_valid: 1.1638, accuracy_valid: 0.4259, 118.7934sec\n",
      "epoch: 5, loss_train: 1.1716, accuracy_train: 0.4012, loss_valid: 1.1704, accuracy_valid: 0.4019, 118.2566sec\n",
      "epoch: 6, loss_train: 1.1736, accuracy_train: 0.4086, loss_valid: 1.1704, accuracy_valid: 0.4079, 119.0273sec\n",
      "epoch: 7, loss_train: 1.2029, accuracy_train: 0.3999, loss_valid: 1.1944, accuracy_valid: 0.3990, 118.9501sec\n"
     ]
    },
    {
     "name": "stderr",
     "output_type": "stream",
     "text": [
      "\u001b[32m[I 2023-06-28 03:16:41,640]\u001b[0m Trial 2 finished with value: 1.1943859257428588 and parameters: {'learning_rate': 0.004468441176770839, 'momentum': 0.8, 'batch_size': 96.0, 'hidden_size': 100.0, 'num_layers': 4.0}. Best is trial 0 with value: 0.9112346109099028.\u001b[0m\n"
     ]
    },
    {
     "name": "stdout",
     "output_type": "stream",
     "text": [
      "epoch: 1, loss_train: 1.2063, accuracy_train: 0.4190, loss_valid: 1.2079, accuracy_valid: 0.4311, 111.6333sec\n",
      "epoch: 2, loss_train: 1.1682, accuracy_train: 0.4159, loss_valid: 1.1701, accuracy_valid: 0.4237, 112.2182sec\n",
      "epoch: 3, loss_train: 1.1645, accuracy_train: 0.4182, loss_valid: 1.1664, accuracy_valid: 0.4199, 112.9456sec\n",
      "epoch: 4, loss_train: 1.1632, accuracy_train: 0.4173, loss_valid: 1.1652, accuracy_valid: 0.4162, 112.1955sec\n",
      "epoch: 5, loss_train: 1.1632, accuracy_train: 0.4165, loss_valid: 1.1652, accuracy_valid: 0.4184, 111.1678sec\n",
      "epoch: 6, loss_train: 1.1629, accuracy_train: 0.4172, loss_valid: 1.1649, accuracy_valid: 0.4169, 112.8663sec\n",
      "epoch: 7, loss_train: 1.1627, accuracy_train: 0.4174, loss_valid: 1.1648, accuracy_valid: 0.4229, 112.3619sec\n",
      "epoch: 8, loss_train: 1.1627, accuracy_train: 0.4186, loss_valid: 1.1648, accuracy_valid: 0.4214, 112.3801sec\n",
      "epoch: 9, loss_train: 1.1628, accuracy_train: 0.4183, loss_valid: 1.1649, accuracy_valid: 0.4207, 112.0075sec\n",
      "epoch: 10, loss_train: 1.1628, accuracy_train: 0.4180, loss_valid: 1.1649, accuracy_valid: 0.4207, 115.0232sec\n"
     ]
    },
    {
     "name": "stderr",
     "output_type": "stream",
     "text": [
      "\u001b[32m[I 2023-06-28 03:35:38,375]\u001b[0m Trial 3 finished with value: 1.16490323560502 and parameters: {'learning_rate': 0.0008125991472757116, 'momentum': 0.8, 'batch_size': 80.0, 'hidden_size': 100.0, 'num_layers': 2.0}. Best is trial 0 with value: 0.9112346109099028.\u001b[0m\n"
     ]
    },
    {
     "name": "stdout",
     "output_type": "stream",
     "text": [
      "epoch: 1, loss_train: 1.1920, accuracy_train: 0.4221, loss_valid: 1.1938, accuracy_valid: 0.4207, 109.7284sec\n",
      "epoch: 2, loss_train: 1.1630, accuracy_train: 0.4207, loss_valid: 1.1654, accuracy_valid: 0.4192, 113.5278sec\n",
      "epoch: 3, loss_train: 1.1612, accuracy_train: 0.4214, loss_valid: 1.1637, accuracy_valid: 0.4199, 113.0912sec\n",
      "epoch: 4, loss_train: 1.1609, accuracy_train: 0.4213, loss_valid: 1.1634, accuracy_valid: 0.4169, 111.9898sec\n",
      "epoch: 5, loss_train: 1.1608, accuracy_train: 0.4195, loss_valid: 1.1633, accuracy_valid: 0.4222, 107.2773sec\n",
      "epoch: 6, loss_train: 1.1608, accuracy_train: 0.4189, loss_valid: 1.1634, accuracy_valid: 0.4169, 111.9642sec\n",
      "epoch: 7, loss_train: 1.1606, accuracy_train: 0.4196, loss_valid: 1.1632, accuracy_valid: 0.4139, 112.2490sec\n",
      "epoch: 8, loss_train: 1.1605, accuracy_train: 0.4189, loss_valid: 1.1632, accuracy_valid: 0.4154, 112.7256sec\n",
      "epoch: 9, loss_train: 1.1606, accuracy_train: 0.4174, loss_valid: 1.1633, accuracy_valid: 0.4124, 111.6244sec\n",
      "epoch: 10, loss_train: 1.1607, accuracy_train: 0.4214, loss_valid: 1.1633, accuracy_valid: 0.4109, 112.2218sec\n",
      "epoch: 11, loss_train: 1.1606, accuracy_train: 0.4183, loss_valid: 1.1632, accuracy_valid: 0.4109, 112.1505sec\n",
      "epoch: 12, loss_train: 1.1606, accuracy_train: 0.4191, loss_valid: 1.1632, accuracy_valid: 0.4102, 114.8504sec\n",
      "epoch: 13, loss_train: 1.1606, accuracy_train: 0.4193, loss_valid: 1.1632, accuracy_valid: 0.4169, 112.2766sec\n",
      "epoch: 14, loss_train: 1.1607, accuracy_train: 0.4210, loss_valid: 1.1633, accuracy_valid: 0.4109, 111.8695sec\n",
      "epoch: 15, loss_train: 1.1607, accuracy_train: 0.4200, loss_valid: 1.1633, accuracy_valid: 0.4094, 113.8572sec\n"
     ]
    },
    {
     "name": "stderr",
     "output_type": "stream",
     "text": [
      "\u001b[32m[I 2023-06-28 04:03:52,209]\u001b[0m Trial 4 finished with value: 1.1633239533908353 and parameters: {'learning_rate': 0.0009054258875957542, 'momentum': 0.8, 'batch_size': 80.0, 'hidden_size': 150.0, 'num_layers': 2.0}. Best is trial 0 with value: 0.9112346109099028.\u001b[0m\n"
     ]
    },
    {
     "name": "stdout",
     "output_type": "stream",
     "text": [
      "epoch: 1, loss_train: 1.1657, accuracy_train: 0.4229, loss_valid: 1.1689, accuracy_valid: 0.4222, 121.5367sec\n",
      "epoch: 2, loss_train: 1.1771, accuracy_train: 0.3990, loss_valid: 1.1796, accuracy_valid: 0.4004, 125.1864sec\n",
      "epoch: 3, loss_train: 1.1774, accuracy_train: 0.4001, loss_valid: 1.1786, accuracy_valid: 0.3975, 128.0728sec\n",
      "epoch: 4, loss_train: 1.2087, accuracy_train: 0.3977, loss_valid: 1.2064, accuracy_valid: 0.3945, 116.0707sec\n",
      "epoch: 5, loss_train: 1.2439, accuracy_train: 0.3975, loss_valid: 1.2370, accuracy_valid: 0.3967, 115.4115sec\n",
      "epoch: 6, loss_train: 1.1289, accuracy_train: 0.5085, loss_valid: 1.1209, accuracy_valid: 0.5067, 117.4332sec\n",
      "epoch: 7, loss_train: 1.0679, accuracy_train: 0.5798, loss_valid: 1.0648, accuracy_valid: 0.5801, 123.7511sec\n",
      "epoch: 8, loss_train: 1.1030, accuracy_train: 0.5485, loss_valid: 1.0944, accuracy_valid: 0.5472, 115.6796sec\n",
      "epoch: 9, loss_train: 0.9739, accuracy_train: 0.6364, loss_valid: 0.9757, accuracy_valid: 0.6467, 135.9323sec\n",
      "epoch: 10, loss_train: 0.9722, accuracy_train: 0.6389, loss_valid: 0.9759, accuracy_valid: 0.6467, 115.9248sec\n",
      "epoch: 11, loss_train: 1.0236, accuracy_train: 0.6001, loss_valid: 1.0202, accuracy_valid: 0.6078, 115.6034sec\n",
      "epoch: 12, loss_train: 0.9740, accuracy_train: 0.6380, loss_valid: 0.9801, accuracy_valid: 0.6385, 131.3205sec\n",
      "epoch: 13, loss_train: 0.9371, accuracy_train: 0.6582, loss_valid: 0.9530, accuracy_valid: 0.6602, 115.6603sec\n",
      "epoch: 14, loss_train: 0.9499, accuracy_train: 0.6506, loss_valid: 0.9679, accuracy_valid: 0.6519, 116.0040sec\n",
      "epoch: 15, loss_train: 0.9413, accuracy_train: 0.6525, loss_valid: 0.9594, accuracy_valid: 0.6512, 115.3487sec\n",
      "epoch: 16, loss_train: 0.9613, accuracy_train: 0.6432, loss_valid: 0.9745, accuracy_valid: 0.6415, 115.6335sec\n",
      "epoch: 17, loss_train: 0.9514, accuracy_train: 0.6483, loss_valid: 0.9678, accuracy_valid: 0.6482, 121.8998sec\n",
      "epoch: 18, loss_train: 0.9538, accuracy_train: 0.6465, loss_valid: 0.9699, accuracy_valid: 0.6475, 117.0226sec\n",
      "epoch: 19, loss_train: 0.9540, accuracy_train: 0.6460, loss_valid: 0.9700, accuracy_valid: 0.6452, 115.8576sec\n",
      "epoch: 20, loss_train: 0.9478, accuracy_train: 0.6494, loss_valid: 0.9655, accuracy_valid: 0.6534, 115.5436sec\n"
     ]
    },
    {
     "name": "stderr",
     "output_type": "stream",
     "text": [
      "\u001b[32m[I 2023-06-28 04:43:59,651]\u001b[0m Trial 5 finished with value: 0.9655457789323734 and parameters: {'learning_rate': 0.010486375987360923, 'momentum': 0.7, 'batch_size': 64.0, 'hidden_size': 50.0, 'num_layers': 3.0}. Best is trial 0 with value: 0.9112346109099028.\u001b[0m\n"
     ]
    },
    {
     "name": "stdout",
     "output_type": "stream",
     "text": [
      "epoch: 1, loss_train: 1.1750, accuracy_train: 0.3958, loss_valid: 1.1751, accuracy_valid: 0.4004, 116.5627sec\n",
      "epoch: 2, loss_train: 1.1495, accuracy_train: 0.4733, loss_valid: 1.1425, accuracy_valid: 0.4798, 116.1085sec\n",
      "epoch: 3, loss_train: 1.1322, accuracy_train: 0.5159, loss_valid: 1.1197, accuracy_valid: 0.5247, 115.9005sec\n",
      "epoch: 4, loss_train: 1.2622, accuracy_train: 0.3826, loss_valid: 1.2512, accuracy_valid: 0.3975, 116.3118sec\n",
      "epoch: 5, loss_train: 1.2496, accuracy_train: 0.4436, loss_valid: 1.2371, accuracy_valid: 0.4491, 115.3047sec\n",
      "epoch: 6, loss_train: 1.1087, accuracy_train: 0.5414, loss_valid: 1.1058, accuracy_valid: 0.5389, 116.1841sec\n",
      "epoch: 7, loss_train: 1.2643, accuracy_train: 0.4897, loss_valid: 1.2535, accuracy_valid: 0.4910, 116.2835sec\n",
      "epoch: 8, loss_train: 1.2037, accuracy_train: 0.4761, loss_valid: 1.2053, accuracy_valid: 0.4738, 115.4033sec\n",
      "epoch: 9, loss_train: 1.0360, accuracy_train: 0.5825, loss_valid: 1.0473, accuracy_valid: 0.5763, 116.2228sec\n",
      "epoch: 10, loss_train: 1.0293, accuracy_train: 0.5899, loss_valid: 1.0530, accuracy_valid: 0.5756, 119.4706sec\n",
      "epoch: 11, loss_train: 1.1520, accuracy_train: 0.5199, loss_valid: 1.1649, accuracy_valid: 0.5120, 117.9123sec\n",
      "epoch: 12, loss_train: 1.0951, accuracy_train: 0.5447, loss_valid: 1.1091, accuracy_valid: 0.5344, 122.6418sec\n",
      "epoch: 13, loss_train: 1.1334, accuracy_train: 0.5398, loss_valid: 1.1538, accuracy_valid: 0.5337, 116.9477sec\n",
      "epoch: 14, loss_train: 1.1756, accuracy_train: 0.5227, loss_valid: 1.1878, accuracy_valid: 0.5217, 115.6133sec\n",
      "epoch: 15, loss_train: 1.1507, accuracy_train: 0.5366, loss_valid: 1.1681, accuracy_valid: 0.5240, 115.4870sec\n",
      "epoch: 16, loss_train: 1.2499, accuracy_train: 0.5155, loss_valid: 1.2594, accuracy_valid: 0.5180, 115.6587sec\n",
      "epoch: 17, loss_train: 1.2192, accuracy_train: 0.5281, loss_valid: 1.2301, accuracy_valid: 0.5232, 116.9261sec\n",
      "epoch: 18, loss_train: 1.2321, accuracy_train: 0.5112, loss_valid: 1.2460, accuracy_valid: 0.5022, 115.8070sec\n",
      "epoch: 19, loss_train: 1.2298, accuracy_train: 0.5197, loss_valid: 1.2452, accuracy_valid: 0.5097, 116.2658sec\n",
      "epoch: 20, loss_train: 1.2374, accuracy_train: 0.5183, loss_valid: 1.2523, accuracy_valid: 0.5105, 115.9409sec\n"
     ]
    },
    {
     "name": "stderr",
     "output_type": "stream",
     "text": [
      "\u001b[32m[I 2023-06-28 05:23:05,585]\u001b[0m Trial 6 finished with value: 1.252309798908526 and parameters: {'learning_rate': 0.026246972379642772, 'momentum': 0.8, 'batch_size': 80.0, 'hidden_size': 150.0, 'num_layers': 3.0}. Best is trial 0 with value: 0.9112346109099028.\u001b[0m\n"
     ]
    },
    {
     "name": "stdout",
     "output_type": "stream",
     "text": [
      "epoch: 1, loss_train: 1.1706, accuracy_train: 0.4179, loss_valid: 1.1696, accuracy_valid: 0.4237, 115.5648sec\n",
      "epoch: 2, loss_train: 1.1651, accuracy_train: 0.4171, loss_valid: 1.1643, accuracy_valid: 0.4192, 115.6981sec\n",
      "epoch: 3, loss_train: 1.1641, accuracy_train: 0.4173, loss_valid: 1.1633, accuracy_valid: 0.4192, 115.3765sec\n",
      "epoch: 4, loss_train: 1.1635, accuracy_train: 0.4212, loss_valid: 1.1628, accuracy_valid: 0.4259, 115.4033sec\n",
      "epoch: 5, loss_train: 1.1633, accuracy_train: 0.4225, loss_valid: 1.1626, accuracy_valid: 0.4409, 115.1529sec\n",
      "epoch: 6, loss_train: 1.1630, accuracy_train: 0.4247, loss_valid: 1.1623, accuracy_valid: 0.4364, 115.2038sec\n",
      "epoch: 7, loss_train: 1.1634, accuracy_train: 0.4228, loss_valid: 1.1626, accuracy_valid: 0.4364, 114.8818sec\n",
      "epoch: 8, loss_train: 1.1631, accuracy_train: 0.4214, loss_valid: 1.1624, accuracy_valid: 0.4311, 114.7134sec\n",
      "epoch: 9, loss_train: 1.1632, accuracy_train: 0.4207, loss_valid: 1.1625, accuracy_valid: 0.4289, 114.2355sec\n",
      "epoch: 10, loss_train: 1.1630, accuracy_train: 0.4227, loss_valid: 1.1623, accuracy_valid: 0.4319, 115.1539sec\n",
      "epoch: 11, loss_train: 1.1631, accuracy_train: 0.4258, loss_valid: 1.1624, accuracy_valid: 0.4356, 114.7153sec\n",
      "epoch: 12, loss_train: 1.1631, accuracy_train: 0.4243, loss_valid: 1.1624, accuracy_valid: 0.4311, 114.8324sec\n",
      "epoch: 13, loss_train: 1.1630, accuracy_train: 0.4275, loss_valid: 1.1623, accuracy_valid: 0.4379, 114.5822sec\n",
      "epoch: 14, loss_train: 1.1630, accuracy_train: 0.4268, loss_valid: 1.1623, accuracy_valid: 0.4371, 114.5544sec\n",
      "epoch: 15, loss_train: 1.1630, accuracy_train: 0.4263, loss_valid: 1.1623, accuracy_valid: 0.4379, 115.1858sec\n",
      "epoch: 16, loss_train: 1.1630, accuracy_train: 0.4262, loss_valid: 1.1623, accuracy_valid: 0.4386, 114.9771sec\n",
      "epoch: 17, loss_train: 1.1631, accuracy_train: 0.4265, loss_valid: 1.1623, accuracy_valid: 0.4371, 114.3640sec\n"
     ]
    },
    {
     "name": "stderr",
     "output_type": "stream",
     "text": [
      "\u001b[32m[I 2023-06-28 05:55:53,353]\u001b[0m Trial 7 finished with value: 1.1623430664757055 and parameters: {'learning_rate': 0.002583184083245428, 'momentum': 0.7, 'batch_size': 128.0, 'hidden_size': 100.0, 'num_layers': 3.0}. Best is trial 0 with value: 0.9112346109099028.\u001b[0m\n"
     ]
    },
    {
     "name": "stdout",
     "output_type": "stream",
     "text": [
      "Best trial:\n",
      "  Value: 0.911\n",
      "  Params: \n",
      "    learning_rate: 0.0012487145614158773\n",
      "    momentum: 0.9\n",
      "    batch_size: 16.0\n",
      "    hidden_size: 200.0\n",
      "    num_layers: 3.0\n"
     ]
    }
   ],
   "source": [
    "# 最適化\n",
    "study = optuna.create_study()\n",
    "study.optimize(objective, timeout=14400)\n",
    "\n",
    "# 結果の表示\n",
    "print('Best trial:')\n",
    "trial = study.best_trial\n",
    "print('  Value: {:.3f}'.format(trial.value))\n",
    "print('  Params: ')\n",
    "for key, value in trial.params.items():\n",
    "    print('    {}: {}'.format(key, value))"
   ]
  },
  {
   "attachments": {},
   "cell_type": "markdown",
   "metadata": {},
   "source": [
    "Best trial:\n",
    "  Value: 0.911\n",
    "  Params: \n",
    "    learning_rate: 0.0012487145614158773\n",
    "    momentum: 0.9\n",
    "    batch_size: 16.0\n",
    "    hidden_size: 200.0\n",
    "    num_layers: 3.0"
   ]
  },
  {
   "cell_type": "code",
   "execution_count": 71,
   "metadata": {},
   "outputs": [
    {
     "name": "stdout",
     "output_type": "stream",
     "text": [
      "epoch: 1, loss_train: 1.1760, accuracy_train: 0.3960, loss_valid: 1.1793, accuracy_valid: 0.3952, 121.4011sec\n",
      "epoch: 2, loss_train: 1.1311, accuracy_train: 0.4879, loss_valid: 1.1284, accuracy_valid: 0.5000, 120.4357sec\n",
      "epoch: 3, loss_train: 1.0219, accuracy_train: 0.5914, loss_valid: 1.0244, accuracy_valid: 0.5883, 121.4564sec\n",
      "epoch: 4, loss_train: 0.9634, accuracy_train: 0.6384, loss_valid: 0.9776, accuracy_valid: 0.6295, 120.7269sec\n",
      "epoch: 5, loss_train: 0.9422, accuracy_train: 0.6411, loss_valid: 0.9604, accuracy_valid: 0.6340, 121.0694sec\n",
      "epoch: 6, loss_train: 0.9665, accuracy_train: 0.6165, loss_valid: 0.9823, accuracy_valid: 0.6070, 120.5892sec\n",
      "epoch: 7, loss_train: 0.9044, accuracy_train: 0.6413, loss_valid: 0.9368, accuracy_valid: 0.6332, 120.1659sec\n",
      "epoch: 8, loss_train: 0.9391, accuracy_train: 0.6179, loss_valid: 0.9638, accuracy_valid: 0.6085, 120.5240sec\n",
      "epoch: 9, loss_train: 0.8976, accuracy_train: 0.6483, loss_valid: 0.9309, accuracy_valid: 0.6392, 119.8880sec\n",
      "epoch: 10, loss_train: 0.9871, accuracy_train: 0.5879, loss_valid: 1.0176, accuracy_valid: 0.5726, 120.6973sec\n",
      "epoch: 11, loss_train: 0.8883, accuracy_train: 0.6495, loss_valid: 0.9342, accuracy_valid: 0.6400, 120.4269sec\n",
      "epoch: 12, loss_train: 0.9197, accuracy_train: 0.6297, loss_valid: 0.9628, accuracy_valid: 0.6205, 119.6502sec\n",
      "epoch: 13, loss_train: 0.9163, accuracy_train: 0.6343, loss_valid: 0.9638, accuracy_valid: 0.6190, 118.6517sec\n",
      "epoch: 14, loss_train: 0.8909, accuracy_train: 0.6527, loss_valid: 0.9460, accuracy_valid: 0.6272, 120.1859sec\n",
      "epoch: 15, loss_train: 0.9092, accuracy_train: 0.6362, loss_valid: 0.9686, accuracy_valid: 0.6130, 121.2119sec\n",
      "epoch: 16, loss_train: 0.8879, accuracy_train: 0.6493, loss_valid: 0.9479, accuracy_valid: 0.6243, 121.0980sec\n",
      "epoch: 17, loss_train: 0.8867, accuracy_train: 0.6489, loss_valid: 0.9482, accuracy_valid: 0.6257, 116.9102sec\n",
      "epoch: 18, loss_train: 0.8911, accuracy_train: 0.6483, loss_valid: 0.9535, accuracy_valid: 0.6175, 121.4162sec\n",
      "epoch: 19, loss_train: 0.8874, accuracy_train: 0.6459, loss_valid: 0.9515, accuracy_valid: 0.6250, 120.2791sec\n",
      "epoch: 20, loss_train: 0.8912, accuracy_train: 0.6463, loss_valid: 0.9540, accuracy_valid: 0.6228, 120.5791sec\n"
     ]
    }
   ],
   "source": [
    "VOCAB_SIZE = len(set(word2id_dict.values())) + 1\n",
    "EMB_SIZE = 300\n",
    "PADDING_IDX = len(set(word2id_dict.values()))\n",
    "OUTPUT_SIZE = 4\n",
    "HIDDEN_SIZE = 200\n",
    "NUM_LAYERS = 3\n",
    "LEARNING_RATE = 0.0012487145614158773\n",
    "BATCH_SIZE = 16\n",
    "NUM_EPOCHS = 20\n",
    "\n",
    "model = RNN_mod1(VOCAB_SIZE, EMB_SIZE, PADDING_IDX, OUTPUT_SIZE, HIDDEN_SIZE, NUM_LAYERS, emb_weights=weights, bidirectional=True) #bidirectional:双方向でモデル作成\n",
    "\n",
    "criterion = nn.CrossEntropyLoss()\n",
    "optimizer = torch.optim.SGD(model.parameters(), lr=LEARNING_RATE, momentum=0.9)\n",
    "device = torch.device('cuda:0') if torch.cuda.is_available() else torch.device('cpu')\n",
    "\n",
    "log = train_model(dataset_train, dataset_valid, BATCH_SIZE, model, criterion, optimizer, NUM_EPOCHS, collate_fn=Padsequence(PADDING_IDX), device=device)"
   ]
  },
  {
   "cell_type": "code",
   "execution_count": 72,
   "metadata": {},
   "outputs": [
    {
     "data": {
      "image/png": "[encoded data removed]",
      "text/plain": [
       "<Figure size 1080x360 with 2 Axes>"
      ]
     },
     "metadata": {
      "needs_background": "light"
     },
     "output_type": "display_data"
    },
    {
     "name": "stdout",
     "output_type": "stream",
     "text": [
      "accuracy (train): 0.646\n",
      "accuracy (valid): 0.632\n"
     ]
    }
   ],
   "source": [
    "visualize_logs(log)\n",
    "\n",
    "_, acc_train = calculate_loss_and_accuracy(model, dataset_train, device)\n",
    "_, acc_test = calculate_loss_and_accuracy(model, dataset_test, device)\n",
    "print(f'accuracy (train): {acc_train:.3f}')\n",
    "print(f'accuracy (valid): {acc_test:.3f}')"
   ]
  },
  {
   "attachments": {},
   "cell_type": "markdown",
   "metadata": {},
   "source": [
    "## 89. 事前学習済みモデルから転移学習"
   ]
  },
  {
   "cell_type": "code",
   "execution_count": 73,
   "metadata": {},
   "outputs": [],
   "source": [
    "from transformers import BertTokenizer, BertModel\n",
    "\n",
    "class PTMDataset(Dataset):\n",
    "    def __init__(self, X, y, tokenizer, max_len):\n",
    "        self.X = X\n",
    "        self.y = y\n",
    "        self.tokenizer = tokenizer\n",
    "        self.max_len = max_len\n",
    "\n",
    "    def __len__(self):\n",
    "        return len(self.y)\n",
    "\n",
    "    def __getitem__(self, index):\n",
    "        text = self.X[index]\n",
    "        inputs = self.tokenizer.encode_plus(\n",
    "            text,\n",
    "            add_special_tokens=True,\n",
    "            max_length=self.max_len,\n",
    "            pad_to_max_length=True\n",
    "        )\n",
    "        ids = inputs['input_ids']\n",
    "        mask = inputs['attention_mask']\n",
    "\n",
    "        return {\n",
    "            'ids': torch.LongTensor(ids),\n",
    "            'mask': torch.LongTensor(mask),\n",
    "            'labels': torch.Tensor(self.y[index])\n",
    "        }"
   ]
  },
  {
   "cell_type": "code",
   "execution_count": 74,
   "metadata": {},
   "outputs": [
    {
     "name": "stderr",
     "output_type": "stream",
     "text": [
      "Downloading: 100%|██████████| 226k/226k [00:00<00:00, 855kB/s] \n",
      "Downloading: 100%|██████████| 28.0/28.0 [00:00<00:00, 33.7kB/s]\n",
      "Downloading: 100%|██████████| 570/570 [00:00<00:00, 299kB/s]"
     ]
    },
    {
     "name": "stdout",
     "output_type": "stream",
     "text": [
      "inputs: tensor([3551, 2649, 6648, 3552,    2, 4239,    1, 1885,   19, 1724])\n",
      "labels: 0\n"
     ]
    },
    {
     "name": "stderr",
     "output_type": "stream",
     "text": [
      "\n"
     ]
    }
   ],
   "source": [
    "y_train = pd.get_dummies(train_df, columns=['CATEGORY'])[['CATEGORY_b', 'CATEGORY_e', 'CATEGORY_t', 'CATEGORY_m']].values\n",
    "y_valid = pd.get_dummies(valid_df, columns=['CATEGORY'])[['CATEGORY_b', 'CATEGORY_e', 'CATEGORY_t', 'CATEGORY_m']].values\n",
    "y_test = pd.get_dummies(test_df, columns=['CATEGORY'])[['CATEGORY_b', 'CATEGORY_e', 'CATEGORY_t', 'CATEGORY_m']].values\n",
    "\n",
    "max_len = 20\n",
    "tokenizer = BertTokenizer.from_pretrained('bert-base-uncased')\n",
    "pmt_dataset_train = PTMDataset(train_df['TITLE'], y_train, tokenizer, max_len)\n",
    "pmt_dataset_valid = PTMDataset(valid_df['TITLE'], y_valid, tokenizer, max_len)\n",
    "pmt_dataset_test = PTMDataset(test_df['TITLE'], y_test, tokenizer, max_len)\n",
    "\n",
    "for var in dataset_train[0]:\n",
    "    print(f'{var}: {dataset_train[0][var]}')"
   ]
  },
  {
   "cell_type": "code",
   "execution_count": 75,
   "metadata": {},
   "outputs": [],
   "source": [
    "class BERTClass(torch.nn.Module):\n",
    "    def __init__(self, drop_rate, otuput_size):\n",
    "        super().__init__()\n",
    "        self.bert = BertModel.from_pretrained('bert-base-uncased')\n",
    "        self.drop = torch.nn.Dropout(drop_rate)\n",
    "        self.fc = torch.nn.Linear(768, otuput_size)  # BERTの出力に合わせて768次元を指定\n",
    "    \n",
    "    def forward(self, ids, mask):\n",
    "        _, out = self.bert(ids, attention_mask=mask, return_dict=False)\n",
    "        out = self.fc(self.drop(out))\n",
    "        return out"
   ]
  },
  {
   "cell_type": "code",
   "execution_count": 76,
   "metadata": {},
   "outputs": [],
   "source": [
    "def calculate_loss_and_accuracy_bert(model, criterion, loader, device):\n",
    "    model.eval()\n",
    "    loss = 0.0\n",
    "    total = 0\n",
    "    correct = 0\n",
    "    with torch.no_grad():\n",
    "        for data in loader:\n",
    "            # デバイスの指定\n",
    "            ids = data['ids'].to(device)\n",
    "            mask = data['mask'].to(device)\n",
    "            labels = data['labels'].to(device)\n",
    "\n",
    "            outputs = model(ids, mask)\n",
    "\n",
    "            loss += criterion(outputs, labels).item()\n",
    "\n",
    "            pred = torch.argmax(outputs, dim=-1).cpu().numpy() # バッチサイズの長さの予測ラベル配列\n",
    "            labels = torch.argmax(labels, dim=-1).cpu().numpy()  # バッチサイズの長さの正解ラベル配列\n",
    "            total += len(labels)\n",
    "            correct += (pred == labels).sum().item()\n",
    "    return loss / len(loader), correct / total\n",
    "\n",
    "def train_bert_model(dataset_train, dataset_valid, batch_size, model, criterion, optimizer, num_epochs, device=None):\n",
    "\n",
    "    model.to(device)\n",
    "\n",
    "    dataloader_train = DataLoader(dataset_train, batch_size=batch_size, shuffle=True)\n",
    "    dataloader_valid = DataLoader(dataset_valid, batch_size=len(dataset_valid), shuffle=False)\n",
    "\n",
    "    log_train = []\n",
    "    log_valid = []\n",
    "    for epoch in range(num_epochs):\n",
    "        s_time = time.time()\n",
    "\n",
    "        model.train()\n",
    "        for data in dataloader_train:\n",
    "            ids = data['ids'].to(device)\n",
    "            mask = data['mask'].to(device)\n",
    "            labels = data['labels'].to(device)\n",
    "\n",
    "            optimizer.zero_grad()\n",
    "\n",
    "            outputs = model(ids, mask)\n",
    "            loss = criterion(outputs, labels)\n",
    "            loss.backward()\n",
    "            optimizer.step()\n",
    "\n",
    "        loss_train, acc_train = calculate_loss_and_accuracy_bert(model, criterion, dataloader_train, device)\n",
    "        loss_valid, acc_valid = calculate_loss_and_accuracy_bert(model, criterion, dataloader_valid, device)\n",
    "        log_train.append([loss_train, acc_train])\n",
    "        log_valid.append([loss_valid, acc_valid])\n",
    "\n",
    "        torch.save({'epoch': epoch, 'model_state_dict': model.state_dict(), 'optimizer_state_dict': optimizer.state_dict()}, f'checkpoint{epoch + 1}.pt')\n",
    "\n",
    "        e_time = time.time()\n",
    "\n",
    "        print(f'epoch: {epoch + 1}, loss_train: {loss_train:.4f}, accuracy_train: {acc_train:.4f}, loss_valid: {loss_valid:.4f}, accuracy_valid: {acc_valid:.4f}, {(e_time - s_time):.4f}sec') \n",
    "\n",
    "    return {'train': log_train, 'valid': log_valid}"
   ]
  },
  {
   "cell_type": "code",
   "execution_count": 78,
   "metadata": {},
   "outputs": [
    {
     "name": "stderr",
     "output_type": "stream",
     "text": [
      "Some weights of the model checkpoint at bert-base-uncased were not used when initializing BertModel: ['cls.predictions.bias', 'cls.predictions.decoder.weight', 'cls.predictions.transform.dense.bias', 'cls.predictions.transform.dense.weight', 'cls.predictions.transform.LayerNorm.weight', 'cls.seq_relationship.bias', 'cls.predictions.transform.LayerNorm.bias', 'cls.seq_relationship.weight']\n",
      "- This IS expected if you are initializing BertModel from the checkpoint of a model trained on another task or with another architecture (e.g. initializing a BertForSequenceClassification model from a BertForPreTraining model).\n",
      "- This IS NOT expected if you are initializing BertModel from the checkpoint of a model that you expect to be exactly identical (initializing a BertForSequenceClassification model from a BertForSequenceClassification model).\n"
     ]
    },
    {
     "name": "stdout",
     "output_type": "stream",
     "text": [
      "epoch: 1, loss_train: 0.0860, accuracy_train: 0.9527, loss_valid: 0.1196, accuracy_valid: 0.9259, 65.3948sec\n",
      "epoch: 2, loss_train: 0.0510, accuracy_train: 0.9700, loss_valid: 0.1135, accuracy_valid: 0.9192, 65.8645sec\n",
      "epoch: 3, loss_train: 0.0265, accuracy_train: 0.9892, loss_valid: 0.0951, accuracy_valid: 0.9371, 65.5370sec\n",
      "epoch: 4, loss_train: 0.0180, accuracy_train: 0.9929, loss_valid: 0.1095, accuracy_valid: 0.9319, 65.7775sec\n"
     ]
    }
   ],
   "source": [
    "DROP_RATE = 0.4\n",
    "OUTPUT_SIZE = 4\n",
    "BATCH_SIZE = 32\n",
    "NUM_EPOCHS = 4\n",
    "LEARNING_RATE = 2e-5\n",
    "\n",
    "model = BERTClass(DROP_RATE, OUTPUT_SIZE)\n",
    "\n",
    "criterion = torch.nn.BCEWithLogitsLoss()\n",
    "optimizer = torch.optim.AdamW(params=model.parameters(), lr=LEARNING_RATE)\n",
    "device = torch.device('cuda:0') if torch.cuda.is_available() else torch.device('cpu')\n",
    "\n",
    "log = train_bert_model(pmt_dataset_train, pmt_dataset_valid, BATCH_SIZE, model, criterion, optimizer, NUM_EPOCHS, device=device)"
   ]
  },
  {
   "cell_type": "code",
   "execution_count": 79,
   "metadata": {},
   "outputs": [
    {
     "data": {
      "image/png": "[encoded data removed]",
      "text/plain": [
       "<Figure size 1080x360 with 2 Axes>"
      ]
     },
     "metadata": {
      "needs_background": "light"
     },
     "output_type": "display_data"
    }
   ],
   "source": [
    "x_axis = [x for x in range(1, len(log['train']) + 1)]\n",
    "fig, ax = plt.subplots(1, 2, figsize=(15, 5))\n",
    "ax[0].plot(x_axis, np.array(log['train']).T[0], label='train')\n",
    "ax[0].plot(x_axis, np.array(log['valid']).T[0], label='valid')\n",
    "ax[0].set_xlabel('epoch')\n",
    "ax[0].set_ylabel('loss')\n",
    "ax[0].legend()\n",
    "ax[1].plot(x_axis, np.array(log['train']).T[1], label='train')\n",
    "ax[1].plot(x_axis, np.array(log['valid']).T[1], label='valid')\n",
    "ax[1].set_xlabel('epoch')\n",
    "ax[1].set_ylabel('accuracy')\n",
    "ax[1].legend()\n",
    "plt.show()"
   ]
  },
  {
   "cell_type": "code",
   "execution_count": 81,
   "metadata": {},
   "outputs": [
    {
     "ename": "RuntimeError",
     "evalue": "CUDA out of memory. Tried to allocate 628.00 MiB (GPU 0; 23.65 GiB total capacity; 3.90 GiB already allocated; 621.12 MiB free; 4.13 GiB reserved in total by PyTorch) If reserved memory is >> allocated memory try setting max_split_size_mb to avoid fragmentation.  See documentation for Memory Management and PYTORCH_CUDA_ALLOC_CONF",
     "output_type": "error",
     "traceback": [
      "\u001b[0;31m---------------------------------------------------------------------------\u001b[0m",
      "\u001b[0;31mRuntimeError\u001b[0m                              Traceback (most recent call last)",
      "\u001b[0;32m<ipython-input-81-43faab86c578>\u001b[0m in \u001b[0;36m<module>\u001b[0;34m\u001b[0m\n\u001b[1;32m     20\u001b[0m     \u001b[0;32mreturn\u001b[0m \u001b[0mcorrect\u001b[0m \u001b[0;34m/\u001b[0m \u001b[0mtotal\u001b[0m\u001b[0;34m\u001b[0m\u001b[0;34m\u001b[0m\u001b[0m\n\u001b[1;32m     21\u001b[0m \u001b[0;34m\u001b[0m\u001b[0m\n\u001b[0;32m---> 22\u001b[0;31m \u001b[0mprint\u001b[0m\u001b[0;34m(\u001b[0m\u001b[0;34mf'正解率（学習データ）：{calculate_bert_accuracy(model, pmt_dataset_train, device):.3f}'\u001b[0m\u001b[0;34m)\u001b[0m\u001b[0;34m\u001b[0m\u001b[0;34m\u001b[0m\u001b[0m\n\u001b[0m\u001b[1;32m     23\u001b[0m \u001b[0mprint\u001b[0m\u001b[0;34m(\u001b[0m\u001b[0;34mf'正解率（検証データ）：{calculate_bert_accuracy(model, pmt_dataset_valid, device):.3f}'\u001b[0m\u001b[0;34m)\u001b[0m\u001b[0;34m\u001b[0m\u001b[0;34m\u001b[0m\u001b[0m\n\u001b[1;32m     24\u001b[0m \u001b[0mprint\u001b[0m\u001b[0;34m(\u001b[0m\u001b[0;34mf'正解率（評価データ）：{calculate_bert_accuracy(model, pmt_dataset_test, device):.3f}'\u001b[0m\u001b[0;34m)\u001b[0m\u001b[0;34m\u001b[0m\u001b[0;34m\u001b[0m\u001b[0m\n",
      "\u001b[0;32m<ipython-input-81-43faab86c578>\u001b[0m in \u001b[0;36mcalculate_bert_accuracy\u001b[0;34m(model, dataset, device)\u001b[0m\n\u001b[1;32m     12\u001b[0m             \u001b[0mlabels\u001b[0m \u001b[0;34m=\u001b[0m \u001b[0mdata\u001b[0m\u001b[0;34m[\u001b[0m\u001b[0;34m'labels'\u001b[0m\u001b[0;34m]\u001b[0m\u001b[0;34m.\u001b[0m\u001b[0mto\u001b[0m\u001b[0;34m(\u001b[0m\u001b[0mdevice\u001b[0m\u001b[0;34m)\u001b[0m\u001b[0;34m\u001b[0m\u001b[0;34m\u001b[0m\u001b[0m\n\u001b[1;32m     13\u001b[0m \u001b[0;34m\u001b[0m\u001b[0m\n\u001b[0;32m---> 14\u001b[0;31m             \u001b[0moutputs\u001b[0m \u001b[0;34m=\u001b[0m \u001b[0mmodel\u001b[0m\u001b[0;34m.\u001b[0m\u001b[0mforward\u001b[0m\u001b[0;34m(\u001b[0m\u001b[0mids\u001b[0m\u001b[0;34m,\u001b[0m \u001b[0mmask\u001b[0m\u001b[0;34m)\u001b[0m\u001b[0;34m\u001b[0m\u001b[0;34m\u001b[0m\u001b[0m\n\u001b[0m\u001b[1;32m     15\u001b[0m             \u001b[0mpred\u001b[0m \u001b[0;34m=\u001b[0m \u001b[0mtorch\u001b[0m\u001b[0;34m.\u001b[0m\u001b[0margmax\u001b[0m\u001b[0;34m(\u001b[0m\u001b[0moutputs\u001b[0m\u001b[0;34m,\u001b[0m \u001b[0mdim\u001b[0m\u001b[0;34m=\u001b[0m\u001b[0;34m-\u001b[0m\u001b[0;36m1\u001b[0m\u001b[0;34m)\u001b[0m\u001b[0;34m.\u001b[0m\u001b[0mcpu\u001b[0m\u001b[0;34m(\u001b[0m\u001b[0;34m)\u001b[0m\u001b[0;34m.\u001b[0m\u001b[0mnumpy\u001b[0m\u001b[0;34m(\u001b[0m\u001b[0;34m)\u001b[0m\u001b[0;34m\u001b[0m\u001b[0;34m\u001b[0m\u001b[0m\n\u001b[1;32m     16\u001b[0m             \u001b[0mlabels\u001b[0m \u001b[0;34m=\u001b[0m \u001b[0mtorch\u001b[0m\u001b[0;34m.\u001b[0m\u001b[0margmax\u001b[0m\u001b[0;34m(\u001b[0m\u001b[0mlabels\u001b[0m\u001b[0;34m,\u001b[0m \u001b[0mdim\u001b[0m\u001b[0;34m=\u001b[0m\u001b[0;34m-\u001b[0m\u001b[0;36m1\u001b[0m\u001b[0;34m)\u001b[0m\u001b[0;34m.\u001b[0m\u001b[0mcpu\u001b[0m\u001b[0;34m(\u001b[0m\u001b[0;34m)\u001b[0m\u001b[0;34m.\u001b[0m\u001b[0mnumpy\u001b[0m\u001b[0;34m(\u001b[0m\u001b[0;34m)\u001b[0m\u001b[0;34m\u001b[0m\u001b[0;34m\u001b[0m\u001b[0m\n",
      "\u001b[0;32m<ipython-input-75-fca732718c56>\u001b[0m in \u001b[0;36mforward\u001b[0;34m(self, ids, mask)\u001b[0m\n\u001b[1;32m      7\u001b[0m \u001b[0;34m\u001b[0m\u001b[0m\n\u001b[1;32m      8\u001b[0m     \u001b[0;32mdef\u001b[0m \u001b[0mforward\u001b[0m\u001b[0;34m(\u001b[0m\u001b[0mself\u001b[0m\u001b[0;34m,\u001b[0m \u001b[0mids\u001b[0m\u001b[0;34m,\u001b[0m \u001b[0mmask\u001b[0m\u001b[0;34m)\u001b[0m\u001b[0;34m:\u001b[0m\u001b[0;34m\u001b[0m\u001b[0;34m\u001b[0m\u001b[0m\n\u001b[0;32m----> 9\u001b[0;31m         \u001b[0m_\u001b[0m\u001b[0;34m,\u001b[0m \u001b[0mout\u001b[0m \u001b[0;34m=\u001b[0m \u001b[0mself\u001b[0m\u001b[0;34m.\u001b[0m\u001b[0mbert\u001b[0m\u001b[0;34m(\u001b[0m\u001b[0mids\u001b[0m\u001b[0;34m,\u001b[0m \u001b[0mattention_mask\u001b[0m\u001b[0;34m=\u001b[0m\u001b[0mmask\u001b[0m\u001b[0;34m,\u001b[0m \u001b[0mreturn_dict\u001b[0m\u001b[0;34m=\u001b[0m\u001b[0;32mFalse\u001b[0m\u001b[0;34m)\u001b[0m\u001b[0;34m\u001b[0m\u001b[0;34m\u001b[0m\u001b[0m\n\u001b[0m\u001b[1;32m     10\u001b[0m         \u001b[0mout\u001b[0m \u001b[0;34m=\u001b[0m \u001b[0mself\u001b[0m\u001b[0;34m.\u001b[0m\u001b[0mfc\u001b[0m\u001b[0;34m(\u001b[0m\u001b[0mself\u001b[0m\u001b[0;34m.\u001b[0m\u001b[0mdrop\u001b[0m\u001b[0;34m(\u001b[0m\u001b[0mout\u001b[0m\u001b[0;34m)\u001b[0m\u001b[0;34m)\u001b[0m\u001b[0;34m\u001b[0m\u001b[0;34m\u001b[0m\u001b[0m\n\u001b[1;32m     11\u001b[0m         \u001b[0;32mreturn\u001b[0m \u001b[0mout\u001b[0m\u001b[0;34m\u001b[0m\u001b[0;34m\u001b[0m\u001b[0m\n",
      "\u001b[0;32m~/.local/lib/python3.6/site-packages/torch/nn/modules/module.py\u001b[0m in \u001b[0;36m_call_impl\u001b[0;34m(self, *input, **kwargs)\u001b[0m\n\u001b[1;32m   1100\u001b[0m         if not (self._backward_hooks or self._forward_hooks or self._forward_pre_hooks or _global_backward_hooks\n\u001b[1;32m   1101\u001b[0m                 or _global_forward_hooks or _global_forward_pre_hooks):\n\u001b[0;32m-> 1102\u001b[0;31m             \u001b[0;32mreturn\u001b[0m \u001b[0mforward_call\u001b[0m\u001b[0;34m(\u001b[0m\u001b[0;34m*\u001b[0m\u001b[0minput\u001b[0m\u001b[0;34m,\u001b[0m \u001b[0;34m**\u001b[0m\u001b[0mkwargs\u001b[0m\u001b[0;34m)\u001b[0m\u001b[0;34m\u001b[0m\u001b[0;34m\u001b[0m\u001b[0m\n\u001b[0m\u001b[1;32m   1103\u001b[0m         \u001b[0;31m# Do not call functions when jit is used\u001b[0m\u001b[0;34m\u001b[0m\u001b[0;34m\u001b[0m\u001b[0;34m\u001b[0m\u001b[0m\n\u001b[1;32m   1104\u001b[0m         \u001b[0mfull_backward_hooks\u001b[0m\u001b[0;34m,\u001b[0m \u001b[0mnon_full_backward_hooks\u001b[0m \u001b[0;34m=\u001b[0m \u001b[0;34m[\u001b[0m\u001b[0;34m]\u001b[0m\u001b[0;34m,\u001b[0m \u001b[0;34m[\u001b[0m\u001b[0;34m]\u001b[0m\u001b[0;34m\u001b[0m\u001b[0;34m\u001b[0m\u001b[0m\n",
      "\u001b[0;32m~/.local/lib/python3.6/site-packages/transformers/models/bert/modeling_bert.py\u001b[0m in \u001b[0;36mforward\u001b[0;34m(self, input_ids, attention_mask, token_type_ids, position_ids, head_mask, inputs_embeds, encoder_hidden_states, encoder_attention_mask, past_key_values, use_cache, output_attentions, output_hidden_states, return_dict)\u001b[0m\n\u001b[1;32m    992\u001b[0m             \u001b[0mtoken_type_ids\u001b[0m\u001b[0;34m=\u001b[0m\u001b[0mtoken_type_ids\u001b[0m\u001b[0;34m,\u001b[0m\u001b[0;34m\u001b[0m\u001b[0;34m\u001b[0m\u001b[0m\n\u001b[1;32m    993\u001b[0m             \u001b[0minputs_embeds\u001b[0m\u001b[0;34m=\u001b[0m\u001b[0minputs_embeds\u001b[0m\u001b[0;34m,\u001b[0m\u001b[0;34m\u001b[0m\u001b[0;34m\u001b[0m\u001b[0m\n\u001b[0;32m--> 994\u001b[0;31m             \u001b[0mpast_key_values_length\u001b[0m\u001b[0;34m=\u001b[0m\u001b[0mpast_key_values_length\u001b[0m\u001b[0;34m,\u001b[0m\u001b[0;34m\u001b[0m\u001b[0;34m\u001b[0m\u001b[0m\n\u001b[0m\u001b[1;32m    995\u001b[0m         )\n\u001b[1;32m    996\u001b[0m         encoder_outputs = self.encoder(\n",
      "\u001b[0;32m~/.local/lib/python3.6/site-packages/torch/nn/modules/module.py\u001b[0m in \u001b[0;36m_call_impl\u001b[0;34m(self, *input, **kwargs)\u001b[0m\n\u001b[1;32m   1100\u001b[0m         if not (self._backward_hooks or self._forward_hooks or self._forward_pre_hooks or _global_backward_hooks\n\u001b[1;32m   1101\u001b[0m                 or _global_forward_hooks or _global_forward_pre_hooks):\n\u001b[0;32m-> 1102\u001b[0;31m             \u001b[0;32mreturn\u001b[0m \u001b[0mforward_call\u001b[0m\u001b[0;34m(\u001b[0m\u001b[0;34m*\u001b[0m\u001b[0minput\u001b[0m\u001b[0;34m,\u001b[0m \u001b[0;34m**\u001b[0m\u001b[0mkwargs\u001b[0m\u001b[0;34m)\u001b[0m\u001b[0;34m\u001b[0m\u001b[0;34m\u001b[0m\u001b[0m\n\u001b[0m\u001b[1;32m   1103\u001b[0m         \u001b[0;31m# Do not call functions when jit is used\u001b[0m\u001b[0;34m\u001b[0m\u001b[0;34m\u001b[0m\u001b[0;34m\u001b[0m\u001b[0m\n\u001b[1;32m   1104\u001b[0m         \u001b[0mfull_backward_hooks\u001b[0m\u001b[0;34m,\u001b[0m \u001b[0mnon_full_backward_hooks\u001b[0m \u001b[0;34m=\u001b[0m \u001b[0;34m[\u001b[0m\u001b[0;34m]\u001b[0m\u001b[0;34m,\u001b[0m \u001b[0;34m[\u001b[0m\u001b[0;34m]\u001b[0m\u001b[0;34m\u001b[0m\u001b[0;34m\u001b[0m\u001b[0m\n",
      "\u001b[0;32m~/.local/lib/python3.6/site-packages/transformers/models/bert/modeling_bert.py\u001b[0m in \u001b[0;36mforward\u001b[0;34m(self, input_ids, token_type_ids, position_ids, inputs_embeds, past_key_values_length)\u001b[0m\n\u001b[1;32m    212\u001b[0m \u001b[0;34m\u001b[0m\u001b[0m\n\u001b[1;32m    213\u001b[0m         \u001b[0;32mif\u001b[0m \u001b[0minputs_embeds\u001b[0m \u001b[0;32mis\u001b[0m \u001b[0;32mNone\u001b[0m\u001b[0;34m:\u001b[0m\u001b[0;34m\u001b[0m\u001b[0;34m\u001b[0m\u001b[0m\n\u001b[0;32m--> 214\u001b[0;31m             \u001b[0minputs_embeds\u001b[0m \u001b[0;34m=\u001b[0m \u001b[0mself\u001b[0m\u001b[0;34m.\u001b[0m\u001b[0mword_embeddings\u001b[0m\u001b[0;34m(\u001b[0m\u001b[0minput_ids\u001b[0m\u001b[0;34m)\u001b[0m\u001b[0;34m\u001b[0m\u001b[0;34m\u001b[0m\u001b[0m\n\u001b[0m\u001b[1;32m    215\u001b[0m         \u001b[0mtoken_type_embeddings\u001b[0m \u001b[0;34m=\u001b[0m \u001b[0mself\u001b[0m\u001b[0;34m.\u001b[0m\u001b[0mtoken_type_embeddings\u001b[0m\u001b[0;34m(\u001b[0m\u001b[0mtoken_type_ids\u001b[0m\u001b[0;34m)\u001b[0m\u001b[0;34m\u001b[0m\u001b[0;34m\u001b[0m\u001b[0m\n\u001b[1;32m    216\u001b[0m \u001b[0;34m\u001b[0m\u001b[0m\n",
      "\u001b[0;32m~/.local/lib/python3.6/site-packages/torch/nn/modules/module.py\u001b[0m in \u001b[0;36m_call_impl\u001b[0;34m(self, *input, **kwargs)\u001b[0m\n\u001b[1;32m   1100\u001b[0m         if not (self._backward_hooks or self._forward_hooks or self._forward_pre_hooks or _global_backward_hooks\n\u001b[1;32m   1101\u001b[0m                 or _global_forward_hooks or _global_forward_pre_hooks):\n\u001b[0;32m-> 1102\u001b[0;31m             \u001b[0;32mreturn\u001b[0m \u001b[0mforward_call\u001b[0m\u001b[0;34m(\u001b[0m\u001b[0;34m*\u001b[0m\u001b[0minput\u001b[0m\u001b[0;34m,\u001b[0m \u001b[0;34m**\u001b[0m\u001b[0mkwargs\u001b[0m\u001b[0;34m)\u001b[0m\u001b[0;34m\u001b[0m\u001b[0;34m\u001b[0m\u001b[0m\n\u001b[0m\u001b[1;32m   1103\u001b[0m         \u001b[0;31m# Do not call functions when jit is used\u001b[0m\u001b[0;34m\u001b[0m\u001b[0;34m\u001b[0m\u001b[0;34m\u001b[0m\u001b[0m\n\u001b[1;32m   1104\u001b[0m         \u001b[0mfull_backward_hooks\u001b[0m\u001b[0;34m,\u001b[0m \u001b[0mnon_full_backward_hooks\u001b[0m \u001b[0;34m=\u001b[0m \u001b[0;34m[\u001b[0m\u001b[0;34m]\u001b[0m\u001b[0;34m,\u001b[0m \u001b[0;34m[\u001b[0m\u001b[0;34m]\u001b[0m\u001b[0;34m\u001b[0m\u001b[0;34m\u001b[0m\u001b[0m\n",
      "\u001b[0;32m~/.local/lib/python3.6/site-packages/torch/nn/modules/sparse.py\u001b[0m in \u001b[0;36mforward\u001b[0;34m(self, input)\u001b[0m\n\u001b[1;32m    158\u001b[0m         return F.embedding(\n\u001b[1;32m    159\u001b[0m             \u001b[0minput\u001b[0m\u001b[0;34m,\u001b[0m \u001b[0mself\u001b[0m\u001b[0;34m.\u001b[0m\u001b[0mweight\u001b[0m\u001b[0;34m,\u001b[0m \u001b[0mself\u001b[0m\u001b[0;34m.\u001b[0m\u001b[0mpadding_idx\u001b[0m\u001b[0;34m,\u001b[0m \u001b[0mself\u001b[0m\u001b[0;34m.\u001b[0m\u001b[0mmax_norm\u001b[0m\u001b[0;34m,\u001b[0m\u001b[0;34m\u001b[0m\u001b[0;34m\u001b[0m\u001b[0m\n\u001b[0;32m--> 160\u001b[0;31m             self.norm_type, self.scale_grad_by_freq, self.sparse)\n\u001b[0m\u001b[1;32m    161\u001b[0m \u001b[0;34m\u001b[0m\u001b[0m\n\u001b[1;32m    162\u001b[0m     \u001b[0;32mdef\u001b[0m \u001b[0mextra_repr\u001b[0m\u001b[0;34m(\u001b[0m\u001b[0mself\u001b[0m\u001b[0;34m)\u001b[0m \u001b[0;34m->\u001b[0m \u001b[0mstr\u001b[0m\u001b[0;34m:\u001b[0m\u001b[0;34m\u001b[0m\u001b[0;34m\u001b[0m\u001b[0m\n",
      "\u001b[0;32m~/.local/lib/python3.6/site-packages/torch/nn/functional.py\u001b[0m in \u001b[0;36membedding\u001b[0;34m(input, weight, padding_idx, max_norm, norm_type, scale_grad_by_freq, sparse)\u001b[0m\n\u001b[1;32m   2042\u001b[0m         \u001b[0;31m# remove once script supports set_grad_enabled\u001b[0m\u001b[0;34m\u001b[0m\u001b[0;34m\u001b[0m\u001b[0;34m\u001b[0m\u001b[0m\n\u001b[1;32m   2043\u001b[0m         \u001b[0m_no_grad_embedding_renorm_\u001b[0m\u001b[0;34m(\u001b[0m\u001b[0mweight\u001b[0m\u001b[0;34m,\u001b[0m \u001b[0minput\u001b[0m\u001b[0;34m,\u001b[0m \u001b[0mmax_norm\u001b[0m\u001b[0;34m,\u001b[0m \u001b[0mnorm_type\u001b[0m\u001b[0;34m)\u001b[0m\u001b[0;34m\u001b[0m\u001b[0;34m\u001b[0m\u001b[0m\n\u001b[0;32m-> 2044\u001b[0;31m     \u001b[0;32mreturn\u001b[0m \u001b[0mtorch\u001b[0m\u001b[0;34m.\u001b[0m\u001b[0membedding\u001b[0m\u001b[0;34m(\u001b[0m\u001b[0mweight\u001b[0m\u001b[0;34m,\u001b[0m \u001b[0minput\u001b[0m\u001b[0;34m,\u001b[0m \u001b[0mpadding_idx\u001b[0m\u001b[0;34m,\u001b[0m \u001b[0mscale_grad_by_freq\u001b[0m\u001b[0;34m,\u001b[0m \u001b[0msparse\u001b[0m\u001b[0;34m)\u001b[0m\u001b[0;34m\u001b[0m\u001b[0;34m\u001b[0m\u001b[0m\n\u001b[0m\u001b[1;32m   2045\u001b[0m \u001b[0;34m\u001b[0m\u001b[0m\n\u001b[1;32m   2046\u001b[0m \u001b[0;34m\u001b[0m\u001b[0m\n",
      "\u001b[0;31mRuntimeError\u001b[0m: CUDA out of memory. Tried to allocate 628.00 MiB (GPU 0; 23.65 GiB total capacity; 3.90 GiB already allocated; 621.12 MiB free; 4.13 GiB reserved in total by PyTorch) If reserved memory is >> allocated memory try setting max_split_size_mb to avoid fragmentation.  See documentation for Memory Management and PYTORCH_CUDA_ALLOC_CONF"
     ]
    }
   ],
   "source": [
    "# 正解率の算出\n",
    "def calculate_bert_accuracy(model, dataset, device):\n",
    "    loader = DataLoader(dataset, batch_size=len(dataset), shuffle=False)\n",
    "\n",
    "    model.eval()\n",
    "    total = 0\n",
    "    correct = 0\n",
    "    with torch.no_grad():\n",
    "        for data in loader:\n",
    "            ids = data['ids'].to(device)\n",
    "            mask = data['mask'].to(device)\n",
    "            labels = data['labels'].to(device)\n",
    "\n",
    "            outputs = model.forward(ids, mask)\n",
    "            pred = torch.argmax(outputs, dim=-1).cpu().numpy()\n",
    "            labels = torch.argmax(labels, dim=-1).cpu().numpy()\n",
    "            total += len(labels)\n",
    "            correct += (pred == labels).sum().item()\n",
    "\n",
    "    return correct / total\n",
    "\n",
    "print(f'正解率（学習データ）：{calculate_bert_accuracy(model, pmt_dataset_train, device):.3f}')\n",
    "print(f'正解率（検証データ）：{calculate_bert_accuracy(model, pmt_dataset_valid, device):.3f}')\n",
    "print(f'正解率（評価データ）：{calculate_bert_accuracy(model, pmt_dataset_test, device):.3f}')"
   ]
  }
 ],
 "metadata": {
  "kernelspec": {
   "display_name": "Python 3",
   "language": "python",
   "name": "python3"
  },
  "language_info": {
   "codemirror_mode": {
    "name": "ipython",
    "version": 3
   },
   "file_extension": ".py",
   "mimetype": "text/x-python",
   "name": "python",
   "nbconvert_exporter": "python",
   "pygments_lexer": "ipython3",
   "version": "3.6.9"
  },
  "orig_nbformat": 4
 },
 "nbformat": 4,
 "nbformat_minor": 2
}
