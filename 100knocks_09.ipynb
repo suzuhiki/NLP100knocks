{
 "cells": [
  {
   "attachments": {},
   "cell_type": "markdown",
   "metadata": {},
   "source": [
    "## 80. id番号への変更"
   ]
  },
  {
   "cell_type": "code",
   "execution_count": 1,
   "metadata": {},
   "outputs": [
    {
     "name": "stdout",
     "output_type": "stream",
     "text": [
      "【学習データ】\n",
      "b    4501\n",
      "e    4235\n",
      "t    1220\n",
      "m     728\n",
      "Name: CATEGORY, dtype: int64\n",
      "【検証データ】\n",
      "b    563\n",
      "e    529\n",
      "t    153\n",
      "m     91\n",
      "Name: CATEGORY, dtype: int64\n",
      "【評価データ】\n",
      "b    563\n",
      "e    530\n",
      "t    152\n",
      "m     91\n",
      "Name: CATEGORY, dtype: int64\n"
     ]
    }
   ],
   "source": [
    "import pandas as pd\n",
    "\n",
    "DATA_PATH = \"./data/news_aggregator_dataset/\"\n",
    "\n",
    "train_df = pd.read_csv(DATA_PATH + \"train.txt\", delimiter=\"\\t\")\n",
    "valid_df = pd.read_csv(DATA_PATH + \"valid.txt\", delimiter=\"\\t\")\n",
    "test_df = pd.read_csv(DATA_PATH + \"test.txt\", delimiter=\"\\t\")\n",
    "\n",
    "print('【学習データ】')\n",
    "print(train_df['CATEGORY'].value_counts())\n",
    "print('【検証データ】')\n",
    "print(valid_df['CATEGORY'].value_counts())\n",
    "print('【評価データ】')\n",
    "print(test_df['CATEGORY'].value_counts())"
   ]
  },
  {
   "cell_type": "code",
   "execution_count": 2,
   "metadata": {},
   "outputs": [
    {
     "name": "stdout",
     "output_type": "stream",
     "text": [
      "ID数: 9393\n",
      "\n",
      "頻度上位20語\n",
      "to: 1\n",
      "s: 2\n",
      "in: 3\n",
      "UPDATE: 4\n",
      "on: 5\n",
      "as: 6\n",
      "US: 7\n",
      "for: 8\n",
      "of: 9\n",
      "The: 10\n",
      "1: 11\n",
      "To: 12\n",
      "2: 13\n",
      "the: 14\n",
      "and: 15\n",
      "In: 16\n",
      "Of: 17\n",
      "at: 18\n",
      "a: 19\n",
      "A: 20\n"
     ]
    }
   ],
   "source": [
    "from collections import defaultdict\n",
    "import string\n",
    "\n",
    "\n",
    "d = defaultdict(int)\n",
    "table = str.maketrans(string.punctuation, ' '*len(string.punctuation))\n",
    "for text in train_df['TITLE']:\n",
    "    for word in text.translate(table).split():\n",
    "        d[word] += 1\n",
    "d = sorted(d.items(), key=lambda x:x[1], reverse=True)\n",
    "\n",
    "word2id_dict = {word: i + 1 for i, (word, cnt) in enumerate(d) if cnt > 1}  # 出現頻度が2回以上の単語を登録\n",
    "\n",
    "print(f'ID数: {len(set(word2id_dict.values()))}\\n')\n",
    "print('頻度上位20語')\n",
    "for key in list(word2id_dict)[:20]:\n",
    "    print(f'{key}: {word2id_dict[key]}')"
   ]
  },
  {
   "cell_type": "code",
   "execution_count": 3,
   "metadata": {},
   "outputs": [],
   "source": [
    "def tokenizer(text, word2id=word2id_dict, unk=0):\n",
    "    table = str.maketrans(string.punctuation, ' '*len(string.punctuation))\n",
    "    return [word2id.get(word, unk) for word in text.translate(table).split()]"
   ]
  },
  {
   "cell_type": "code",
   "execution_count": 4,
   "metadata": {},
   "outputs": [
    {
     "name": "stdout",
     "output_type": "stream",
     "text": [
      "テキスト: Andrew Garfield wants Black-HispanicSpiderman\n",
      "ID列: [504, 520, 638, 541, 0]\n"
     ]
    }
   ],
   "source": [
    "text = train_df.iloc[1, train_df.columns.get_loc('TITLE')]\n",
    "print(f'テキスト: {text}')\n",
    "print(f'ID列: {tokenizer(text)}')"
   ]
  },
  {
   "attachments": {},
   "cell_type": "markdown",
   "metadata": {},
   "source": [
    "## 81. RNNによる予測"
   ]
  },
  {
   "cell_type": "code",
   "execution_count": 5,
   "metadata": {},
   "outputs": [
    {
     "name": "stderr",
     "output_type": "stream",
     "text": [
      "/home/morioka/.local/lib/python3.6/site-packages/tqdm/auto.py:22: TqdmWarning: IProgress not found. Please update jupyter and ipywidgets. See https://ipywidgets.readthedocs.io/en/stable/user_install.html\n",
      "  from .autonotebook import tqdm as notebook_tqdm\n"
     ]
    }
   ],
   "source": [
    "import torch\n",
    "from torch import nn\n",
    "\n",
    "class RNN(nn.Module):\n",
    "    def __init__(self, vocab_size, emb_size, padding_idx, output_size, hidden_size):\n",
    "        super().__init__()\n",
    "        self.hidden_size = hidden_size\n",
    "        self.emb = nn.Embedding(vocab_size, emb_size, padding_idx=padding_idx)\n",
    "        self.rnn = nn.RNN(emb_size, hidden_size, nonlinearity='tanh', batch_first=True)\n",
    "        self.fc = nn.Linear(hidden_size, output_size)\n",
    "    \n",
    "    def forward(self, x):\n",
    "        self.batch_size = x.size()[0]\n",
    "        hidden = self.init_hidden(x.device)\n",
    "        emb = self.emb(x)\n",
    "        out, hidden = self.rnn(emb, hidden)\n",
    "        out = self.fc(out[:, -1, :])\n",
    "        return out\n",
    "    \n",
    "    def init_hidden(self, device):\n",
    "        hidden = torch.zeros(1, self.batch_size, self.hidden_size, device=device)\n",
    "        return hidden"
   ]
  },
  {
   "cell_type": "code",
   "execution_count": 6,
   "metadata": {},
   "outputs": [],
   "source": [
    "from torch.utils.data import Dataset\n",
    "\n",
    "class MyDataset(Dataset):\n",
    "    def __init__(self, X, y, tokenizer):\n",
    "        self.X = X\n",
    "        self.y = y\n",
    "        self.tokenizer = tokenizer\n",
    "\n",
    "    def __len__(self): \n",
    "        return len(self.y)\n",
    "\n",
    "    def __getitem__(self, index):\n",
    "        text = self.X[index]\n",
    "        inputs = self.tokenizer(text)\n",
    "\n",
    "        return {\n",
    "            'inputs': torch.tensor(inputs, dtype=torch.int64),\n",
    "            'labels': torch.tensor(self.y[index], dtype=torch.int64)\n",
    "        }"
   ]
  },
  {
   "cell_type": "code",
   "execution_count": 7,
   "metadata": {},
   "outputs": [
    {
     "name": "stdout",
     "output_type": "stream",
     "text": [
      "datasetの長さ: 10684\n",
      "dataset[index]:\n",
      "  inputs: tensor([504, 520, 638, 541,   0])\n",
      "  labels: 2\n"
     ]
    }
   ],
   "source": [
    "# ラベルベクトルの作成\n",
    "category_dict = {'b': 0, 't': 1, 'e':2, 'm':3}\n",
    "y_train = train_df['CATEGORY'].map(lambda x: category_dict[x]).values\n",
    "y_valid = valid_df['CATEGORY'].map(lambda x: category_dict[x]).values\n",
    "y_test = test_df['CATEGORY'].map(lambda x: category_dict[x]).values\n",
    "\n",
    "# Datasetの作成\n",
    "dataset_train = MyDataset(train_df['TITLE'], y_train, tokenizer)\n",
    "dataset_valid = MyDataset(valid_df['TITLE'], y_valid, tokenizer)\n",
    "dataset_test = MyDataset(test_df['TITLE'], y_test, tokenizer)\n",
    "\n",
    "print(f'datasetの長さ: {len(dataset_train)}')\n",
    "print('dataset[index]:')\n",
    "for var in dataset_train[1]:\n",
    "    print(f'  {var}: {dataset_train[1][var]}')"
   ]
  },
  {
   "cell_type": "code",
   "execution_count": 8,
   "metadata": {},
   "outputs": [
    {
     "name": "stdout",
     "output_type": "stream",
     "text": [
      "tensor([[0.2526, 0.1059, 0.2868, 0.3547]], grad_fn=<SoftmaxBackward0>)\n",
      "tensor([[0.1617, 0.1372, 0.2318, 0.4692]], grad_fn=<SoftmaxBackward0>)\n",
      "tensor([[0.2599, 0.2670, 0.3197, 0.1534]], grad_fn=<SoftmaxBackward0>)\n",
      "tensor([[0.1622, 0.5067, 0.1863, 0.1448]], grad_fn=<SoftmaxBackward0>)\n",
      "tensor([[0.3870, 0.1696, 0.2195, 0.2239]], grad_fn=<SoftmaxBackward0>)\n",
      "tensor([[0.2029, 0.3864, 0.2016, 0.2091]], grad_fn=<SoftmaxBackward0>)\n",
      "tensor([[0.1816, 0.4235, 0.2585, 0.1364]], grad_fn=<SoftmaxBackward0>)\n",
      "tensor([[0.2426, 0.2194, 0.1564, 0.3816]], grad_fn=<SoftmaxBackward0>)\n",
      "tensor([[0.2342, 0.1803, 0.2854, 0.3001]], grad_fn=<SoftmaxBackward0>)\n",
      "tensor([[0.2313, 0.1110, 0.2329, 0.4248]], grad_fn=<SoftmaxBackward0>)\n"
     ]
    }
   ],
   "source": [
    "\n",
    "VOCAB_SIZE = len(set(word2id_dict.values())) + 1  # 辞書のID数 + パディングID\n",
    "EMB_SIZE = 300\n",
    "PADDING_IDX = len(set(word2id_dict.values()))\n",
    "OUTPUT_SIZE = 4\n",
    "HIDDEN_SIZE = 50\n",
    "\n",
    "model = RNN(VOCAB_SIZE, EMB_SIZE, PADDING_IDX, OUTPUT_SIZE, HIDDEN_SIZE)\n",
    "\n",
    "# 学習せずsoftmaxのみで出力\n",
    "for i in range(10):\n",
    "    X = dataset_train[i]['inputs']\n",
    "    print(torch.softmax(model(X.unsqueeze(0)), dim=-1))"
   ]
  },
  {
   "attachments": {},
   "cell_type": "markdown",
   "metadata": {},
   "source": [
    "## 82. 確率的勾配降下法による学習"
   ]
  },
  {
   "cell_type": "code",
   "execution_count": 9,
   "metadata": {},
   "outputs": [],
   "source": [
    "from torch.utils.data import DataLoader\n",
    "import time\n",
    "from torch import optim\n",
    "\n",
    "def calculate_loss_and_accuracy(model, dataset, device=None, criterion=None):\n",
    "    dataloader = DataLoader(dataset, batch_size=1, shuffle=False)\n",
    "    loss = 0.0\n",
    "    total = 0\n",
    "    correct = 0\n",
    "    with torch.no_grad():\n",
    "        for data in dataloader:\n",
    "            inputs = data['inputs'].to(device)\n",
    "            labels = data['labels'].to(device)\n",
    "\n",
    "            outputs = model(inputs)\n",
    "\n",
    "            if criterion != None:\n",
    "                loss += criterion(outputs, labels).item()\n",
    "\n",
    "            # 正解率計算\n",
    "            pred = torch.argmax(outputs, dim=-1)\n",
    "            total += len(inputs)\n",
    "            correct += (pred == labels).sum().item()\n",
    "    return loss / len(dataset), correct / total\n",
    "\n",
    "def train_model(dataset_train, dataset_valid, batch_size, model, criterion, optimizer, num_epochs, collate_fn=None, device=None):\n",
    "    model.to(device)\n",
    "\n",
    "    dataloader_train = DataLoader(dataset_train, batch_size=batch_size, shuffle=True, collate_fn=collate_fn)\n",
    "    dataloader_valid = DataLoader(dataset_valid, batch_size=1, shuffle=False)\n",
    "\n",
    "    scheduler = optim.lr_scheduler.CosineAnnealingLR(optimizer, num_epochs, eta_min=1e-5, last_epoch=-1)\n",
    "\n",
    "    log_train = []\n",
    "    log_valid = []\n",
    "    for epoch in range(num_epochs):\n",
    "        s_time = time.time()\n",
    "\n",
    "        model.train()\n",
    "        for data in dataloader_train:\n",
    "            optimizer.zero_grad()\n",
    "\n",
    "            inputs = data['inputs'].to(device)\n",
    "            labels = data['labels'].to(device)\n",
    "            outputs = model(inputs)\n",
    "            loss = criterion(outputs, labels)\n",
    "            loss.backward()\n",
    "            optimizer.step()\n",
    "\n",
    "        model.eval()\n",
    "\n",
    "        loss_train, acc_train = calculate_loss_and_accuracy(model, dataset_train, device, criterion=criterion)\n",
    "        loss_valid, acc_valid = calculate_loss_and_accuracy(model, dataset_valid, device, criterion=criterion)\n",
    "        log_train.append([loss_train, acc_train])\n",
    "        log_valid.append([loss_valid, acc_valid])\n",
    "\n",
    "        torch.save({'epoch': epoch, 'model_state_dict': model.state_dict(), 'optimizer_state_dict': optimizer.state_dict()}, f'./data/checkpoints/checkpoint{epoch + 1}.pt')\n",
    "\n",
    "        e_time = time.time()\n",
    "\n",
    "        print(f'epoch: {epoch + 1}, loss_train: {loss_train:.4f}, accuracy_train: {acc_train:.4f}, loss_valid: {loss_valid:.4f}, accuracy_valid: {acc_valid:.4f}, {(e_time - s_time):.4f}sec') \n",
    "\n",
    "        if epoch > 2 and log_valid[epoch - 3][0] <= log_valid[epoch - 2][0] <= log_valid[epoch - 1][0] <= log_valid[epoch][0]:\n",
    "            break\n",
    "\n",
    "        scheduler.step()\n",
    "\n",
    "    return {'train': log_train, 'valid': log_valid}"
   ]
  },
  {
   "cell_type": "code",
   "execution_count": 10,
   "metadata": {},
   "outputs": [],
   "source": [
    "import numpy as np\n",
    "from matplotlib import pyplot as plt\n",
    "\n",
    "def visualize_logs(log):\n",
    "    fig, ax = plt.subplots(1, 2, figsize=(15, 5))\n",
    "    ax[0].plot(np.array(log['train']).T[0], label='train')\n",
    "    ax[0].plot(np.array(log['valid']).T[0], label='valid')\n",
    "    ax[0].set_xlabel('epoch')\n",
    "    ax[0].set_ylabel('loss')\n",
    "    ax[0].legend()\n",
    "    ax[1].plot(np.array(log['train']).T[1], label='train')\n",
    "    ax[1].plot(np.array(log['valid']).T[1], label='valid')\n",
    "    ax[1].set_xlabel('epoch')\n",
    "    ax[1].set_ylabel('accuracy')\n",
    "    ax[1].legend()\n",
    "    plt.show()"
   ]
  },
  {
   "cell_type": "code",
   "execution_count": 11,
   "metadata": {},
   "outputs": [
    {
     "name": "stdout",
     "output_type": "stream",
     "text": [
      "epoch: 1, loss_train: 1.0974, accuracy_train: 0.5395, loss_valid: 1.1179, accuracy_valid: 0.5090, 309.6095sec\n",
      "epoch: 2, loss_train: 1.0038, accuracy_train: 0.6009, loss_valid: 1.0591, accuracy_valid: 0.5606, 306.0615sec\n",
      "epoch: 3, loss_train: 0.8601, accuracy_train: 0.6806, loss_valid: 0.9298, accuracy_valid: 0.6602, 305.0134sec\n",
      "epoch: 4, loss_train: 0.7211, accuracy_train: 0.7446, loss_valid: 0.8091, accuracy_valid: 0.7178, 302.6516sec\n",
      "epoch: 5, loss_train: 0.6217, accuracy_train: 0.7762, loss_valid: 0.7380, accuracy_valid: 0.7433, 302.8692sec\n",
      "epoch: 6, loss_train: 0.5551, accuracy_train: 0.7988, loss_valid: 0.7043, accuracy_valid: 0.7597, 303.8045sec\n",
      "epoch: 7, loss_train: 0.4979, accuracy_train: 0.8166, loss_valid: 0.6799, accuracy_valid: 0.7650, 302.5950sec\n",
      "epoch: 8, loss_train: 0.4690, accuracy_train: 0.8283, loss_valid: 0.6786, accuracy_valid: 0.7552, 305.6070sec\n",
      "epoch: 9, loss_train: 0.4539, accuracy_train: 0.8336, loss_valid: 0.6811, accuracy_valid: 0.7530, 300.9334sec\n",
      "epoch: 10, loss_train: 0.4486, accuracy_train: 0.8339, loss_valid: 0.6786, accuracy_valid: 0.7567, 303.4440sec\n"
     ]
    }
   ],
   "source": [
    "VOCAB_SIZE = len(set(word2id_dict.values())) + 1 \n",
    "EMB_SIZE = 300\n",
    "PADDING_IDX = len(set(word2id_dict.values()))\n",
    "OUTPUT_SIZE = 4\n",
    "HIDDEN_SIZE = 50\n",
    "LEARNING_RATE = 1e-3\n",
    "BATCH_SIZE = 1\n",
    "NUM_EPOCHS = 10\n",
    "\n",
    "model = RNN(VOCAB_SIZE, EMB_SIZE, PADDING_IDX, OUTPUT_SIZE, HIDDEN_SIZE)\n",
    "criterion = nn.CrossEntropyLoss()\n",
    "optimizer = torch.optim.SGD(model.parameters(), lr=LEARNING_RATE)\n",
    "\n",
    "log = train_model(dataset_train, dataset_valid, BATCH_SIZE, model, criterion, optimizer, NUM_EPOCHS)"
   ]
  },
  {
   "cell_type": "code",
   "execution_count": 12,
   "metadata": {},
   "outputs": [
    {
     "data": {
      "image/png": "[encoded data removed]",
      "text/plain": [
       "<Figure size 1080x360 with 2 Axes>"
      ]
     },
     "metadata": {
      "needs_background": "light"
     },
     "output_type": "display_data"
    },
    {
     "name": "stdout",
     "output_type": "stream",
     "text": [
      "accuracy (train): 0.834\n",
      "accuracy (valid): 0.753\n"
     ]
    }
   ],
   "source": [
    "visualize_logs(log)\n",
    "\n",
    "_, acc_train = calculate_loss_and_accuracy(model, dataset_train)\n",
    "_, acc_test = calculate_loss_and_accuracy(model, dataset_test)\n",
    "print(f'accuracy (train): {acc_train:.3f}')\n",
    "print(f'accuracy (valid): {acc_test:.3f}')"
   ]
  },
  {
   "attachments": {},
   "cell_type": "markdown",
   "metadata": {},
   "source": [
    "## 84. 単語ベクトルの導入"
   ]
  },
  {
   "cell_type": "code",
   "execution_count": 13,
   "metadata": {},
   "outputs": [
    {
     "name": "stdout",
     "output_type": "stream",
     "text": [
      "学習済みベクトル利用単語数: 9164 / 9394\n",
      "torch.Size([9394, 300])\n"
     ]
    }
   ],
   "source": [
    "from gensim.models import KeyedVectors\n",
    "\n",
    "keyed_vec = KeyedVectors.load_word2vec_format('./data/GoogleNews-vectors-negative300.bin.gz', binary=True)\n",
    "\n",
    "VOCAB_SIZE = len(set(word2id_dict.values())) + 1\n",
    "EMB_SIZE = 300\n",
    "weights = np.zeros((VOCAB_SIZE, EMB_SIZE))\n",
    "words_in_pretrained = 0\n",
    "for i, word in enumerate(word2id_dict.keys()):\n",
    "  if word in keyed_vec:\n",
    "    weights[i] = keyed_vec[word]\n",
    "    words_in_pretrained += 1\n",
    "weights = torch.from_numpy(weights.astype((np.float32)))\n",
    "\n",
    "print(f'学習済みベクトル利用単語数: {words_in_pretrained} / {VOCAB_SIZE}')\n",
    "print(weights.size())"
   ]
  },
  {
   "cell_type": "code",
   "execution_count": 61,
   "metadata": {},
   "outputs": [],
   "source": [
    "class RNN_mod1(nn.Module):\n",
    "    def __init__(self, vocab_size, emb_size, padding_idx, output_size, hidden_size, num_layers, emb_weights=None, bidirectional=False):\n",
    "        super().__init__()\n",
    "        self.hidden_size = hidden_size\n",
    "        self.num_layers = num_layers\n",
    "        self.num_directions = bidirectional + 1\n",
    "        if emb_weights != None:\n",
    "            self.emb = nn.Embedding.from_pretrained(emb_weights, padding_idx=padding_idx)\n",
    "        else:\n",
    "            self.emb = nn.Embedding(vocab_size, emb_size, padding_idx=padding_idx)\n",
    "        self.rnn = nn.RNN(emb_size, hidden_size, num_layers, nonlinearity='tanh', bidirectional=bidirectional, batch_first=True)\n",
    "        self.fc = nn.Linear(hidden_size * self.num_directions, output_size)\n",
    "\n",
    "    def forward(self, x):\n",
    "        self.batch_size = x.size()[0]\n",
    "        hidden = self.init_hidden(x.device)\n",
    "        emb = self.emb(x)\n",
    "        out, hidden = self.rnn(emb, hidden)\n",
    "        out = self.fc(out[:, -1, :])\n",
    "        return out\n",
    "\n",
    "    def init_hidden(self, device):\n",
    "        hidden = torch.zeros(self.num_layers * self.num_directions, self.batch_size, self.hidden_size, device=device)\n",
    "        return hidden"
   ]
  },
  {
   "cell_type": "code",
   "execution_count": 15,
   "metadata": {},
   "outputs": [],
   "source": [
    "class Padsequence():\n",
    "    def __init__(self, padding_idx):\n",
    "        self.padding_idx = padding_idx\n",
    "\n",
    "    def __call__(self, batch):\n",
    "        sorted_batch = sorted(batch, key=lambda x: x['inputs'].shape[0], reverse=True)\n",
    "        sequences = [x['inputs'] for x in sorted_batch]\n",
    "        sequences_padded = torch.nn.utils.rnn.pad_sequence(sequences, batch_first=True, padding_value=self.padding_idx)\n",
    "        labels = torch.LongTensor([x['labels'] for x in sorted_batch])\n",
    "\n",
    "        return {'inputs': sequences_padded, 'labels': labels}"
   ]
  },
  {
   "cell_type": "code",
   "execution_count": 16,
   "metadata": {},
   "outputs": [
    {
     "name": "stdout",
     "output_type": "stream",
     "text": [
      "epoch: 1, loss_train: 1.1740, accuracy_train: 0.4056, loss_valid: 1.1744, accuracy_valid: 0.4094, 108.7253sec\n",
      "epoch: 2, loss_train: 1.1803, accuracy_train: 0.4236, loss_valid: 1.1783, accuracy_valid: 0.4431, 108.3137sec\n",
      "epoch: 3, loss_train: 1.1622, accuracy_train: 0.4995, loss_valid: 1.1487, accuracy_valid: 0.5180, 107.7700sec\n",
      "epoch: 4, loss_train: 1.0829, accuracy_train: 0.5990, loss_valid: 1.0721, accuracy_valid: 0.6018, 107.9873sec\n",
      "epoch: 5, loss_train: 1.0093, accuracy_train: 0.6274, loss_valid: 1.0031, accuracy_valid: 0.6295, 107.1010sec\n",
      "epoch: 6, loss_train: 0.9949, accuracy_train: 0.6384, loss_valid: 0.9992, accuracy_valid: 0.6362, 108.3231sec\n",
      "epoch: 7, loss_train: 0.9972, accuracy_train: 0.6334, loss_valid: 1.0003, accuracy_valid: 0.6287, 108.3649sec\n",
      "epoch: 8, loss_train: 0.9459, accuracy_train: 0.6583, loss_valid: 0.9615, accuracy_valid: 0.6475, 105.9707sec\n",
      "epoch: 9, loss_train: 0.9502, accuracy_train: 0.6565, loss_valid: 0.9676, accuracy_valid: 0.6512, 107.3998sec\n",
      "epoch: 10, loss_train: 0.9426, accuracy_train: 0.6610, loss_valid: 0.9605, accuracy_valid: 0.6504, 108.6266sec\n"
     ]
    }
   ],
   "source": [
    "VOCAB_SIZE = len(set(word2id_dict.values())) + 1\n",
    "EMB_SIZE = 300\n",
    "PADDING_IDX = len(set(word2id_dict.values()))\n",
    "OUTPUT_SIZE = 4\n",
    "HIDDEN_SIZE = 50\n",
    "NUM_LAYERS = 1\n",
    "LEARNING_RATE = 5e-2\n",
    "BATCH_SIZE = 32\n",
    "NUM_EPOCHS = 10\n",
    "\n",
    "model = RNN_mod1(VOCAB_SIZE, EMB_SIZE, PADDING_IDX, OUTPUT_SIZE, HIDDEN_SIZE, NUM_LAYERS, emb_weights=weights)\n",
    "criterion = nn.CrossEntropyLoss()\n",
    "optimizer = torch.optim.SGD(model.parameters(), lr=LEARNING_RATE)\n",
    "device = torch.device('cuda:0') if torch.cuda.is_available() else torch.device('cpu')\n",
    "\n",
    "log = train_model(dataset_train, dataset_valid, BATCH_SIZE, model, criterion, optimizer, NUM_EPOCHS, collate_fn=Padsequence(PADDING_IDX), device=device)"
   ]
  },
  {
   "cell_type": "code",
   "execution_count": 17,
   "metadata": {},
   "outputs": [
    {
     "data": {
      "image/png": "[encoded data removed]",
      "text/plain": [
       "<Figure size 1080x360 with 2 Axes>"
      ]
     },
     "metadata": {
      "needs_background": "light"
     },
     "output_type": "display_data"
    },
    {
     "name": "stdout",
     "output_type": "stream",
     "text": [
      "accuracy (train): 0.661\n",
      "accuracy (valid): 0.651\n"
     ]
    }
   ],
   "source": [
    "visualize_logs(log)\n",
    "\n",
    "_, acc_train = calculate_loss_and_accuracy(model, dataset_train, device)\n",
    "_, acc_test = calculate_loss_and_accuracy(model, dataset_test, device)\n",
    "print(f'accuracy (train): {acc_train:.3f}')\n",
    "print(f'accuracy (valid): {acc_test:.3f}')"
   ]
  },
  {
   "attachments": {},
   "cell_type": "markdown",
   "metadata": {},
   "source": [
    "## 85. 双方向RNN・多層化"
   ]
  },
  {
   "cell_type": "code",
   "execution_count": 18,
   "metadata": {},
   "outputs": [
    {
     "name": "stdout",
     "output_type": "stream",
     "text": [
      "epoch: 1, loss_train: 1.1766, accuracy_train: 0.4076, loss_valid: 1.1783, accuracy_valid: 0.4072, 112.3449sec\n",
      "epoch: 2, loss_train: 1.2154, accuracy_train: 0.4020, loss_valid: 1.2134, accuracy_valid: 0.4042, 112.9568sec\n",
      "epoch: 3, loss_train: 1.2444, accuracy_train: 0.3966, loss_valid: 1.2413, accuracy_valid: 0.3975, 112.6263sec\n",
      "epoch: 4, loss_train: 1.0429, accuracy_train: 0.6031, loss_valid: 1.0392, accuracy_valid: 0.6085, 113.6457sec\n",
      "epoch: 5, loss_train: 1.0505, accuracy_train: 0.5885, loss_valid: 1.0460, accuracy_valid: 0.5838, 112.8040sec\n",
      "epoch: 6, loss_train: 1.0776, accuracy_train: 0.5728, loss_valid: 1.0735, accuracy_valid: 0.5786, 113.2502sec\n",
      "epoch: 7, loss_train: 0.9903, accuracy_train: 0.6267, loss_valid: 0.9994, accuracy_valid: 0.6198, 113.0350sec\n",
      "epoch: 8, loss_train: 0.9643, accuracy_train: 0.6399, loss_valid: 0.9763, accuracy_valid: 0.6370, 113.4529sec\n",
      "epoch: 9, loss_train: 0.9896, accuracy_train: 0.6261, loss_valid: 1.0011, accuracy_valid: 0.6190, 112.6520sec\n",
      "epoch: 10, loss_train: 0.9718, accuracy_train: 0.6349, loss_valid: 0.9877, accuracy_valid: 0.6220, 112.6880sec\n"
     ]
    }
   ],
   "source": [
    "VOCAB_SIZE = len(set(word2id_dict.values())) + 1\n",
    "EMB_SIZE = 300\n",
    "PADDING_IDX = len(set(word2id_dict.values()))\n",
    "OUTPUT_SIZE = 4\n",
    "HIDDEN_SIZE = 50\n",
    "NUM_LAYERS = 2 #2層\n",
    "LEARNING_RATE = 5e-2\n",
    "BATCH_SIZE = 32\n",
    "NUM_EPOCHS = 10\n",
    "\n",
    "model = RNN_mod1(VOCAB_SIZE, EMB_SIZE, PADDING_IDX, OUTPUT_SIZE, HIDDEN_SIZE, NUM_LAYERS, emb_weights=weights, bidirectional=True) #bidirectional:双方向でモデル作成\n",
    "\n",
    "criterion = nn.CrossEntropyLoss()\n",
    "optimizer = torch.optim.SGD(model.parameters(), lr=LEARNING_RATE)\n",
    "device = torch.device('cuda:0') if torch.cuda.is_available() else torch.device('cpu')\n",
    "\n",
    "log = train_model(dataset_train, dataset_valid, BATCH_SIZE, model, criterion, optimizer, NUM_EPOCHS, collate_fn=Padsequence(PADDING_IDX), device=device)"
   ]
  },
  {
   "cell_type": "code",
   "execution_count": 19,
   "metadata": {},
   "outputs": [
    {
     "data": {
      "image/png": "[encoded data removed]",
      "text/plain": [
       "<Figure size 1080x360 with 2 Axes>"
      ]
     },
     "metadata": {
      "needs_background": "light"
     },
     "output_type": "display_data"
    },
    {
     "name": "stdout",
     "output_type": "stream",
     "text": [
      "accuracy (train): 0.635\n",
      "accuracy (valid): 0.629\n"
     ]
    }
   ],
   "source": [
    "visualize_logs(log)\n",
    "\n",
    "_, acc_train = calculate_loss_and_accuracy(model, dataset_train, device)\n",
    "_, acc_test = calculate_loss_and_accuracy(model, dataset_test, device)\n",
    "print(f'accuracy (train): {acc_train:.3f}')\n",
    "print(f'accuracy (valid): {acc_test:.3f}')"
   ]
  },
  {
   "attachments": {},
   "cell_type": "markdown",
   "metadata": {},
   "source": [
    "## 86. 畳み込みニューラルネットワーク(CNN)\n",
    "定義のみ"
   ]
  },
  {
   "cell_type": "code",
   "execution_count": 20,
   "metadata": {},
   "outputs": [],
   "source": [
    "from torch.nn import functional as F\n",
    "\n",
    "class CNN(nn.Module):\n",
    "    def __init__(self, vocab_size, emb_size, padding_idx, output_size, out_channels, kernel_heights, stride, padding, emb_weights=None):\n",
    "        super().__init__()\n",
    "        if emb_weights != None:\n",
    "            self.emb = nn.Embedding.from_pretrained(emb_weights, padding_idx=padding_idx)\n",
    "        else:\n",
    "            self.emb = nn.Embedding(vocab_size, emb_size, padding_idx=padding_idx)\n",
    "        self.conv = nn.Conv2d(1, out_channels, (kernel_heights, emb_size), stride, (padding, 0))\n",
    "        self.drop = nn.Dropout(0.3)\n",
    "        self.fc = nn.Linear(out_channels, output_size)\n",
    "    \n",
    "    def forward(self, x):\n",
    "        # x.size() = (batch_size, seq_len)\n",
    "        emb = self.emb(x).unsqueeze(1)\n",
    "        # emb.size() = (batch_size, 1, seq_len, emb_size)\n",
    "        conv = self.conv(emb)\n",
    "        # conv.size() = (batch_size, out_channels, seq_len, 1)\n",
    "        act = F.relu(conv.squeeze(3))\n",
    "        # act.size() = (batch_size, out_channels, seq_len)\n",
    "        max_pool = F.max_pool1d(act, act.size()[2])\n",
    "        # max_pool.size() = (batch_size, out_channels, 1)\n",
    "        out = self.fc(self.drop(max_pool.squeeze(2)))\n",
    "        # out.size() = (batch_size, output_size)\n",
    "        return out"
   ]
  },
  {
   "cell_type": "code",
   "execution_count": 21,
   "metadata": {},
   "outputs": [
    {
     "name": "stdout",
     "output_type": "stream",
     "text": [
      "tensor([[0.2699, 0.2784, 0.2314, 0.2203]], grad_fn=<SoftmaxBackward0>)\n",
      "tensor([[0.2638, 0.2535, 0.2381, 0.2446]], grad_fn=<SoftmaxBackward0>)\n",
      "tensor([[0.2792, 0.2717, 0.2533, 0.1959]], grad_fn=<SoftmaxBackward0>)\n",
      "tensor([[0.2577, 0.2769, 0.2299, 0.2355]], grad_fn=<SoftmaxBackward0>)\n",
      "tensor([[0.2722, 0.2512, 0.2412, 0.2354]], grad_fn=<SoftmaxBackward0>)\n",
      "tensor([[0.2725, 0.2515, 0.2308, 0.2451]], grad_fn=<SoftmaxBackward0>)\n",
      "tensor([[0.2639, 0.2776, 0.2317, 0.2268]], grad_fn=<SoftmaxBackward0>)\n",
      "tensor([[0.2788, 0.2554, 0.2399, 0.2259]], grad_fn=<SoftmaxBackward0>)\n",
      "tensor([[0.2840, 0.2700, 0.2109, 0.2351]], grad_fn=<SoftmaxBackward0>)\n",
      "tensor([[0.2678, 0.2673, 0.2333, 0.2316]], grad_fn=<SoftmaxBackward0>)\n"
     ]
    }
   ],
   "source": [
    "VOCAB_SIZE = len(set(word2id_dict.values())) + 1\n",
    "EMB_SIZE = 300\n",
    "PADDING_IDX = len(set(word2id_dict.values()))\n",
    "OUTPUT_SIZE = 4\n",
    "OUT_CHANNELS = 100\n",
    "KERNEL_HEIGHTS = 3\n",
    "STRIDE = 1\n",
    "PADDING = 1\n",
    "\n",
    "# モデルの定義\n",
    "model = CNN(VOCAB_SIZE, EMB_SIZE, PADDING_IDX, OUTPUT_SIZE, OUT_CHANNELS, KERNEL_HEIGHTS, STRIDE, PADDING, emb_weights=weights)\n",
    "\n",
    "# 先頭10件の予測値取得\n",
    "for i in range(10):\n",
    "    X = dataset_train[i]['inputs']\n",
    "    print(torch.softmax(model(X.unsqueeze(0)), dim=-1))"
   ]
  },
  {
   "attachments": {},
   "cell_type": "markdown",
   "metadata": {},
   "source": [
    "## 87. 確率的勾配降下法によるCNNの学習"
   ]
  },
  {
   "cell_type": "code",
   "execution_count": 22,
   "metadata": {},
   "outputs": [
    {
     "name": "stdout",
     "output_type": "stream",
     "text": [
      "epoch: 1, loss_train: 1.1307, accuracy_train: 0.4675, loss_valid: 1.1340, accuracy_valid: 0.4633, 104.0288sec\n",
      "epoch: 2, loss_train: 1.0680, accuracy_train: 0.6440, loss_valid: 1.0792, accuracy_valid: 0.6355, 104.2551sec\n",
      "epoch: 3, loss_train: 0.9830, accuracy_train: 0.6786, loss_valid: 1.0067, accuracy_valid: 0.6602, 104.2562sec\n",
      "epoch: 4, loss_train: 0.9076, accuracy_train: 0.7029, loss_valid: 0.9435, accuracy_valid: 0.6751, 104.8896sec\n",
      "epoch: 5, loss_train: 0.8537, accuracy_train: 0.7168, loss_valid: 0.8992, accuracy_valid: 0.6939, 103.9433sec\n",
      "epoch: 6, loss_train: 0.8158, accuracy_train: 0.7285, loss_valid: 0.8698, accuracy_valid: 0.7036, 104.6210sec\n",
      "epoch: 7, loss_train: 0.7915, accuracy_train: 0.7353, loss_valid: 0.8509, accuracy_valid: 0.7081, 104.0043sec\n",
      "epoch: 8, loss_train: 0.7776, accuracy_train: 0.7389, loss_valid: 0.8409, accuracy_valid: 0.7133, 105.2780sec\n",
      "epoch: 9, loss_train: 0.7712, accuracy_train: 0.7415, loss_valid: 0.8359, accuracy_valid: 0.7133, 104.0693sec\n",
      "epoch: 10, loss_train: 0.7696, accuracy_train: 0.7414, loss_valid: 0.8347, accuracy_valid: 0.7126, 103.2248sec\n"
     ]
    }
   ],
   "source": [
    "VOCAB_SIZE = len(set(word2id_dict.values())) + 1\n",
    "EMB_SIZE = 300\n",
    "PADDING_IDX = len(set(word2id_dict.values()))\n",
    "OUTPUT_SIZE = 4\n",
    "OUT_CHANNELS = 100\n",
    "KERNEL_HEIGHTS = 3\n",
    "STRIDE = 1\n",
    "PADDING = 1\n",
    "LEARNING_RATE = 5e-2\n",
    "BATCH_SIZE = 64\n",
    "NUM_EPOCHS = 10\n",
    "\n",
    "model = CNN(VOCAB_SIZE, EMB_SIZE, PADDING_IDX, OUTPUT_SIZE, OUT_CHANNELS, KERNEL_HEIGHTS, STRIDE, PADDING, emb_weights=weights)\n",
    "\n",
    "criterion = nn.CrossEntropyLoss()\n",
    "optimizer = torch.optim.SGD(model.parameters(), lr=LEARNING_RATE)\n",
    "device = torch.device('cuda:0') if torch.cuda.is_available() else torch.device('cpu')\n",
    "\n",
    "log = train_model(dataset_train, dataset_valid, BATCH_SIZE, model, criterion, optimizer, NUM_EPOCHS, collate_fn=Padsequence(PADDING_IDX), device=device)"
   ]
  },
  {
   "cell_type": "code",
   "execution_count": 23,
   "metadata": {},
   "outputs": [
    {
     "data": {
      "image/png": "[encoded data removed]",
      "text/plain": [
       "<Figure size 1080x360 with 2 Axes>"
      ]
     },
     "metadata": {
      "needs_background": "light"
     },
     "output_type": "display_data"
    },
    {
     "name": "stdout",
     "output_type": "stream",
     "text": [
      "accuracy (train): 0.741\n",
      "accuracy (valid): 0.698\n"
     ]
    }
   ],
   "source": [
    "visualize_logs(log)\n",
    "\n",
    "_, acc_train = calculate_loss_and_accuracy(model, dataset_train, device)\n",
    "_, acc_test = calculate_loss_and_accuracy(model, dataset_test, device)\n",
    "print(f'accuracy (train): {acc_train:.3f}')\n",
    "print(f'accuracy (valid): {acc_test:.3f}')"
   ]
  },
  {
   "attachments": {},
   "cell_type": "markdown",
   "metadata": {},
   "source": [
    "## 88. パラメータチューニング"
   ]
  },
  {
   "cell_type": "code",
   "execution_count": 66,
   "metadata": {},
   "outputs": [],
   "source": [
    "import optuna\n",
    "\n",
    "def objective(trial):\n",
    "    learning_rate = trial.suggest_loguniform('learning_rate', 5e-4, 5e-2)\n",
    "    momentum = trial.suggest_discrete_uniform('momentum', 0.5, 0.9, 0.1)\n",
    "    batch_size = int(trial.suggest_discrete_uniform('batch_size', 16, 128, 16))\n",
    "    hidden_size = int(trial.suggest_discrete_uniform('hidden_size', 50, 200, 50))\n",
    "    num_layers = int(trial.suggest_discrete_uniform('num_layers', 2, 4, 1))\n",
    "\n",
    "    VOCAB_SIZE = len(set(word2id_dict.values())) + 1\n",
    "    PADDING_IDX = len(set(word2id_dict.values()))\n",
    "    OUTPUT_SIZE = 4\n",
    "    NUM_EPOCHS = 10\n",
    "    EMB_SIZE = 300\n",
    "\n",
    "    model = RNN_mod1(VOCAB_SIZE, EMB_SIZE, PADDING_IDX, OUTPUT_SIZE, hidden_size, num_layers, emb_weights=weights, bidirectional=True)\n",
    "\n",
    "    criterion = nn.CrossEntropyLoss()\n",
    "    optimizer = torch.optim.SGD(model.parameters(), lr=learning_rate, momentum=momentum)\n",
    "    device = torch.device('cuda:0') if torch.cuda.is_available() else torch.device('cpu')\n",
    "\n",
    "    log = train_model(dataset_train, dataset_valid, batch_size, model, criterion, optimizer, NUM_EPOCHS, collate_fn=Padsequence(PADDING_IDX), device=device)\n",
    "\n",
    "    loss_valid, _ = calculate_loss_and_accuracy(model, dataset_valid, device, criterion=criterion) \n",
    "\n",
    "    return loss_valid"
   ]
  },
  {
   "cell_type": "code",
   "execution_count": 68,
   "metadata": {},
   "outputs": [
    {
     "name": "stderr",
     "output_type": "stream",
     "text": [
      "\u001b[32m[I 2023-06-27 23:44:00,282]\u001b[0m A new study created in memory with name: no-name-b468be28-a346-4b67-9f7c-909364edb866\u001b[0m\n",
      "/home/morioka/.local/lib/python3.6/site-packages/ipykernel_launcher.py:4: FutureWarning: suggest_loguniform has been deprecated in v3.0.0. This feature will be removed in v6.0.0. See https://github.com/optuna/optuna/releases/tag/v3.0.0. Use :func:`~optuna.trial.Trial.suggest_float` instead.\n",
      "  after removing the cwd from sys.path.\n",
      "/home/morioka/.local/lib/python3.6/site-packages/ipykernel_launcher.py:5: FutureWarning: suggest_discrete_uniform has been deprecated in v3.0.0. This feature will be removed in v6.0.0. See https://github.com/optuna/optuna/releases/tag/v3.0.0. Use :func:`~optuna.trial.Trial.suggest_float` instead.\n",
      "  \"\"\"\n",
      "/home/morioka/.local/lib/python3.6/site-packages/ipykernel_launcher.py:6: FutureWarning: suggest_discrete_uniform has been deprecated in v3.0.0. This feature will be removed in v6.0.0. See https://github.com/optuna/optuna/releases/tag/v3.0.0. Use :func:`~optuna.trial.Trial.suggest_float` instead.\n",
      "  \n",
      "/home/morioka/.local/lib/python3.6/site-packages/ipykernel_launcher.py:7: FutureWarning: suggest_discrete_uniform has been deprecated in v3.0.0. This feature will be removed in v6.0.0. See https://github.com/optuna/optuna/releases/tag/v3.0.0. Use :func:`~optuna.trial.Trial.suggest_float` instead.\n",
      "  import sys\n",
      "/home/morioka/.local/lib/python3.6/site-packages/ipykernel_launcher.py:8: FutureWarning: suggest_discrete_uniform has been deprecated in v3.0.0. This feature will be removed in v6.0.0. See https://github.com/optuna/optuna/releases/tag/v3.0.0. Use :func:`~optuna.trial.Trial.suggest_float` instead.\n",
      "  \n"
     ]
    },
    {
     "name": "stdout",
     "output_type": "stream",
     "text": [
      "epoch: 1, loss_train: 1.1653, accuracy_train: 0.4149, loss_valid: 1.1657, accuracy_valid: 0.4079, 115.8254sec\n",
      "epoch: 2, loss_train: 1.1632, accuracy_train: 0.4173, loss_valid: 1.1639, accuracy_valid: 0.4094, 117.2368sec\n",
      "epoch: 3, loss_train: 1.1694, accuracy_train: 0.3986, loss_valid: 1.1694, accuracy_valid: 0.4087, 117.8658sec\n",
      "epoch: 4, loss_train: 1.1742, accuracy_train: 0.3989, loss_valid: 1.1728, accuracy_valid: 0.4049, 117.9554sec\n",
      "epoch: 5, loss_train: 1.1857, accuracy_train: 0.4058, loss_valid: 1.1801, accuracy_valid: 0.4019, 116.0990sec\n"
     ]
    },
    {
     "name": "stderr",
     "output_type": "stream",
     "text": [
      "\u001b[32m[I 2023-06-27 23:53:57,895]\u001b[0m Trial 0 finished with value: 1.1801172178127095 and parameters: {'learning_rate': 0.0180310473273883, 'momentum': 0.5, 'batch_size': 80.0, 'hidden_size': 200.0, 'num_layers': 3.0}. Best is trial 0 with value: 1.1801172178127095.\u001b[0m\n"
     ]
    },
    {
     "name": "stdout",
     "output_type": "stream",
     "text": [
      "epoch: 1, loss_train: 1.1722, accuracy_train: 0.4249, loss_valid: 1.1737, accuracy_valid: 0.4177, 113.1571sec\n",
      "epoch: 2, loss_train: 1.1742, accuracy_train: 0.4051, loss_valid: 1.1760, accuracy_valid: 0.4102, 111.6249sec\n",
      "epoch: 3, loss_train: 1.1879, accuracy_train: 0.4035, loss_valid: 1.1893, accuracy_valid: 0.4117, 112.3205sec\n",
      "epoch: 4, loss_train: 1.2214, accuracy_train: 0.4007, loss_valid: 1.2202, accuracy_valid: 0.3967, 111.3987sec\n"
     ]
    },
    {
     "name": "stderr",
     "output_type": "stream",
     "text": [
      "\u001b[32m[I 2023-06-28 00:01:39,138]\u001b[0m Trial 1 finished with value: 1.2202278756631348 and parameters: {'learning_rate': 0.04666217163764856, 'momentum': 0.6, 'batch_size': 112.0, 'hidden_size': 50.0, 'num_layers': 2.0}. Best is trial 0 with value: 1.1801172178127095.\u001b[0m\n"
     ]
    },
    {
     "name": "stdout",
     "output_type": "stream",
     "text": [
      "epoch: 1, loss_train: 1.1690, accuracy_train: 0.4035, loss_valid: 1.1705, accuracy_valid: 0.4027, 124.7406sec\n",
      "epoch: 2, loss_train: 1.0588, accuracy_train: 0.5862, loss_valid: 1.0563, accuracy_valid: 0.5696, 124.2558sec\n",
      "epoch: 3, loss_train: 0.9970, accuracy_train: 0.6215, loss_valid: 0.9909, accuracy_valid: 0.6228, 125.1897sec\n",
      "epoch: 4, loss_train: 0.9867, accuracy_train: 0.6287, loss_valid: 0.9950, accuracy_valid: 0.6213, 125.8038sec\n",
      "epoch: 5, loss_train: 1.0361, accuracy_train: 0.5883, loss_valid: 1.0378, accuracy_valid: 0.5846, 124.7922sec\n",
      "epoch: 6, loss_train: 0.9707, accuracy_train: 0.6285, loss_valid: 0.9794, accuracy_valid: 0.6250, 124.3365sec\n",
      "epoch: 7, loss_train: 0.9833, accuracy_train: 0.6232, loss_valid: 1.0004, accuracy_valid: 0.6235, 125.2757sec\n",
      "epoch: 8, loss_train: 0.9279, accuracy_train: 0.6460, loss_valid: 0.9534, accuracy_valid: 0.6422, 125.1465sec\n",
      "epoch: 9, loss_train: 0.9281, accuracy_train: 0.6427, loss_valid: 0.9607, accuracy_valid: 0.6347, 125.2111sec\n",
      "epoch: 10, loss_train: 0.9361, accuracy_train: 0.6365, loss_valid: 0.9692, accuracy_valid: 0.6287, 125.3724sec\n"
     ]
    },
    {
     "name": "stderr",
     "output_type": "stream",
     "text": [
      "\u001b[32m[I 2023-06-28 00:22:42,680]\u001b[0m Trial 2 finished with value: 0.96917711927773 and parameters: {'learning_rate': 0.010864030552534333, 'momentum': 0.5, 'batch_size': 16.0, 'hidden_size': 100.0, 'num_layers': 4.0}. Best is trial 2 with value: 0.96917711927773.\u001b[0m\n"
     ]
    },
    {
     "name": "stdout",
     "output_type": "stream",
     "text": [
      "epoch: 1, loss_train: 1.1851, accuracy_train: 0.3963, loss_valid: 1.1861, accuracy_valid: 0.3960, 115.4365sec\n",
      "epoch: 2, loss_train: 1.1082, accuracy_train: 0.5363, loss_valid: 1.1071, accuracy_valid: 0.5389, 115.8931sec\n",
      "epoch: 3, loss_train: 1.0903, accuracy_train: 0.5384, loss_valid: 1.0945, accuracy_valid: 0.5337, 115.6077sec\n",
      "epoch: 4, loss_train: 1.4252, accuracy_train: 0.4208, loss_valid: 1.4241, accuracy_valid: 0.4184, 115.3132sec\n",
      "epoch: 5, loss_train: 1.1688, accuracy_train: 0.4922, loss_valid: 1.1732, accuracy_valid: 0.4798, 116.0972sec\n",
      "epoch: 6, loss_train: 1.1580, accuracy_train: 0.4903, loss_valid: 1.1652, accuracy_valid: 0.4940, 115.7489sec\n",
      "epoch: 7, loss_train: 1.2063, accuracy_train: 0.4973, loss_valid: 1.2098, accuracy_valid: 0.4925, 115.5590sec\n",
      "epoch: 8, loss_train: 1.1729, accuracy_train: 0.4970, loss_valid: 1.1781, accuracy_valid: 0.4895, 115.6440sec\n",
      "epoch: 9, loss_train: 1.1635, accuracy_train: 0.5162, loss_valid: 1.1714, accuracy_valid: 0.5052, 115.9565sec\n",
      "epoch: 10, loss_train: 1.1416, accuracy_train: 0.5356, loss_valid: 1.1491, accuracy_valid: 0.5172, 113.2323sec\n"
     ]
    },
    {
     "name": "stderr",
     "output_type": "stream",
     "text": [
      "\u001b[32m[I 2023-06-28 00:42:10,019]\u001b[0m Trial 3 finished with value: 1.149086760797588 and parameters: {'learning_rate': 0.022860052982282195, 'momentum': 0.9, 'batch_size': 128.0, 'hidden_size': 200.0, 'num_layers': 3.0}. Best is trial 2 with value: 0.96917711927773.\u001b[0m\n"
     ]
    },
    {
     "name": "stdout",
     "output_type": "stream",
     "text": [
      "epoch: 1, loss_train: 1.1701, accuracy_train: 0.4216, loss_valid: 1.1685, accuracy_valid: 0.4237, 119.1783sec\n",
      "epoch: 2, loss_train: 1.1655, accuracy_train: 0.4179, loss_valid: 1.1631, accuracy_valid: 0.4281, 119.2454sec\n",
      "epoch: 3, loss_train: 1.1649, accuracy_train: 0.4165, loss_valid: 1.1613, accuracy_valid: 0.4311, 118.1190sec\n",
      "epoch: 4, loss_train: 1.1689, accuracy_train: 0.4207, loss_valid: 1.1619, accuracy_valid: 0.4356, 115.1821sec\n",
      "epoch: 5, loss_train: 1.1820, accuracy_train: 0.4197, loss_valid: 1.1672, accuracy_valid: 0.4386, 119.2070sec\n",
      "epoch: 6, loss_train: 1.1974, accuracy_train: 0.4382, loss_valid: 1.1772, accuracy_valid: 0.4499, 119.5097sec\n"
     ]
    },
    {
     "name": "stderr",
     "output_type": "stream",
     "text": [
      "\u001b[32m[I 2023-06-28 00:54:13,340]\u001b[0m Trial 4 finished with value: 1.177185638066002 and parameters: {'learning_rate': 0.019770684226425413, 'momentum': 0.5, 'batch_size': 80.0, 'hidden_size': 50.0, 'num_layers': 4.0}. Best is trial 2 with value: 0.96917711927773.\u001b[0m\n"
     ]
    },
    {
     "name": "stdout",
     "output_type": "stream",
     "text": [
      "epoch: 1, loss_train: 1.1685, accuracy_train: 0.4258, loss_valid: 1.1661, accuracy_valid: 0.4394, 112.5413sec\n",
      "epoch: 2, loss_train: 1.1643, accuracy_train: 0.4206, loss_valid: 1.1619, accuracy_valid: 0.4334, 112.4377sec\n",
      "epoch: 3, loss_train: 1.1642, accuracy_train: 0.4200, loss_valid: 1.1618, accuracy_valid: 0.4394, 111.7162sec\n",
      "epoch: 4, loss_train: 1.1641, accuracy_train: 0.4252, loss_valid: 1.1617, accuracy_valid: 0.4386, 111.9534sec\n",
      "epoch: 5, loss_train: 1.1640, accuracy_train: 0.4173, loss_valid: 1.1617, accuracy_valid: 0.4386, 112.2491sec\n",
      "epoch: 6, loss_train: 1.1638, accuracy_train: 0.4221, loss_valid: 1.1615, accuracy_valid: 0.4364, 113.1871sec\n",
      "epoch: 7, loss_train: 1.1639, accuracy_train: 0.4191, loss_valid: 1.1616, accuracy_valid: 0.4431, 110.2196sec\n",
      "epoch: 8, loss_train: 1.1639, accuracy_train: 0.4189, loss_valid: 1.1616, accuracy_valid: 0.4409, 111.5840sec\n",
      "epoch: 9, loss_train: 1.1639, accuracy_train: 0.4190, loss_valid: 1.1616, accuracy_valid: 0.4394, 112.1464sec\n",
      "epoch: 10, loss_train: 1.1639, accuracy_train: 0.4188, loss_valid: 1.1616, accuracy_valid: 0.4424, 111.9031sec\n"
     ]
    },
    {
     "name": "stderr",
     "output_type": "stream",
     "text": [
      "\u001b[32m[I 2023-06-28 01:13:05,637]\u001b[0m Trial 5 finished with value: 1.1616211865922648 and parameters: {'learning_rate': 0.0008248275182368648, 'momentum': 0.9, 'batch_size': 80.0, 'hidden_size': 100.0, 'num_layers': 2.0}. Best is trial 2 with value: 0.96917711927773.\u001b[0m\n"
     ]
    },
    {
     "name": "stdout",
     "output_type": "stream",
     "text": [
      "epoch: 1, loss_train: 1.1690, accuracy_train: 0.4174, loss_valid: 1.1680, accuracy_valid: 0.4371, 115.4916sec\n",
      "epoch: 2, loss_train: 1.1715, accuracy_train: 0.4020, loss_valid: 1.1707, accuracy_valid: 0.4057, 115.5457sec\n",
      "epoch: 3, loss_train: 1.1689, accuracy_train: 0.4119, loss_valid: 1.1688, accuracy_valid: 0.4296, 114.9386sec\n",
      "epoch: 4, loss_train: 1.1737, accuracy_train: 0.4154, loss_valid: 1.1725, accuracy_valid: 0.4274, 114.6686sec\n",
      "epoch: 5, loss_train: 1.2004, accuracy_train: 0.4047, loss_valid: 1.1948, accuracy_valid: 0.4109, 115.0652sec\n",
      "epoch: 6, loss_train: 1.1815, accuracy_train: 0.4334, loss_valid: 1.1736, accuracy_valid: 0.4551, 114.9395sec\n",
      "epoch: 7, loss_train: 1.1466, accuracy_train: 0.4901, loss_valid: 1.1371, accuracy_valid: 0.5082, 115.5124sec\n",
      "epoch: 8, loss_train: 1.1005, accuracy_train: 0.5418, loss_valid: 1.0962, accuracy_valid: 0.5479, 114.6748sec\n",
      "epoch: 9, loss_train: 1.1066, accuracy_train: 0.5319, loss_valid: 1.0981, accuracy_valid: 0.5457, 114.8011sec\n",
      "epoch: 10, loss_train: 1.0966, accuracy_train: 0.5427, loss_valid: 1.0894, accuracy_valid: 0.5614, 115.1225sec\n"
     ]
    },
    {
     "name": "stderr",
     "output_type": "stream",
     "text": [
      "\u001b[32m[I 2023-06-28 01:32:29,258]\u001b[0m Trial 6 finished with value: 1.0894106905684322 and parameters: {'learning_rate': 0.013437917239969933, 'momentum': 0.8, 'batch_size': 96.0, 'hidden_size': 50.0, 'num_layers': 3.0}. Best is trial 2 with value: 0.96917711927773.\u001b[0m\n"
     ]
    },
    {
     "name": "stdout",
     "output_type": "stream",
     "text": [
      "epoch: 1, loss_train: 1.1277, accuracy_train: 0.5015, loss_valid: 1.1259, accuracy_valid: 0.5067, 122.5791sec\n",
      "epoch: 2, loss_train: 1.0916, accuracy_train: 0.5515, loss_valid: 1.0913, accuracy_valid: 0.5539, 121.2505sec\n",
      "epoch: 3, loss_train: 1.0418, accuracy_train: 0.5785, loss_valid: 1.0464, accuracy_valid: 0.5674, 122.0831sec\n",
      "epoch: 4, loss_train: 0.9937, accuracy_train: 0.6168, loss_valid: 1.0109, accuracy_valid: 0.6220, 121.5597sec\n"
     ]
    },
    {
     "name": "stderr",
     "output_type": "stream",
     "text": [
      "\u001b[33m[W 2023-06-28 01:41:59,467]\u001b[0m Trial 7 failed because of the following error: KeyboardInterrupt()\u001b[0m\n",
      "Traceback (most recent call last):\n",
      "  File \"/home/morioka/.local/lib/python3.6/site-packages/optuna/study/_optimize.py\", line 196, in _run_trial\n",
      "    value_or_values = func(trial)\n",
      "  File \"<ipython-input-66-340407faf560>\", line 22, in objective\n",
      "    log = train_model(dataset_train, dataset_valid, batch_size, model, criterion, optimizer, NUM_EPOCHS, collate_fn=Padsequence(PADDING_IDX), device=device)\n",
      "  File \"<ipython-input-9-1c348dc8a334>\", line 52, in train_model\n",
      "    loss_train, acc_train = calculate_loss_and_accuracy(model, dataset_train, device, criterion=criterion)\n",
      "  File \"<ipython-input-9-1c348dc8a334>\", line 15, in calculate_loss_and_accuracy\n",
      "    outputs = model(inputs)\n",
      "  File \"/home/morioka/.local/lib/python3.6/site-packages/torch/nn/modules/module.py\", line 1102, in _call_impl\n",
      "    return forward_call(*input, **kwargs)\n",
      "  File \"<ipython-input-61-d539306be914>\", line 18, in forward\n",
      "    out, hidden = self.rnn(emb, hidden)\n",
      "  File \"/home/morioka/.local/lib/python3.6/site-packages/torch/nn/modules/module.py\", line 1102, in _call_impl\n",
      "    return forward_call(*input, **kwargs)\n",
      "  File \"/home/morioka/.local/lib/python3.6/site-packages/torch/nn/modules/rnn.py\", line 269, in forward\n",
      "    self.dropout, self.training, self.bidirectional, self.batch_first)\n",
      "KeyboardInterrupt\n"
     ]
    },
    {
     "ename": "KeyboardInterrupt",
     "evalue": "",
     "output_type": "error",
     "traceback": [
      "\u001b[0;31m---------------------------------------------------------------------------\u001b[0m",
      "\u001b[0;31mKeyboardInterrupt\u001b[0m                         Traceback (most recent call last)",
      "\u001b[0;32m<ipython-input-68-2533057d7139>\u001b[0m in \u001b[0;36m<module>\u001b[0;34m\u001b[0m\n\u001b[1;32m      1\u001b[0m \u001b[0;31m# 最適化\u001b[0m\u001b[0;34m\u001b[0m\u001b[0;34m\u001b[0m\u001b[0;34m\u001b[0m\u001b[0m\n\u001b[1;32m      2\u001b[0m \u001b[0mstudy\u001b[0m \u001b[0;34m=\u001b[0m \u001b[0moptuna\u001b[0m\u001b[0;34m.\u001b[0m\u001b[0mcreate_study\u001b[0m\u001b[0;34m(\u001b[0m\u001b[0;34m)\u001b[0m\u001b[0;34m\u001b[0m\u001b[0;34m\u001b[0m\u001b[0m\n\u001b[0;32m----> 3\u001b[0;31m \u001b[0mstudy\u001b[0m\u001b[0;34m.\u001b[0m\u001b[0moptimize\u001b[0m\u001b[0;34m(\u001b[0m\u001b[0mobjective\u001b[0m\u001b[0;34m,\u001b[0m \u001b[0mtimeout\u001b[0m\u001b[0;34m=\u001b[0m\u001b[0;36m7200\u001b[0m\u001b[0;34m)\u001b[0m\u001b[0;34m\u001b[0m\u001b[0;34m\u001b[0m\u001b[0m\n\u001b[0m\u001b[1;32m      4\u001b[0m \u001b[0;34m\u001b[0m\u001b[0m\n\u001b[1;32m      5\u001b[0m \u001b[0;31m# 結果の表示\u001b[0m\u001b[0;34m\u001b[0m\u001b[0;34m\u001b[0m\u001b[0;34m\u001b[0m\u001b[0m\n",
      "\u001b[0;32m~/.local/lib/python3.6/site-packages/optuna/study/study.py\u001b[0m in \u001b[0;36moptimize\u001b[0;34m(self, func, n_trials, timeout, n_jobs, catch, callbacks, gc_after_trial, show_progress_bar)\u001b[0m\n\u001b[1;32m    426\u001b[0m             \u001b[0mcallbacks\u001b[0m\u001b[0;34m=\u001b[0m\u001b[0mcallbacks\u001b[0m\u001b[0;34m,\u001b[0m\u001b[0;34m\u001b[0m\u001b[0;34m\u001b[0m\u001b[0m\n\u001b[1;32m    427\u001b[0m             \u001b[0mgc_after_trial\u001b[0m\u001b[0;34m=\u001b[0m\u001b[0mgc_after_trial\u001b[0m\u001b[0;34m,\u001b[0m\u001b[0;34m\u001b[0m\u001b[0;34m\u001b[0m\u001b[0m\n\u001b[0;32m--> 428\u001b[0;31m             \u001b[0mshow_progress_bar\u001b[0m\u001b[0;34m=\u001b[0m\u001b[0mshow_progress_bar\u001b[0m\u001b[0;34m,\u001b[0m\u001b[0;34m\u001b[0m\u001b[0;34m\u001b[0m\u001b[0m\n\u001b[0m\u001b[1;32m    429\u001b[0m         )\n\u001b[1;32m    430\u001b[0m \u001b[0;34m\u001b[0m\u001b[0m\n",
      "\u001b[0;32m~/.local/lib/python3.6/site-packages/optuna/study/_optimize.py\u001b[0m in \u001b[0;36m_optimize\u001b[0;34m(study, func, n_trials, timeout, n_jobs, catch, callbacks, gc_after_trial, show_progress_bar)\u001b[0m\n\u001b[1;32m     74\u001b[0m                 \u001b[0mreseed_sampler_rng\u001b[0m\u001b[0;34m=\u001b[0m\u001b[0;32mFalse\u001b[0m\u001b[0;34m,\u001b[0m\u001b[0;34m\u001b[0m\u001b[0;34m\u001b[0m\u001b[0m\n\u001b[1;32m     75\u001b[0m                 \u001b[0mtime_start\u001b[0m\u001b[0;34m=\u001b[0m\u001b[0;32mNone\u001b[0m\u001b[0;34m,\u001b[0m\u001b[0;34m\u001b[0m\u001b[0;34m\u001b[0m\u001b[0m\n\u001b[0;32m---> 76\u001b[0;31m                 \u001b[0mprogress_bar\u001b[0m\u001b[0;34m=\u001b[0m\u001b[0mprogress_bar\u001b[0m\u001b[0;34m,\u001b[0m\u001b[0;34m\u001b[0m\u001b[0;34m\u001b[0m\u001b[0m\n\u001b[0m\u001b[1;32m     77\u001b[0m             )\n\u001b[1;32m     78\u001b[0m         \u001b[0;32melse\u001b[0m\u001b[0;34m:\u001b[0m\u001b[0;34m\u001b[0m\u001b[0;34m\u001b[0m\u001b[0m\n",
      "\u001b[0;32m~/.local/lib/python3.6/site-packages/optuna/study/_optimize.py\u001b[0m in \u001b[0;36m_optimize_sequential\u001b[0;34m(study, func, n_trials, timeout, catch, callbacks, gc_after_trial, reseed_sampler_rng, time_start, progress_bar)\u001b[0m\n\u001b[1;32m    158\u001b[0m \u001b[0;34m\u001b[0m\u001b[0m\n\u001b[1;32m    159\u001b[0m         \u001b[0;32mtry\u001b[0m\u001b[0;34m:\u001b[0m\u001b[0;34m\u001b[0m\u001b[0;34m\u001b[0m\u001b[0m\n\u001b[0;32m--> 160\u001b[0;31m             \u001b[0mfrozen_trial\u001b[0m \u001b[0;34m=\u001b[0m \u001b[0m_run_trial\u001b[0m\u001b[0;34m(\u001b[0m\u001b[0mstudy\u001b[0m\u001b[0;34m,\u001b[0m \u001b[0mfunc\u001b[0m\u001b[0;34m,\u001b[0m \u001b[0mcatch\u001b[0m\u001b[0;34m)\u001b[0m\u001b[0;34m\u001b[0m\u001b[0;34m\u001b[0m\u001b[0m\n\u001b[0m\u001b[1;32m    161\u001b[0m         \u001b[0;32mfinally\u001b[0m\u001b[0;34m:\u001b[0m\u001b[0;34m\u001b[0m\u001b[0;34m\u001b[0m\u001b[0m\n\u001b[1;32m    162\u001b[0m             \u001b[0;31m# The following line mitigates memory problems that can be occurred in some\u001b[0m\u001b[0;34m\u001b[0m\u001b[0;34m\u001b[0m\u001b[0;34m\u001b[0m\u001b[0m\n",
      "\u001b[0;32m~/.local/lib/python3.6/site-packages/optuna/study/_optimize.py\u001b[0m in \u001b[0;36m_run_trial\u001b[0;34m(study, func, catch)\u001b[0m\n\u001b[1;32m    232\u001b[0m         \u001b[0;32mand\u001b[0m \u001b[0;32mnot\u001b[0m \u001b[0misinstance\u001b[0m\u001b[0;34m(\u001b[0m\u001b[0mfunc_err\u001b[0m\u001b[0;34m,\u001b[0m \u001b[0mcatch\u001b[0m\u001b[0;34m)\u001b[0m\u001b[0;34m\u001b[0m\u001b[0;34m\u001b[0m\u001b[0m\n\u001b[1;32m    233\u001b[0m     ):\n\u001b[0;32m--> 234\u001b[0;31m         \u001b[0;32mraise\u001b[0m \u001b[0mfunc_err\u001b[0m\u001b[0;34m\u001b[0m\u001b[0;34m\u001b[0m\u001b[0m\n\u001b[0m\u001b[1;32m    235\u001b[0m     \u001b[0;32mreturn\u001b[0m \u001b[0mfrozen_trial\u001b[0m\u001b[0;34m\u001b[0m\u001b[0;34m\u001b[0m\u001b[0m\n\u001b[1;32m    236\u001b[0m \u001b[0;34m\u001b[0m\u001b[0m\n",
      "\u001b[0;32m~/.local/lib/python3.6/site-packages/optuna/study/_optimize.py\u001b[0m in \u001b[0;36m_run_trial\u001b[0;34m(study, func, catch)\u001b[0m\n\u001b[1;32m    194\u001b[0m     \u001b[0;32mwith\u001b[0m \u001b[0mget_heartbeat_thread\u001b[0m\u001b[0;34m(\u001b[0m\u001b[0mtrial\u001b[0m\u001b[0;34m.\u001b[0m\u001b[0m_trial_id\u001b[0m\u001b[0;34m,\u001b[0m \u001b[0mstudy\u001b[0m\u001b[0;34m.\u001b[0m\u001b[0m_storage\u001b[0m\u001b[0;34m)\u001b[0m\u001b[0;34m:\u001b[0m\u001b[0;34m\u001b[0m\u001b[0;34m\u001b[0m\u001b[0m\n\u001b[1;32m    195\u001b[0m         \u001b[0;32mtry\u001b[0m\u001b[0;34m:\u001b[0m\u001b[0;34m\u001b[0m\u001b[0;34m\u001b[0m\u001b[0m\n\u001b[0;32m--> 196\u001b[0;31m             \u001b[0mvalue_or_values\u001b[0m \u001b[0;34m=\u001b[0m \u001b[0mfunc\u001b[0m\u001b[0;34m(\u001b[0m\u001b[0mtrial\u001b[0m\u001b[0;34m)\u001b[0m\u001b[0;34m\u001b[0m\u001b[0;34m\u001b[0m\u001b[0m\n\u001b[0m\u001b[1;32m    197\u001b[0m         \u001b[0;32mexcept\u001b[0m \u001b[0mexceptions\u001b[0m\u001b[0;34m.\u001b[0m\u001b[0mTrialPruned\u001b[0m \u001b[0;32mas\u001b[0m \u001b[0me\u001b[0m\u001b[0;34m:\u001b[0m\u001b[0;34m\u001b[0m\u001b[0;34m\u001b[0m\u001b[0m\n\u001b[1;32m    198\u001b[0m             \u001b[0;31m# TODO(mamu): Handle multi-objective cases.\u001b[0m\u001b[0;34m\u001b[0m\u001b[0;34m\u001b[0m\u001b[0;34m\u001b[0m\u001b[0m\n",
      "\u001b[0;32m<ipython-input-66-340407faf560>\u001b[0m in \u001b[0;36mobjective\u001b[0;34m(trial)\u001b[0m\n\u001b[1;32m     20\u001b[0m     \u001b[0mdevice\u001b[0m \u001b[0;34m=\u001b[0m \u001b[0mtorch\u001b[0m\u001b[0;34m.\u001b[0m\u001b[0mdevice\u001b[0m\u001b[0;34m(\u001b[0m\u001b[0;34m'cuda:0'\u001b[0m\u001b[0;34m)\u001b[0m \u001b[0;32mif\u001b[0m \u001b[0mtorch\u001b[0m\u001b[0;34m.\u001b[0m\u001b[0mcuda\u001b[0m\u001b[0;34m.\u001b[0m\u001b[0mis_available\u001b[0m\u001b[0;34m(\u001b[0m\u001b[0;34m)\u001b[0m \u001b[0;32melse\u001b[0m \u001b[0mtorch\u001b[0m\u001b[0;34m.\u001b[0m\u001b[0mdevice\u001b[0m\u001b[0;34m(\u001b[0m\u001b[0;34m'cpu'\u001b[0m\u001b[0;34m)\u001b[0m\u001b[0;34m\u001b[0m\u001b[0;34m\u001b[0m\u001b[0m\n\u001b[1;32m     21\u001b[0m \u001b[0;34m\u001b[0m\u001b[0m\n\u001b[0;32m---> 22\u001b[0;31m     \u001b[0mlog\u001b[0m \u001b[0;34m=\u001b[0m \u001b[0mtrain_model\u001b[0m\u001b[0;34m(\u001b[0m\u001b[0mdataset_train\u001b[0m\u001b[0;34m,\u001b[0m \u001b[0mdataset_valid\u001b[0m\u001b[0;34m,\u001b[0m \u001b[0mbatch_size\u001b[0m\u001b[0;34m,\u001b[0m \u001b[0mmodel\u001b[0m\u001b[0;34m,\u001b[0m \u001b[0mcriterion\u001b[0m\u001b[0;34m,\u001b[0m \u001b[0moptimizer\u001b[0m\u001b[0;34m,\u001b[0m \u001b[0mNUM_EPOCHS\u001b[0m\u001b[0;34m,\u001b[0m \u001b[0mcollate_fn\u001b[0m\u001b[0;34m=\u001b[0m\u001b[0mPadsequence\u001b[0m\u001b[0;34m(\u001b[0m\u001b[0mPADDING_IDX\u001b[0m\u001b[0;34m)\u001b[0m\u001b[0;34m,\u001b[0m \u001b[0mdevice\u001b[0m\u001b[0;34m=\u001b[0m\u001b[0mdevice\u001b[0m\u001b[0;34m)\u001b[0m\u001b[0;34m\u001b[0m\u001b[0;34m\u001b[0m\u001b[0m\n\u001b[0m\u001b[1;32m     23\u001b[0m \u001b[0;34m\u001b[0m\u001b[0m\n\u001b[1;32m     24\u001b[0m     \u001b[0mloss_valid\u001b[0m\u001b[0;34m,\u001b[0m \u001b[0m_\u001b[0m \u001b[0;34m=\u001b[0m \u001b[0mcalculate_loss_and_accuracy\u001b[0m\u001b[0;34m(\u001b[0m\u001b[0mmodel\u001b[0m\u001b[0;34m,\u001b[0m \u001b[0mdataset_valid\u001b[0m\u001b[0;34m,\u001b[0m \u001b[0mdevice\u001b[0m\u001b[0;34m,\u001b[0m \u001b[0mcriterion\u001b[0m\u001b[0;34m=\u001b[0m\u001b[0mcriterion\u001b[0m\u001b[0;34m)\u001b[0m\u001b[0;34m\u001b[0m\u001b[0;34m\u001b[0m\u001b[0m\n",
      "\u001b[0;32m<ipython-input-9-1c348dc8a334>\u001b[0m in \u001b[0;36mtrain_model\u001b[0;34m(dataset_train, dataset_valid, batch_size, model, criterion, optimizer, num_epochs, collate_fn, device)\u001b[0m\n\u001b[1;32m     50\u001b[0m         \u001b[0mmodel\u001b[0m\u001b[0;34m.\u001b[0m\u001b[0meval\u001b[0m\u001b[0;34m(\u001b[0m\u001b[0;34m)\u001b[0m\u001b[0;34m\u001b[0m\u001b[0;34m\u001b[0m\u001b[0m\n\u001b[1;32m     51\u001b[0m \u001b[0;34m\u001b[0m\u001b[0m\n\u001b[0;32m---> 52\u001b[0;31m         \u001b[0mloss_train\u001b[0m\u001b[0;34m,\u001b[0m \u001b[0macc_train\u001b[0m \u001b[0;34m=\u001b[0m \u001b[0mcalculate_loss_and_accuracy\u001b[0m\u001b[0;34m(\u001b[0m\u001b[0mmodel\u001b[0m\u001b[0;34m,\u001b[0m \u001b[0mdataset_train\u001b[0m\u001b[0;34m,\u001b[0m \u001b[0mdevice\u001b[0m\u001b[0;34m,\u001b[0m \u001b[0mcriterion\u001b[0m\u001b[0;34m=\u001b[0m\u001b[0mcriterion\u001b[0m\u001b[0;34m)\u001b[0m\u001b[0;34m\u001b[0m\u001b[0;34m\u001b[0m\u001b[0m\n\u001b[0m\u001b[1;32m     53\u001b[0m         \u001b[0mloss_valid\u001b[0m\u001b[0;34m,\u001b[0m \u001b[0macc_valid\u001b[0m \u001b[0;34m=\u001b[0m \u001b[0mcalculate_loss_and_accuracy\u001b[0m\u001b[0;34m(\u001b[0m\u001b[0mmodel\u001b[0m\u001b[0;34m,\u001b[0m \u001b[0mdataset_valid\u001b[0m\u001b[0;34m,\u001b[0m \u001b[0mdevice\u001b[0m\u001b[0;34m,\u001b[0m \u001b[0mcriterion\u001b[0m\u001b[0;34m=\u001b[0m\u001b[0mcriterion\u001b[0m\u001b[0;34m)\u001b[0m\u001b[0;34m\u001b[0m\u001b[0;34m\u001b[0m\u001b[0m\n\u001b[1;32m     54\u001b[0m         \u001b[0mlog_train\u001b[0m\u001b[0;34m.\u001b[0m\u001b[0mappend\u001b[0m\u001b[0;34m(\u001b[0m\u001b[0;34m[\u001b[0m\u001b[0mloss_train\u001b[0m\u001b[0;34m,\u001b[0m \u001b[0macc_train\u001b[0m\u001b[0;34m]\u001b[0m\u001b[0;34m)\u001b[0m\u001b[0;34m\u001b[0m\u001b[0;34m\u001b[0m\u001b[0m\n",
      "\u001b[0;32m<ipython-input-9-1c348dc8a334>\u001b[0m in \u001b[0;36mcalculate_loss_and_accuracy\u001b[0;34m(model, dataset, device, criterion)\u001b[0m\n\u001b[1;32m     13\u001b[0m             \u001b[0mlabels\u001b[0m \u001b[0;34m=\u001b[0m \u001b[0mdata\u001b[0m\u001b[0;34m[\u001b[0m\u001b[0;34m'labels'\u001b[0m\u001b[0;34m]\u001b[0m\u001b[0;34m.\u001b[0m\u001b[0mto\u001b[0m\u001b[0;34m(\u001b[0m\u001b[0mdevice\u001b[0m\u001b[0;34m)\u001b[0m\u001b[0;34m\u001b[0m\u001b[0;34m\u001b[0m\u001b[0m\n\u001b[1;32m     14\u001b[0m \u001b[0;34m\u001b[0m\u001b[0m\n\u001b[0;32m---> 15\u001b[0;31m             \u001b[0moutputs\u001b[0m \u001b[0;34m=\u001b[0m \u001b[0mmodel\u001b[0m\u001b[0;34m(\u001b[0m\u001b[0minputs\u001b[0m\u001b[0;34m)\u001b[0m\u001b[0;34m\u001b[0m\u001b[0;34m\u001b[0m\u001b[0m\n\u001b[0m\u001b[1;32m     16\u001b[0m \u001b[0;34m\u001b[0m\u001b[0m\n\u001b[1;32m     17\u001b[0m             \u001b[0;32mif\u001b[0m \u001b[0mcriterion\u001b[0m \u001b[0;34m!=\u001b[0m \u001b[0;32mNone\u001b[0m\u001b[0;34m:\u001b[0m\u001b[0;34m\u001b[0m\u001b[0;34m\u001b[0m\u001b[0m\n",
      "\u001b[0;32m~/.local/lib/python3.6/site-packages/torch/nn/modules/module.py\u001b[0m in \u001b[0;36m_call_impl\u001b[0;34m(self, *input, **kwargs)\u001b[0m\n\u001b[1;32m   1100\u001b[0m         if not (self._backward_hooks or self._forward_hooks or self._forward_pre_hooks or _global_backward_hooks\n\u001b[1;32m   1101\u001b[0m                 or _global_forward_hooks or _global_forward_pre_hooks):\n\u001b[0;32m-> 1102\u001b[0;31m             \u001b[0;32mreturn\u001b[0m \u001b[0mforward_call\u001b[0m\u001b[0;34m(\u001b[0m\u001b[0;34m*\u001b[0m\u001b[0minput\u001b[0m\u001b[0;34m,\u001b[0m \u001b[0;34m**\u001b[0m\u001b[0mkwargs\u001b[0m\u001b[0;34m)\u001b[0m\u001b[0;34m\u001b[0m\u001b[0;34m\u001b[0m\u001b[0m\n\u001b[0m\u001b[1;32m   1103\u001b[0m         \u001b[0;31m# Do not call functions when jit is used\u001b[0m\u001b[0;34m\u001b[0m\u001b[0;34m\u001b[0m\u001b[0;34m\u001b[0m\u001b[0m\n\u001b[1;32m   1104\u001b[0m         \u001b[0mfull_backward_hooks\u001b[0m\u001b[0;34m,\u001b[0m \u001b[0mnon_full_backward_hooks\u001b[0m \u001b[0;34m=\u001b[0m \u001b[0;34m[\u001b[0m\u001b[0;34m]\u001b[0m\u001b[0;34m,\u001b[0m \u001b[0;34m[\u001b[0m\u001b[0;34m]\u001b[0m\u001b[0;34m\u001b[0m\u001b[0;34m\u001b[0m\u001b[0m\n",
      "\u001b[0;32m<ipython-input-61-d539306be914>\u001b[0m in \u001b[0;36mforward\u001b[0;34m(self, x)\u001b[0m\n\u001b[1;32m     16\u001b[0m         \u001b[0mhidden\u001b[0m \u001b[0;34m=\u001b[0m \u001b[0mself\u001b[0m\u001b[0;34m.\u001b[0m\u001b[0minit_hidden\u001b[0m\u001b[0;34m(\u001b[0m\u001b[0mx\u001b[0m\u001b[0;34m.\u001b[0m\u001b[0mdevice\u001b[0m\u001b[0;34m)\u001b[0m\u001b[0;34m\u001b[0m\u001b[0;34m\u001b[0m\u001b[0m\n\u001b[1;32m     17\u001b[0m         \u001b[0memb\u001b[0m \u001b[0;34m=\u001b[0m \u001b[0mself\u001b[0m\u001b[0;34m.\u001b[0m\u001b[0memb\u001b[0m\u001b[0;34m(\u001b[0m\u001b[0mx\u001b[0m\u001b[0;34m)\u001b[0m\u001b[0;34m\u001b[0m\u001b[0;34m\u001b[0m\u001b[0m\n\u001b[0;32m---> 18\u001b[0;31m         \u001b[0mout\u001b[0m\u001b[0;34m,\u001b[0m \u001b[0mhidden\u001b[0m \u001b[0;34m=\u001b[0m \u001b[0mself\u001b[0m\u001b[0;34m.\u001b[0m\u001b[0mrnn\u001b[0m\u001b[0;34m(\u001b[0m\u001b[0memb\u001b[0m\u001b[0;34m,\u001b[0m \u001b[0mhidden\u001b[0m\u001b[0;34m)\u001b[0m\u001b[0;34m\u001b[0m\u001b[0;34m\u001b[0m\u001b[0m\n\u001b[0m\u001b[1;32m     19\u001b[0m         \u001b[0mout\u001b[0m \u001b[0;34m=\u001b[0m \u001b[0mself\u001b[0m\u001b[0;34m.\u001b[0m\u001b[0mfc\u001b[0m\u001b[0;34m(\u001b[0m\u001b[0mout\u001b[0m\u001b[0;34m[\u001b[0m\u001b[0;34m:\u001b[0m\u001b[0;34m,\u001b[0m \u001b[0;34m-\u001b[0m\u001b[0;36m1\u001b[0m\u001b[0;34m,\u001b[0m \u001b[0;34m:\u001b[0m\u001b[0;34m]\u001b[0m\u001b[0;34m)\u001b[0m\u001b[0;34m\u001b[0m\u001b[0;34m\u001b[0m\u001b[0m\n\u001b[1;32m     20\u001b[0m         \u001b[0;32mreturn\u001b[0m \u001b[0mout\u001b[0m\u001b[0;34m\u001b[0m\u001b[0;34m\u001b[0m\u001b[0m\n",
      "\u001b[0;32m~/.local/lib/python3.6/site-packages/torch/nn/modules/module.py\u001b[0m in \u001b[0;36m_call_impl\u001b[0;34m(self, *input, **kwargs)\u001b[0m\n\u001b[1;32m   1100\u001b[0m         if not (self._backward_hooks or self._forward_hooks or self._forward_pre_hooks or _global_backward_hooks\n\u001b[1;32m   1101\u001b[0m                 or _global_forward_hooks or _global_forward_pre_hooks):\n\u001b[0;32m-> 1102\u001b[0;31m             \u001b[0;32mreturn\u001b[0m \u001b[0mforward_call\u001b[0m\u001b[0;34m(\u001b[0m\u001b[0;34m*\u001b[0m\u001b[0minput\u001b[0m\u001b[0;34m,\u001b[0m \u001b[0;34m**\u001b[0m\u001b[0mkwargs\u001b[0m\u001b[0;34m)\u001b[0m\u001b[0;34m\u001b[0m\u001b[0;34m\u001b[0m\u001b[0m\n\u001b[0m\u001b[1;32m   1103\u001b[0m         \u001b[0;31m# Do not call functions when jit is used\u001b[0m\u001b[0;34m\u001b[0m\u001b[0;34m\u001b[0m\u001b[0;34m\u001b[0m\u001b[0m\n\u001b[1;32m   1104\u001b[0m         \u001b[0mfull_backward_hooks\u001b[0m\u001b[0;34m,\u001b[0m \u001b[0mnon_full_backward_hooks\u001b[0m \u001b[0;34m=\u001b[0m \u001b[0;34m[\u001b[0m\u001b[0;34m]\u001b[0m\u001b[0;34m,\u001b[0m \u001b[0;34m[\u001b[0m\u001b[0;34m]\u001b[0m\u001b[0;34m\u001b[0m\u001b[0;34m\u001b[0m\u001b[0m\n",
      "\u001b[0;32m~/.local/lib/python3.6/site-packages/torch/nn/modules/rnn.py\u001b[0m in \u001b[0;36mforward\u001b[0;34m(self, input, hx)\u001b[0m\n\u001b[1;32m    267\u001b[0m         \u001b[0;32mif\u001b[0m \u001b[0mbatch_sizes\u001b[0m \u001b[0;32mis\u001b[0m \u001b[0;32mNone\u001b[0m\u001b[0;34m:\u001b[0m\u001b[0;34m\u001b[0m\u001b[0;34m\u001b[0m\u001b[0m\n\u001b[1;32m    268\u001b[0m             result = _impl(input, hx, self._flat_weights, self.bias, self.num_layers,\n\u001b[0;32m--> 269\u001b[0;31m                            self.dropout, self.training, self.bidirectional, self.batch_first)\n\u001b[0m\u001b[1;32m    270\u001b[0m         \u001b[0;32melse\u001b[0m\u001b[0;34m:\u001b[0m\u001b[0;34m\u001b[0m\u001b[0;34m\u001b[0m\u001b[0m\n\u001b[1;32m    271\u001b[0m             result = _impl(input, batch_sizes, hx, self._flat_weights, self.bias,\n",
      "\u001b[0;31mKeyboardInterrupt\u001b[0m: "
     ]
    }
   ],
   "source": [
    "# 最適化\n",
    "study = optuna.create_study()\n",
    "study.optimize(objective, timeout=7200)\n",
    "\n",
    "# 結果の表示\n",
    "print('Best trial:')\n",
    "trial = study.best_trial\n",
    "print('  Value: {:.3f}'.format(trial.value))\n",
    "print('  Params: ')\n",
    "for key, value in trial.params.items():\n",
    "    print('    {}: {}'.format(key, value))"
   ]
  },
  {
   "attachments": {},
   "cell_type": "markdown",
   "metadata": {},
   "source": [
    "## 89. 事前学習済みモデルから転移学習"
   ]
  },
  {
   "cell_type": "code",
   "execution_count": null,
   "metadata": {},
   "outputs": [],
   "source": [
    "from transformers import BertTokenizer, BertModel\n",
    "\n",
    "class PTMDataset(Dataset):\n",
    "    def __init__(self, X, y, tokenizer, max_len):\n",
    "        self.X = X\n",
    "        self.y = y\n",
    "        self.tokenizer = tokenizer\n",
    "        self.max_len = max_len\n",
    "\n",
    "    def __len__(self):\n",
    "        return len(self.y)\n",
    "\n",
    "    def __getitem__(self, index):\n",
    "        text = self.X[index]\n",
    "        inputs = self.tokenizer.encode_plus(\n",
    "            text,\n",
    "            add_special_tokens=True,\n",
    "            max_length=self.max_len,\n",
    "            pad_to_max_length=True\n",
    "        )\n",
    "        ids = inputs['input_ids']\n",
    "        mask = inputs['attention_mask']\n",
    "\n",
    "        return {\n",
    "            'ids': torch.LongTensor(ids),\n",
    "            'mask': torch.LongTensor(mask),\n",
    "            'labels': torch.Tensor(self.y[index])\n",
    "        }"
   ]
  },
  {
   "cell_type": "code",
   "execution_count": null,
   "metadata": {},
   "outputs": [],
   "source": [
    "y_train = pd.get_dummies(train_df, columns=['CATEGORY'])[['CATEGORY_b', 'CATEGORY_e', 'CATEGORY_t', 'CATEGORY_m']].values\n",
    "y_valid = pd.get_dummies(valid_df, columns=['CATEGORY'])[['CATEGORY_b', 'CATEGORY_e', 'CATEGORY_t', 'CATEGORY_m']].values\n",
    "y_test = pd.get_dummies(test_df, columns=['CATEGORY'])[['CATEGORY_b', 'CATEGORY_e', 'CATEGORY_t', 'CATEGORY_m']].values\n",
    "\n",
    "max_len = 20\n",
    "tokenizer = BertTokenizer.from_pretrained('bert-base-uncased')\n",
    "pmt_dataset_train = PTMDataset(train_df['TITLE'], y_train, tokenizer, max_len)\n",
    "pmt_dataset_valid = PTMDataset(valid_df['TITLE'], y_valid, tokenizer, max_len)\n",
    "pmt_dataset_test = PTMDataset(test_df['TITLE'], y_test, tokenizer, max_len)\n",
    "\n",
    "for var in dataset_train[0]:\n",
    "    print(f'{var}: {dataset_train[0][var]}')"
   ]
  },
  {
   "cell_type": "code",
   "execution_count": null,
   "metadata": {},
   "outputs": [],
   "source": [
    "class BERTClass(torch.nn.Module):\n",
    "    def __init__(self, drop_rate, otuput_size):\n",
    "        super().__init__()\n",
    "        self.bert = BertModel.from_pretrained('bert-base-uncased')\n",
    "        self.drop = torch.nn.Dropout(drop_rate)\n",
    "        self.fc = torch.nn.Linear(768, otuput_size)  # BERTの出力に合わせて768次元を指定\n",
    "    \n",
    "    def forward(self, ids, mask):\n",
    "        _, out = self.bert(ids, attention_mask=mask, return_dict=False)\n",
    "        out = self.fc(self.drop(out))\n",
    "        return out"
   ]
  },
  {
   "cell_type": "code",
   "execution_count": null,
   "metadata": {},
   "outputs": [],
   "source": [
    "def calculate_loss_and_accuracy_bert(model, criterion, loader, device):\n",
    "    model.eval()\n",
    "    loss = 0.0\n",
    "    total = 0\n",
    "    correct = 0\n",
    "    with torch.no_grad():\n",
    "        for data in loader:\n",
    "            # デバイスの指定\n",
    "            ids = data['ids'].to(device)\n",
    "            mask = data['mask'].to(device)\n",
    "            labels = data['labels'].to(device)\n",
    "\n",
    "            outputs = model(ids, mask)\n",
    "\n",
    "            loss += criterion(outputs, labels).item()\n",
    "\n",
    "            pred = torch.argmax(outputs, dim=-1).cpu().numpy() # バッチサイズの長さの予測ラベル配列\n",
    "            labels = torch.argmax(labels, dim=-1).cpu().numpy()  # バッチサイズの長さの正解ラベル配列\n",
    "            total += len(labels)\n",
    "            correct += (pred == labels).sum().item()\n",
    "    return loss / len(loader), correct / total\n",
    "\n",
    "def train_bert_model(dataset_train, dataset_valid, batch_size, model, criterion, optimizer, num_epochs, device=None):\n",
    "\n",
    "    model.to(device)\n",
    "\n",
    "    dataloader_train = DataLoader(dataset_train, batch_size=batch_size, shuffle=True)\n",
    "    dataloader_valid = DataLoader(dataset_valid, batch_size=len(dataset_valid), shuffle=False)\n",
    "\n",
    "    log_train = []\n",
    "    log_valid = []\n",
    "    for epoch in range(num_epochs):\n",
    "        s_time = time.time()\n",
    "\n",
    "        model.train()\n",
    "        for data in dataloader_train:\n",
    "            ids = data['ids'].to(device)\n",
    "            mask = data['mask'].to(device)\n",
    "            labels = data['labels'].to(device)\n",
    "\n",
    "            optimizer.zero_grad()\n",
    "\n",
    "            outputs = model(ids, mask)\n",
    "            loss = criterion(outputs, labels)\n",
    "            loss.backward()\n",
    "            optimizer.step()\n",
    "\n",
    "        loss_train, acc_train = calculate_loss_and_accuracy_bert(model, criterion, dataloader_train, device)\n",
    "        loss_valid, acc_valid = calculate_loss_and_accuracy_bert(model, criterion, dataloader_valid, device)\n",
    "        log_train.append([loss_train, acc_train])\n",
    "        log_valid.append([loss_valid, acc_valid])\n",
    "\n",
    "        torch.save({'epoch': epoch, 'model_state_dict': model.state_dict(), 'optimizer_state_dict': optimizer.state_dict()}, f'checkpoint{epoch + 1}.pt')\n",
    "\n",
    "        e_time = time.time()\n",
    "\n",
    "        print(f'epoch: {epoch + 1}, loss_train: {loss_train:.4f}, accuracy_train: {acc_train:.4f}, loss_valid: {loss_valid:.4f}, accuracy_valid: {acc_valid:.4f}, {(e_time - s_time):.4f}sec') \n",
    "\n",
    "    return {'train': log_train, 'valid': log_valid}"
   ]
  },
  {
   "cell_type": "code",
   "execution_count": null,
   "metadata": {},
   "outputs": [],
   "source": [
    "DROP_RATE = 0.4\n",
    "OUTPUT_SIZE = 4\n",
    "BATCH_SIZE = 32\n",
    "NUM_EPOCHS = 4\n",
    "LEARNING_RATE = 2e-5\n",
    "\n",
    "model = BERTClass(DROP_RATE, OUTPUT_SIZE)\n",
    "\n",
    "criterion = torch.nn.BCEWithLogitsLoss()\n",
    "optimizer = torch.optim.AdamW(params=model.parameters(), lr=LEARNING_RATE)\n",
    "device = torch.device('cuda:0') if torch.cuda.is_available() else torch.device('cpu')\n",
    "\n",
    "log = train_model(pmt_dataset_train, pmt_dataset_valid, BATCH_SIZE, model, criterion, optimizer, NUM_EPOCHS, device=device)"
   ]
  },
  {
   "cell_type": "code",
   "execution_count": null,
   "metadata": {},
   "outputs": [],
   "source": [
    "x_axis = [x for x in range(1, len(log['train']) + 1)]\n",
    "fig, ax = plt.subplots(1, 2, figsize=(15, 5))\n",
    "ax[0].plot(x_axis, np.array(log['train']).T[0], label='train')\n",
    "ax[0].plot(x_axis, np.array(log['valid']).T[0], label='valid')\n",
    "ax[0].set_xlabel('epoch')\n",
    "ax[0].set_ylabel('loss')\n",
    "ax[0].legend()\n",
    "ax[1].plot(x_axis, np.array(log['train']).T[1], label='train')\n",
    "ax[1].plot(x_axis, np.array(log['valid']).T[1], label='valid')\n",
    "ax[1].set_xlabel('epoch')\n",
    "ax[1].set_ylabel('accuracy')\n",
    "ax[1].legend()\n",
    "plt.show()"
   ]
  },
  {
   "cell_type": "code",
   "execution_count": null,
   "metadata": {},
   "outputs": [],
   "source": [
    "# 正解率の算出\n",
    "def calculate_bert_accuracy(model, dataset, device):\n",
    "    loader = DataLoader(dataset, batch_size=len(dataset), shuffle=False)\n",
    "\n",
    "    model.eval()\n",
    "    total = 0\n",
    "    correct = 0\n",
    "    with torch.no_grad():\n",
    "        for data in loader:\n",
    "            ids = data['ids'].to(device)\n",
    "            mask = data['mask'].to(device)\n",
    "            labels = data['labels'].to(device)\n",
    "\n",
    "            outputs = model.forward(ids, mask)\n",
    "            pred = torch.argmax(outputs, dim=-1).cpu().numpy()\n",
    "            labels = torch.argmax(labels, dim=-1).cpu().numpy()\n",
    "            total += len(labels)\n",
    "            correct += (pred == labels).sum().item()\n",
    "\n",
    "    return correct / total\n",
    "\n",
    "print(f'正解率（学習データ）：{calculate_bert_accuracy(model, pmt_dataset_train, device):.3f}')\n",
    "print(f'正解率（検証データ）：{calculate_bert_accuracy(model, pmt_dataset_valid, device):.3f}')\n",
    "print(f'正解率（評価データ）：{calculate_bert_accuracy(model, pmt_dataset_test, device):.3f}')"
   ]
  }
 ],
 "metadata": {
  "kernelspec": {
   "display_name": "Python 3",
   "language": "python",
   "name": "python3"
  },
  "language_info": {
   "codemirror_mode": {
    "name": "ipython",
    "version": 3
   },
   "file_extension": ".py",
   "mimetype": "text/x-python",
   "name": "python",
   "nbconvert_exporter": "python",
   "pygments_lexer": "ipython3",
   "version": "3.6.9"
  },
  "orig_nbformat": 4
 },
 "nbformat": 4,
 "nbformat_minor": 2
}
