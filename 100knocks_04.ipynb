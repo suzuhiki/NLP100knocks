{
 "cells": [
  {
   "cell_type": "markdown",
   "id": "4e83c337-987b-46e8-a80f-87bdb6cd4d8d",
   "metadata": {},
   "source": [
    "# 4章 形態素解析\n",
    "MeCabで形態素解析する\n",
    "./data/neko.txt → ./data/neko.text.mecab"
   ]
  },
  {
   "cell_type": "markdown",
   "id": "e25ca549-0c80-474c-ab6b-e432d889a275",
   "metadata": {},
   "source": [
    "## 30. 形態素解析結果の読み込み\n",
    "neko.txt.mecabを読み込みプログラムを作成する。\n",
    "各形態素は表層形(surface)、基本形(base)、品詞(pos)、品詞細分類1(pos1)をキーとするハッシュ型とする。1文はこのリストとする。"
   ]
  },
  {
   "cell_type": "code",
   "execution_count": 11,
   "id": "5a877925-420e-433a-aacb-be5ff6d61a5b",
   "metadata": {},
   "outputs": [],
   "source": [
    "DATA_PATH = \"./data/neko.txt.mecab\""
   ]
  },
  {
   "cell_type": "code",
   "execution_count": 12,
   "id": "141e382c-a602-4182-a935-0ccbce6244fe",
   "metadata": {},
   "outputs": [],
   "source": [
    "def create_datadict():\n",
    "    result_list = []\n",
    "    word_info_list = []\n",
    "    with open(DATA_PATH) as f:\n",
    "        for line in f:\n",
    "            if line != \"EOS\\n\":\n",
    "                groups = line.split('\\t')\n",
    "                if len(groups) == 2 and groups[0] != '':\n",
    "                    details = groups[1].split(',')\n",
    "                    word_info = {\"surface\": groups[0], \"base\": details[6], \"pos\": details[0], \"pos1\": details[1]}\n",
    "                    word_info_list.append(word_info)\n",
    "            else:\n",
    "                result_list.append(word_info_list)\n",
    "                word_info_list = []\n",
    "    return result_list"
   ]
  },
  {
   "cell_type": "code",
   "execution_count": 13,
   "id": "41a02d55-6b33-46aa-af10-c1bf37cadd48",
   "metadata": {},
   "outputs": [
    {
     "name": "stdout",
     "output_type": "stream",
     "text": [
      "{'surface': '\\u3000', 'base': '\\u3000', 'pos': '記号', 'pos1': '空白'}\n",
      "{'surface': 'どこ', 'base': 'どこ', 'pos': '名詞', 'pos1': '代名詞'}\n",
      "{'surface': 'で', 'base': 'で', 'pos': '助詞', 'pos1': '格助詞'}\n",
      "{'surface': '生れ', 'base': '生れる', 'pos': '動詞', 'pos1': '自立'}\n",
      "{'surface': 'た', 'base': 'た', 'pos': '助動詞', 'pos1': '*'}\n",
      "{'surface': 'か', 'base': 'か', 'pos': '助詞', 'pos1': '副助詞／並立助詞／終助詞'}\n",
      "{'surface': 'とんと', 'base': 'とんと', 'pos': '副詞', 'pos1': '一般'}\n",
      "{'surface': '見当', 'base': '見当', 'pos': '名詞', 'pos1': 'サ変接続'}\n",
      "{'surface': 'が', 'base': 'が', 'pos': '助詞', 'pos1': '格助詞'}\n",
      "{'surface': 'つか', 'base': 'つく', 'pos': '動詞', 'pos1': '自立'}\n",
      "{'surface': 'ぬ', 'base': 'ぬ', 'pos': '助動詞', 'pos1': '*'}\n",
      "{'surface': '。', 'base': '。', 'pos': '記号', 'pos1': '句点'}\n"
     ]
    }
   ],
   "source": [
    "data_list = create_datadict()\n",
    "\n",
    "for w in data_list[5]:\n",
    "    print(w)"
   ]
  },
  {
   "cell_type": "markdown",
   "id": "95062820-647b-453a-a7f8-f24a1a72d444",
   "metadata": {},
   "source": [
    "## 31. 動詞 "
   ]
  },
  {
   "cell_type": "code",
   "execution_count": 14,
   "id": "44b54f90-ef7f-4bbc-9ae1-c0491ddeb44e",
   "metadata": {},
   "outputs": [
    {
     "name": "stdout",
     "output_type": "stream",
     "text": [
      "冒し\n",
      "逢い\n",
      "見つけ\n",
      "開ける\n",
      "受け合え\n",
      "さり\n",
      "見て取っ\n",
      "直る\n",
      "なぐりつける\n",
      "衰え\n",
      "障っ\n",
      "わかれ\n",
      "さすっ\n",
      "あつかっ\n",
      "繙く\n",
      "やってのける\n",
      "知れ\n",
      "降さ\n",
      "化ける\n",
      "鳴\n",
      "引き受け\n",
      "ぶら下がっ\n",
      "つき\n",
      "よそい\n",
      "待つ\n",
      "眠っ\n",
      "ござっ\n",
      "抑え\n",
      "垂らす\n",
      "掛\n"
     ]
    }
   ],
   "source": [
    "data_dict = create_datadict()\n",
    "varb_set = set()\n",
    "\n",
    "for sentence in data_dict:\n",
    "    for word in sentence:\n",
    "        if word[\"pos\"] == \"動詞\":\n",
    "            varb_set.add(word[\"surface\"])\n",
    "\n",
    "for v in list(varb_set)[:30]:\n",
    "    print(v)"
   ]
  },
  {
   "cell_type": "markdown",
   "id": "2526e1e0-2245-4fd9-a290-061e574029e0",
   "metadata": {},
   "source": [
    "## 32. 動詞の原型"
   ]
  },
  {
   "cell_type": "code",
   "execution_count": 15,
   "id": "5a3d14e6-5ba3-4c78-820b-2de5a24f1624",
   "metadata": {},
   "outputs": [
    {
     "name": "stdout",
     "output_type": "stream",
     "text": [
      "入れ違う\n",
      "開ける\n",
      "つけ込む\n",
      "考え付く\n",
      "直る\n",
      "なぐりつける\n",
      "まかる\n",
      "繙く\n",
      "やってのける\n",
      "司る\n",
      "化ける\n",
      "尽きる\n",
      "待つ\n",
      "ゆるめる\n",
      "唸る\n",
      "垂らす\n",
      "あびる\n",
      "ます\n",
      "ゆる\n",
      "相成る\n",
      "すまう\n",
      "差し支える\n",
      "乗り越す\n",
      "聴く\n",
      "被う\n",
      "見上ぐ\n",
      "いがみ合う\n",
      "したがう\n",
      "極め込む\n",
      "捨てる\n"
     ]
    }
   ],
   "source": [
    "data_dict = create_datadict()\n",
    "varb_set = set()\n",
    "\n",
    "for sentence in data_dict:\n",
    "    for word in sentence:\n",
    "        if word[\"pos\"] == \"動詞\":\n",
    "            varb_set.add(word[\"base\"])\n",
    "\n",
    "for v in list(varb_set)[:30]:\n",
    "    print(v)"
   ]
  },
  {
   "cell_type": "markdown",
   "id": "c6713740-6171-4bbc-829a-1046459e8eb2",
   "metadata": {},
   "source": [
    "## 33. 二つの名詞が「の」で連接されている名詞句"
   ]
  },
  {
   "cell_type": "code",
   "execution_count": 16,
   "id": "72123d87-4a29-46fc-a647-b0446db32832",
   "metadata": {},
   "outputs": [
    {
     "name": "stdout",
     "output_type": "stream",
     "text": [
      "彼の掌\n",
      "掌の上\n",
      "書生の顔\n",
      "はずの顔\n",
      "顔の真中\n",
      "穴の中\n",
      "書生の掌\n",
      "掌の裏\n",
      "何の事\n",
      "肝心の母親\n",
      "藁の上\n",
      "笹原の中\n",
      "池の前\n",
      "池の上\n",
      "一樹の蔭\n",
      "垣根の穴\n",
      "隣家の三\n",
      "時の通路\n",
      "一刻の猶予\n",
      "家の内\n",
      "彼の書生\n",
      "以外の人間\n",
      "前の書生\n",
      "おさんの隙\n",
      "おさんの三\n",
      "胸の痞\n",
      "家の主人\n",
      "主人の方\n",
      "鼻の下\n",
      "吾輩の顔\n"
     ]
    }
   ],
   "source": [
    "data_dict = create_datadict()\n",
    "nounblock_list = []\n",
    "\n",
    "for sentence in data_dict:\n",
    "    temp_noun = \"\"\n",
    "    for i in range(2, len(sentence)):\n",
    "        if sentence[i-2][\"pos\"]==\"名詞\" and sentence[i-1][\"surface\"]==\"の\" and sentence[i][\"pos\"]==\"名詞\":\n",
    "            nounblock_list.append(sentence[i-2][\"surface\"] + sentence[i-1][\"surface\"] + sentence[i][\"surface\"])\n",
    "\n",
    "for nb in nounblock_list[:30]:\n",
    "    print(nb)"
   ]
  },
  {
   "cell_type": "markdown",
   "id": "191cd7d6-66a0-4e0b-85a1-40351543fae5",
   "metadata": {},
   "source": [
    "## 34. 名詞の連接\n",
    "連続して出現する名詞を最長一致で出力する"
   ]
  },
  {
   "cell_type": "code",
   "execution_count": 17,
   "id": "eccb03f6-a7b5-4689-b610-4585a7e78d72",
   "metadata": {},
   "outputs": [
    {
     "name": "stdout",
     "output_type": "stream",
     "text": [
      "人間中\n",
      "一番獰悪\n",
      "時妙\n",
      "一毛\n",
      "その後猫\n",
      "一度\n",
      "ぷうぷうと煙\n",
      "邸内\n",
      "三毛\n",
      "書生以外\n",
      "四五遍\n",
      "この間おさん\n",
      "三馬\n",
      "御台所\n",
      "まま奥\n",
      "住家\n",
      "終日書斎\n",
      "勉強家\n",
      "勉強家\n",
      "勤勉家\n",
      "二三ページ\n",
      "主人以外\n",
      "限り吾輩\n",
      "朝主人\n",
      "一番心持\n",
      "二人\n",
      "一つ床\n",
      "一人\n",
      "最後大変\n",
      "——猫\n"
     ]
    }
   ],
   "source": [
    "data_dict = create_datadict()\n",
    "noungroup_list = []\n",
    "\n",
    "def save_connected_noumn(wordlist, noungroup_list):\n",
    "    if len(wordlist) >= 2:\n",
    "        noungroup_list.append(\"\".join(wordlist))\n",
    "\n",
    "for sentence in data_dict:\n",
    "    temp_nounlist = []\n",
    "    for word in sentence:\n",
    "        if word[\"pos\"]==\"名詞\":\n",
    "            temp_nounlist.append(word[\"surface\"])\n",
    "        else:\n",
    "            save_connected_noumn(temp_nounlist, noungroup_list)\n",
    "            temp_nounlist = []\n",
    "    save_connected_noumn(temp_nounlist, noungroup_list)\n",
    "    temp_nounlist = []\n",
    "\n",
    "for nb in noungroup_list[:30]:\n",
    "    print(nb)"
   ]
  },
  {
   "cell_type": "markdown",
   "id": "769e893c-bf97-461a-9ecd-abdd0ac3e970",
   "metadata": {},
   "source": [
    "## 35. 単語の出現頻度"
   ]
  },
  {
   "cell_type": "code",
   "execution_count": 18,
   "id": "e3364c42-8d84-4c0b-9e70-315ff5d19b30",
   "metadata": {},
   "outputs": [],
   "source": [
    "def create_surfacelist():\n",
    "    surface_list = []\n",
    "    with open(DATA_PATH) as f:\n",
    "        for line in f:\n",
    "            if line != \"EOS\\n\":\n",
    "                groups = line.split('\\t')\n",
    "                if len(groups) == 2 and groups[0] != '' and groups[0] != '\\u3000':\n",
    "                    details = groups[1].split(',')\n",
    "                    surface_list.append(groups[0])\n",
    "    return surface_list"
   ]
  },
  {
   "cell_type": "code",
   "execution_count": 19,
   "id": "d95c25cd-f85f-40f0-8bb9-321cd230184d",
   "metadata": {},
   "outputs": [
    {
     "name": "stdout",
     "output_type": "stream",
     "text": [
      "[('の', 9194), ('。', 7486), ('て', 6868), ('、', 6772), ('は', 6420), ('に', 6243), ('を', 6071), ('と', 5508), ('が', 5337), ('た', 3988), ('で', 3806), ('「', 3231), ('」', 3225), ('も', 2479), ('ない', 2390), ('だ', 2363), ('し', 2322), ('から', 2032), ('ある', 1728), ('な', 1613), ('ん', 1568), ('か', 1530), ('いる', 1249), ('事', 1207), ('へ', 1034), ('う', 992), ('する', 992), ('もの', 981), ('君', 973), ('です', 973)]\n"
     ]
    }
   ],
   "source": [
    "import collections\n",
    "\n",
    "surface_list = create_surfacelist()\n",
    "\n",
    "word_counter = collections.Counter(surface_list)\n",
    "\n",
    "print(word_counter.most_common(30))"
   ]
  },
  {
   "cell_type": "markdown",
   "id": "9416477b-1328-43d0-b614-3f9657f23734",
   "metadata": {},
   "source": [
    "## 36. 頻度上位5語を図示"
   ]
  },
  {
   "cell_type": "code",
   "execution_count": 24,
   "id": "64ca8bfd-ba10-46b1-9fb0-457931cac667",
   "metadata": {},
   "outputs": [
    {
     "data": {
      "text/plain": [
       "<BarContainer object of 10 artists>"
      ]
     },
     "execution_count": 24,
     "metadata": {},
     "output_type": "execute_result"
    },
    {
     "data": {
      "image/png": "[encoded data removed]",
      "text/plain": [
       "<Figure size 640x480 with 1 Axes>"
      ]
     },
     "metadata": {},
     "output_type": "display_data"
    }
   ],
   "source": [
    "import collections\n",
    "import matplotlib.pyplot as plt\n",
    "import japanize_matplotlib\n",
    "\n",
    "surface_list = create_surfacelist()\n",
    "word_counter = collections.Counter(surface_list)\n",
    "\n",
    "graph_datas = word_counter.most_common(10)\n",
    "labels, values = zip(*graph_datas)\n",
    "\n",
    "plt.ylabel('出現頻度')\n",
    "plt.xlabel('単語')\n",
    "plt.bar(labels, values)"
   ]
  },
  {
   "cell_type": "markdown",
   "id": "c2de5166-7d0e-4a7c-a57a-b2314b8ff226",
   "metadata": {},
   "source": [
    "## 37. 猫と共起頻度が高い上位10語"
   ]
  },
  {
   "cell_type": "code",
   "execution_count": 25,
   "id": "17bf762f-320c-4e3d-9acb-1ab1125f72c0",
   "metadata": {},
   "outputs": [
    {
     "name": "stdout",
     "output_type": "stream",
     "text": [
      "猫の出現数：248\n"
     ]
    },
    {
     "data": {
      "image/png": "[encoded data removed]",
      "text/plain": [
       "<Figure size 640x480 with 1 Axes>"
      ]
     },
     "metadata": {},
     "output_type": "display_data"
    }
   ],
   "source": [
    "import collections\n",
    "import matplotlib.pyplot as plt\n",
    "import japanize_matplotlib\n",
    "\n",
    "\n",
    "data_dict = create_datadict()\n",
    "word_with_cat_dict = collections.defaultdict(int)\n",
    "\n",
    "for sentence in data_dict:\n",
    "    if \"猫\" in [word[\"surface\"] for word in sentence]:\n",
    "        for word in sentence:\n",
    "            word_with_cat_dict[word[\"surface\"]] += 1\n",
    "\n",
    "cat_n = word_with_cat_dict.pop(\"猫\", 0)\n",
    "print(f\"猫の出現数：{cat_n}\")\n",
    "\n",
    "word_with_cat_dict = dict(word_with_cat_dict)\n",
    "word_with_cat_dict = sorted(word_with_cat_dict.items(), key=lambda v: v[1], reverse=True)\n",
    "\n",
    "labels, values = zip(*word_with_cat_dict[:10])\n",
    "\n",
    "plt.bar(labels, values)\n",
    "plt.title(\"猫と共起頻度が高い単語上位10語\")\n",
    "plt.ylabel('共起頻度')\n",
    "plt.xlabel('単語')\n",
    "plt.show()"
   ]
  },
  {
   "cell_type": "markdown",
   "id": "dba39df6-26ec-4b48-a897-c811093c89a7",
   "metadata": {},
   "source": [
    "## 38. ヒストグラム"
   ]
  },
  {
   "cell_type": "code",
   "execution_count": 26,
   "id": "6d15390c-24de-42b3-9a9d-76d929678f7a",
   "metadata": {},
   "outputs": [
    {
     "data": {
      "image/png": "[encoded data removed]",
      "text/plain": [
       "<Figure size 640x480 with 1 Axes>"
      ]
     },
     "metadata": {},
     "output_type": "display_data"
    }
   ],
   "source": [
    "import collections\n",
    "import matplotlib.pyplot as plt\n",
    "import japanize_matplotlib\n",
    "\n",
    "surface_list = create_surfacelist()\n",
    "word_counter = collections.Counter(surface_list)\n",
    "\n",
    "graph_datas = word_counter.most_common()\n",
    "labels, values = zip(*graph_datas)\n",
    "\n",
    "plt.hist(values, bins=100)\n",
    "plt.xlabel('出現頻度')\n",
    "plt.ylabel('単語の種類数')\n",
    "plt.show()"
   ]
  },
  {
   "cell_type": "markdown",
   "id": "2e687902-7762-46ff-b33b-ee4b717ad74b",
   "metadata": {},
   "source": [
    "## 39. Zipfの法則"
   ]
  },
  {
   "cell_type": "code",
   "execution_count": 27,
   "id": "1dd81c87-86e6-498e-a4db-1a7ee63eddc0",
   "metadata": {},
   "outputs": [
    {
     "data": {
      "image/png": "[encoded data removed]",
      "text/plain": [
       "<Figure size 640x480 with 1 Axes>"
      ]
     },
     "metadata": {},
     "output_type": "display_data"
    }
   ],
   "source": [
    "import collections\n",
    "import matplotlib.pyplot as plt\n",
    "import japanize_matplotlib\n",
    "\n",
    "surface_list = create_surfacelist()\n",
    "word_counter = collections.Counter(surface_list)\n",
    "\n",
    "graph_datas = word_counter.most_common()\n",
    "labels, values = zip(*graph_datas)\n",
    "\n",
    "ranks = range(1, len(values)+1)\n",
    "\n",
    "plt.scatter(ranks, values)\n",
    "plt.xscale('log')\n",
    "plt.yscale('log')\n",
    "plt.xlabel('出現頻度順位')\n",
    "plt.ylabel('出現頻度')\n",
    "plt.show()"
   ]
  },
  {
   "cell_type": "code",
   "execution_count": null,
   "id": "15136b2c-ed97-4db0-a9aa-78075a456f97",
   "metadata": {},
   "outputs": [],
   "source": []
  }
 ],
 "metadata": {
  "kernelspec": {
   "display_name": "Python 3",
   "language": "python",
   "name": "python3"
  },
  "language_info": {
   "codemirror_mode": {
    "name": "ipython",
    "version": 3
   },
   "file_extension": ".py",
   "mimetype": "text/x-python",
   "name": "python",
   "nbconvert_exporter": "python",
   "pygments_lexer": "ipython3",
   "version": "3.6.9"
  }
 },
 "nbformat": 4,
 "nbformat_minor": 5
}
