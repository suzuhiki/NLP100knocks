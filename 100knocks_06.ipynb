{
 "cells": [
  {
   "attachments": {},
   "cell_type": "markdown",
   "metadata": {},
   "source": [
    "## 50.データの入手・整形"
   ]
  },
  {
   "cell_type": "code",
   "execution_count": 80,
   "metadata": {},
   "outputs": [],
   "source": [
    "import pandas as pd\n",
    "from sklearn.model_selection import train_test_split\n",
    "\n",
    "FIRST_TIME = False #ファイルの保存などの処理の実行有無\n",
    "DATA_PATH = \"./data/news_aggregator_dataset/\"\n",
    "\n",
    "df_src = pd.read_csv(DATA_PATH + \"newsCorpora_re.csv\", header=None, sep=\"\\t\", names=[\"ID\", \"TITLE\", \"URL\", \"PUBLISHER\", \"CATEGORY\", \"STORY\", \"HOSTNAME\", \"TIMESTAMP\"])"
   ]
  },
  {
   "cell_type": "code",
   "execution_count": 81,
   "metadata": {},
   "outputs": [
    {
     "name": "stdout",
     "output_type": "stream",
     "text": [
      "train size:(10684, 8), valid size:(1336, 8), test size:(1336, 8)\n"
     ]
    }
   ],
   "source": [
    "df = df_src[df_src[\"PUBLISHER\"].isin([\"Reuters\", \"Huffington Post\", \"Businessweek\", \"Contactmusic.com\", \"Daily Mail\"])]\n",
    "\n",
    "seed = 144\n",
    "train_df, test_valid = train_test_split(df, test_size=0.2, shuffle=True, random_state=seed, stratify=df[\"CATEGORY\"])\n",
    "test_df, valid_df = train_test_split(test_valid, test_size=0.5, shuffle=True, random_state=seed, stratify=test_valid[\"CATEGORY\"])\n",
    "\n",
    "train_df.head()\n",
    "print(f\"train size:{train_df.shape}, valid size:{valid_df.shape}, test size:{test_df.shape}\")"
   ]
  },
  {
   "cell_type": "code",
   "execution_count": 82,
   "metadata": {},
   "outputs": [],
   "source": [
    "train_df = train_df.loc[:,[\"CATEGORY\", \"TITLE\"]]\n",
    "valid_df = valid_df.loc[:,[\"CATEGORY\", \"TITLE\"]]\n",
    "test_df = test_df.loc[:,[\"CATEGORY\", \"TITLE\"]]\n",
    "\n",
    "if FIRST_TIME:\n",
    "    train_df.to_csv(DATA_PATH + \"train.txt\", sep=\"\\t\", index=False)\n",
    "    valid_df.to_csv(DATA_PATH + \"valid.txt\", sep=\"\\t\", index=False)\n",
    "    test_df.to_csv(DATA_PATH + \"test.txt\", sep=\"\\t\", index=False)"
   ]
  },
  {
   "cell_type": "code",
   "execution_count": 83,
   "metadata": {},
   "outputs": [
    {
     "name": "stdout",
     "output_type": "stream",
     "text": [
      "train:\n",
      "b    4501\n",
      "e    4235\n",
      "t    1220\n",
      "m     728\n",
      "Name: CATEGORY, dtype: int64\n",
      "\n",
      "valid:\n",
      "b    563\n",
      "e    529\n",
      "t    153\n",
      "m     91\n",
      "Name: CATEGORY, dtype: int64\n",
      "\n",
      "test\n",
      "b    563\n",
      "e    530\n",
      "t    152\n",
      "m     91\n",
      "Name: CATEGORY, dtype: int64\n"
     ]
    }
   ],
   "source": [
    "print(\"train:\")\n",
    "print(train_df['CATEGORY'].value_counts())\n",
    "print(\"\\nvalid:\")\n",
    "print(valid_df['CATEGORY'].value_counts())\n",
    "print(\"\\ntest\")\n",
    "print(test_df['CATEGORY'].value_counts())"
   ]
  },
  {
   "cell_type": "code",
   "execution_count": 84,
   "metadata": {},
   "outputs": [
    {
     "name": "stdout",
     "output_type": "stream",
     "text": [
      "       CATEGORY                                              TITLE\n",
      "149350        b  Airline Mergers Pushed JetBlue's Pilots to Joi...\n",
      "175696        e      Andrew Garfield wants Black-HispanicSpiderman\n",
      "371351        b  Korean Bonds Fall as Choi Refrains From Signal...\n",
      "275697        m  REFILE-AstraZeneca fights to regain cancer mar...\n",
      "274356        e  Beyonce and Solange both take the plunge at fi...\n"
     ]
    }
   ],
   "source": [
    "print(train_df.head(5))"
   ]
  },
  {
   "attachments": {},
   "cell_type": "markdown",
   "metadata": {},
   "source": [
    "## 51.特徴量抽出\n",
    "TFIDFを計算し、特徴量とする"
   ]
  },
  {
   "cell_type": "code",
   "execution_count": 85,
   "metadata": {},
   "outputs": [
    {
     "name": "stdout",
     "output_type": "stream",
     "text": [
      "rolf harris led a war on child molesters hypocrisy of star honoured by queen ...\n"
     ]
    }
   ],
   "source": [
    "import string\n",
    "import re\n",
    "\n",
    "def preprocessing(text):\n",
    "    text = re.sub(r\"[-/:-@[-`'{-~]\", r' ', text) #記号を空白に\n",
    "    text = re.sub(r' {2,}', r' ', text) #2連続以上の空白を1つの空白に\n",
    "    text = text.lower()\n",
    "    text = re.sub(r'[0-9]+', '0', text)\n",
    "    text = re.sub(r'^\\s+', \"\", text)\n",
    "    return text\n",
    "\n",
    "print(preprocessing(\"Rolf Harris led 'a war on child molesters': Hypocrisy of star honoured by Queen  ...\"))"
   ]
  },
  {
   "cell_type": "code",
   "execution_count": 86,
   "metadata": {},
   "outputs": [
    {
     "name": "stdout",
     "output_type": "stream",
     "text": [
      "       CATEGORY                                              TITLE\n",
      "149350        b  airline mergers pushed jetblue s pilots to joi...\n",
      "175696        e      andrew garfield wants black hispanicspiderman\n",
      "371351        b  korean bonds fall as choi refrains from signal...\n",
      "275697        m  refile astrazeneca fights to regain cancer mar...\n",
      "274356        e  beyonce and solange both take the plunge at fi...\n"
     ]
    }
   ],
   "source": [
    "train_df[\"TITLE\"] = train_df[\"TITLE\"].map(lambda x: preprocessing(x))\n",
    "valid_df[\"TITLE\"] = valid_df[\"TITLE\"].map(lambda x: preprocessing(x))\n",
    "test_df[\"TITLE\"] = test_df[\"TITLE\"].map(lambda x: preprocessing(x))\n",
    "\n",
    "print(train_df.head(5))"
   ]
  },
  {
   "cell_type": "code",
   "execution_count": 87,
   "metadata": {},
   "outputs": [
    {
     "name": "stdout",
     "output_type": "stream",
     "text": [
      "   0bn   0d   0k   0m  0million  0nd  0nd day  0rd   0s  0st  ...  zac efron  \\\n",
      "0  0.0  0.0  0.0  0.0       0.0  0.0      0.0  0.0  0.0  0.0  ...        0.0   \n",
      "1  0.0  0.0  0.0  0.0       0.0  0.0      0.0  0.0  0.0  0.0  ...        0.0   \n",
      "2  0.0  0.0  0.0  0.0       0.0  0.0      0.0  0.0  0.0  0.0  ...        0.0   \n",
      "3  0.0  0.0  0.0  0.0       0.0  0.0      0.0  0.0  0.0  0.0  ...        0.0   \n",
      "4  0.0  0.0  0.0  0.0       0.0  0.0      0.0  0.0  0.0  0.0  ...        0.0   \n",
      "\n",
      "   zealand  zebra  zendaya  zeppelin  zero  zone  zone bond  zone bonds  \\\n",
      "0      0.0    0.0      0.0       0.0   0.0   0.0        0.0         0.0   \n",
      "1      0.0    0.0      0.0       0.0   0.0   0.0        0.0         0.0   \n",
      "2      0.0    0.0      0.0       0.0   0.0   0.0        0.0         0.0   \n",
      "3      0.0    0.0      0.0       0.0   0.0   0.0        0.0         0.0   \n",
      "4      0.0    0.0      0.0       0.0   0.0   0.0        0.0         0.0   \n",
      "\n",
      "   zone inflation  \n",
      "0             0.0  \n",
      "1             0.0  \n",
      "2             0.0  \n",
      "3             0.0  \n",
      "4             0.0  \n",
      "\n",
      "[5 rows x 5634 columns]\n"
     ]
    }
   ],
   "source": [
    "from sklearn.feature_extraction.text import TfidfVectorizer\n",
    "\n",
    "cut_off = 5\n",
    "tfidf = TfidfVectorizer(min_df=cut_off, ngram_range=(1, 2))\n",
    "\n",
    "train_vec = tfidf.fit_transform(train_df[\"TITLE\"])\n",
    "valid_vec = tfidf.transform(valid_df[\"TITLE\"])\n",
    "test_vec = tfidf.transform(test_df[\"TITLE\"])\n",
    "\n",
    "train_vec_df = pd.DataFrame(train_vec.toarray(), columns=tfidf.get_feature_names())\n",
    "valid_vec_df = pd.DataFrame(valid_vec.toarray(), columns=tfidf.get_feature_names())\n",
    "test_vec_df = pd.DataFrame(test_vec.toarray(), columns=tfidf.get_feature_names())\n",
    "\n",
    "print(train_vec_df.head())"
   ]
  },
  {
   "cell_type": "code",
   "execution_count": 88,
   "metadata": {},
   "outputs": [],
   "source": [
    "if FIRST_TIME:\n",
    "    train_vec_df.to_csv(DATA_PATH + \"train.feature.txt\", sep=\"\\t\", index=False)\n",
    "    valid_vec_df.to_csv(DATA_PATH + \"valid.feature.txt\", sep=\"\\t\", index=False)\n",
    "    test_vec_df.to_csv(DATA_PATH + \"test.feature.txt\", sep=\"\\t\", index=False)\n",
    "# train.feature.txtは100MBを越えるのでgit管理しない 必要があればローカルで生成する"
   ]
  },
  {
   "attachments": {},
   "cell_type": "markdown",
   "metadata": {},
   "source": [
    "## 52.学習\n",
    "ロジスティック回帰モデルを学習する"
   ]
  },
  {
   "cell_type": "code",
   "execution_count": 89,
   "metadata": {},
   "outputs": [
    {
     "data": {
      "text/plain": [
       "LogisticRegression(max_iter=10000, random_state=144)"
      ]
     },
     "execution_count": 89,
     "metadata": {},
     "output_type": "execute_result"
    }
   ],
   "source": [
    "from sklearn.linear_model import LogisticRegression\n",
    "\n",
    "model = LogisticRegression(random_state=seed, max_iter=10000)\n",
    "model.fit(train_vec_df, train_df[\"CATEGORY\"])"
   ]
  },
  {
   "attachments": {},
   "cell_type": "markdown",
   "metadata": {},
   "source": [
    "## 53.予測\n",
    "学習したモデルを使って予測を行う"
   ]
  },
  {
   "cell_type": "code",
   "execution_count": 90,
   "metadata": {},
   "outputs": [],
   "source": [
    "train_pred = model.predict(train_vec_df)\n",
    "test_pred = model.predict(test_vec_df)"
   ]
  },
  {
   "attachments": {},
   "cell_type": "markdown",
   "metadata": {},
   "source": [
    "## 54.正解率の計算\n",
    "学習データと評価データについて正解率を学習する"
   ]
  },
  {
   "cell_type": "code",
   "execution_count": 91,
   "metadata": {},
   "outputs": [
    {
     "name": "stdout",
     "output_type": "stream",
     "text": [
      "train accuracy: 0.940752527143392\n",
      "test accuracy: 0.8802395209580839\n"
     ]
    }
   ],
   "source": [
    "from sklearn.metrics import accuracy_score\n",
    "\n",
    "train_accuracy = accuracy_score(train_df[\"CATEGORY\"], train_pred)\n",
    "test_accuracy = accuracy_score(test_df[\"CATEGORY\"], test_pred)\n",
    "\n",
    "print(f\"train accuracy: {train_accuracy}\")\n",
    "print(f\"test accuracy: {test_accuracy}\")\n"
   ]
  },
  {
   "attachments": {},
   "cell_type": "markdown",
   "metadata": {},
   "source": [
    "## 55.混同行列の作成"
   ]
  },
  {
   "cell_type": "code",
   "execution_count": 94,
   "metadata": {},
   "outputs": [
    {
     "data": {
      "image/png": "[encoded data removed]",
      "text/plain": [
       "<Figure size 432x288 with 2 Axes>"
      ]
     },
     "metadata": {
      "needs_background": "light"
     },
     "output_type": "display_data"
    }
   ],
   "source": [
    "from sklearn.metrics import confusion_matrix\n",
    "import seaborn as sns\n",
    "import matplotlib.pyplot as plt\n",
    "\n",
    "train_cm = confusion_matrix(train_df[\"CATEGORY\"], train_pred)\n",
    "sns.heatmap(train_cm, annot=True, cmap=\"Oranges\", fmt=\"d\")\n",
    "plt.show()"
   ]
  },
  {
   "cell_type": "code",
   "execution_count": 95,
   "metadata": {},
   "outputs": [
    {
     "data": {
      "image/png": "[encoded data removed]",
      "text/plain": [
       "<Figure size 432x288 with 2 Axes>"
      ]
     },
     "metadata": {
      "needs_background": "light"
     },
     "output_type": "display_data"
    }
   ],
   "source": [
    "test_cm = confusion_matrix(test_df[\"CATEGORY\"], test_pred)\n",
    "sns.heatmap(test_cm, annot=True, cmap=\"Oranges\", fmt=\"d\")\n",
    "plt.show()"
   ]
  },
  {
   "attachments": {},
   "cell_type": "markdown",
   "metadata": {},
   "source": [
    "## 適合率、再現率、F1スコアの計測\n",
    "カテゴリごとに適合率、再現率、F1スコアを求め、カテゴリごとの性能をマイクロ平均とマクロ平均で統合する"
   ]
  },
  {
   "cell_type": "code",
   "execution_count": 96,
   "metadata": {},
   "outputs": [
    {
     "name": "stdout",
     "output_type": "stream",
     "text": [
      "             適合率       再現率     F1スコア\n",
      "b       0.887960  0.943162  0.914729\n",
      "e       0.873096  0.973585  0.920607\n",
      "t       0.861702  0.532895  0.658537\n",
      "m       0.905660  0.527473  0.666667\n",
      "マイクロ平均  0.880240  0.880240  0.880240\n",
      "マクロ平均   0.882105  0.744278  0.790135\n"
     ]
    }
   ],
   "source": [
    "from sklearn.metrics import precision_score, recall_score, f1_score\n",
    "import numpy as np\n",
    "\n",
    "def calculate_scores(y_true, y_pred):\n",
    "    labels = ['b', 'e', 't', 'm']\n",
    "\n",
    "    #適合率\n",
    "    precision = precision_score(y_true, y_pred, average=None, labels=labels)\n",
    "    precision = np.append(precision, precision_score(y_true, y_pred, average=\"micro\"))\n",
    "    precision = np.append(precision, precision_score(y_true, y_pred, average=\"macro\"))\n",
    "    \n",
    "    #再現率\n",
    "    recall = recall_score(y_true, y_pred, average=None, labels=labels)\n",
    "    recall = np.append(recall, recall_score(y_true, y_pred, average=\"micro\"))\n",
    "    recall = np.append(recall, recall_score(y_true, y_pred, average=\"macro\"))\n",
    "    \n",
    "    #F1スコア\n",
    "    f1 = f1_score(y_true, y_pred, average=None, labels=labels)\n",
    "    f1 = np.append(f1, f1_score(y_true, y_pred, average=\"micro\"))\n",
    "    f1 = np.append(f1, f1_score(y_true, y_pred, average=\"macro\"))\n",
    "    \n",
    "    scores = pd.DataFrame({\"適合率\":precision, \"再現率\":recall, \"F1スコア\":f1},\n",
    "                        index=['b', 'e', 't', 'm', 'マイクロ平均', 'マクロ平均'])\n",
    "    return scores\n",
    "\n",
    "print(calculate_scores(test_df[\"CATEGORY\"], test_pred))"
   ]
  },
  {
   "attachments": {},
   "cell_type": "markdown",
   "metadata": {},
   "source": [
    "## 57.特徴量の重みの確認\n",
    "重みのトップ10とワースト10を表示する"
   ]
  },
  {
   "cell_type": "code",
   "execution_count": 99,
   "metadata": {},
   "outputs": [
    {
     "name": "stdout",
     "output_type": "stream",
     "text": [
      "カテゴリ：b\n"
     ]
    },
    {
     "data": {
      "text/html": [
       "<div>\n",
       "<style scoped>\n",
       "    .dataframe tbody tr th:only-of-type {\n",
       "        vertical-align: middle;\n",
       "    }\n",
       "\n",
       "    .dataframe tbody tr th {\n",
       "        vertical-align: top;\n",
       "    }\n",
       "\n",
       "    .dataframe thead th {\n",
       "        text-align: right;\n",
       "    }\n",
       "</style>\n",
       "<table border=\"1\" class=\"dataframe\">\n",
       "  <thead>\n",
       "    <tr style=\"text-align: right;\">\n",
       "      <th></th>\n",
       "      <th>1</th>\n",
       "      <th>2</th>\n",
       "      <th>3</th>\n",
       "      <th>4</th>\n",
       "      <th>5</th>\n",
       "      <th>6</th>\n",
       "      <th>7</th>\n",
       "      <th>8</th>\n",
       "      <th>9</th>\n",
       "      <th>10</th>\n",
       "    </tr>\n",
       "  </thead>\n",
       "  <tbody>\n",
       "    <tr>\n",
       "      <th>best</th>\n",
       "      <td>fed</td>\n",
       "      <td>china</td>\n",
       "      <td>stocks</td>\n",
       "      <td>ecb</td>\n",
       "      <td>bank</td>\n",
       "      <td>ukraine</td>\n",
       "      <td>euro</td>\n",
       "      <td>profit</td>\n",
       "      <td>oil</td>\n",
       "      <td>yellen</td>\n",
       "    </tr>\n",
       "    <tr>\n",
       "      <th>worst</th>\n",
       "      <td>google</td>\n",
       "      <td>and</td>\n",
       "      <td>her</td>\n",
       "      <td>ebola</td>\n",
       "      <td>study</td>\n",
       "      <td>apple</td>\n",
       "      <td>aereo</td>\n",
       "      <td>she</td>\n",
       "      <td>tv</td>\n",
       "      <td>microsoft</td>\n",
       "    </tr>\n",
       "  </tbody>\n",
       "</table>\n",
       "</div>"
      ],
      "text/plain": [
       "           1      2       3      4      5        6      7       8    9   \\\n",
       "best      fed  china  stocks    ecb   bank  ukraine   euro  profit  oil   \n",
       "worst  google    and     her  ebola  study    apple  aereo     she   tv   \n",
       "\n",
       "              10  \n",
       "best      yellen  \n",
       "worst  microsoft  "
      ]
     },
     "metadata": {},
     "output_type": "display_data"
    },
    {
     "name": "stdout",
     "output_type": "stream",
     "text": [
      "\n",
      "\n",
      "カテゴリ：e\n"
     ]
    },
    {
     "data": {
      "text/html": [
       "<div>\n",
       "<style scoped>\n",
       "    .dataframe tbody tr th:only-of-type {\n",
       "        vertical-align: middle;\n",
       "    }\n",
       "\n",
       "    .dataframe tbody tr th {\n",
       "        vertical-align: top;\n",
       "    }\n",
       "\n",
       "    .dataframe thead th {\n",
       "        text-align: right;\n",
       "    }\n",
       "</style>\n",
       "<table border=\"1\" class=\"dataframe\">\n",
       "  <thead>\n",
       "    <tr style=\"text-align: right;\">\n",
       "      <th></th>\n",
       "      <th>1</th>\n",
       "      <th>2</th>\n",
       "      <th>3</th>\n",
       "      <th>4</th>\n",
       "      <th>5</th>\n",
       "      <th>6</th>\n",
       "      <th>7</th>\n",
       "      <th>8</th>\n",
       "      <th>9</th>\n",
       "      <th>10</th>\n",
       "    </tr>\n",
       "  </thead>\n",
       "  <tbody>\n",
       "    <tr>\n",
       "      <th>best</th>\n",
       "      <td>kardashian</td>\n",
       "      <td>her</td>\n",
       "      <td>chris</td>\n",
       "      <td>movie</td>\n",
       "      <td>he</td>\n",
       "      <td>star</td>\n",
       "      <td>film</td>\n",
       "      <td>kim</td>\n",
       "      <td>paul</td>\n",
       "      <td>she</td>\n",
       "    </tr>\n",
       "    <tr>\n",
       "      <th>worst</th>\n",
       "      <td>update</td>\n",
       "      <td>us</td>\n",
       "      <td>google</td>\n",
       "      <td>china</td>\n",
       "      <td>gm</td>\n",
       "      <td>says</td>\n",
       "      <td>ceo</td>\n",
       "      <td>study</td>\n",
       "      <td>facebook</td>\n",
       "      <td>apple</td>\n",
       "    </tr>\n",
       "  </tbody>\n",
       "</table>\n",
       "</div>"
      ],
      "text/plain": [
       "               1    2       3      4   5     6     7      8         9      10\n",
       "best   kardashian  her   chris  movie  he  star  film    kim      paul    she\n",
       "worst      update   us  google  china  gm  says   ceo  study  facebook  apple"
      ]
     },
     "metadata": {},
     "output_type": "display_data"
    },
    {
     "name": "stdout",
     "output_type": "stream",
     "text": [
      "\n",
      "\n",
      "カテゴリ：m\n"
     ]
    },
    {
     "data": {
      "text/html": [
       "<div>\n",
       "<style scoped>\n",
       "    .dataframe tbody tr th:only-of-type {\n",
       "        vertical-align: middle;\n",
       "    }\n",
       "\n",
       "    .dataframe tbody tr th {\n",
       "        vertical-align: top;\n",
       "    }\n",
       "\n",
       "    .dataframe thead th {\n",
       "        text-align: right;\n",
       "    }\n",
       "</style>\n",
       "<table border=\"1\" class=\"dataframe\">\n",
       "  <thead>\n",
       "    <tr style=\"text-align: right;\">\n",
       "      <th></th>\n",
       "      <th>1</th>\n",
       "      <th>2</th>\n",
       "      <th>3</th>\n",
       "      <th>4</th>\n",
       "      <th>5</th>\n",
       "      <th>6</th>\n",
       "      <th>7</th>\n",
       "      <th>8</th>\n",
       "      <th>9</th>\n",
       "      <th>10</th>\n",
       "    </tr>\n",
       "  </thead>\n",
       "  <tbody>\n",
       "    <tr>\n",
       "      <th>best</th>\n",
       "      <td>ebola</td>\n",
       "      <td>cancer</td>\n",
       "      <td>study</td>\n",
       "      <td>drug</td>\n",
       "      <td>fda</td>\n",
       "      <td>mers</td>\n",
       "      <td>health</td>\n",
       "      <td>cdc</td>\n",
       "      <td>could</td>\n",
       "      <td>cases</td>\n",
       "    </tr>\n",
       "    <tr>\n",
       "      <th>worst</th>\n",
       "      <td>facebook</td>\n",
       "      <td>gm</td>\n",
       "      <td>apple</td>\n",
       "      <td>deal</td>\n",
       "      <td>sales</td>\n",
       "      <td>climate</td>\n",
       "      <td>ceo</td>\n",
       "      <td>google</td>\n",
       "      <td>bank</td>\n",
       "      <td>china</td>\n",
       "    </tr>\n",
       "  </tbody>\n",
       "</table>\n",
       "</div>"
      ],
      "text/plain": [
       "             1       2      3     4      5        6       7       8      9   \\\n",
       "best      ebola  cancer  study  drug    fda     mers  health     cdc  could   \n",
       "worst  facebook      gm  apple  deal  sales  climate     ceo  google   bank   \n",
       "\n",
       "          10  \n",
       "best   cases  \n",
       "worst  china  "
      ]
     },
     "metadata": {},
     "output_type": "display_data"
    },
    {
     "name": "stdout",
     "output_type": "stream",
     "text": [
      "\n",
      "\n",
      "カテゴリ：t\n"
     ]
    },
    {
     "data": {
      "text/html": [
       "<div>\n",
       "<style scoped>\n",
       "    .dataframe tbody tr th:only-of-type {\n",
       "        vertical-align: middle;\n",
       "    }\n",
       "\n",
       "    .dataframe tbody tr th {\n",
       "        vertical-align: top;\n",
       "    }\n",
       "\n",
       "    .dataframe thead th {\n",
       "        text-align: right;\n",
       "    }\n",
       "</style>\n",
       "<table border=\"1\" class=\"dataframe\">\n",
       "  <thead>\n",
       "    <tr style=\"text-align: right;\">\n",
       "      <th></th>\n",
       "      <th>1</th>\n",
       "      <th>2</th>\n",
       "      <th>3</th>\n",
       "      <th>4</th>\n",
       "      <th>5</th>\n",
       "      <th>6</th>\n",
       "      <th>7</th>\n",
       "      <th>8</th>\n",
       "      <th>9</th>\n",
       "      <th>10</th>\n",
       "    </tr>\n",
       "  </thead>\n",
       "  <tbody>\n",
       "    <tr>\n",
       "      <th>best</th>\n",
       "      <td>google</td>\n",
       "      <td>facebook</td>\n",
       "      <td>apple</td>\n",
       "      <td>microsoft</td>\n",
       "      <td>climate</td>\n",
       "      <td>gm</td>\n",
       "      <td>tesla</td>\n",
       "      <td>nasa</td>\n",
       "      <td>heartbleed</td>\n",
       "      <td>comcast</td>\n",
       "    </tr>\n",
       "    <tr>\n",
       "      <th>worst</th>\n",
       "      <td>stocks</td>\n",
       "      <td>fed</td>\n",
       "      <td>drug</td>\n",
       "      <td>her</td>\n",
       "      <td>american</td>\n",
       "      <td>cancer</td>\n",
       "      <td>ecb</td>\n",
       "      <td>ukraine</td>\n",
       "      <td>percent</td>\n",
       "      <td>day</td>\n",
       "    </tr>\n",
       "  </tbody>\n",
       "</table>\n",
       "</div>"
      ],
      "text/plain": [
       "           1         2      3          4         5       6      7        8   \\\n",
       "best   google  facebook  apple  microsoft   climate      gm  tesla     nasa   \n",
       "worst  stocks       fed   drug        her  american  cancer    ecb  ukraine   \n",
       "\n",
       "               9        10  \n",
       "best   heartbleed  comcast  \n",
       "worst     percent      day  "
      ]
     },
     "metadata": {},
     "output_type": "display_data"
    },
    {
     "name": "stdout",
     "output_type": "stream",
     "text": [
      "\n",
      "\n"
     ]
    }
   ],
   "source": [
    "train_features = train_vec_df.columns.values\n",
    "\n",
    "for c, coef in zip(model.classes_, model.coef_):\n",
    "    print(f\"カテゴリ：{c}\")\n",
    "    best10 = pd.DataFrame(train_features[np.argsort(coef)[::-1][:10]], columns=[\"best\"], index=list(range(1,11))).T\n",
    "    worst10 = pd.DataFrame(train_features[np.argsort(coef)[:10]], columns=[\"worst\"], index=list(range(1,11))).T\n",
    "    display(pd.concat([best10, worst10], axis=0))\n",
    "    print(\"\\n\")"
   ]
  }
 ],
 "metadata": {
  "kernelspec": {
   "display_name": "Python 3",
   "language": "python",
   "name": "python3"
  },
  "language_info": {
   "codemirror_mode": {
    "name": "ipython",
    "version": 3
   },
   "file_extension": ".py",
   "mimetype": "text/x-python",
   "name": "python",
   "nbconvert_exporter": "python",
   "pygments_lexer": "ipython3",
   "version": "3.6.9"
  },
  "orig_nbformat": 4
 },
 "nbformat": 4,
 "nbformat_minor": 2
}
