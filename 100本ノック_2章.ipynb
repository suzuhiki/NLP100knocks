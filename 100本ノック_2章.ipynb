{
 "cells": [
  {
   "cell_type": "code",
   "execution_count": 4,
   "metadata": {
    "colab": {
     "base_uri": "https://localhost:8080/"
    },
    "executionInfo": {
     "elapsed": 1131,
     "status": "ok",
     "timestamp": 1667975266731,
     "user": {
      "displayName": "森岡拓",
      "userId": "13542313779030960833"
     },
     "user_tz": -540
    },
    "id": "ZUuMsuv2C05W",
    "outputId": "d7eae652-eb72-4621-9e7c-aa99dca53a70"
   },
   "outputs": [
    {
     "name": "stdout",
     "output_type": "stream",
     "text": [
      "Mary\tF\t7065\t1880\n",
      "Anna\tF\t2604\t1880\n",
      "Emma\tF\t2003\t1880\n"
     ]
    }
   ],
   "source": [
    "with open(\"./data/popular-names.txt\", \"r\") as f:\n",
    "    data = f.read()\n",
    "\n",
    "print(data[0:50])"
   ]
  },
  {
   "cell_type": "markdown",
   "metadata": {},
   "source": [
    "# 10. 行数のカウントPermalink"
   ]
  },
  {
   "cell_type": "code",
   "execution_count": 5,
   "metadata": {
    "colab": {
     "base_uri": "https://localhost:8080/"
    },
    "executionInfo": {
     "elapsed": 432,
     "status": "ok",
     "timestamp": 1667975530986,
     "user": {
      "displayName": "森岡拓",
      "userId": "13542313779030960833"
     },
     "user_tz": -540
    },
    "id": "jkoZsYE8E6kk",
    "outputId": "c30133be-b64f-4c4d-8d57-b9161e77a9e1"
   },
   "outputs": [
    {
     "name": "stdout",
     "output_type": "stream",
     "text": [
      "2780\n"
     ]
    }
   ],
   "source": [
    "# 10.行数カウント\n",
    "\n",
    "print(data.count('\\n'))"
   ]
  },
  {
   "cell_type": "code",
   "execution_count": 6,
   "metadata": {
    "colab": {
     "base_uri": "https://localhost:8080/"
    },
    "executionInfo": {
     "elapsed": 361,
     "status": "ok",
     "timestamp": 1667975504454,
     "user": {
      "displayName": "森岡拓",
      "userId": "13542313779030960833"
     },
     "user_tz": -540
    },
    "id": "uOLgUmJXFGRk",
    "outputId": "2cf79291-56d7-40ff-ca55-f15df76fda6b"
   },
   "outputs": [
    {
     "name": "stdout",
     "output_type": "stream",
     "text": [
      "2780 ./data/popular-names.txt\n"
     ]
    }
   ],
   "source": [
    "!wc -l ./data/popular-names.txt"
   ]
  },
  {
   "cell_type": "markdown",
   "metadata": {},
   "source": [
    "# 11. タブをスペースに置換"
   ]
  },
  {
   "cell_type": "code",
   "execution_count": 7,
   "metadata": {
    "colab": {
     "base_uri": "https://localhost:8080/"
    },
    "executionInfo": {
     "elapsed": 437,
     "status": "ok",
     "timestamp": 1667975685580,
     "user": {
      "displayName": "森岡拓",
      "userId": "13542313779030960833"
     },
     "user_tz": -540
    },
    "id": "BECKuNOGF0jc",
    "outputId": "1adcd402-53e6-4add-8186-697ff6f78b38"
   },
   "outputs": [
    {
     "name": "stdout",
     "output_type": "stream",
     "text": [
      "Mary F 7065 1880\n",
      "Anna F 2604 1880\n",
      "Emma F 2003 1880\n"
     ]
    }
   ],
   "source": [
    "# 11.タブをスペースに変換\n",
    "\n",
    "print(data.replace('\\t', ' ')[0:50])"
   ]
  },
  {
   "cell_type": "code",
   "execution_count": 8,
   "metadata": {
    "executionInfo": {
     "elapsed": 337,
     "status": "ok",
     "timestamp": 1667976433407,
     "user": {
      "displayName": "森岡拓",
      "userId": "13542313779030960833"
     },
     "user_tz": -540
    },
    "id": "swCeVD6lHYbM"
   },
   "outputs": [
    {
     "name": "stdout",
     "output_type": "stream",
     "text": [
      "Mary F 7065 1880\n",
      "Anna F 2604 1880\n",
      "Emma F 2003 1880\n",
      "Elizabeth F 1939 1880\n",
      "Minnie F 1746 1880\n",
      "sed: couldn't write 19 items to stdout: Broken pipe\n"
     ]
    }
   ],
   "source": [
    "!sed s/'\\t'/' '/g ./data/popular-names.txt | head -n 5"
   ]
  },
  {
   "cell_type": "markdown",
   "metadata": {},
   "source": [
    "# 12. 1列目をcol1.txtに，2列目をcol2.txtに保存"
   ]
  },
  {
   "cell_type": "code",
   "execution_count": 9,
   "metadata": {},
   "outputs": [],
   "source": [
    "# 12.1列目をcol1.txtに，2列目をcol2.txtに保存 \n",
    "\n",
    "import pickle\n",
    "\n",
    "def pickup_col(rows, col_n):\n",
    "    return [r.split()[col_n] for r in rows]\n",
    "\n",
    "def save_singlecol_list(target, path):\n",
    "    with open(path, mode='w') as f:\n",
    "        f.write('\\n'.join(target))\n",
    "\n",
    "rows = data.splitlines()\n",
    "col1 = pickup_col(rows, 0)\n",
    "col2 = pickup_col(rows, 1)\n",
    "\n",
    "save_singlecol_list(col1, \"./data/col1.txt\")\n",
    "save_singlecol_list(col2, \"./data/col2.txt\")"
   ]
  },
  {
   "cell_type": "code",
   "execution_count": 10,
   "metadata": {},
   "outputs": [
    {
     "name": "stdout",
     "output_type": "stream",
     "text": [
      "Mary\n",
      "Anna\n",
      "Emma\n",
      "Elizabeth\n",
      "Minnie\n"
     ]
    }
   ],
   "source": [
    "! head -n 5 ./data/col1.txt"
   ]
  },
  {
   "cell_type": "code",
   "execution_count": 11,
   "metadata": {},
   "outputs": [],
   "source": [
    "! cut -f 1 ./data/popular-names.txt > ./data/col1.txt\n",
    "! cut -f 2 ./data/popular-names.txt > ./data/col2.txt"
   ]
  },
  {
   "cell_type": "code",
   "execution_count": 12,
   "metadata": {},
   "outputs": [
    {
     "name": "stdout",
     "output_type": "stream",
     "text": [
      "Mary\n",
      "Anna\n",
      "Emma\n",
      "Elizabeth\n",
      "Minnie\n"
     ]
    }
   ],
   "source": [
    "! head -n 5 ./data/col1.txt"
   ]
  },
  {
   "cell_type": "markdown",
   "metadata": {},
   "source": [
    "# 13. col1.txtとcol2.txtをマージ"
   ]
  },
  {
   "cell_type": "code",
   "execution_count": 14,
   "metadata": {},
   "outputs": [],
   "source": [
    "# 13.col1.txtとcol2.txtをマージ\n",
    "\n",
    "def load_singlecol_list(path):\n",
    "    with open(path, mode=\"r\") as f:\n",
    "        result = f.read().splitlines()\n",
    "    return result\n",
    "\n",
    "col1_marge = load_singlecol_list(\"./data/col1.txt\")\n",
    "col2_marge = load_singlecol_list(\"./data/col2.txt\")\n",
    "\n",
    "col_marged = [\"\\t\".join(r) for r in list(zip(col1_marge,col2_marge))]\n",
    "\n",
    "save_singlecol_list(col_marged, \"./data/col_marged.txt\")"
   ]
  },
  {
   "cell_type": "code",
   "execution_count": 16,
   "metadata": {},
   "outputs": [
    {
     "name": "stdout",
     "output_type": "stream",
     "text": [
      "Mary\tF\n",
      "Anna\tF\n",
      "Emma\tF\n",
      "Elizabeth\tF\n",
      "Minnie\tF\n"
     ]
    }
   ],
   "source": [
    "!head -n 5 ./data/col_marged.txt"
   ]
  },
  {
   "cell_type": "code",
   "execution_count": 17,
   "metadata": {},
   "outputs": [],
   "source": [
    "!paste ./data/col1.txt ./data/col2.txt > ./data/col_marged.txt"
   ]
  },
  {
   "cell_type": "code",
   "execution_count": 18,
   "metadata": {},
   "outputs": [
    {
     "name": "stdout",
     "output_type": "stream",
     "text": [
      "Mary\tF\n",
      "Anna\tF\n",
      "Emma\tF\n",
      "Elizabeth\tF\n",
      "Minnie\tF\n"
     ]
    }
   ],
   "source": [
    "!head -n 5 ./data/col_marged.txt"
   ]
  },
  {
   "cell_type": "markdown",
   "metadata": {},
   "source": [
    "# 14. 先頭からN行を出力"
   ]
  },
  {
   "cell_type": "code",
   "execution_count": 19,
   "metadata": {},
   "outputs": [
    {
     "name": "stdout",
     "output_type": "stream",
     "text": [
      "Mary\tF\n",
      "Anna\tF\n",
      "Emma\tF\n",
      "Elizabeth\tF\n",
      "Minnie\tF\n",
      "Margaret\tF\n",
      "Ida\tF\n",
      "Alice\tF\n",
      "Bertha\tF\n",
      "Sarah\tF\n"
     ]
    }
   ],
   "source": [
    "# 14. 先頭からN行を出力\n",
    "!head ./data/col_marged.txt"
   ]
  },
  {
   "cell_type": "markdown",
   "metadata": {},
   "source": [
    "# 15. 末尾のN行を出力"
   ]
  },
  {
   "cell_type": "code",
   "execution_count": 24,
   "metadata": {},
   "outputs": [
    {
     "name": "stdin",
     "output_type": "stream",
     "text": [
      "行数 >>  5\n"
     ]
    },
    {
     "name": "stdout",
     "output_type": "stream",
     "text": [
      "          name sex  number  year\n",
      "2775  Benjamin   M   13381  2018\n",
      "2776    Elijah   M   12886  2018\n",
      "2777     Lucas   M   12585  2018\n",
      "2778     Mason   M   12435  2018\n",
      "2779     Logan   M   12352  2018\n"
     ]
    }
   ],
   "source": [
    "import sys\n",
    "import pandas as pd\n",
    "\n",
    "df = pd.read_table('./data/popular-names.txt', header=None, sep='\\t', names=['name', 'sex', 'number', 'year'])\n",
    "\n",
    "n = int(input(\"行数 >> \"))\n",
    "\n",
    "print(df.tail(n))"
   ]
  },
  {
   "cell_type": "code",
   "execution_count": 26,
   "metadata": {},
   "outputs": [
    {
     "name": "stdout",
     "output_type": "stream",
     "text": [
      "Benjamin\tM\t13381\t2018\n",
      "Elijah\tM\t12886\t2018\n",
      "Lucas\tM\t12585\t2018\n",
      "Mason\tM\t12435\t2018\n",
      "Logan\tM\t12352\t2018\n"
     ]
    }
   ],
   "source": [
    "# 14. 先頭からN行を出力\n",
    "!tail -n 5 ./data/popular-names.txt"
   ]
  },
  {
   "cell_type": "markdown",
   "metadata": {},
   "source": [
    "# 16. ファイルをN分割する"
   ]
  }
 ],
 "metadata": {
  "colab": {
   "authorship_tag": "ABX9TyPT1aGCK0RMP0Tqdt5zRM6V",
   "mount_file_id": "1A0k2Ih5janPU0jombfcdYx4R8kYp_xi6",
   "provenance": []
  },
  "kernelspec": {
   "display_name": "Python 3 (ipykernel)",
   "language": "python",
   "name": "python3"
  },
  "language_info": {
   "codemirror_mode": {
    "name": "ipython",
    "version": 3
   },
   "file_extension": ".py",
   "mimetype": "text/x-python",
   "name": "python",
   "nbconvert_exporter": "python",
   "pygments_lexer": "ipython3",
   "version": "3.10.6"
  },
  "vscode": {
   "interpreter": {
    "hash": "916dbcbb3f70747c44a77c7bcd40155683ae19c65e1c03b4aa3499c5328201f1"
   }
  }
 },
 "nbformat": 4,
 "nbformat_minor": 4
}
